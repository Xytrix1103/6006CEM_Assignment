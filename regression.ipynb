{
 "nbformat": 4,
 "nbformat_minor": 0,
 "metadata": {
  "colab": {
   "provenance": []
  },
  "kernelspec": {
   "name": "python3",
   "display_name": "Python 3 (ipykernel)",
   "language": "python"
  },
  "language_info": {
   "name": "python"
  }
 },
 "cells": [
  {
   "cell_type": "markdown",
   "source": [
    "# Problem Statement\n",
    "\n",
    "Despite the availability of Malaysia House Rental listings on platforms like iBilik, propertyguru or mudah.my, prospective tenants often struggle to determine whether **rental prices are justified** based on various property attributes.\n",
    "\n",
    "This project aims to **analyze factors influencing rental prices** to provide potential renters and/or investors with a clearer understanding of the housing market dynamics in this area, and to **predict the expected rental pricing** for the property with given set of attributes."
   ],
   "metadata": {
    "id": "QE_f41K68EL5"
   }
  },
  {
   "cell_type": "markdown",
   "source": [
    "# Data Collection\n",
    "\n",
    "The data source for Regression Task is obtained from [Kaggle](https://www.kaggle.com/datasets/ariewijaya/rent-pricing-kuala-lumpur-malaysi/data), where the dataset itself is sourced from web scraping on the mudah.my website."
   ],
   "metadata": {
    "id": "58t6CB0ZXUS9"
   }
  },
  {
   "metadata": {
    "colab": {
     "base_uri": "https://localhost:8080/"
    },
    "id": "6c-V37o5385h",
    "outputId": "d02c0553-e170-4f4d-e52d-b230798da79f",
    "ExecuteTime": {
     "end_time": "2024-10-14T18:34:22.878794Z",
     "start_time": "2024-10-14T18:34:21.591063Z"
    }
   },
   "cell_type": "code",
   "source": [
    "# import os\n",
    "# \n",
    "# repo_path = 'MalaysiaRentalPrediction'\n",
    "# repo_url = 'https://github.com/Xytrix1103/MalaysiaRentalPrediction.git'\n",
    "# \n",
    "# if not os.path.exists(repo_path):\n",
    "# \t!git clone {repo_url}\n",
    "# else:\n",
    "# \tos.chdir(repo_path)\n",
    "# \t!git pull\n",
    "# \tos.chdir('..')"
   ],
   "outputs": [
    {
     "name": "stdout",
     "output_type": "stream",
     "text": [
      "Already up to date.\n"
     ]
    }
   ],
   "execution_count": 90
  },
  {
   "cell_type": "markdown",
   "source": [
    "# Data Cleaning"
   ],
   "metadata": {
    "id": "IFUqienBxmBJ"
   }
  },
  {
   "cell_type": "code",
   "source": [
    "import numpy as np\n",
    "import pandas as pd\n",
    "import matplotlib.pyplot as plt\n",
    "import seaborn as sns\n",
    "import warnings\n",
    "warnings.filterwarnings('ignore')\n",
    "\n",
    "# Constant for random state seed\n",
    "RANDOM_STATE_SEED = 1\n",
    "\n",
    "%matplotlib inline\n",
    "\n",
    "df = pd.read_csv('./MalaysiaRentalPrediction/mudah-apartment-kl-selangor.csv')\n",
    "df"
   ],
   "metadata": {
    "colab": {
     "base_uri": "https://localhost:8080/",
     "height": 597
    },
    "id": "u-57P0qYxW6k",
    "outputId": "94727af7-c24f-4a3c-cf74-3887d130a104",
    "ExecuteTime": {
     "end_time": "2024-10-14T18:34:23.078449Z",
     "start_time": "2024-10-14T18:34:23.002483Z"
    }
   },
   "outputs": [
    {
     "data": {
      "text/plain": [
       "          ads_id                      prop_name  completion_year  \\\n",
       "0      100323185       The Hipster @ Taman Desa           2022.0   \n",
       "1      100203973                   Segar Courts              NaN   \n",
       "2      100323128  Pangsapuri Teratak Muhibbah 2              NaN   \n",
       "3      100191767   Sentul Point Suite Apartment           2020.0   \n",
       "4       97022692                Arte Mont Kiara              NaN   \n",
       "...          ...                            ...              ...   \n",
       "19986  100493687         Pangsapuri Gapura Bayu              NaN   \n",
       "19987  100371347                         BSP 21           2018.0   \n",
       "19988  100493228               Ameera Residence              NaN   \n",
       "19989  100235153            The Arc @ Cyberjaya              NaN   \n",
       "19990  100235168    Tamarind Suites @ Cyberjaya           2016.0   \n",
       "\n",
       "             monthly_rent                         location      property_type  \\\n",
       "0      RM 4 200 per month        Kuala Lumpur - Taman Desa        Condominium   \n",
       "1      RM 2 300 per month            Kuala Lumpur - Cheras        Condominium   \n",
       "2      RM 1 000 per month        Kuala Lumpur - Taman Desa          Apartment   \n",
       "3      RM 1 700 per month            Kuala Lumpur - Sentul          Apartment   \n",
       "4      RM 1 299 per month        Kuala Lumpur - Mont Kiara  Service Residence   \n",
       "...                   ...                              ...                ...   \n",
       "19986  RM 1 200 per month                Selangor - Kajang          Apartment   \n",
       "19987  RM 1 300 per month  Selangor - Bandar Saujana Putra  Service Residence   \n",
       "19988  RM 1 350 per month                Selangor - Kajang        Condominium   \n",
       "19989  RM 1 200 per month             Selangor - Cyberjaya  Service Residence   \n",
       "19990  RM 1 000 per month             Selangor - Cyberjaya             Studio   \n",
       "\n",
       "      rooms  parking  bathroom         size            furnished  \\\n",
       "0         5      2.0       6.0  1842 sq.ft.      Fully Furnished   \n",
       "1         3      1.0       2.0  1170 sq.ft.  Partially Furnished   \n",
       "2         3      NaN       2.0   650 sq.ft.      Fully Furnished   \n",
       "3         2      1.0       2.0   743 sq.ft.  Partially Furnished   \n",
       "4         1      1.0       1.0   494 sq.ft.        Not Furnished   \n",
       "...     ...      ...       ...          ...                  ...   \n",
       "19986   3.0      NaN       2.0  1000 sq.ft.  Partially Furnished   \n",
       "19987   4.0      2.0       3.0  1427 sq.ft.  Partially Furnished   \n",
       "19988   3.0      2.0       2.0  1270 sq.ft.  Partially Furnished   \n",
       "19989   3.0      1.0       2.0  1100 sq.ft.      Fully Furnished   \n",
       "19990   1.0      1.0       1.0   580 sq.ft.  Partially Furnished   \n",
       "\n",
       "                                              facilities  \\\n",
       "0      Minimart, Gymnasium, Security, Playground, Swi...   \n",
       "1      Playground, Parking, Barbeque area, Security, ...   \n",
       "2           Minimart, Jogging Track, Lift, Swimming Pool   \n",
       "3      Parking, Playground, Swimming Pool, Squash Cou...   \n",
       "4      Parking, Security, Lift, Swimming Pool, Playgr...   \n",
       "...                                                  ...   \n",
       "19986  Security, Parking, Lift, Minimart, Multipurpos...   \n",
       "19987  Jogging Track, Barbeque area, Playground, Swim...   \n",
       "19988  Parking, Security, Lift, Swimming Pool, Playgr...   \n",
       "19989  Parking, Security, Lift, Swimming Pool, Playgr...   \n",
       "19990  Parking, Security, Lift, Swimming Pool, Playgr...   \n",
       "\n",
       "                                additional_facilities        region  \n",
       "0          Air-Cond, Cooking Allowed, Washing Machine  Kuala Lumpur  \n",
       "1             Air-Cond, Cooking Allowed, Near KTM/LRT  Kuala Lumpur  \n",
       "2                                                 NaN  Kuala Lumpur  \n",
       "3      Cooking Allowed, Near KTM/LRT, Washing Machine  Kuala Lumpur  \n",
       "4                                            Air-Cond  Kuala Lumpur  \n",
       "...                                               ...           ...  \n",
       "19986                                    Near KTM/LRT      Selangor  \n",
       "19987                       Air-Cond, Cooking Allowed      Selangor  \n",
       "19988      Air-Cond, Cooking Allowed, Washing Machine      Selangor  \n",
       "19989                Cooking Allowed, Washing Machine      Selangor  \n",
       "19990      Air-Cond, Cooking Allowed, Washing Machine      Selangor  \n",
       "\n",
       "[19991 rows x 14 columns]"
      ],
      "text/html": [
       "<div>\n",
       "<style scoped>\n",
       "    .dataframe tbody tr th:only-of-type {\n",
       "        vertical-align: middle;\n",
       "    }\n",
       "\n",
       "    .dataframe tbody tr th {\n",
       "        vertical-align: top;\n",
       "    }\n",
       "\n",
       "    .dataframe thead th {\n",
       "        text-align: right;\n",
       "    }\n",
       "</style>\n",
       "<table border=\"1\" class=\"dataframe\">\n",
       "  <thead>\n",
       "    <tr style=\"text-align: right;\">\n",
       "      <th></th>\n",
       "      <th>ads_id</th>\n",
       "      <th>prop_name</th>\n",
       "      <th>completion_year</th>\n",
       "      <th>monthly_rent</th>\n",
       "      <th>location</th>\n",
       "      <th>property_type</th>\n",
       "      <th>rooms</th>\n",
       "      <th>parking</th>\n",
       "      <th>bathroom</th>\n",
       "      <th>size</th>\n",
       "      <th>furnished</th>\n",
       "      <th>facilities</th>\n",
       "      <th>additional_facilities</th>\n",
       "      <th>region</th>\n",
       "    </tr>\n",
       "  </thead>\n",
       "  <tbody>\n",
       "    <tr>\n",
       "      <th>0</th>\n",
       "      <td>100323185</td>\n",
       "      <td>The Hipster @ Taman Desa</td>\n",
       "      <td>2022.0</td>\n",
       "      <td>RM 4 200 per month</td>\n",
       "      <td>Kuala Lumpur - Taman Desa</td>\n",
       "      <td>Condominium</td>\n",
       "      <td>5</td>\n",
       "      <td>2.0</td>\n",
       "      <td>6.0</td>\n",
       "      <td>1842 sq.ft.</td>\n",
       "      <td>Fully Furnished</td>\n",
       "      <td>Minimart, Gymnasium, Security, Playground, Swi...</td>\n",
       "      <td>Air-Cond, Cooking Allowed, Washing Machine</td>\n",
       "      <td>Kuala Lumpur</td>\n",
       "    </tr>\n",
       "    <tr>\n",
       "      <th>1</th>\n",
       "      <td>100203973</td>\n",
       "      <td>Segar Courts</td>\n",
       "      <td>NaN</td>\n",
       "      <td>RM 2 300 per month</td>\n",
       "      <td>Kuala Lumpur - Cheras</td>\n",
       "      <td>Condominium</td>\n",
       "      <td>3</td>\n",
       "      <td>1.0</td>\n",
       "      <td>2.0</td>\n",
       "      <td>1170 sq.ft.</td>\n",
       "      <td>Partially Furnished</td>\n",
       "      <td>Playground, Parking, Barbeque area, Security, ...</td>\n",
       "      <td>Air-Cond, Cooking Allowed, Near KTM/LRT</td>\n",
       "      <td>Kuala Lumpur</td>\n",
       "    </tr>\n",
       "    <tr>\n",
       "      <th>2</th>\n",
       "      <td>100323128</td>\n",
       "      <td>Pangsapuri Teratak Muhibbah 2</td>\n",
       "      <td>NaN</td>\n",
       "      <td>RM 1 000 per month</td>\n",
       "      <td>Kuala Lumpur - Taman Desa</td>\n",
       "      <td>Apartment</td>\n",
       "      <td>3</td>\n",
       "      <td>NaN</td>\n",
       "      <td>2.0</td>\n",
       "      <td>650 sq.ft.</td>\n",
       "      <td>Fully Furnished</td>\n",
       "      <td>Minimart, Jogging Track, Lift, Swimming Pool</td>\n",
       "      <td>NaN</td>\n",
       "      <td>Kuala Lumpur</td>\n",
       "    </tr>\n",
       "    <tr>\n",
       "      <th>3</th>\n",
       "      <td>100191767</td>\n",
       "      <td>Sentul Point Suite Apartment</td>\n",
       "      <td>2020.0</td>\n",
       "      <td>RM 1 700 per month</td>\n",
       "      <td>Kuala Lumpur - Sentul</td>\n",
       "      <td>Apartment</td>\n",
       "      <td>2</td>\n",
       "      <td>1.0</td>\n",
       "      <td>2.0</td>\n",
       "      <td>743 sq.ft.</td>\n",
       "      <td>Partially Furnished</td>\n",
       "      <td>Parking, Playground, Swimming Pool, Squash Cou...</td>\n",
       "      <td>Cooking Allowed, Near KTM/LRT, Washing Machine</td>\n",
       "      <td>Kuala Lumpur</td>\n",
       "    </tr>\n",
       "    <tr>\n",
       "      <th>4</th>\n",
       "      <td>97022692</td>\n",
       "      <td>Arte Mont Kiara</td>\n",
       "      <td>NaN</td>\n",
       "      <td>RM 1 299 per month</td>\n",
       "      <td>Kuala Lumpur - Mont Kiara</td>\n",
       "      <td>Service Residence</td>\n",
       "      <td>1</td>\n",
       "      <td>1.0</td>\n",
       "      <td>1.0</td>\n",
       "      <td>494 sq.ft.</td>\n",
       "      <td>Not Furnished</td>\n",
       "      <td>Parking, Security, Lift, Swimming Pool, Playgr...</td>\n",
       "      <td>Air-Cond</td>\n",
       "      <td>Kuala Lumpur</td>\n",
       "    </tr>\n",
       "    <tr>\n",
       "      <th>...</th>\n",
       "      <td>...</td>\n",
       "      <td>...</td>\n",
       "      <td>...</td>\n",
       "      <td>...</td>\n",
       "      <td>...</td>\n",
       "      <td>...</td>\n",
       "      <td>...</td>\n",
       "      <td>...</td>\n",
       "      <td>...</td>\n",
       "      <td>...</td>\n",
       "      <td>...</td>\n",
       "      <td>...</td>\n",
       "      <td>...</td>\n",
       "      <td>...</td>\n",
       "    </tr>\n",
       "    <tr>\n",
       "      <th>19986</th>\n",
       "      <td>100493687</td>\n",
       "      <td>Pangsapuri Gapura Bayu</td>\n",
       "      <td>NaN</td>\n",
       "      <td>RM 1 200 per month</td>\n",
       "      <td>Selangor - Kajang</td>\n",
       "      <td>Apartment</td>\n",
       "      <td>3.0</td>\n",
       "      <td>NaN</td>\n",
       "      <td>2.0</td>\n",
       "      <td>1000 sq.ft.</td>\n",
       "      <td>Partially Furnished</td>\n",
       "      <td>Security, Parking, Lift, Minimart, Multipurpos...</td>\n",
       "      <td>Near KTM/LRT</td>\n",
       "      <td>Selangor</td>\n",
       "    </tr>\n",
       "    <tr>\n",
       "      <th>19987</th>\n",
       "      <td>100371347</td>\n",
       "      <td>BSP 21</td>\n",
       "      <td>2018.0</td>\n",
       "      <td>RM 1 300 per month</td>\n",
       "      <td>Selangor - Bandar Saujana Putra</td>\n",
       "      <td>Service Residence</td>\n",
       "      <td>4.0</td>\n",
       "      <td>2.0</td>\n",
       "      <td>3.0</td>\n",
       "      <td>1427 sq.ft.</td>\n",
       "      <td>Partially Furnished</td>\n",
       "      <td>Jogging Track, Barbeque area, Playground, Swim...</td>\n",
       "      <td>Air-Cond, Cooking Allowed</td>\n",
       "      <td>Selangor</td>\n",
       "    </tr>\n",
       "    <tr>\n",
       "      <th>19988</th>\n",
       "      <td>100493228</td>\n",
       "      <td>Ameera Residence</td>\n",
       "      <td>NaN</td>\n",
       "      <td>RM 1 350 per month</td>\n",
       "      <td>Selangor - Kajang</td>\n",
       "      <td>Condominium</td>\n",
       "      <td>3.0</td>\n",
       "      <td>2.0</td>\n",
       "      <td>2.0</td>\n",
       "      <td>1270 sq.ft.</td>\n",
       "      <td>Partially Furnished</td>\n",
       "      <td>Parking, Security, Lift, Swimming Pool, Playgr...</td>\n",
       "      <td>Air-Cond, Cooking Allowed, Washing Machine</td>\n",
       "      <td>Selangor</td>\n",
       "    </tr>\n",
       "    <tr>\n",
       "      <th>19989</th>\n",
       "      <td>100235153</td>\n",
       "      <td>The Arc @ Cyberjaya</td>\n",
       "      <td>NaN</td>\n",
       "      <td>RM 1 200 per month</td>\n",
       "      <td>Selangor - Cyberjaya</td>\n",
       "      <td>Service Residence</td>\n",
       "      <td>3.0</td>\n",
       "      <td>1.0</td>\n",
       "      <td>2.0</td>\n",
       "      <td>1100 sq.ft.</td>\n",
       "      <td>Fully Furnished</td>\n",
       "      <td>Parking, Security, Lift, Swimming Pool, Playgr...</td>\n",
       "      <td>Cooking Allowed, Washing Machine</td>\n",
       "      <td>Selangor</td>\n",
       "    </tr>\n",
       "    <tr>\n",
       "      <th>19990</th>\n",
       "      <td>100235168</td>\n",
       "      <td>Tamarind Suites @ Cyberjaya</td>\n",
       "      <td>2016.0</td>\n",
       "      <td>RM 1 000 per month</td>\n",
       "      <td>Selangor - Cyberjaya</td>\n",
       "      <td>Studio</td>\n",
       "      <td>1.0</td>\n",
       "      <td>1.0</td>\n",
       "      <td>1.0</td>\n",
       "      <td>580 sq.ft.</td>\n",
       "      <td>Partially Furnished</td>\n",
       "      <td>Parking, Security, Lift, Swimming Pool, Playgr...</td>\n",
       "      <td>Air-Cond, Cooking Allowed, Washing Machine</td>\n",
       "      <td>Selangor</td>\n",
       "    </tr>\n",
       "  </tbody>\n",
       "</table>\n",
       "<p>19991 rows × 14 columns</p>\n",
       "</div>"
      ]
     },
     "execution_count": 91,
     "metadata": {},
     "output_type": "execute_result"
    }
   ],
   "execution_count": 91
  },
  {
   "cell_type": "markdown",
   "source": [
    "We will start by looking at the datatypes of each column"
   ],
   "metadata": {
    "id": "MhQAL-WznXa1"
   }
  },
  {
   "cell_type": "code",
   "source": [
    "df.info()"
   ],
   "metadata": {
    "colab": {
     "base_uri": "https://localhost:8080/"
    },
    "id": "pMT2QhdynW8_",
    "outputId": "7c937ff0-1c5f-45d0-de99-bd50ac2ef465",
    "ExecuteTime": {
     "end_time": "2024-10-14T18:34:23.136255Z",
     "start_time": "2024-10-14T18:34:23.118104Z"
    }
   },
   "outputs": [
    {
     "name": "stdout",
     "output_type": "stream",
     "text": [
      "<class 'pandas.core.frame.DataFrame'>\n",
      "RangeIndex: 19991 entries, 0 to 19990\n",
      "Data columns (total 14 columns):\n",
      " #   Column                 Non-Null Count  Dtype  \n",
      "---  ------                 --------------  -----  \n",
      " 0   ads_id                 19991 non-null  int64  \n",
      " 1   prop_name              19043 non-null  object \n",
      " 2   completion_year        10806 non-null  float64\n",
      " 3   monthly_rent           19989 non-null  object \n",
      " 4   location               19991 non-null  object \n",
      " 5   property_type          19991 non-null  object \n",
      " 6   rooms                  19985 non-null  object \n",
      " 7   parking                14289 non-null  float64\n",
      " 8   bathroom               19985 non-null  float64\n",
      " 9   size                   19991 non-null  object \n",
      " 10  furnished              19986 non-null  object \n",
      " 11  facilities             17782 non-null  object \n",
      " 12  additional_facilities  14043 non-null  object \n",
      " 13  region                 19991 non-null  object \n",
      "dtypes: float64(3), int64(1), object(10)\n",
      "memory usage: 2.1+ MB\n"
     ]
    }
   ],
   "execution_count": 92
  },
  {
   "cell_type": "markdown",
   "source": [
    "There are some columns that are supposed to be float instead of string. How about the possibility of outliers"
   ],
   "metadata": {
    "id": "tzvjy78WncO9"
   }
  },
  {
   "cell_type": "code",
   "source": [
    "df.describe()"
   ],
   "metadata": {
    "colab": {
     "base_uri": "https://localhost:8080/",
     "height": 300
    },
    "id": "n865oLF6PIK8",
    "outputId": "8fc74861-e0ec-4b32-bdb9-c53acf781c49",
    "ExecuteTime": {
     "end_time": "2024-10-14T18:34:23.223443Z",
     "start_time": "2024-10-14T18:34:23.205441Z"
    }
   },
   "outputs": [
    {
     "data": {
      "text/plain": [
       "             ads_id  completion_year       parking      bathroom\n",
       "count  1.999100e+04     10806.000000  14289.000000  19985.000000\n",
       "mean   9.970671e+07      2014.822321      1.416824      1.891719\n",
       "std    3.482575e+06         6.735355      0.567368      0.556266\n",
       "min    1.652551e+07      1977.000000      1.000000      1.000000\n",
       "25%    9.984012e+07      2012.000000      1.000000      2.000000\n",
       "50%    1.002127e+08      2017.000000      1.000000      2.000000\n",
       "75%    1.006179e+08      2020.000000      2.000000      2.000000\n",
       "max    1.008546e+08      2025.000000     10.000000      8.000000"
      ],
      "text/html": [
       "<div>\n",
       "<style scoped>\n",
       "    .dataframe tbody tr th:only-of-type {\n",
       "        vertical-align: middle;\n",
       "    }\n",
       "\n",
       "    .dataframe tbody tr th {\n",
       "        vertical-align: top;\n",
       "    }\n",
       "\n",
       "    .dataframe thead th {\n",
       "        text-align: right;\n",
       "    }\n",
       "</style>\n",
       "<table border=\"1\" class=\"dataframe\">\n",
       "  <thead>\n",
       "    <tr style=\"text-align: right;\">\n",
       "      <th></th>\n",
       "      <th>ads_id</th>\n",
       "      <th>completion_year</th>\n",
       "      <th>parking</th>\n",
       "      <th>bathroom</th>\n",
       "    </tr>\n",
       "  </thead>\n",
       "  <tbody>\n",
       "    <tr>\n",
       "      <th>count</th>\n",
       "      <td>1.999100e+04</td>\n",
       "      <td>10806.000000</td>\n",
       "      <td>14289.000000</td>\n",
       "      <td>19985.000000</td>\n",
       "    </tr>\n",
       "    <tr>\n",
       "      <th>mean</th>\n",
       "      <td>9.970671e+07</td>\n",
       "      <td>2014.822321</td>\n",
       "      <td>1.416824</td>\n",
       "      <td>1.891719</td>\n",
       "    </tr>\n",
       "    <tr>\n",
       "      <th>std</th>\n",
       "      <td>3.482575e+06</td>\n",
       "      <td>6.735355</td>\n",
       "      <td>0.567368</td>\n",
       "      <td>0.556266</td>\n",
       "    </tr>\n",
       "    <tr>\n",
       "      <th>min</th>\n",
       "      <td>1.652551e+07</td>\n",
       "      <td>1977.000000</td>\n",
       "      <td>1.000000</td>\n",
       "      <td>1.000000</td>\n",
       "    </tr>\n",
       "    <tr>\n",
       "      <th>25%</th>\n",
       "      <td>9.984012e+07</td>\n",
       "      <td>2012.000000</td>\n",
       "      <td>1.000000</td>\n",
       "      <td>2.000000</td>\n",
       "    </tr>\n",
       "    <tr>\n",
       "      <th>50%</th>\n",
       "      <td>1.002127e+08</td>\n",
       "      <td>2017.000000</td>\n",
       "      <td>1.000000</td>\n",
       "      <td>2.000000</td>\n",
       "    </tr>\n",
       "    <tr>\n",
       "      <th>75%</th>\n",
       "      <td>1.006179e+08</td>\n",
       "      <td>2020.000000</td>\n",
       "      <td>2.000000</td>\n",
       "      <td>2.000000</td>\n",
       "    </tr>\n",
       "    <tr>\n",
       "      <th>max</th>\n",
       "      <td>1.008546e+08</td>\n",
       "      <td>2025.000000</td>\n",
       "      <td>10.000000</td>\n",
       "      <td>8.000000</td>\n",
       "    </tr>\n",
       "  </tbody>\n",
       "</table>\n",
       "</div>"
      ]
     },
     "execution_count": 93,
     "metadata": {},
     "output_type": "execute_result"
    }
   ],
   "execution_count": 93
  },
  {
   "cell_type": "markdown",
   "source": [
    " It's interesting to have rental unit not completed but listed on the website, i.e. the one with `completion_year` after 2024. Next, let's look at the null values"
   ],
   "metadata": {
    "id": "NBYFDeRpPzmH"
   }
  },
  {
   "cell_type": "code",
   "source": [
    "df.isnull().sum()"
   ],
   "metadata": {
    "colab": {
     "base_uri": "https://localhost:8080/",
     "height": 523
    },
    "id": "jTohl3pgnll0",
    "outputId": "b3455d4d-7c80-4087-98e1-08f92624c4fc",
    "ExecuteTime": {
     "end_time": "2024-10-14T18:34:23.364741Z",
     "start_time": "2024-10-14T18:34:23.353543Z"
    }
   },
   "outputs": [
    {
     "data": {
      "text/plain": [
       "ads_id                      0\n",
       "prop_name                 948\n",
       "completion_year          9185\n",
       "monthly_rent                2\n",
       "location                    0\n",
       "property_type               0\n",
       "rooms                       6\n",
       "parking                  5702\n",
       "bathroom                    6\n",
       "size                        0\n",
       "furnished                   5\n",
       "facilities               2209\n",
       "additional_facilities    5948\n",
       "region                      0\n",
       "dtype: int64"
      ]
     },
     "execution_count": 94,
     "metadata": {},
     "output_type": "execute_result"
    }
   ],
   "execution_count": 94
  },
  {
   "cell_type": "markdown",
   "source": [
    "From the above info, we can list out the task we need to do:\n",
    "\n",
    "1. Columns `monthly_rent`, `size` to be converted to type `int`\n",
    "2. Drop `ads_id` and `prop_name` since they don't help in price prediction\n",
    "3. Dealing with null values:\n",
    "    * `completion_year` to use median / mean imputation\n",
    "    * drop rows where `monthly_rent` is null\n",
    "    * `rooms` to explore, minimum 1 else it shouldn't be listed\n",
    "    * `parking` to fill null with 0\n",
    "    * `bathroom` and `furnished` to be explored\n",
    "    * `facilities` and `additional_facilities` both be dropped since there are too many null values\n",
    "4. Dealing with outliers\n",
    "    * Remove rows where `completion_year` is 2025\n",
    "    * Remove further outliers\n"
   ],
   "metadata": {
    "id": "p4ryx51wocDK"
   }
  },
  {
   "cell_type": "markdown",
   "source": [
    "## Drop columns and rows"
   ],
   "metadata": {
    "id": "k9_5QBS6qxxi"
   }
  },
  {
   "cell_type": "code",
   "source": [
    "df = df.drop(['ads_id', 'prop_name', 'facilities', 'additional_facilities'], axis=1)\n",
    "df = df.dropna(subset=['monthly_rent'], axis=0)\n",
    "df"
   ],
   "metadata": {
    "colab": {
     "base_uri": "https://localhost:8080/",
     "height": 424
    },
    "id": "JDlAzNyJqxLC",
    "outputId": "e1e43d58-7fa8-4fe7-ba02-3a0898fb3c55",
    "ExecuteTime": {
     "end_time": "2024-10-14T18:34:23.483440Z",
     "start_time": "2024-10-14T18:34:23.463963Z"
    }
   },
   "outputs": [
    {
     "data": {
      "text/plain": [
       "       completion_year        monthly_rent                         location  \\\n",
       "0               2022.0  RM 4 200 per month        Kuala Lumpur - Taman Desa   \n",
       "1                  NaN  RM 2 300 per month            Kuala Lumpur - Cheras   \n",
       "2                  NaN  RM 1 000 per month        Kuala Lumpur - Taman Desa   \n",
       "3               2020.0  RM 1 700 per month            Kuala Lumpur - Sentul   \n",
       "4                  NaN  RM 1 299 per month        Kuala Lumpur - Mont Kiara   \n",
       "...                ...                 ...                              ...   \n",
       "19986              NaN  RM 1 200 per month                Selangor - Kajang   \n",
       "19987           2018.0  RM 1 300 per month  Selangor - Bandar Saujana Putra   \n",
       "19988              NaN  RM 1 350 per month                Selangor - Kajang   \n",
       "19989              NaN  RM 1 200 per month             Selangor - Cyberjaya   \n",
       "19990           2016.0  RM 1 000 per month             Selangor - Cyberjaya   \n",
       "\n",
       "           property_type rooms  parking  bathroom         size  \\\n",
       "0            Condominium     5      2.0       6.0  1842 sq.ft.   \n",
       "1            Condominium     3      1.0       2.0  1170 sq.ft.   \n",
       "2              Apartment     3      NaN       2.0   650 sq.ft.   \n",
       "3              Apartment     2      1.0       2.0   743 sq.ft.   \n",
       "4      Service Residence     1      1.0       1.0   494 sq.ft.   \n",
       "...                  ...   ...      ...       ...          ...   \n",
       "19986          Apartment   3.0      NaN       2.0  1000 sq.ft.   \n",
       "19987  Service Residence   4.0      2.0       3.0  1427 sq.ft.   \n",
       "19988        Condominium   3.0      2.0       2.0  1270 sq.ft.   \n",
       "19989  Service Residence   3.0      1.0       2.0  1100 sq.ft.   \n",
       "19990             Studio   1.0      1.0       1.0   580 sq.ft.   \n",
       "\n",
       "                 furnished        region  \n",
       "0          Fully Furnished  Kuala Lumpur  \n",
       "1      Partially Furnished  Kuala Lumpur  \n",
       "2          Fully Furnished  Kuala Lumpur  \n",
       "3      Partially Furnished  Kuala Lumpur  \n",
       "4            Not Furnished  Kuala Lumpur  \n",
       "...                    ...           ...  \n",
       "19986  Partially Furnished      Selangor  \n",
       "19987  Partially Furnished      Selangor  \n",
       "19988  Partially Furnished      Selangor  \n",
       "19989      Fully Furnished      Selangor  \n",
       "19990  Partially Furnished      Selangor  \n",
       "\n",
       "[19989 rows x 10 columns]"
      ],
      "text/html": [
       "<div>\n",
       "<style scoped>\n",
       "    .dataframe tbody tr th:only-of-type {\n",
       "        vertical-align: middle;\n",
       "    }\n",
       "\n",
       "    .dataframe tbody tr th {\n",
       "        vertical-align: top;\n",
       "    }\n",
       "\n",
       "    .dataframe thead th {\n",
       "        text-align: right;\n",
       "    }\n",
       "</style>\n",
       "<table border=\"1\" class=\"dataframe\">\n",
       "  <thead>\n",
       "    <tr style=\"text-align: right;\">\n",
       "      <th></th>\n",
       "      <th>completion_year</th>\n",
       "      <th>monthly_rent</th>\n",
       "      <th>location</th>\n",
       "      <th>property_type</th>\n",
       "      <th>rooms</th>\n",
       "      <th>parking</th>\n",
       "      <th>bathroom</th>\n",
       "      <th>size</th>\n",
       "      <th>furnished</th>\n",
       "      <th>region</th>\n",
       "    </tr>\n",
       "  </thead>\n",
       "  <tbody>\n",
       "    <tr>\n",
       "      <th>0</th>\n",
       "      <td>2022.0</td>\n",
       "      <td>RM 4 200 per month</td>\n",
       "      <td>Kuala Lumpur - Taman Desa</td>\n",
       "      <td>Condominium</td>\n",
       "      <td>5</td>\n",
       "      <td>2.0</td>\n",
       "      <td>6.0</td>\n",
       "      <td>1842 sq.ft.</td>\n",
       "      <td>Fully Furnished</td>\n",
       "      <td>Kuala Lumpur</td>\n",
       "    </tr>\n",
       "    <tr>\n",
       "      <th>1</th>\n",
       "      <td>NaN</td>\n",
       "      <td>RM 2 300 per month</td>\n",
       "      <td>Kuala Lumpur - Cheras</td>\n",
       "      <td>Condominium</td>\n",
       "      <td>3</td>\n",
       "      <td>1.0</td>\n",
       "      <td>2.0</td>\n",
       "      <td>1170 sq.ft.</td>\n",
       "      <td>Partially Furnished</td>\n",
       "      <td>Kuala Lumpur</td>\n",
       "    </tr>\n",
       "    <tr>\n",
       "      <th>2</th>\n",
       "      <td>NaN</td>\n",
       "      <td>RM 1 000 per month</td>\n",
       "      <td>Kuala Lumpur - Taman Desa</td>\n",
       "      <td>Apartment</td>\n",
       "      <td>3</td>\n",
       "      <td>NaN</td>\n",
       "      <td>2.0</td>\n",
       "      <td>650 sq.ft.</td>\n",
       "      <td>Fully Furnished</td>\n",
       "      <td>Kuala Lumpur</td>\n",
       "    </tr>\n",
       "    <tr>\n",
       "      <th>3</th>\n",
       "      <td>2020.0</td>\n",
       "      <td>RM 1 700 per month</td>\n",
       "      <td>Kuala Lumpur - Sentul</td>\n",
       "      <td>Apartment</td>\n",
       "      <td>2</td>\n",
       "      <td>1.0</td>\n",
       "      <td>2.0</td>\n",
       "      <td>743 sq.ft.</td>\n",
       "      <td>Partially Furnished</td>\n",
       "      <td>Kuala Lumpur</td>\n",
       "    </tr>\n",
       "    <tr>\n",
       "      <th>4</th>\n",
       "      <td>NaN</td>\n",
       "      <td>RM 1 299 per month</td>\n",
       "      <td>Kuala Lumpur - Mont Kiara</td>\n",
       "      <td>Service Residence</td>\n",
       "      <td>1</td>\n",
       "      <td>1.0</td>\n",
       "      <td>1.0</td>\n",
       "      <td>494 sq.ft.</td>\n",
       "      <td>Not Furnished</td>\n",
       "      <td>Kuala Lumpur</td>\n",
       "    </tr>\n",
       "    <tr>\n",
       "      <th>...</th>\n",
       "      <td>...</td>\n",
       "      <td>...</td>\n",
       "      <td>...</td>\n",
       "      <td>...</td>\n",
       "      <td>...</td>\n",
       "      <td>...</td>\n",
       "      <td>...</td>\n",
       "      <td>...</td>\n",
       "      <td>...</td>\n",
       "      <td>...</td>\n",
       "    </tr>\n",
       "    <tr>\n",
       "      <th>19986</th>\n",
       "      <td>NaN</td>\n",
       "      <td>RM 1 200 per month</td>\n",
       "      <td>Selangor - Kajang</td>\n",
       "      <td>Apartment</td>\n",
       "      <td>3.0</td>\n",
       "      <td>NaN</td>\n",
       "      <td>2.0</td>\n",
       "      <td>1000 sq.ft.</td>\n",
       "      <td>Partially Furnished</td>\n",
       "      <td>Selangor</td>\n",
       "    </tr>\n",
       "    <tr>\n",
       "      <th>19987</th>\n",
       "      <td>2018.0</td>\n",
       "      <td>RM 1 300 per month</td>\n",
       "      <td>Selangor - Bandar Saujana Putra</td>\n",
       "      <td>Service Residence</td>\n",
       "      <td>4.0</td>\n",
       "      <td>2.0</td>\n",
       "      <td>3.0</td>\n",
       "      <td>1427 sq.ft.</td>\n",
       "      <td>Partially Furnished</td>\n",
       "      <td>Selangor</td>\n",
       "    </tr>\n",
       "    <tr>\n",
       "      <th>19988</th>\n",
       "      <td>NaN</td>\n",
       "      <td>RM 1 350 per month</td>\n",
       "      <td>Selangor - Kajang</td>\n",
       "      <td>Condominium</td>\n",
       "      <td>3.0</td>\n",
       "      <td>2.0</td>\n",
       "      <td>2.0</td>\n",
       "      <td>1270 sq.ft.</td>\n",
       "      <td>Partially Furnished</td>\n",
       "      <td>Selangor</td>\n",
       "    </tr>\n",
       "    <tr>\n",
       "      <th>19989</th>\n",
       "      <td>NaN</td>\n",
       "      <td>RM 1 200 per month</td>\n",
       "      <td>Selangor - Cyberjaya</td>\n",
       "      <td>Service Residence</td>\n",
       "      <td>3.0</td>\n",
       "      <td>1.0</td>\n",
       "      <td>2.0</td>\n",
       "      <td>1100 sq.ft.</td>\n",
       "      <td>Fully Furnished</td>\n",
       "      <td>Selangor</td>\n",
       "    </tr>\n",
       "    <tr>\n",
       "      <th>19990</th>\n",
       "      <td>2016.0</td>\n",
       "      <td>RM 1 000 per month</td>\n",
       "      <td>Selangor - Cyberjaya</td>\n",
       "      <td>Studio</td>\n",
       "      <td>1.0</td>\n",
       "      <td>1.0</td>\n",
       "      <td>1.0</td>\n",
       "      <td>580 sq.ft.</td>\n",
       "      <td>Partially Furnished</td>\n",
       "      <td>Selangor</td>\n",
       "    </tr>\n",
       "  </tbody>\n",
       "</table>\n",
       "<p>19989 rows × 10 columns</p>\n",
       "</div>"
      ]
     },
     "execution_count": 95,
     "metadata": {},
     "output_type": "execute_result"
    }
   ],
   "execution_count": 95
  },
  {
   "cell_type": "markdown",
   "source": [
    "## Datatype Conversion"
   ],
   "metadata": {
    "id": "bx2FvAv6rY_A"
   }
  },
  {
   "cell_type": "code",
   "source": [
    "df['monthly_rent'] = df['monthly_rent'].str.replace(' ', '').str.extract(r'(\\d+\\s*\\d*)').astype(int)\n",
    "df['size'] = df['size'].str.replace(' ', '').str.extract(r'(\\d+\\s*\\d*)').astype(int)\n",
    "df"
   ],
   "metadata": {
    "colab": {
     "base_uri": "https://localhost:8080/",
     "height": 424
    },
    "id": "oOhmhu5Jrf-F",
    "outputId": "7d1cd4ee-2a80-475d-d562-80ad2c292a79",
    "ExecuteTime": {
     "end_time": "2024-10-14T18:34:23.782571Z",
     "start_time": "2024-10-14T18:34:23.627525Z"
    }
   },
   "outputs": [
    {
     "data": {
      "text/plain": [
       "       completion_year  monthly_rent                         location  \\\n",
       "0               2022.0          4200        Kuala Lumpur - Taman Desa   \n",
       "1                  NaN          2300            Kuala Lumpur - Cheras   \n",
       "2                  NaN          1000        Kuala Lumpur - Taman Desa   \n",
       "3               2020.0          1700            Kuala Lumpur - Sentul   \n",
       "4                  NaN          1299        Kuala Lumpur - Mont Kiara   \n",
       "...                ...           ...                              ...   \n",
       "19986              NaN          1200                Selangor - Kajang   \n",
       "19987           2018.0          1300  Selangor - Bandar Saujana Putra   \n",
       "19988              NaN          1350                Selangor - Kajang   \n",
       "19989              NaN          1200             Selangor - Cyberjaya   \n",
       "19990           2016.0          1000             Selangor - Cyberjaya   \n",
       "\n",
       "           property_type rooms  parking  bathroom  size            furnished  \\\n",
       "0            Condominium     5      2.0       6.0  1842      Fully Furnished   \n",
       "1            Condominium     3      1.0       2.0  1170  Partially Furnished   \n",
       "2              Apartment     3      NaN       2.0   650      Fully Furnished   \n",
       "3              Apartment     2      1.0       2.0   743  Partially Furnished   \n",
       "4      Service Residence     1      1.0       1.0   494        Not Furnished   \n",
       "...                  ...   ...      ...       ...   ...                  ...   \n",
       "19986          Apartment   3.0      NaN       2.0  1000  Partially Furnished   \n",
       "19987  Service Residence   4.0      2.0       3.0  1427  Partially Furnished   \n",
       "19988        Condominium   3.0      2.0       2.0  1270  Partially Furnished   \n",
       "19989  Service Residence   3.0      1.0       2.0  1100      Fully Furnished   \n",
       "19990             Studio   1.0      1.0       1.0   580  Partially Furnished   \n",
       "\n",
       "             region  \n",
       "0      Kuala Lumpur  \n",
       "1      Kuala Lumpur  \n",
       "2      Kuala Lumpur  \n",
       "3      Kuala Lumpur  \n",
       "4      Kuala Lumpur  \n",
       "...             ...  \n",
       "19986      Selangor  \n",
       "19987      Selangor  \n",
       "19988      Selangor  \n",
       "19989      Selangor  \n",
       "19990      Selangor  \n",
       "\n",
       "[19989 rows x 10 columns]"
      ],
      "text/html": [
       "<div>\n",
       "<style scoped>\n",
       "    .dataframe tbody tr th:only-of-type {\n",
       "        vertical-align: middle;\n",
       "    }\n",
       "\n",
       "    .dataframe tbody tr th {\n",
       "        vertical-align: top;\n",
       "    }\n",
       "\n",
       "    .dataframe thead th {\n",
       "        text-align: right;\n",
       "    }\n",
       "</style>\n",
       "<table border=\"1\" class=\"dataframe\">\n",
       "  <thead>\n",
       "    <tr style=\"text-align: right;\">\n",
       "      <th></th>\n",
       "      <th>completion_year</th>\n",
       "      <th>monthly_rent</th>\n",
       "      <th>location</th>\n",
       "      <th>property_type</th>\n",
       "      <th>rooms</th>\n",
       "      <th>parking</th>\n",
       "      <th>bathroom</th>\n",
       "      <th>size</th>\n",
       "      <th>furnished</th>\n",
       "      <th>region</th>\n",
       "    </tr>\n",
       "  </thead>\n",
       "  <tbody>\n",
       "    <tr>\n",
       "      <th>0</th>\n",
       "      <td>2022.0</td>\n",
       "      <td>4200</td>\n",
       "      <td>Kuala Lumpur - Taman Desa</td>\n",
       "      <td>Condominium</td>\n",
       "      <td>5</td>\n",
       "      <td>2.0</td>\n",
       "      <td>6.0</td>\n",
       "      <td>1842</td>\n",
       "      <td>Fully Furnished</td>\n",
       "      <td>Kuala Lumpur</td>\n",
       "    </tr>\n",
       "    <tr>\n",
       "      <th>1</th>\n",
       "      <td>NaN</td>\n",
       "      <td>2300</td>\n",
       "      <td>Kuala Lumpur - Cheras</td>\n",
       "      <td>Condominium</td>\n",
       "      <td>3</td>\n",
       "      <td>1.0</td>\n",
       "      <td>2.0</td>\n",
       "      <td>1170</td>\n",
       "      <td>Partially Furnished</td>\n",
       "      <td>Kuala Lumpur</td>\n",
       "    </tr>\n",
       "    <tr>\n",
       "      <th>2</th>\n",
       "      <td>NaN</td>\n",
       "      <td>1000</td>\n",
       "      <td>Kuala Lumpur - Taman Desa</td>\n",
       "      <td>Apartment</td>\n",
       "      <td>3</td>\n",
       "      <td>NaN</td>\n",
       "      <td>2.0</td>\n",
       "      <td>650</td>\n",
       "      <td>Fully Furnished</td>\n",
       "      <td>Kuala Lumpur</td>\n",
       "    </tr>\n",
       "    <tr>\n",
       "      <th>3</th>\n",
       "      <td>2020.0</td>\n",
       "      <td>1700</td>\n",
       "      <td>Kuala Lumpur - Sentul</td>\n",
       "      <td>Apartment</td>\n",
       "      <td>2</td>\n",
       "      <td>1.0</td>\n",
       "      <td>2.0</td>\n",
       "      <td>743</td>\n",
       "      <td>Partially Furnished</td>\n",
       "      <td>Kuala Lumpur</td>\n",
       "    </tr>\n",
       "    <tr>\n",
       "      <th>4</th>\n",
       "      <td>NaN</td>\n",
       "      <td>1299</td>\n",
       "      <td>Kuala Lumpur - Mont Kiara</td>\n",
       "      <td>Service Residence</td>\n",
       "      <td>1</td>\n",
       "      <td>1.0</td>\n",
       "      <td>1.0</td>\n",
       "      <td>494</td>\n",
       "      <td>Not Furnished</td>\n",
       "      <td>Kuala Lumpur</td>\n",
       "    </tr>\n",
       "    <tr>\n",
       "      <th>...</th>\n",
       "      <td>...</td>\n",
       "      <td>...</td>\n",
       "      <td>...</td>\n",
       "      <td>...</td>\n",
       "      <td>...</td>\n",
       "      <td>...</td>\n",
       "      <td>...</td>\n",
       "      <td>...</td>\n",
       "      <td>...</td>\n",
       "      <td>...</td>\n",
       "    </tr>\n",
       "    <tr>\n",
       "      <th>19986</th>\n",
       "      <td>NaN</td>\n",
       "      <td>1200</td>\n",
       "      <td>Selangor - Kajang</td>\n",
       "      <td>Apartment</td>\n",
       "      <td>3.0</td>\n",
       "      <td>NaN</td>\n",
       "      <td>2.0</td>\n",
       "      <td>1000</td>\n",
       "      <td>Partially Furnished</td>\n",
       "      <td>Selangor</td>\n",
       "    </tr>\n",
       "    <tr>\n",
       "      <th>19987</th>\n",
       "      <td>2018.0</td>\n",
       "      <td>1300</td>\n",
       "      <td>Selangor - Bandar Saujana Putra</td>\n",
       "      <td>Service Residence</td>\n",
       "      <td>4.0</td>\n",
       "      <td>2.0</td>\n",
       "      <td>3.0</td>\n",
       "      <td>1427</td>\n",
       "      <td>Partially Furnished</td>\n",
       "      <td>Selangor</td>\n",
       "    </tr>\n",
       "    <tr>\n",
       "      <th>19988</th>\n",
       "      <td>NaN</td>\n",
       "      <td>1350</td>\n",
       "      <td>Selangor - Kajang</td>\n",
       "      <td>Condominium</td>\n",
       "      <td>3.0</td>\n",
       "      <td>2.0</td>\n",
       "      <td>2.0</td>\n",
       "      <td>1270</td>\n",
       "      <td>Partially Furnished</td>\n",
       "      <td>Selangor</td>\n",
       "    </tr>\n",
       "    <tr>\n",
       "      <th>19989</th>\n",
       "      <td>NaN</td>\n",
       "      <td>1200</td>\n",
       "      <td>Selangor - Cyberjaya</td>\n",
       "      <td>Service Residence</td>\n",
       "      <td>3.0</td>\n",
       "      <td>1.0</td>\n",
       "      <td>2.0</td>\n",
       "      <td>1100</td>\n",
       "      <td>Fully Furnished</td>\n",
       "      <td>Selangor</td>\n",
       "    </tr>\n",
       "    <tr>\n",
       "      <th>19990</th>\n",
       "      <td>2016.0</td>\n",
       "      <td>1000</td>\n",
       "      <td>Selangor - Cyberjaya</td>\n",
       "      <td>Studio</td>\n",
       "      <td>1.0</td>\n",
       "      <td>1.0</td>\n",
       "      <td>1.0</td>\n",
       "      <td>580</td>\n",
       "      <td>Partially Furnished</td>\n",
       "      <td>Selangor</td>\n",
       "    </tr>\n",
       "  </tbody>\n",
       "</table>\n",
       "<p>19989 rows × 10 columns</p>\n",
       "</div>"
      ]
     },
     "execution_count": 96,
     "metadata": {},
     "output_type": "execute_result"
    }
   ],
   "execution_count": 96
  },
  {
   "cell_type": "markdown",
   "source": [
    "## Null Imputation"
   ],
   "metadata": {
    "id": "8lbPTBJ2sOw8"
   }
  },
  {
   "cell_type": "markdown",
   "source": [
    "### `completion_year` to use median / mean imputation\n",
    "\n",
    "We will decide based on the distribution of the values in the column"
   ],
   "metadata": {
    "id": "kKVYcgCDsq14"
   }
  },
  {
   "cell_type": "code",
   "source": [
    "sns.histplot(df['completion_year'], kde=True)"
   ],
   "metadata": {
    "colab": {
     "base_uri": "https://localhost:8080/",
     "height": 469
    },
    "id": "upEDiZkrsS2c",
    "outputId": "23476d27-68f0-4ebb-f879-dd29fe58c858",
    "ExecuteTime": {
     "end_time": "2024-10-14T18:34:24.071994Z",
     "start_time": "2024-10-14T18:34:23.875166Z"
    }
   },
   "outputs": [
    {
     "data": {
      "text/plain": [
       "<Axes: xlabel='region', ylabel='Count'>"
      ]
     },
     "execution_count": 97,
     "metadata": {},
     "output_type": "execute_result"
    }
   ],
   "execution_count": 97
  },
  {
   "cell_type": "markdown",
   "source": [
    "Since the graph is skewed, we will use median imputation"
   ],
   "metadata": {
    "id": "cUE3ssAXs07_"
   }
  },
  {
   "cell_type": "code",
   "source": [
    "df['completion_year'] = df['completion_year'].fillna(df['completion_year'].median()).astype(int)\n",
    "df"
   ],
   "metadata": {
    "colab": {
     "base_uri": "https://localhost:8080/",
     "height": 424
    },
    "id": "T3a8k-LDs3XV",
    "outputId": "f561cc01-9a97-4bc1-f4f1-54b531794bc6",
    "ExecuteTime": {
     "end_time": "2024-10-14T18:34:24.173393Z",
     "start_time": "2024-10-14T18:34:24.156490Z"
    }
   },
   "outputs": [
    {
     "data": {
      "text/plain": [
       "       completion_year  monthly_rent                         location  \\\n",
       "0                 2022          4200        Kuala Lumpur - Taman Desa   \n",
       "1                 2017          2300            Kuala Lumpur - Cheras   \n",
       "2                 2017          1000        Kuala Lumpur - Taman Desa   \n",
       "3                 2020          1700            Kuala Lumpur - Sentul   \n",
       "4                 2017          1299        Kuala Lumpur - Mont Kiara   \n",
       "...                ...           ...                              ...   \n",
       "19986             2017          1200                Selangor - Kajang   \n",
       "19987             2018          1300  Selangor - Bandar Saujana Putra   \n",
       "19988             2017          1350                Selangor - Kajang   \n",
       "19989             2017          1200             Selangor - Cyberjaya   \n",
       "19990             2016          1000             Selangor - Cyberjaya   \n",
       "\n",
       "           property_type rooms  parking  bathroom  size            furnished  \\\n",
       "0            Condominium     5      2.0       6.0  1842      Fully Furnished   \n",
       "1            Condominium     3      1.0       2.0  1170  Partially Furnished   \n",
       "2              Apartment     3      NaN       2.0   650      Fully Furnished   \n",
       "3              Apartment     2      1.0       2.0   743  Partially Furnished   \n",
       "4      Service Residence     1      1.0       1.0   494        Not Furnished   \n",
       "...                  ...   ...      ...       ...   ...                  ...   \n",
       "19986          Apartment   3.0      NaN       2.0  1000  Partially Furnished   \n",
       "19987  Service Residence   4.0      2.0       3.0  1427  Partially Furnished   \n",
       "19988        Condominium   3.0      2.0       2.0  1270  Partially Furnished   \n",
       "19989  Service Residence   3.0      1.0       2.0  1100      Fully Furnished   \n",
       "19990             Studio   1.0      1.0       1.0   580  Partially Furnished   \n",
       "\n",
       "             region  \n",
       "0      Kuala Lumpur  \n",
       "1      Kuala Lumpur  \n",
       "2      Kuala Lumpur  \n",
       "3      Kuala Lumpur  \n",
       "4      Kuala Lumpur  \n",
       "...             ...  \n",
       "19986      Selangor  \n",
       "19987      Selangor  \n",
       "19988      Selangor  \n",
       "19989      Selangor  \n",
       "19990      Selangor  \n",
       "\n",
       "[19989 rows x 10 columns]"
      ],
      "text/html": [
       "<div>\n",
       "<style scoped>\n",
       "    .dataframe tbody tr th:only-of-type {\n",
       "        vertical-align: middle;\n",
       "    }\n",
       "\n",
       "    .dataframe tbody tr th {\n",
       "        vertical-align: top;\n",
       "    }\n",
       "\n",
       "    .dataframe thead th {\n",
       "        text-align: right;\n",
       "    }\n",
       "</style>\n",
       "<table border=\"1\" class=\"dataframe\">\n",
       "  <thead>\n",
       "    <tr style=\"text-align: right;\">\n",
       "      <th></th>\n",
       "      <th>completion_year</th>\n",
       "      <th>monthly_rent</th>\n",
       "      <th>location</th>\n",
       "      <th>property_type</th>\n",
       "      <th>rooms</th>\n",
       "      <th>parking</th>\n",
       "      <th>bathroom</th>\n",
       "      <th>size</th>\n",
       "      <th>furnished</th>\n",
       "      <th>region</th>\n",
       "    </tr>\n",
       "  </thead>\n",
       "  <tbody>\n",
       "    <tr>\n",
       "      <th>0</th>\n",
       "      <td>2022</td>\n",
       "      <td>4200</td>\n",
       "      <td>Kuala Lumpur - Taman Desa</td>\n",
       "      <td>Condominium</td>\n",
       "      <td>5</td>\n",
       "      <td>2.0</td>\n",
       "      <td>6.0</td>\n",
       "      <td>1842</td>\n",
       "      <td>Fully Furnished</td>\n",
       "      <td>Kuala Lumpur</td>\n",
       "    </tr>\n",
       "    <tr>\n",
       "      <th>1</th>\n",
       "      <td>2017</td>\n",
       "      <td>2300</td>\n",
       "      <td>Kuala Lumpur - Cheras</td>\n",
       "      <td>Condominium</td>\n",
       "      <td>3</td>\n",
       "      <td>1.0</td>\n",
       "      <td>2.0</td>\n",
       "      <td>1170</td>\n",
       "      <td>Partially Furnished</td>\n",
       "      <td>Kuala Lumpur</td>\n",
       "    </tr>\n",
       "    <tr>\n",
       "      <th>2</th>\n",
       "      <td>2017</td>\n",
       "      <td>1000</td>\n",
       "      <td>Kuala Lumpur - Taman Desa</td>\n",
       "      <td>Apartment</td>\n",
       "      <td>3</td>\n",
       "      <td>NaN</td>\n",
       "      <td>2.0</td>\n",
       "      <td>650</td>\n",
       "      <td>Fully Furnished</td>\n",
       "      <td>Kuala Lumpur</td>\n",
       "    </tr>\n",
       "    <tr>\n",
       "      <th>3</th>\n",
       "      <td>2020</td>\n",
       "      <td>1700</td>\n",
       "      <td>Kuala Lumpur - Sentul</td>\n",
       "      <td>Apartment</td>\n",
       "      <td>2</td>\n",
       "      <td>1.0</td>\n",
       "      <td>2.0</td>\n",
       "      <td>743</td>\n",
       "      <td>Partially Furnished</td>\n",
       "      <td>Kuala Lumpur</td>\n",
       "    </tr>\n",
       "    <tr>\n",
       "      <th>4</th>\n",
       "      <td>2017</td>\n",
       "      <td>1299</td>\n",
       "      <td>Kuala Lumpur - Mont Kiara</td>\n",
       "      <td>Service Residence</td>\n",
       "      <td>1</td>\n",
       "      <td>1.0</td>\n",
       "      <td>1.0</td>\n",
       "      <td>494</td>\n",
       "      <td>Not Furnished</td>\n",
       "      <td>Kuala Lumpur</td>\n",
       "    </tr>\n",
       "    <tr>\n",
       "      <th>...</th>\n",
       "      <td>...</td>\n",
       "      <td>...</td>\n",
       "      <td>...</td>\n",
       "      <td>...</td>\n",
       "      <td>...</td>\n",
       "      <td>...</td>\n",
       "      <td>...</td>\n",
       "      <td>...</td>\n",
       "      <td>...</td>\n",
       "      <td>...</td>\n",
       "    </tr>\n",
       "    <tr>\n",
       "      <th>19986</th>\n",
       "      <td>2017</td>\n",
       "      <td>1200</td>\n",
       "      <td>Selangor - Kajang</td>\n",
       "      <td>Apartment</td>\n",
       "      <td>3.0</td>\n",
       "      <td>NaN</td>\n",
       "      <td>2.0</td>\n",
       "      <td>1000</td>\n",
       "      <td>Partially Furnished</td>\n",
       "      <td>Selangor</td>\n",
       "    </tr>\n",
       "    <tr>\n",
       "      <th>19987</th>\n",
       "      <td>2018</td>\n",
       "      <td>1300</td>\n",
       "      <td>Selangor - Bandar Saujana Putra</td>\n",
       "      <td>Service Residence</td>\n",
       "      <td>4.0</td>\n",
       "      <td>2.0</td>\n",
       "      <td>3.0</td>\n",
       "      <td>1427</td>\n",
       "      <td>Partially Furnished</td>\n",
       "      <td>Selangor</td>\n",
       "    </tr>\n",
       "    <tr>\n",
       "      <th>19988</th>\n",
       "      <td>2017</td>\n",
       "      <td>1350</td>\n",
       "      <td>Selangor - Kajang</td>\n",
       "      <td>Condominium</td>\n",
       "      <td>3.0</td>\n",
       "      <td>2.0</td>\n",
       "      <td>2.0</td>\n",
       "      <td>1270</td>\n",
       "      <td>Partially Furnished</td>\n",
       "      <td>Selangor</td>\n",
       "    </tr>\n",
       "    <tr>\n",
       "      <th>19989</th>\n",
       "      <td>2017</td>\n",
       "      <td>1200</td>\n",
       "      <td>Selangor - Cyberjaya</td>\n",
       "      <td>Service Residence</td>\n",
       "      <td>3.0</td>\n",
       "      <td>1.0</td>\n",
       "      <td>2.0</td>\n",
       "      <td>1100</td>\n",
       "      <td>Fully Furnished</td>\n",
       "      <td>Selangor</td>\n",
       "    </tr>\n",
       "    <tr>\n",
       "      <th>19990</th>\n",
       "      <td>2016</td>\n",
       "      <td>1000</td>\n",
       "      <td>Selangor - Cyberjaya</td>\n",
       "      <td>Studio</td>\n",
       "      <td>1.0</td>\n",
       "      <td>1.0</td>\n",
       "      <td>1.0</td>\n",
       "      <td>580</td>\n",
       "      <td>Partially Furnished</td>\n",
       "      <td>Selangor</td>\n",
       "    </tr>\n",
       "  </tbody>\n",
       "</table>\n",
       "<p>19989 rows × 10 columns</p>\n",
       "</div>"
      ]
     },
     "execution_count": 98,
     "metadata": {},
     "output_type": "execute_result"
    }
   ],
   "execution_count": 98
  },
  {
   "cell_type": "markdown",
   "source": [
    "### `rooms` to explore, minimum 1 else it shouldn't be listed\n",
    "\n",
    "We look at the rows where `rooms` is null first"
   ],
   "metadata": {
    "id": "eq8Z5WeBs-o9"
   }
  },
  {
   "cell_type": "code",
   "source": [
    "df[df['rooms'].isnull()]"
   ],
   "metadata": {
    "colab": {
     "base_uri": "https://localhost:8080/",
     "height": 238
    },
    "id": "lCY15nG5tb_I",
    "outputId": "55b35b10-ed4a-4026-8e10-e3c6e8765dbf",
    "ExecuteTime": {
     "end_time": "2024-10-14T18:34:24.254898Z",
     "start_time": "2024-10-14T18:34:24.243206Z"
    }
   },
   "outputs": [
    {
     "data": {
      "text/plain": [
       "       completion_year  monthly_rent                        location  \\\n",
       "3668              2017           150           Kuala Lumpur - Sentul   \n",
       "8112              2017           100  Kuala Lumpur - Mid Valley City   \n",
       "12875             2017           650                   Selangor - 43   \n",
       "15765             2017            85       Selangor - Seri Kembangan   \n",
       "16812             2017           600               Selangor - Kajang   \n",
       "16991             2017           150         Selangor - Sungai Buloh   \n",
       "\n",
       "                                           property_type rooms  parking  \\\n",
       "3668   Condo / Services residence / Penthouse / Townh...   NaN      NaN   \n",
       "8112                                         Residential   NaN      NaN   \n",
       "12875                                             Houses   NaN      1.0   \n",
       "15765                                               Soho   NaN      1.0   \n",
       "16812                                             Others   NaN      NaN   \n",
       "16991                                             Others   NaN      NaN   \n",
       "\n",
       "       bathroom  size        furnished        region  \n",
       "3668        NaN   100    Not Furnished  Kuala Lumpur  \n",
       "8112        NaN   100              NaN  Kuala Lumpur  \n",
       "12875       NaN   300  Fully Furnished      Selangor  \n",
       "15765       NaN   761              NaN      Selangor  \n",
       "16812       NaN   750              NaN      Selangor  \n",
       "16991       NaN    25    Not Furnished      Selangor  "
      ],
      "text/html": [
       "<div>\n",
       "<style scoped>\n",
       "    .dataframe tbody tr th:only-of-type {\n",
       "        vertical-align: middle;\n",
       "    }\n",
       "\n",
       "    .dataframe tbody tr th {\n",
       "        vertical-align: top;\n",
       "    }\n",
       "\n",
       "    .dataframe thead th {\n",
       "        text-align: right;\n",
       "    }\n",
       "</style>\n",
       "<table border=\"1\" class=\"dataframe\">\n",
       "  <thead>\n",
       "    <tr style=\"text-align: right;\">\n",
       "      <th></th>\n",
       "      <th>completion_year</th>\n",
       "      <th>monthly_rent</th>\n",
       "      <th>location</th>\n",
       "      <th>property_type</th>\n",
       "      <th>rooms</th>\n",
       "      <th>parking</th>\n",
       "      <th>bathroom</th>\n",
       "      <th>size</th>\n",
       "      <th>furnished</th>\n",
       "      <th>region</th>\n",
       "    </tr>\n",
       "  </thead>\n",
       "  <tbody>\n",
       "    <tr>\n",
       "      <th>3668</th>\n",
       "      <td>2017</td>\n",
       "      <td>150</td>\n",
       "      <td>Kuala Lumpur - Sentul</td>\n",
       "      <td>Condo / Services residence / Penthouse / Townh...</td>\n",
       "      <td>NaN</td>\n",
       "      <td>NaN</td>\n",
       "      <td>NaN</td>\n",
       "      <td>100</td>\n",
       "      <td>Not Furnished</td>\n",
       "      <td>Kuala Lumpur</td>\n",
       "    </tr>\n",
       "    <tr>\n",
       "      <th>8112</th>\n",
       "      <td>2017</td>\n",
       "      <td>100</td>\n",
       "      <td>Kuala Lumpur - Mid Valley City</td>\n",
       "      <td>Residential</td>\n",
       "      <td>NaN</td>\n",
       "      <td>NaN</td>\n",
       "      <td>NaN</td>\n",
       "      <td>100</td>\n",
       "      <td>NaN</td>\n",
       "      <td>Kuala Lumpur</td>\n",
       "    </tr>\n",
       "    <tr>\n",
       "      <th>12875</th>\n",
       "      <td>2017</td>\n",
       "      <td>650</td>\n",
       "      <td>Selangor - 43</td>\n",
       "      <td>Houses</td>\n",
       "      <td>NaN</td>\n",
       "      <td>1.0</td>\n",
       "      <td>NaN</td>\n",
       "      <td>300</td>\n",
       "      <td>Fully Furnished</td>\n",
       "      <td>Selangor</td>\n",
       "    </tr>\n",
       "    <tr>\n",
       "      <th>15765</th>\n",
       "      <td>2017</td>\n",
       "      <td>85</td>\n",
       "      <td>Selangor - Seri Kembangan</td>\n",
       "      <td>Soho</td>\n",
       "      <td>NaN</td>\n",
       "      <td>1.0</td>\n",
       "      <td>NaN</td>\n",
       "      <td>761</td>\n",
       "      <td>NaN</td>\n",
       "      <td>Selangor</td>\n",
       "    </tr>\n",
       "    <tr>\n",
       "      <th>16812</th>\n",
       "      <td>2017</td>\n",
       "      <td>600</td>\n",
       "      <td>Selangor - Kajang</td>\n",
       "      <td>Others</td>\n",
       "      <td>NaN</td>\n",
       "      <td>NaN</td>\n",
       "      <td>NaN</td>\n",
       "      <td>750</td>\n",
       "      <td>NaN</td>\n",
       "      <td>Selangor</td>\n",
       "    </tr>\n",
       "    <tr>\n",
       "      <th>16991</th>\n",
       "      <td>2017</td>\n",
       "      <td>150</td>\n",
       "      <td>Selangor - Sungai Buloh</td>\n",
       "      <td>Others</td>\n",
       "      <td>NaN</td>\n",
       "      <td>NaN</td>\n",
       "      <td>NaN</td>\n",
       "      <td>25</td>\n",
       "      <td>Not Furnished</td>\n",
       "      <td>Selangor</td>\n",
       "    </tr>\n",
       "  </tbody>\n",
       "</table>\n",
       "</div>"
      ]
     },
     "execution_count": 99,
     "metadata": {},
     "output_type": "execute_result"
    }
   ],
   "execution_count": 99
  },
  {
   "cell_type": "markdown",
   "source": [
    "As a Malaysian, since the rental is quite low thus we can assume that `rooms` is 1.\n",
    "\n",
    "Also, since these rows are the ones where `bathroom` is also null, thus we assume that this 1 room will have 0 bathroom."
   ],
   "metadata": {
    "id": "6VMJ9_LJtiFR"
   }
  },
  {
   "cell_type": "code",
   "source": [
    "df.loc[df['rooms'].isnull(), ['rooms', 'bathroom']] = [1, 0]\n",
    "df"
   ],
   "metadata": {
    "colab": {
     "base_uri": "https://localhost:8080/",
     "height": 424
    },
    "id": "hZhoTrAwtnoM",
    "outputId": "e133c76e-1c70-4acc-d113-8c94aaf08787",
    "ExecuteTime": {
     "end_time": "2024-10-14T18:34:24.382906Z",
     "start_time": "2024-10-14T18:34:24.367888Z"
    }
   },
   "outputs": [
    {
     "data": {
      "text/plain": [
       "       completion_year  monthly_rent                         location  \\\n",
       "0                 2022          4200        Kuala Lumpur - Taman Desa   \n",
       "1                 2017          2300            Kuala Lumpur - Cheras   \n",
       "2                 2017          1000        Kuala Lumpur - Taman Desa   \n",
       "3                 2020          1700            Kuala Lumpur - Sentul   \n",
       "4                 2017          1299        Kuala Lumpur - Mont Kiara   \n",
       "...                ...           ...                              ...   \n",
       "19986             2017          1200                Selangor - Kajang   \n",
       "19987             2018          1300  Selangor - Bandar Saujana Putra   \n",
       "19988             2017          1350                Selangor - Kajang   \n",
       "19989             2017          1200             Selangor - Cyberjaya   \n",
       "19990             2016          1000             Selangor - Cyberjaya   \n",
       "\n",
       "           property_type rooms  parking  bathroom  size            furnished  \\\n",
       "0            Condominium     5      2.0       6.0  1842      Fully Furnished   \n",
       "1            Condominium     3      1.0       2.0  1170  Partially Furnished   \n",
       "2              Apartment     3      NaN       2.0   650      Fully Furnished   \n",
       "3              Apartment     2      1.0       2.0   743  Partially Furnished   \n",
       "4      Service Residence     1      1.0       1.0   494        Not Furnished   \n",
       "...                  ...   ...      ...       ...   ...                  ...   \n",
       "19986          Apartment   3.0      NaN       2.0  1000  Partially Furnished   \n",
       "19987  Service Residence   4.0      2.0       3.0  1427  Partially Furnished   \n",
       "19988        Condominium   3.0      2.0       2.0  1270  Partially Furnished   \n",
       "19989  Service Residence   3.0      1.0       2.0  1100      Fully Furnished   \n",
       "19990             Studio   1.0      1.0       1.0   580  Partially Furnished   \n",
       "\n",
       "             region  \n",
       "0      Kuala Lumpur  \n",
       "1      Kuala Lumpur  \n",
       "2      Kuala Lumpur  \n",
       "3      Kuala Lumpur  \n",
       "4      Kuala Lumpur  \n",
       "...             ...  \n",
       "19986      Selangor  \n",
       "19987      Selangor  \n",
       "19988      Selangor  \n",
       "19989      Selangor  \n",
       "19990      Selangor  \n",
       "\n",
       "[19989 rows x 10 columns]"
      ],
      "text/html": [
       "<div>\n",
       "<style scoped>\n",
       "    .dataframe tbody tr th:only-of-type {\n",
       "        vertical-align: middle;\n",
       "    }\n",
       "\n",
       "    .dataframe tbody tr th {\n",
       "        vertical-align: top;\n",
       "    }\n",
       "\n",
       "    .dataframe thead th {\n",
       "        text-align: right;\n",
       "    }\n",
       "</style>\n",
       "<table border=\"1\" class=\"dataframe\">\n",
       "  <thead>\n",
       "    <tr style=\"text-align: right;\">\n",
       "      <th></th>\n",
       "      <th>completion_year</th>\n",
       "      <th>monthly_rent</th>\n",
       "      <th>location</th>\n",
       "      <th>property_type</th>\n",
       "      <th>rooms</th>\n",
       "      <th>parking</th>\n",
       "      <th>bathroom</th>\n",
       "      <th>size</th>\n",
       "      <th>furnished</th>\n",
       "      <th>region</th>\n",
       "    </tr>\n",
       "  </thead>\n",
       "  <tbody>\n",
       "    <tr>\n",
       "      <th>0</th>\n",
       "      <td>2022</td>\n",
       "      <td>4200</td>\n",
       "      <td>Kuala Lumpur - Taman Desa</td>\n",
       "      <td>Condominium</td>\n",
       "      <td>5</td>\n",
       "      <td>2.0</td>\n",
       "      <td>6.0</td>\n",
       "      <td>1842</td>\n",
       "      <td>Fully Furnished</td>\n",
       "      <td>Kuala Lumpur</td>\n",
       "    </tr>\n",
       "    <tr>\n",
       "      <th>1</th>\n",
       "      <td>2017</td>\n",
       "      <td>2300</td>\n",
       "      <td>Kuala Lumpur - Cheras</td>\n",
       "      <td>Condominium</td>\n",
       "      <td>3</td>\n",
       "      <td>1.0</td>\n",
       "      <td>2.0</td>\n",
       "      <td>1170</td>\n",
       "      <td>Partially Furnished</td>\n",
       "      <td>Kuala Lumpur</td>\n",
       "    </tr>\n",
       "    <tr>\n",
       "      <th>2</th>\n",
       "      <td>2017</td>\n",
       "      <td>1000</td>\n",
       "      <td>Kuala Lumpur - Taman Desa</td>\n",
       "      <td>Apartment</td>\n",
       "      <td>3</td>\n",
       "      <td>NaN</td>\n",
       "      <td>2.0</td>\n",
       "      <td>650</td>\n",
       "      <td>Fully Furnished</td>\n",
       "      <td>Kuala Lumpur</td>\n",
       "    </tr>\n",
       "    <tr>\n",
       "      <th>3</th>\n",
       "      <td>2020</td>\n",
       "      <td>1700</td>\n",
       "      <td>Kuala Lumpur - Sentul</td>\n",
       "      <td>Apartment</td>\n",
       "      <td>2</td>\n",
       "      <td>1.0</td>\n",
       "      <td>2.0</td>\n",
       "      <td>743</td>\n",
       "      <td>Partially Furnished</td>\n",
       "      <td>Kuala Lumpur</td>\n",
       "    </tr>\n",
       "    <tr>\n",
       "      <th>4</th>\n",
       "      <td>2017</td>\n",
       "      <td>1299</td>\n",
       "      <td>Kuala Lumpur - Mont Kiara</td>\n",
       "      <td>Service Residence</td>\n",
       "      <td>1</td>\n",
       "      <td>1.0</td>\n",
       "      <td>1.0</td>\n",
       "      <td>494</td>\n",
       "      <td>Not Furnished</td>\n",
       "      <td>Kuala Lumpur</td>\n",
       "    </tr>\n",
       "    <tr>\n",
       "      <th>...</th>\n",
       "      <td>...</td>\n",
       "      <td>...</td>\n",
       "      <td>...</td>\n",
       "      <td>...</td>\n",
       "      <td>...</td>\n",
       "      <td>...</td>\n",
       "      <td>...</td>\n",
       "      <td>...</td>\n",
       "      <td>...</td>\n",
       "      <td>...</td>\n",
       "    </tr>\n",
       "    <tr>\n",
       "      <th>19986</th>\n",
       "      <td>2017</td>\n",
       "      <td>1200</td>\n",
       "      <td>Selangor - Kajang</td>\n",
       "      <td>Apartment</td>\n",
       "      <td>3.0</td>\n",
       "      <td>NaN</td>\n",
       "      <td>2.0</td>\n",
       "      <td>1000</td>\n",
       "      <td>Partially Furnished</td>\n",
       "      <td>Selangor</td>\n",
       "    </tr>\n",
       "    <tr>\n",
       "      <th>19987</th>\n",
       "      <td>2018</td>\n",
       "      <td>1300</td>\n",
       "      <td>Selangor - Bandar Saujana Putra</td>\n",
       "      <td>Service Residence</td>\n",
       "      <td>4.0</td>\n",
       "      <td>2.0</td>\n",
       "      <td>3.0</td>\n",
       "      <td>1427</td>\n",
       "      <td>Partially Furnished</td>\n",
       "      <td>Selangor</td>\n",
       "    </tr>\n",
       "    <tr>\n",
       "      <th>19988</th>\n",
       "      <td>2017</td>\n",
       "      <td>1350</td>\n",
       "      <td>Selangor - Kajang</td>\n",
       "      <td>Condominium</td>\n",
       "      <td>3.0</td>\n",
       "      <td>2.0</td>\n",
       "      <td>2.0</td>\n",
       "      <td>1270</td>\n",
       "      <td>Partially Furnished</td>\n",
       "      <td>Selangor</td>\n",
       "    </tr>\n",
       "    <tr>\n",
       "      <th>19989</th>\n",
       "      <td>2017</td>\n",
       "      <td>1200</td>\n",
       "      <td>Selangor - Cyberjaya</td>\n",
       "      <td>Service Residence</td>\n",
       "      <td>3.0</td>\n",
       "      <td>1.0</td>\n",
       "      <td>2.0</td>\n",
       "      <td>1100</td>\n",
       "      <td>Fully Furnished</td>\n",
       "      <td>Selangor</td>\n",
       "    </tr>\n",
       "    <tr>\n",
       "      <th>19990</th>\n",
       "      <td>2016</td>\n",
       "      <td>1000</td>\n",
       "      <td>Selangor - Cyberjaya</td>\n",
       "      <td>Studio</td>\n",
       "      <td>1.0</td>\n",
       "      <td>1.0</td>\n",
       "      <td>1.0</td>\n",
       "      <td>580</td>\n",
       "      <td>Partially Furnished</td>\n",
       "      <td>Selangor</td>\n",
       "    </tr>\n",
       "  </tbody>\n",
       "</table>\n",
       "<p>19989 rows × 10 columns</p>\n",
       "</div>"
      ]
     },
     "execution_count": 100,
     "metadata": {},
     "output_type": "execute_result"
    }
   ],
   "execution_count": 100
  },
  {
   "cell_type": "markdown",
   "source": [
    "### `parking` to fill null with 0"
   ],
   "metadata": {
    "id": "6PZ70tS3urOy"
   }
  },
  {
   "cell_type": "code",
   "source": [
    "df.loc[df['parking'].isnull(), 'parking'] = 0\n",
    "df"
   ],
   "metadata": {
    "colab": {
     "base_uri": "https://localhost:8080/",
     "height": 424
    },
    "id": "vuacoWFtuwl2",
    "outputId": "efbddd9f-03a1-4ff0-bfa5-d020e09c1d8d",
    "ExecuteTime": {
     "end_time": "2024-10-14T18:34:24.513021Z",
     "start_time": "2024-10-14T18:34:24.498466Z"
    }
   },
   "outputs": [
    {
     "data": {
      "text/plain": [
       "       completion_year  monthly_rent                         location  \\\n",
       "0                 2022          4200        Kuala Lumpur - Taman Desa   \n",
       "1                 2017          2300            Kuala Lumpur - Cheras   \n",
       "2                 2017          1000        Kuala Lumpur - Taman Desa   \n",
       "3                 2020          1700            Kuala Lumpur - Sentul   \n",
       "4                 2017          1299        Kuala Lumpur - Mont Kiara   \n",
       "...                ...           ...                              ...   \n",
       "19986             2017          1200                Selangor - Kajang   \n",
       "19987             2018          1300  Selangor - Bandar Saujana Putra   \n",
       "19988             2017          1350                Selangor - Kajang   \n",
       "19989             2017          1200             Selangor - Cyberjaya   \n",
       "19990             2016          1000             Selangor - Cyberjaya   \n",
       "\n",
       "           property_type rooms  parking  bathroom  size            furnished  \\\n",
       "0            Condominium     5      2.0       6.0  1842      Fully Furnished   \n",
       "1            Condominium     3      1.0       2.0  1170  Partially Furnished   \n",
       "2              Apartment     3      0.0       2.0   650      Fully Furnished   \n",
       "3              Apartment     2      1.0       2.0   743  Partially Furnished   \n",
       "4      Service Residence     1      1.0       1.0   494        Not Furnished   \n",
       "...                  ...   ...      ...       ...   ...                  ...   \n",
       "19986          Apartment   3.0      0.0       2.0  1000  Partially Furnished   \n",
       "19987  Service Residence   4.0      2.0       3.0  1427  Partially Furnished   \n",
       "19988        Condominium   3.0      2.0       2.0  1270  Partially Furnished   \n",
       "19989  Service Residence   3.0      1.0       2.0  1100      Fully Furnished   \n",
       "19990             Studio   1.0      1.0       1.0   580  Partially Furnished   \n",
       "\n",
       "             region  \n",
       "0      Kuala Lumpur  \n",
       "1      Kuala Lumpur  \n",
       "2      Kuala Lumpur  \n",
       "3      Kuala Lumpur  \n",
       "4      Kuala Lumpur  \n",
       "...             ...  \n",
       "19986      Selangor  \n",
       "19987      Selangor  \n",
       "19988      Selangor  \n",
       "19989      Selangor  \n",
       "19990      Selangor  \n",
       "\n",
       "[19989 rows x 10 columns]"
      ],
      "text/html": [
       "<div>\n",
       "<style scoped>\n",
       "    .dataframe tbody tr th:only-of-type {\n",
       "        vertical-align: middle;\n",
       "    }\n",
       "\n",
       "    .dataframe tbody tr th {\n",
       "        vertical-align: top;\n",
       "    }\n",
       "\n",
       "    .dataframe thead th {\n",
       "        text-align: right;\n",
       "    }\n",
       "</style>\n",
       "<table border=\"1\" class=\"dataframe\">\n",
       "  <thead>\n",
       "    <tr style=\"text-align: right;\">\n",
       "      <th></th>\n",
       "      <th>completion_year</th>\n",
       "      <th>monthly_rent</th>\n",
       "      <th>location</th>\n",
       "      <th>property_type</th>\n",
       "      <th>rooms</th>\n",
       "      <th>parking</th>\n",
       "      <th>bathroom</th>\n",
       "      <th>size</th>\n",
       "      <th>furnished</th>\n",
       "      <th>region</th>\n",
       "    </tr>\n",
       "  </thead>\n",
       "  <tbody>\n",
       "    <tr>\n",
       "      <th>0</th>\n",
       "      <td>2022</td>\n",
       "      <td>4200</td>\n",
       "      <td>Kuala Lumpur - Taman Desa</td>\n",
       "      <td>Condominium</td>\n",
       "      <td>5</td>\n",
       "      <td>2.0</td>\n",
       "      <td>6.0</td>\n",
       "      <td>1842</td>\n",
       "      <td>Fully Furnished</td>\n",
       "      <td>Kuala Lumpur</td>\n",
       "    </tr>\n",
       "    <tr>\n",
       "      <th>1</th>\n",
       "      <td>2017</td>\n",
       "      <td>2300</td>\n",
       "      <td>Kuala Lumpur - Cheras</td>\n",
       "      <td>Condominium</td>\n",
       "      <td>3</td>\n",
       "      <td>1.0</td>\n",
       "      <td>2.0</td>\n",
       "      <td>1170</td>\n",
       "      <td>Partially Furnished</td>\n",
       "      <td>Kuala Lumpur</td>\n",
       "    </tr>\n",
       "    <tr>\n",
       "      <th>2</th>\n",
       "      <td>2017</td>\n",
       "      <td>1000</td>\n",
       "      <td>Kuala Lumpur - Taman Desa</td>\n",
       "      <td>Apartment</td>\n",
       "      <td>3</td>\n",
       "      <td>0.0</td>\n",
       "      <td>2.0</td>\n",
       "      <td>650</td>\n",
       "      <td>Fully Furnished</td>\n",
       "      <td>Kuala Lumpur</td>\n",
       "    </tr>\n",
       "    <tr>\n",
       "      <th>3</th>\n",
       "      <td>2020</td>\n",
       "      <td>1700</td>\n",
       "      <td>Kuala Lumpur - Sentul</td>\n",
       "      <td>Apartment</td>\n",
       "      <td>2</td>\n",
       "      <td>1.0</td>\n",
       "      <td>2.0</td>\n",
       "      <td>743</td>\n",
       "      <td>Partially Furnished</td>\n",
       "      <td>Kuala Lumpur</td>\n",
       "    </tr>\n",
       "    <tr>\n",
       "      <th>4</th>\n",
       "      <td>2017</td>\n",
       "      <td>1299</td>\n",
       "      <td>Kuala Lumpur - Mont Kiara</td>\n",
       "      <td>Service Residence</td>\n",
       "      <td>1</td>\n",
       "      <td>1.0</td>\n",
       "      <td>1.0</td>\n",
       "      <td>494</td>\n",
       "      <td>Not Furnished</td>\n",
       "      <td>Kuala Lumpur</td>\n",
       "    </tr>\n",
       "    <tr>\n",
       "      <th>...</th>\n",
       "      <td>...</td>\n",
       "      <td>...</td>\n",
       "      <td>...</td>\n",
       "      <td>...</td>\n",
       "      <td>...</td>\n",
       "      <td>...</td>\n",
       "      <td>...</td>\n",
       "      <td>...</td>\n",
       "      <td>...</td>\n",
       "      <td>...</td>\n",
       "    </tr>\n",
       "    <tr>\n",
       "      <th>19986</th>\n",
       "      <td>2017</td>\n",
       "      <td>1200</td>\n",
       "      <td>Selangor - Kajang</td>\n",
       "      <td>Apartment</td>\n",
       "      <td>3.0</td>\n",
       "      <td>0.0</td>\n",
       "      <td>2.0</td>\n",
       "      <td>1000</td>\n",
       "      <td>Partially Furnished</td>\n",
       "      <td>Selangor</td>\n",
       "    </tr>\n",
       "    <tr>\n",
       "      <th>19987</th>\n",
       "      <td>2018</td>\n",
       "      <td>1300</td>\n",
       "      <td>Selangor - Bandar Saujana Putra</td>\n",
       "      <td>Service Residence</td>\n",
       "      <td>4.0</td>\n",
       "      <td>2.0</td>\n",
       "      <td>3.0</td>\n",
       "      <td>1427</td>\n",
       "      <td>Partially Furnished</td>\n",
       "      <td>Selangor</td>\n",
       "    </tr>\n",
       "    <tr>\n",
       "      <th>19988</th>\n",
       "      <td>2017</td>\n",
       "      <td>1350</td>\n",
       "      <td>Selangor - Kajang</td>\n",
       "      <td>Condominium</td>\n",
       "      <td>3.0</td>\n",
       "      <td>2.0</td>\n",
       "      <td>2.0</td>\n",
       "      <td>1270</td>\n",
       "      <td>Partially Furnished</td>\n",
       "      <td>Selangor</td>\n",
       "    </tr>\n",
       "    <tr>\n",
       "      <th>19989</th>\n",
       "      <td>2017</td>\n",
       "      <td>1200</td>\n",
       "      <td>Selangor - Cyberjaya</td>\n",
       "      <td>Service Residence</td>\n",
       "      <td>3.0</td>\n",
       "      <td>1.0</td>\n",
       "      <td>2.0</td>\n",
       "      <td>1100</td>\n",
       "      <td>Fully Furnished</td>\n",
       "      <td>Selangor</td>\n",
       "    </tr>\n",
       "    <tr>\n",
       "      <th>19990</th>\n",
       "      <td>2016</td>\n",
       "      <td>1000</td>\n",
       "      <td>Selangor - Cyberjaya</td>\n",
       "      <td>Studio</td>\n",
       "      <td>1.0</td>\n",
       "      <td>1.0</td>\n",
       "      <td>1.0</td>\n",
       "      <td>580</td>\n",
       "      <td>Partially Furnished</td>\n",
       "      <td>Selangor</td>\n",
       "    </tr>\n",
       "  </tbody>\n",
       "</table>\n",
       "<p>19989 rows × 10 columns</p>\n",
       "</div>"
      ]
     },
     "execution_count": 101,
     "metadata": {},
     "output_type": "execute_result"
    }
   ],
   "execution_count": 101
  },
  {
   "cell_type": "markdown",
   "source": [
    "Let's check if we can safely convert the above null-imputed columns to integer"
   ],
   "metadata": {
    "id": "vGI9F6J_vTwp"
   }
  },
  {
   "cell_type": "code",
   "source": [
    "for col in ['rooms', 'parking', 'bathroom']:\n",
    "    print(df[col].value_counts())"
   ],
   "metadata": {
    "colab": {
     "base_uri": "https://localhost:8080/"
    },
    "id": "VnsBxEiMvErl",
    "outputId": "0ee5d1eb-27c6-4b7c-880e-ff180f88f7c9",
    "ExecuteTime": {
     "end_time": "2024-10-14T18:34:24.651375Z",
     "start_time": "2024-10-14T18:34:24.642025Z"
    }
   },
   "outputs": [
    {
     "name": "stdout",
     "output_type": "stream",
     "text": [
      "rooms\n",
      "3.0             6459\n",
      "3               6320\n",
      "2               1805\n",
      "1.0             1527\n",
      "2.0             1489\n",
      "4                915\n",
      "1                867\n",
      "4.0              473\n",
      "5                 54\n",
      "5.0               38\n",
      "6                 19\n",
      "7                  6\n",
      "1                  6\n",
      "6.0                4\n",
      "More than 10       2\n",
      "7.0                2\n",
      "9                  1\n",
      "9.0                1\n",
      "10.0               1\n",
      "Name: count, dtype: int64\n",
      "parking\n",
      "1.0     8644\n",
      "0.0     5701\n",
      "2.0     5426\n",
      "3.0      179\n",
      "4.0       23\n",
      "10.0       6\n",
      "5.0        6\n",
      "6.0        2\n",
      "9.0        1\n",
      "7.0        1\n",
      "Name: count, dtype: int64\n",
      "bathroom\n",
      "2.0    14885\n",
      "1.0     3800\n",
      "3.0     1065\n",
      "4.0      160\n",
      "5.0       54\n",
      "6.0        9\n",
      "7.0        7\n",
      "0.0        6\n",
      "8.0        3\n",
      "Name: count, dtype: int64\n"
     ]
    }
   ],
   "execution_count": 102
  },
  {
   "cell_type": "markdown",
   "source": [
    "Only the `rooms` column has non-numeric values `'More than 10'` and only 2 occurrences, so we will just set them as 11"
   ],
   "metadata": {
    "id": "QEq1EGEjvhti"
   }
  },
  {
   "cell_type": "code",
   "source": [
    "df.loc[df['rooms'] == 'More than 10', 'rooms'] = 11\n",
    "df"
   ],
   "metadata": {
    "colab": {
     "base_uri": "https://localhost:8080/",
     "height": 424
    },
    "id": "OuBLeQRmvsV0",
    "outputId": "3b8853da-93d0-4899-f2c8-7c2554e8ceb5",
    "ExecuteTime": {
     "end_time": "2024-10-14T18:34:24.812375Z",
     "start_time": "2024-10-14T18:34:24.795855Z"
    }
   },
   "outputs": [
    {
     "data": {
      "text/plain": [
       "       completion_year  monthly_rent                         location  \\\n",
       "0                 2022          4200        Kuala Lumpur - Taman Desa   \n",
       "1                 2017          2300            Kuala Lumpur - Cheras   \n",
       "2                 2017          1000        Kuala Lumpur - Taman Desa   \n",
       "3                 2020          1700            Kuala Lumpur - Sentul   \n",
       "4                 2017          1299        Kuala Lumpur - Mont Kiara   \n",
       "...                ...           ...                              ...   \n",
       "19986             2017          1200                Selangor - Kajang   \n",
       "19987             2018          1300  Selangor - Bandar Saujana Putra   \n",
       "19988             2017          1350                Selangor - Kajang   \n",
       "19989             2017          1200             Selangor - Cyberjaya   \n",
       "19990             2016          1000             Selangor - Cyberjaya   \n",
       "\n",
       "           property_type rooms  parking  bathroom  size            furnished  \\\n",
       "0            Condominium     5      2.0       6.0  1842      Fully Furnished   \n",
       "1            Condominium     3      1.0       2.0  1170  Partially Furnished   \n",
       "2              Apartment     3      0.0       2.0   650      Fully Furnished   \n",
       "3              Apartment     2      1.0       2.0   743  Partially Furnished   \n",
       "4      Service Residence     1      1.0       1.0   494        Not Furnished   \n",
       "...                  ...   ...      ...       ...   ...                  ...   \n",
       "19986          Apartment   3.0      0.0       2.0  1000  Partially Furnished   \n",
       "19987  Service Residence   4.0      2.0       3.0  1427  Partially Furnished   \n",
       "19988        Condominium   3.0      2.0       2.0  1270  Partially Furnished   \n",
       "19989  Service Residence   3.0      1.0       2.0  1100      Fully Furnished   \n",
       "19990             Studio   1.0      1.0       1.0   580  Partially Furnished   \n",
       "\n",
       "             region  \n",
       "0      Kuala Lumpur  \n",
       "1      Kuala Lumpur  \n",
       "2      Kuala Lumpur  \n",
       "3      Kuala Lumpur  \n",
       "4      Kuala Lumpur  \n",
       "...             ...  \n",
       "19986      Selangor  \n",
       "19987      Selangor  \n",
       "19988      Selangor  \n",
       "19989      Selangor  \n",
       "19990      Selangor  \n",
       "\n",
       "[19989 rows x 10 columns]"
      ],
      "text/html": [
       "<div>\n",
       "<style scoped>\n",
       "    .dataframe tbody tr th:only-of-type {\n",
       "        vertical-align: middle;\n",
       "    }\n",
       "\n",
       "    .dataframe tbody tr th {\n",
       "        vertical-align: top;\n",
       "    }\n",
       "\n",
       "    .dataframe thead th {\n",
       "        text-align: right;\n",
       "    }\n",
       "</style>\n",
       "<table border=\"1\" class=\"dataframe\">\n",
       "  <thead>\n",
       "    <tr style=\"text-align: right;\">\n",
       "      <th></th>\n",
       "      <th>completion_year</th>\n",
       "      <th>monthly_rent</th>\n",
       "      <th>location</th>\n",
       "      <th>property_type</th>\n",
       "      <th>rooms</th>\n",
       "      <th>parking</th>\n",
       "      <th>bathroom</th>\n",
       "      <th>size</th>\n",
       "      <th>furnished</th>\n",
       "      <th>region</th>\n",
       "    </tr>\n",
       "  </thead>\n",
       "  <tbody>\n",
       "    <tr>\n",
       "      <th>0</th>\n",
       "      <td>2022</td>\n",
       "      <td>4200</td>\n",
       "      <td>Kuala Lumpur - Taman Desa</td>\n",
       "      <td>Condominium</td>\n",
       "      <td>5</td>\n",
       "      <td>2.0</td>\n",
       "      <td>6.0</td>\n",
       "      <td>1842</td>\n",
       "      <td>Fully Furnished</td>\n",
       "      <td>Kuala Lumpur</td>\n",
       "    </tr>\n",
       "    <tr>\n",
       "      <th>1</th>\n",
       "      <td>2017</td>\n",
       "      <td>2300</td>\n",
       "      <td>Kuala Lumpur - Cheras</td>\n",
       "      <td>Condominium</td>\n",
       "      <td>3</td>\n",
       "      <td>1.0</td>\n",
       "      <td>2.0</td>\n",
       "      <td>1170</td>\n",
       "      <td>Partially Furnished</td>\n",
       "      <td>Kuala Lumpur</td>\n",
       "    </tr>\n",
       "    <tr>\n",
       "      <th>2</th>\n",
       "      <td>2017</td>\n",
       "      <td>1000</td>\n",
       "      <td>Kuala Lumpur - Taman Desa</td>\n",
       "      <td>Apartment</td>\n",
       "      <td>3</td>\n",
       "      <td>0.0</td>\n",
       "      <td>2.0</td>\n",
       "      <td>650</td>\n",
       "      <td>Fully Furnished</td>\n",
       "      <td>Kuala Lumpur</td>\n",
       "    </tr>\n",
       "    <tr>\n",
       "      <th>3</th>\n",
       "      <td>2020</td>\n",
       "      <td>1700</td>\n",
       "      <td>Kuala Lumpur - Sentul</td>\n",
       "      <td>Apartment</td>\n",
       "      <td>2</td>\n",
       "      <td>1.0</td>\n",
       "      <td>2.0</td>\n",
       "      <td>743</td>\n",
       "      <td>Partially Furnished</td>\n",
       "      <td>Kuala Lumpur</td>\n",
       "    </tr>\n",
       "    <tr>\n",
       "      <th>4</th>\n",
       "      <td>2017</td>\n",
       "      <td>1299</td>\n",
       "      <td>Kuala Lumpur - Mont Kiara</td>\n",
       "      <td>Service Residence</td>\n",
       "      <td>1</td>\n",
       "      <td>1.0</td>\n",
       "      <td>1.0</td>\n",
       "      <td>494</td>\n",
       "      <td>Not Furnished</td>\n",
       "      <td>Kuala Lumpur</td>\n",
       "    </tr>\n",
       "    <tr>\n",
       "      <th>...</th>\n",
       "      <td>...</td>\n",
       "      <td>...</td>\n",
       "      <td>...</td>\n",
       "      <td>...</td>\n",
       "      <td>...</td>\n",
       "      <td>...</td>\n",
       "      <td>...</td>\n",
       "      <td>...</td>\n",
       "      <td>...</td>\n",
       "      <td>...</td>\n",
       "    </tr>\n",
       "    <tr>\n",
       "      <th>19986</th>\n",
       "      <td>2017</td>\n",
       "      <td>1200</td>\n",
       "      <td>Selangor - Kajang</td>\n",
       "      <td>Apartment</td>\n",
       "      <td>3.0</td>\n",
       "      <td>0.0</td>\n",
       "      <td>2.0</td>\n",
       "      <td>1000</td>\n",
       "      <td>Partially Furnished</td>\n",
       "      <td>Selangor</td>\n",
       "    </tr>\n",
       "    <tr>\n",
       "      <th>19987</th>\n",
       "      <td>2018</td>\n",
       "      <td>1300</td>\n",
       "      <td>Selangor - Bandar Saujana Putra</td>\n",
       "      <td>Service Residence</td>\n",
       "      <td>4.0</td>\n",
       "      <td>2.0</td>\n",
       "      <td>3.0</td>\n",
       "      <td>1427</td>\n",
       "      <td>Partially Furnished</td>\n",
       "      <td>Selangor</td>\n",
       "    </tr>\n",
       "    <tr>\n",
       "      <th>19988</th>\n",
       "      <td>2017</td>\n",
       "      <td>1350</td>\n",
       "      <td>Selangor - Kajang</td>\n",
       "      <td>Condominium</td>\n",
       "      <td>3.0</td>\n",
       "      <td>2.0</td>\n",
       "      <td>2.0</td>\n",
       "      <td>1270</td>\n",
       "      <td>Partially Furnished</td>\n",
       "      <td>Selangor</td>\n",
       "    </tr>\n",
       "    <tr>\n",
       "      <th>19989</th>\n",
       "      <td>2017</td>\n",
       "      <td>1200</td>\n",
       "      <td>Selangor - Cyberjaya</td>\n",
       "      <td>Service Residence</td>\n",
       "      <td>3.0</td>\n",
       "      <td>1.0</td>\n",
       "      <td>2.0</td>\n",
       "      <td>1100</td>\n",
       "      <td>Fully Furnished</td>\n",
       "      <td>Selangor</td>\n",
       "    </tr>\n",
       "    <tr>\n",
       "      <th>19990</th>\n",
       "      <td>2016</td>\n",
       "      <td>1000</td>\n",
       "      <td>Selangor - Cyberjaya</td>\n",
       "      <td>Studio</td>\n",
       "      <td>1.0</td>\n",
       "      <td>1.0</td>\n",
       "      <td>1.0</td>\n",
       "      <td>580</td>\n",
       "      <td>Partially Furnished</td>\n",
       "      <td>Selangor</td>\n",
       "    </tr>\n",
       "  </tbody>\n",
       "</table>\n",
       "<p>19989 rows × 10 columns</p>\n",
       "</div>"
      ]
     },
     "execution_count": 103,
     "metadata": {},
     "output_type": "execute_result"
    }
   ],
   "execution_count": 103
  },
  {
   "cell_type": "markdown",
   "source": [
    "Now we convert them into `int` type"
   ],
   "metadata": {
    "id": "l7nhyoBTwWyK"
   }
  },
  {
   "cell_type": "code",
   "source": [
    "df['rooms'] = df['rooms'].astype(float).astype(int)\n",
    "df['parking'] = df['parking'].astype(float).astype(int)\n",
    "df['bathroom'] = df['bathroom'].astype(float).astype(int)\n",
    "df"
   ],
   "metadata": {
    "colab": {
     "base_uri": "https://localhost:8080/",
     "height": 424
    },
    "id": "pY2yZN8Avv_z",
    "outputId": "56ae9e59-7762-45df-a5d1-6de2f922a451",
    "ExecuteTime": {
     "end_time": "2024-10-14T18:34:25.103527Z",
     "start_time": "2024-10-14T18:34:25.086401Z"
    }
   },
   "outputs": [
    {
     "data": {
      "text/plain": [
       "       completion_year  monthly_rent                         location  \\\n",
       "0                 2022          4200        Kuala Lumpur - Taman Desa   \n",
       "1                 2017          2300            Kuala Lumpur - Cheras   \n",
       "2                 2017          1000        Kuala Lumpur - Taman Desa   \n",
       "3                 2020          1700            Kuala Lumpur - Sentul   \n",
       "4                 2017          1299        Kuala Lumpur - Mont Kiara   \n",
       "...                ...           ...                              ...   \n",
       "19986             2017          1200                Selangor - Kajang   \n",
       "19987             2018          1300  Selangor - Bandar Saujana Putra   \n",
       "19988             2017          1350                Selangor - Kajang   \n",
       "19989             2017          1200             Selangor - Cyberjaya   \n",
       "19990             2016          1000             Selangor - Cyberjaya   \n",
       "\n",
       "           property_type  rooms  parking  bathroom  size            furnished  \\\n",
       "0            Condominium      5        2         6  1842      Fully Furnished   \n",
       "1            Condominium      3        1         2  1170  Partially Furnished   \n",
       "2              Apartment      3        0         2   650      Fully Furnished   \n",
       "3              Apartment      2        1         2   743  Partially Furnished   \n",
       "4      Service Residence      1        1         1   494        Not Furnished   \n",
       "...                  ...    ...      ...       ...   ...                  ...   \n",
       "19986          Apartment      3        0         2  1000  Partially Furnished   \n",
       "19987  Service Residence      4        2         3  1427  Partially Furnished   \n",
       "19988        Condominium      3        2         2  1270  Partially Furnished   \n",
       "19989  Service Residence      3        1         2  1100      Fully Furnished   \n",
       "19990             Studio      1        1         1   580  Partially Furnished   \n",
       "\n",
       "             region  \n",
       "0      Kuala Lumpur  \n",
       "1      Kuala Lumpur  \n",
       "2      Kuala Lumpur  \n",
       "3      Kuala Lumpur  \n",
       "4      Kuala Lumpur  \n",
       "...             ...  \n",
       "19986      Selangor  \n",
       "19987      Selangor  \n",
       "19988      Selangor  \n",
       "19989      Selangor  \n",
       "19990      Selangor  \n",
       "\n",
       "[19989 rows x 10 columns]"
      ],
      "text/html": [
       "<div>\n",
       "<style scoped>\n",
       "    .dataframe tbody tr th:only-of-type {\n",
       "        vertical-align: middle;\n",
       "    }\n",
       "\n",
       "    .dataframe tbody tr th {\n",
       "        vertical-align: top;\n",
       "    }\n",
       "\n",
       "    .dataframe thead th {\n",
       "        text-align: right;\n",
       "    }\n",
       "</style>\n",
       "<table border=\"1\" class=\"dataframe\">\n",
       "  <thead>\n",
       "    <tr style=\"text-align: right;\">\n",
       "      <th></th>\n",
       "      <th>completion_year</th>\n",
       "      <th>monthly_rent</th>\n",
       "      <th>location</th>\n",
       "      <th>property_type</th>\n",
       "      <th>rooms</th>\n",
       "      <th>parking</th>\n",
       "      <th>bathroom</th>\n",
       "      <th>size</th>\n",
       "      <th>furnished</th>\n",
       "      <th>region</th>\n",
       "    </tr>\n",
       "  </thead>\n",
       "  <tbody>\n",
       "    <tr>\n",
       "      <th>0</th>\n",
       "      <td>2022</td>\n",
       "      <td>4200</td>\n",
       "      <td>Kuala Lumpur - Taman Desa</td>\n",
       "      <td>Condominium</td>\n",
       "      <td>5</td>\n",
       "      <td>2</td>\n",
       "      <td>6</td>\n",
       "      <td>1842</td>\n",
       "      <td>Fully Furnished</td>\n",
       "      <td>Kuala Lumpur</td>\n",
       "    </tr>\n",
       "    <tr>\n",
       "      <th>1</th>\n",
       "      <td>2017</td>\n",
       "      <td>2300</td>\n",
       "      <td>Kuala Lumpur - Cheras</td>\n",
       "      <td>Condominium</td>\n",
       "      <td>3</td>\n",
       "      <td>1</td>\n",
       "      <td>2</td>\n",
       "      <td>1170</td>\n",
       "      <td>Partially Furnished</td>\n",
       "      <td>Kuala Lumpur</td>\n",
       "    </tr>\n",
       "    <tr>\n",
       "      <th>2</th>\n",
       "      <td>2017</td>\n",
       "      <td>1000</td>\n",
       "      <td>Kuala Lumpur - Taman Desa</td>\n",
       "      <td>Apartment</td>\n",
       "      <td>3</td>\n",
       "      <td>0</td>\n",
       "      <td>2</td>\n",
       "      <td>650</td>\n",
       "      <td>Fully Furnished</td>\n",
       "      <td>Kuala Lumpur</td>\n",
       "    </tr>\n",
       "    <tr>\n",
       "      <th>3</th>\n",
       "      <td>2020</td>\n",
       "      <td>1700</td>\n",
       "      <td>Kuala Lumpur - Sentul</td>\n",
       "      <td>Apartment</td>\n",
       "      <td>2</td>\n",
       "      <td>1</td>\n",
       "      <td>2</td>\n",
       "      <td>743</td>\n",
       "      <td>Partially Furnished</td>\n",
       "      <td>Kuala Lumpur</td>\n",
       "    </tr>\n",
       "    <tr>\n",
       "      <th>4</th>\n",
       "      <td>2017</td>\n",
       "      <td>1299</td>\n",
       "      <td>Kuala Lumpur - Mont Kiara</td>\n",
       "      <td>Service Residence</td>\n",
       "      <td>1</td>\n",
       "      <td>1</td>\n",
       "      <td>1</td>\n",
       "      <td>494</td>\n",
       "      <td>Not Furnished</td>\n",
       "      <td>Kuala Lumpur</td>\n",
       "    </tr>\n",
       "    <tr>\n",
       "      <th>...</th>\n",
       "      <td>...</td>\n",
       "      <td>...</td>\n",
       "      <td>...</td>\n",
       "      <td>...</td>\n",
       "      <td>...</td>\n",
       "      <td>...</td>\n",
       "      <td>...</td>\n",
       "      <td>...</td>\n",
       "      <td>...</td>\n",
       "      <td>...</td>\n",
       "    </tr>\n",
       "    <tr>\n",
       "      <th>19986</th>\n",
       "      <td>2017</td>\n",
       "      <td>1200</td>\n",
       "      <td>Selangor - Kajang</td>\n",
       "      <td>Apartment</td>\n",
       "      <td>3</td>\n",
       "      <td>0</td>\n",
       "      <td>2</td>\n",
       "      <td>1000</td>\n",
       "      <td>Partially Furnished</td>\n",
       "      <td>Selangor</td>\n",
       "    </tr>\n",
       "    <tr>\n",
       "      <th>19987</th>\n",
       "      <td>2018</td>\n",
       "      <td>1300</td>\n",
       "      <td>Selangor - Bandar Saujana Putra</td>\n",
       "      <td>Service Residence</td>\n",
       "      <td>4</td>\n",
       "      <td>2</td>\n",
       "      <td>3</td>\n",
       "      <td>1427</td>\n",
       "      <td>Partially Furnished</td>\n",
       "      <td>Selangor</td>\n",
       "    </tr>\n",
       "    <tr>\n",
       "      <th>19988</th>\n",
       "      <td>2017</td>\n",
       "      <td>1350</td>\n",
       "      <td>Selangor - Kajang</td>\n",
       "      <td>Condominium</td>\n",
       "      <td>3</td>\n",
       "      <td>2</td>\n",
       "      <td>2</td>\n",
       "      <td>1270</td>\n",
       "      <td>Partially Furnished</td>\n",
       "      <td>Selangor</td>\n",
       "    </tr>\n",
       "    <tr>\n",
       "      <th>19989</th>\n",
       "      <td>2017</td>\n",
       "      <td>1200</td>\n",
       "      <td>Selangor - Cyberjaya</td>\n",
       "      <td>Service Residence</td>\n",
       "      <td>3</td>\n",
       "      <td>1</td>\n",
       "      <td>2</td>\n",
       "      <td>1100</td>\n",
       "      <td>Fully Furnished</td>\n",
       "      <td>Selangor</td>\n",
       "    </tr>\n",
       "    <tr>\n",
       "      <th>19990</th>\n",
       "      <td>2016</td>\n",
       "      <td>1000</td>\n",
       "      <td>Selangor - Cyberjaya</td>\n",
       "      <td>Studio</td>\n",
       "      <td>1</td>\n",
       "      <td>1</td>\n",
       "      <td>1</td>\n",
       "      <td>580</td>\n",
       "      <td>Partially Furnished</td>\n",
       "      <td>Selangor</td>\n",
       "    </tr>\n",
       "  </tbody>\n",
       "</table>\n",
       "<p>19989 rows × 10 columns</p>\n",
       "</div>"
      ]
     },
     "execution_count": 104,
     "metadata": {},
     "output_type": "execute_result"
    }
   ],
   "execution_count": 104
  },
  {
   "cell_type": "markdown",
   "source": [
    "### `furnished` to be explored\n",
    "\n",
    "We will look at what our `furnished` column look like"
   ],
   "metadata": {
    "id": "iRn9MGjKwhV7"
   }
  },
  {
   "cell_type": "code",
   "source": [
    "df['furnished'].value_counts()"
   ],
   "metadata": {
    "colab": {
     "base_uri": "https://localhost:8080/",
     "height": 210
    },
    "id": "60dlUmjCwgOI",
    "outputId": "03a7cfb8-c371-4fe6-a819-a07e821bca91",
    "ExecuteTime": {
     "end_time": "2024-10-14T18:34:25.219197Z",
     "start_time": "2024-10-14T18:34:25.212497Z"
    }
   },
   "outputs": [
    {
     "data": {
      "text/plain": [
       "furnished\n",
       "Fully Furnished        8462\n",
       "Partially Furnished    8004\n",
       "Not Furnished          3520\n",
       "Name: count, dtype: int64"
      ]
     },
     "execution_count": 105,
     "metadata": {},
     "output_type": "execute_result"
    }
   ],
   "execution_count": 105
  },
  {
   "cell_type": "markdown",
   "source": [
    "Let's look at the rows where `furnished` is null"
   ],
   "metadata": {
    "id": "0AQobFoIwzeM"
   }
  },
  {
   "cell_type": "code",
   "source": [
    "df[df['furnished'].isnull()]"
   ],
   "metadata": {
    "colab": {
     "base_uri": "https://localhost:8080/",
     "height": 143
    },
    "id": "D0A92f3ow6z0",
    "outputId": "07d508f0-878c-4428-9319-64cbc8cb2be8",
    "ExecuteTime": {
     "end_time": "2024-10-14T18:34:25.365144Z",
     "start_time": "2024-10-14T18:34:25.356404Z"
    }
   },
   "outputs": [
    {
     "data": {
      "text/plain": [
       "       completion_year  monthly_rent                        location  \\\n",
       "8112              2017           100  Kuala Lumpur - Mid Valley City   \n",
       "15765             2017            85       Selangor - Seri Kembangan   \n",
       "16812             2017           600               Selangor - Kajang   \n",
       "\n",
       "      property_type  rooms  parking  bathroom  size furnished        region  \n",
       "8112    Residential      1        0         0   100       NaN  Kuala Lumpur  \n",
       "15765          Soho      1        1         0   761       NaN      Selangor  \n",
       "16812        Others      1        0         0   750       NaN      Selangor  "
      ],
      "text/html": [
       "<div>\n",
       "<style scoped>\n",
       "    .dataframe tbody tr th:only-of-type {\n",
       "        vertical-align: middle;\n",
       "    }\n",
       "\n",
       "    .dataframe tbody tr th {\n",
       "        vertical-align: top;\n",
       "    }\n",
       "\n",
       "    .dataframe thead th {\n",
       "        text-align: right;\n",
       "    }\n",
       "</style>\n",
       "<table border=\"1\" class=\"dataframe\">\n",
       "  <thead>\n",
       "    <tr style=\"text-align: right;\">\n",
       "      <th></th>\n",
       "      <th>completion_year</th>\n",
       "      <th>monthly_rent</th>\n",
       "      <th>location</th>\n",
       "      <th>property_type</th>\n",
       "      <th>rooms</th>\n",
       "      <th>parking</th>\n",
       "      <th>bathroom</th>\n",
       "      <th>size</th>\n",
       "      <th>furnished</th>\n",
       "      <th>region</th>\n",
       "    </tr>\n",
       "  </thead>\n",
       "  <tbody>\n",
       "    <tr>\n",
       "      <th>8112</th>\n",
       "      <td>2017</td>\n",
       "      <td>100</td>\n",
       "      <td>Kuala Lumpur - Mid Valley City</td>\n",
       "      <td>Residential</td>\n",
       "      <td>1</td>\n",
       "      <td>0</td>\n",
       "      <td>0</td>\n",
       "      <td>100</td>\n",
       "      <td>NaN</td>\n",
       "      <td>Kuala Lumpur</td>\n",
       "    </tr>\n",
       "    <tr>\n",
       "      <th>15765</th>\n",
       "      <td>2017</td>\n",
       "      <td>85</td>\n",
       "      <td>Selangor - Seri Kembangan</td>\n",
       "      <td>Soho</td>\n",
       "      <td>1</td>\n",
       "      <td>1</td>\n",
       "      <td>0</td>\n",
       "      <td>761</td>\n",
       "      <td>NaN</td>\n",
       "      <td>Selangor</td>\n",
       "    </tr>\n",
       "    <tr>\n",
       "      <th>16812</th>\n",
       "      <td>2017</td>\n",
       "      <td>600</td>\n",
       "      <td>Selangor - Kajang</td>\n",
       "      <td>Others</td>\n",
       "      <td>1</td>\n",
       "      <td>0</td>\n",
       "      <td>0</td>\n",
       "      <td>750</td>\n",
       "      <td>NaN</td>\n",
       "      <td>Selangor</td>\n",
       "    </tr>\n",
       "  </tbody>\n",
       "</table>\n",
       "</div>"
      ]
     },
     "execution_count": 106,
     "metadata": {},
     "output_type": "execute_result"
    }
   ],
   "execution_count": 106
  },
  {
   "cell_type": "markdown",
   "source": [
    "We explore the typical `monthly_rent` for 1 room for each `furnished` type"
   ],
   "metadata": {
    "id": "qMZ4XfeDxVCZ"
   }
  },
  {
   "cell_type": "code",
   "source": [
    "df[df['rooms'] == 1]['monthly_rent'].groupby(df['furnished']).mean()"
   ],
   "metadata": {
    "colab": {
     "base_uri": "https://localhost:8080/",
     "height": 210
    },
    "id": "tg2AcrLuxYlG",
    "outputId": "43d16362-d781-496b-878a-564b839ce093",
    "ExecuteTime": {
     "end_time": "2024-10-14T18:34:25.572642Z",
     "start_time": "2024-10-14T18:34:25.565134Z"
    }
   },
   "outputs": [
    {
     "data": {
      "text/plain": [
       "furnished\n",
       "Fully Furnished        1628.430286\n",
       "Not Furnished           868.050000\n",
       "Partially Furnished    3423.601713\n",
       "Name: monthly_rent, dtype: float64"
      ]
     },
     "execution_count": 107,
     "metadata": {},
     "output_type": "execute_result"
    }
   ],
   "execution_count": 107
  },
  {
   "cell_type": "markdown",
   "source": [
    "Okay this looks illogical for partial furnished to be significantly higher than fully furnished, outliers exist so let's use median"
   ],
   "metadata": {
    "id": "QmXwcMn5x_O3"
   }
  },
  {
   "cell_type": "code",
   "source": [
    "df[df['rooms'] == 1]['monthly_rent'].groupby(df['furnished']).median()"
   ],
   "metadata": {
    "colab": {
     "base_uri": "https://localhost:8080/",
     "height": 210
    },
    "id": "rKr8KPOWyEnj",
    "outputId": "738b97a6-cca2-4dfc-ca2a-09940644fb2f",
    "ExecuteTime": {
     "end_time": "2024-10-14T18:34:25.833819Z",
     "start_time": "2024-10-14T18:34:25.824895Z"
    }
   },
   "outputs": [
    {
     "data": {
      "text/plain": [
       "furnished\n",
       "Fully Furnished        1400.0\n",
       "Not Furnished           800.0\n",
       "Partially Furnished    1200.0\n",
       "Name: monthly_rent, dtype: float64"
      ]
     },
     "execution_count": 108,
     "metadata": {},
     "output_type": "execute_result"
    }
   ],
   "execution_count": 108
  },
  {
   "cell_type": "markdown",
   "source": [
    "Since all the rooms with `furnished` as null have rental below 800, we just set them to unfurnished"
   ],
   "metadata": {
    "id": "YNQQInjryGjN"
   }
  },
  {
   "cell_type": "code",
   "source": [
    "df.loc[df['furnished'].isnull(), 'furnished'] = 'Not Furnished'\n",
    "df"
   ],
   "metadata": {
    "colab": {
     "base_uri": "https://localhost:8080/",
     "height": 424
    },
    "id": "T-bwQ-I5yGU0",
    "outputId": "4bf482e4-472d-4d6d-b34e-8b70cb0392fb",
    "ExecuteTime": {
     "end_time": "2024-10-14T18:34:26.116232Z",
     "start_time": "2024-10-14T18:34:26.104639Z"
    }
   },
   "outputs": [
    {
     "data": {
      "text/plain": [
       "       completion_year  monthly_rent                         location  \\\n",
       "0                 2022          4200        Kuala Lumpur - Taman Desa   \n",
       "1                 2017          2300            Kuala Lumpur - Cheras   \n",
       "2                 2017          1000        Kuala Lumpur - Taman Desa   \n",
       "3                 2020          1700            Kuala Lumpur - Sentul   \n",
       "4                 2017          1299        Kuala Lumpur - Mont Kiara   \n",
       "...                ...           ...                              ...   \n",
       "19986             2017          1200                Selangor - Kajang   \n",
       "19987             2018          1300  Selangor - Bandar Saujana Putra   \n",
       "19988             2017          1350                Selangor - Kajang   \n",
       "19989             2017          1200             Selangor - Cyberjaya   \n",
       "19990             2016          1000             Selangor - Cyberjaya   \n",
       "\n",
       "           property_type  rooms  parking  bathroom  size            furnished  \\\n",
       "0            Condominium      5        2         6  1842      Fully Furnished   \n",
       "1            Condominium      3        1         2  1170  Partially Furnished   \n",
       "2              Apartment      3        0         2   650      Fully Furnished   \n",
       "3              Apartment      2        1         2   743  Partially Furnished   \n",
       "4      Service Residence      1        1         1   494        Not Furnished   \n",
       "...                  ...    ...      ...       ...   ...                  ...   \n",
       "19986          Apartment      3        0         2  1000  Partially Furnished   \n",
       "19987  Service Residence      4        2         3  1427  Partially Furnished   \n",
       "19988        Condominium      3        2         2  1270  Partially Furnished   \n",
       "19989  Service Residence      3        1         2  1100      Fully Furnished   \n",
       "19990             Studio      1        1         1   580  Partially Furnished   \n",
       "\n",
       "             region  \n",
       "0      Kuala Lumpur  \n",
       "1      Kuala Lumpur  \n",
       "2      Kuala Lumpur  \n",
       "3      Kuala Lumpur  \n",
       "4      Kuala Lumpur  \n",
       "...             ...  \n",
       "19986      Selangor  \n",
       "19987      Selangor  \n",
       "19988      Selangor  \n",
       "19989      Selangor  \n",
       "19990      Selangor  \n",
       "\n",
       "[19989 rows x 10 columns]"
      ],
      "text/html": [
       "<div>\n",
       "<style scoped>\n",
       "    .dataframe tbody tr th:only-of-type {\n",
       "        vertical-align: middle;\n",
       "    }\n",
       "\n",
       "    .dataframe tbody tr th {\n",
       "        vertical-align: top;\n",
       "    }\n",
       "\n",
       "    .dataframe thead th {\n",
       "        text-align: right;\n",
       "    }\n",
       "</style>\n",
       "<table border=\"1\" class=\"dataframe\">\n",
       "  <thead>\n",
       "    <tr style=\"text-align: right;\">\n",
       "      <th></th>\n",
       "      <th>completion_year</th>\n",
       "      <th>monthly_rent</th>\n",
       "      <th>location</th>\n",
       "      <th>property_type</th>\n",
       "      <th>rooms</th>\n",
       "      <th>parking</th>\n",
       "      <th>bathroom</th>\n",
       "      <th>size</th>\n",
       "      <th>furnished</th>\n",
       "      <th>region</th>\n",
       "    </tr>\n",
       "  </thead>\n",
       "  <tbody>\n",
       "    <tr>\n",
       "      <th>0</th>\n",
       "      <td>2022</td>\n",
       "      <td>4200</td>\n",
       "      <td>Kuala Lumpur - Taman Desa</td>\n",
       "      <td>Condominium</td>\n",
       "      <td>5</td>\n",
       "      <td>2</td>\n",
       "      <td>6</td>\n",
       "      <td>1842</td>\n",
       "      <td>Fully Furnished</td>\n",
       "      <td>Kuala Lumpur</td>\n",
       "    </tr>\n",
       "    <tr>\n",
       "      <th>1</th>\n",
       "      <td>2017</td>\n",
       "      <td>2300</td>\n",
       "      <td>Kuala Lumpur - Cheras</td>\n",
       "      <td>Condominium</td>\n",
       "      <td>3</td>\n",
       "      <td>1</td>\n",
       "      <td>2</td>\n",
       "      <td>1170</td>\n",
       "      <td>Partially Furnished</td>\n",
       "      <td>Kuala Lumpur</td>\n",
       "    </tr>\n",
       "    <tr>\n",
       "      <th>2</th>\n",
       "      <td>2017</td>\n",
       "      <td>1000</td>\n",
       "      <td>Kuala Lumpur - Taman Desa</td>\n",
       "      <td>Apartment</td>\n",
       "      <td>3</td>\n",
       "      <td>0</td>\n",
       "      <td>2</td>\n",
       "      <td>650</td>\n",
       "      <td>Fully Furnished</td>\n",
       "      <td>Kuala Lumpur</td>\n",
       "    </tr>\n",
       "    <tr>\n",
       "      <th>3</th>\n",
       "      <td>2020</td>\n",
       "      <td>1700</td>\n",
       "      <td>Kuala Lumpur - Sentul</td>\n",
       "      <td>Apartment</td>\n",
       "      <td>2</td>\n",
       "      <td>1</td>\n",
       "      <td>2</td>\n",
       "      <td>743</td>\n",
       "      <td>Partially Furnished</td>\n",
       "      <td>Kuala Lumpur</td>\n",
       "    </tr>\n",
       "    <tr>\n",
       "      <th>4</th>\n",
       "      <td>2017</td>\n",
       "      <td>1299</td>\n",
       "      <td>Kuala Lumpur - Mont Kiara</td>\n",
       "      <td>Service Residence</td>\n",
       "      <td>1</td>\n",
       "      <td>1</td>\n",
       "      <td>1</td>\n",
       "      <td>494</td>\n",
       "      <td>Not Furnished</td>\n",
       "      <td>Kuala Lumpur</td>\n",
       "    </tr>\n",
       "    <tr>\n",
       "      <th>...</th>\n",
       "      <td>...</td>\n",
       "      <td>...</td>\n",
       "      <td>...</td>\n",
       "      <td>...</td>\n",
       "      <td>...</td>\n",
       "      <td>...</td>\n",
       "      <td>...</td>\n",
       "      <td>...</td>\n",
       "      <td>...</td>\n",
       "      <td>...</td>\n",
       "    </tr>\n",
       "    <tr>\n",
       "      <th>19986</th>\n",
       "      <td>2017</td>\n",
       "      <td>1200</td>\n",
       "      <td>Selangor - Kajang</td>\n",
       "      <td>Apartment</td>\n",
       "      <td>3</td>\n",
       "      <td>0</td>\n",
       "      <td>2</td>\n",
       "      <td>1000</td>\n",
       "      <td>Partially Furnished</td>\n",
       "      <td>Selangor</td>\n",
       "    </tr>\n",
       "    <tr>\n",
       "      <th>19987</th>\n",
       "      <td>2018</td>\n",
       "      <td>1300</td>\n",
       "      <td>Selangor - Bandar Saujana Putra</td>\n",
       "      <td>Service Residence</td>\n",
       "      <td>4</td>\n",
       "      <td>2</td>\n",
       "      <td>3</td>\n",
       "      <td>1427</td>\n",
       "      <td>Partially Furnished</td>\n",
       "      <td>Selangor</td>\n",
       "    </tr>\n",
       "    <tr>\n",
       "      <th>19988</th>\n",
       "      <td>2017</td>\n",
       "      <td>1350</td>\n",
       "      <td>Selangor - Kajang</td>\n",
       "      <td>Condominium</td>\n",
       "      <td>3</td>\n",
       "      <td>2</td>\n",
       "      <td>2</td>\n",
       "      <td>1270</td>\n",
       "      <td>Partially Furnished</td>\n",
       "      <td>Selangor</td>\n",
       "    </tr>\n",
       "    <tr>\n",
       "      <th>19989</th>\n",
       "      <td>2017</td>\n",
       "      <td>1200</td>\n",
       "      <td>Selangor - Cyberjaya</td>\n",
       "      <td>Service Residence</td>\n",
       "      <td>3</td>\n",
       "      <td>1</td>\n",
       "      <td>2</td>\n",
       "      <td>1100</td>\n",
       "      <td>Fully Furnished</td>\n",
       "      <td>Selangor</td>\n",
       "    </tr>\n",
       "    <tr>\n",
       "      <th>19990</th>\n",
       "      <td>2016</td>\n",
       "      <td>1000</td>\n",
       "      <td>Selangor - Cyberjaya</td>\n",
       "      <td>Studio</td>\n",
       "      <td>1</td>\n",
       "      <td>1</td>\n",
       "      <td>1</td>\n",
       "      <td>580</td>\n",
       "      <td>Partially Furnished</td>\n",
       "      <td>Selangor</td>\n",
       "    </tr>\n",
       "  </tbody>\n",
       "</table>\n",
       "<p>19989 rows × 10 columns</p>\n",
       "</div>"
      ]
     },
     "execution_count": 109,
     "metadata": {},
     "output_type": "execute_result"
    }
   ],
   "execution_count": 109
  },
  {
   "cell_type": "markdown",
   "source": [
    "### Recheck Null Imputation\n",
    "\n",
    "We check if all null values are handled"
   ],
   "metadata": {
    "id": "C6ZcBD0JyWxe"
   }
  },
  {
   "cell_type": "code",
   "source": [
    "df.isnull().sum()"
   ],
   "metadata": {
    "colab": {
     "base_uri": "https://localhost:8080/",
     "height": 398
    },
    "id": "2DcIA92syanV",
    "outputId": "7fde8436-fccf-4c14-b67c-2acb6d6b27bf",
    "ExecuteTime": {
     "end_time": "2024-10-14T18:34:26.263515Z",
     "start_time": "2024-10-14T18:34:26.255177Z"
    }
   },
   "outputs": [
    {
     "data": {
      "text/plain": [
       "completion_year    0\n",
       "monthly_rent       0\n",
       "location           0\n",
       "property_type      0\n",
       "rooms              0\n",
       "parking            0\n",
       "bathroom           0\n",
       "size               0\n",
       "furnished          0\n",
       "region             0\n",
       "dtype: int64"
      ]
     },
     "execution_count": 110,
     "metadata": {},
     "output_type": "execute_result"
    }
   ],
   "execution_count": 110
  },
  {
   "cell_type": "markdown",
   "source": [
    "### Dealing with Outliers\n",
    "\n",
    "We first remove the rows where the `completion_year` is after 2024."
   ],
   "metadata": {
    "id": "H9LTompMQXYg"
   }
  },
  {
   "cell_type": "code",
   "source": [
    "df = df[df['completion_year'] <= 2024]\n",
    "df"
   ],
   "metadata": {
    "colab": {
     "base_uri": "https://localhost:8080/",
     "height": 424
    },
    "id": "5SW9um1jQeds",
    "outputId": "505459d4-0f20-46ec-a519-3f89316813b7",
    "ExecuteTime": {
     "end_time": "2024-10-14T18:34:26.386444Z",
     "start_time": "2024-10-14T18:34:26.372093Z"
    }
   },
   "outputs": [
    {
     "data": {
      "text/plain": [
       "       completion_year  monthly_rent                         location  \\\n",
       "0                 2022          4200        Kuala Lumpur - Taman Desa   \n",
       "1                 2017          2300            Kuala Lumpur - Cheras   \n",
       "2                 2017          1000        Kuala Lumpur - Taman Desa   \n",
       "3                 2020          1700            Kuala Lumpur - Sentul   \n",
       "4                 2017          1299        Kuala Lumpur - Mont Kiara   \n",
       "...                ...           ...                              ...   \n",
       "19986             2017          1200                Selangor - Kajang   \n",
       "19987             2018          1300  Selangor - Bandar Saujana Putra   \n",
       "19988             2017          1350                Selangor - Kajang   \n",
       "19989             2017          1200             Selangor - Cyberjaya   \n",
       "19990             2016          1000             Selangor - Cyberjaya   \n",
       "\n",
       "           property_type  rooms  parking  bathroom  size            furnished  \\\n",
       "0            Condominium      5        2         6  1842      Fully Furnished   \n",
       "1            Condominium      3        1         2  1170  Partially Furnished   \n",
       "2              Apartment      3        0         2   650      Fully Furnished   \n",
       "3              Apartment      2        1         2   743  Partially Furnished   \n",
       "4      Service Residence      1        1         1   494        Not Furnished   \n",
       "...                  ...    ...      ...       ...   ...                  ...   \n",
       "19986          Apartment      3        0         2  1000  Partially Furnished   \n",
       "19987  Service Residence      4        2         3  1427  Partially Furnished   \n",
       "19988        Condominium      3        2         2  1270  Partially Furnished   \n",
       "19989  Service Residence      3        1         2  1100      Fully Furnished   \n",
       "19990             Studio      1        1         1   580  Partially Furnished   \n",
       "\n",
       "             region  \n",
       "0      Kuala Lumpur  \n",
       "1      Kuala Lumpur  \n",
       "2      Kuala Lumpur  \n",
       "3      Kuala Lumpur  \n",
       "4      Kuala Lumpur  \n",
       "...             ...  \n",
       "19986      Selangor  \n",
       "19987      Selangor  \n",
       "19988      Selangor  \n",
       "19989      Selangor  \n",
       "19990      Selangor  \n",
       "\n",
       "[19960 rows x 10 columns]"
      ],
      "text/html": [
       "<div>\n",
       "<style scoped>\n",
       "    .dataframe tbody tr th:only-of-type {\n",
       "        vertical-align: middle;\n",
       "    }\n",
       "\n",
       "    .dataframe tbody tr th {\n",
       "        vertical-align: top;\n",
       "    }\n",
       "\n",
       "    .dataframe thead th {\n",
       "        text-align: right;\n",
       "    }\n",
       "</style>\n",
       "<table border=\"1\" class=\"dataframe\">\n",
       "  <thead>\n",
       "    <tr style=\"text-align: right;\">\n",
       "      <th></th>\n",
       "      <th>completion_year</th>\n",
       "      <th>monthly_rent</th>\n",
       "      <th>location</th>\n",
       "      <th>property_type</th>\n",
       "      <th>rooms</th>\n",
       "      <th>parking</th>\n",
       "      <th>bathroom</th>\n",
       "      <th>size</th>\n",
       "      <th>furnished</th>\n",
       "      <th>region</th>\n",
       "    </tr>\n",
       "  </thead>\n",
       "  <tbody>\n",
       "    <tr>\n",
       "      <th>0</th>\n",
       "      <td>2022</td>\n",
       "      <td>4200</td>\n",
       "      <td>Kuala Lumpur - Taman Desa</td>\n",
       "      <td>Condominium</td>\n",
       "      <td>5</td>\n",
       "      <td>2</td>\n",
       "      <td>6</td>\n",
       "      <td>1842</td>\n",
       "      <td>Fully Furnished</td>\n",
       "      <td>Kuala Lumpur</td>\n",
       "    </tr>\n",
       "    <tr>\n",
       "      <th>1</th>\n",
       "      <td>2017</td>\n",
       "      <td>2300</td>\n",
       "      <td>Kuala Lumpur - Cheras</td>\n",
       "      <td>Condominium</td>\n",
       "      <td>3</td>\n",
       "      <td>1</td>\n",
       "      <td>2</td>\n",
       "      <td>1170</td>\n",
       "      <td>Partially Furnished</td>\n",
       "      <td>Kuala Lumpur</td>\n",
       "    </tr>\n",
       "    <tr>\n",
       "      <th>2</th>\n",
       "      <td>2017</td>\n",
       "      <td>1000</td>\n",
       "      <td>Kuala Lumpur - Taman Desa</td>\n",
       "      <td>Apartment</td>\n",
       "      <td>3</td>\n",
       "      <td>0</td>\n",
       "      <td>2</td>\n",
       "      <td>650</td>\n",
       "      <td>Fully Furnished</td>\n",
       "      <td>Kuala Lumpur</td>\n",
       "    </tr>\n",
       "    <tr>\n",
       "      <th>3</th>\n",
       "      <td>2020</td>\n",
       "      <td>1700</td>\n",
       "      <td>Kuala Lumpur - Sentul</td>\n",
       "      <td>Apartment</td>\n",
       "      <td>2</td>\n",
       "      <td>1</td>\n",
       "      <td>2</td>\n",
       "      <td>743</td>\n",
       "      <td>Partially Furnished</td>\n",
       "      <td>Kuala Lumpur</td>\n",
       "    </tr>\n",
       "    <tr>\n",
       "      <th>4</th>\n",
       "      <td>2017</td>\n",
       "      <td>1299</td>\n",
       "      <td>Kuala Lumpur - Mont Kiara</td>\n",
       "      <td>Service Residence</td>\n",
       "      <td>1</td>\n",
       "      <td>1</td>\n",
       "      <td>1</td>\n",
       "      <td>494</td>\n",
       "      <td>Not Furnished</td>\n",
       "      <td>Kuala Lumpur</td>\n",
       "    </tr>\n",
       "    <tr>\n",
       "      <th>...</th>\n",
       "      <td>...</td>\n",
       "      <td>...</td>\n",
       "      <td>...</td>\n",
       "      <td>...</td>\n",
       "      <td>...</td>\n",
       "      <td>...</td>\n",
       "      <td>...</td>\n",
       "      <td>...</td>\n",
       "      <td>...</td>\n",
       "      <td>...</td>\n",
       "    </tr>\n",
       "    <tr>\n",
       "      <th>19986</th>\n",
       "      <td>2017</td>\n",
       "      <td>1200</td>\n",
       "      <td>Selangor - Kajang</td>\n",
       "      <td>Apartment</td>\n",
       "      <td>3</td>\n",
       "      <td>0</td>\n",
       "      <td>2</td>\n",
       "      <td>1000</td>\n",
       "      <td>Partially Furnished</td>\n",
       "      <td>Selangor</td>\n",
       "    </tr>\n",
       "    <tr>\n",
       "      <th>19987</th>\n",
       "      <td>2018</td>\n",
       "      <td>1300</td>\n",
       "      <td>Selangor - Bandar Saujana Putra</td>\n",
       "      <td>Service Residence</td>\n",
       "      <td>4</td>\n",
       "      <td>2</td>\n",
       "      <td>3</td>\n",
       "      <td>1427</td>\n",
       "      <td>Partially Furnished</td>\n",
       "      <td>Selangor</td>\n",
       "    </tr>\n",
       "    <tr>\n",
       "      <th>19988</th>\n",
       "      <td>2017</td>\n",
       "      <td>1350</td>\n",
       "      <td>Selangor - Kajang</td>\n",
       "      <td>Condominium</td>\n",
       "      <td>3</td>\n",
       "      <td>2</td>\n",
       "      <td>2</td>\n",
       "      <td>1270</td>\n",
       "      <td>Partially Furnished</td>\n",
       "      <td>Selangor</td>\n",
       "    </tr>\n",
       "    <tr>\n",
       "      <th>19989</th>\n",
       "      <td>2017</td>\n",
       "      <td>1200</td>\n",
       "      <td>Selangor - Cyberjaya</td>\n",
       "      <td>Service Residence</td>\n",
       "      <td>3</td>\n",
       "      <td>1</td>\n",
       "      <td>2</td>\n",
       "      <td>1100</td>\n",
       "      <td>Fully Furnished</td>\n",
       "      <td>Selangor</td>\n",
       "    </tr>\n",
       "    <tr>\n",
       "      <th>19990</th>\n",
       "      <td>2016</td>\n",
       "      <td>1000</td>\n",
       "      <td>Selangor - Cyberjaya</td>\n",
       "      <td>Studio</td>\n",
       "      <td>1</td>\n",
       "      <td>1</td>\n",
       "      <td>1</td>\n",
       "      <td>580</td>\n",
       "      <td>Partially Furnished</td>\n",
       "      <td>Selangor</td>\n",
       "    </tr>\n",
       "  </tbody>\n",
       "</table>\n",
       "<p>19960 rows × 10 columns</p>\n",
       "</div>"
      ]
     },
     "execution_count": 111,
     "metadata": {},
     "output_type": "execute_result"
    }
   ],
   "execution_count": 111
  },
  {
   "cell_type": "markdown",
   "source": [
    "Look at the statistics of the data again"
   ],
   "metadata": {
    "id": "v4TZOZpwQhrd"
   }
  },
  {
   "cell_type": "code",
   "source": [
    "df.describe()"
   ],
   "metadata": {
    "colab": {
     "base_uri": "https://localhost:8080/",
     "height": 300
    },
    "id": "D330dPiaQqP5",
    "outputId": "e2969a1f-30ce-4302-ab13-7299bdabc00a",
    "ExecuteTime": {
     "end_time": "2024-10-14T18:34:26.553661Z",
     "start_time": "2024-10-14T18:34:26.532074Z"
    }
   },
   "outputs": [
    {
     "data": {
      "text/plain": [
       "       completion_year  monthly_rent         rooms       parking  \\\n",
       "count     19960.000000  1.996000e+04  19960.000000  19960.000000   \n",
       "mean       2015.809419  2.269346e+03      2.680912      1.011874   \n",
       "std           5.061202  2.242913e+04      0.812706      0.799324   \n",
       "min        1977.000000  7.000000e+01      1.000000      0.000000   \n",
       "25%        2016.000000  1.100000e+03      2.000000      0.000000   \n",
       "50%        2017.000000  1.400000e+03      3.000000      1.000000   \n",
       "75%        2017.000000  1.800000e+03      3.000000      2.000000   \n",
       "max        2024.000000  2.400000e+06     11.000000     10.000000   \n",
       "\n",
       "           bathroom          size  \n",
       "count  19960.000000  1.996000e+04  \n",
       "mean       1.890982  5.929957e+03  \n",
       "std        0.557563  7.078086e+05  \n",
       "min        0.000000  1.000000e+00  \n",
       "25%        2.000000  7.500000e+02  \n",
       "50%        2.000000  8.850000e+02  \n",
       "75%        2.000000  1.044000e+03  \n",
       "max        8.000000  1.000000e+08  "
      ],
      "text/html": [
       "<div>\n",
       "<style scoped>\n",
       "    .dataframe tbody tr th:only-of-type {\n",
       "        vertical-align: middle;\n",
       "    }\n",
       "\n",
       "    .dataframe tbody tr th {\n",
       "        vertical-align: top;\n",
       "    }\n",
       "\n",
       "    .dataframe thead th {\n",
       "        text-align: right;\n",
       "    }\n",
       "</style>\n",
       "<table border=\"1\" class=\"dataframe\">\n",
       "  <thead>\n",
       "    <tr style=\"text-align: right;\">\n",
       "      <th></th>\n",
       "      <th>completion_year</th>\n",
       "      <th>monthly_rent</th>\n",
       "      <th>rooms</th>\n",
       "      <th>parking</th>\n",
       "      <th>bathroom</th>\n",
       "      <th>size</th>\n",
       "    </tr>\n",
       "  </thead>\n",
       "  <tbody>\n",
       "    <tr>\n",
       "      <th>count</th>\n",
       "      <td>19960.000000</td>\n",
       "      <td>1.996000e+04</td>\n",
       "      <td>19960.000000</td>\n",
       "      <td>19960.000000</td>\n",
       "      <td>19960.000000</td>\n",
       "      <td>1.996000e+04</td>\n",
       "    </tr>\n",
       "    <tr>\n",
       "      <th>mean</th>\n",
       "      <td>2015.809419</td>\n",
       "      <td>2.269346e+03</td>\n",
       "      <td>2.680912</td>\n",
       "      <td>1.011874</td>\n",
       "      <td>1.890982</td>\n",
       "      <td>5.929957e+03</td>\n",
       "    </tr>\n",
       "    <tr>\n",
       "      <th>std</th>\n",
       "      <td>5.061202</td>\n",
       "      <td>2.242913e+04</td>\n",
       "      <td>0.812706</td>\n",
       "      <td>0.799324</td>\n",
       "      <td>0.557563</td>\n",
       "      <td>7.078086e+05</td>\n",
       "    </tr>\n",
       "    <tr>\n",
       "      <th>min</th>\n",
       "      <td>1977.000000</td>\n",
       "      <td>7.000000e+01</td>\n",
       "      <td>1.000000</td>\n",
       "      <td>0.000000</td>\n",
       "      <td>0.000000</td>\n",
       "      <td>1.000000e+00</td>\n",
       "    </tr>\n",
       "    <tr>\n",
       "      <th>25%</th>\n",
       "      <td>2016.000000</td>\n",
       "      <td>1.100000e+03</td>\n",
       "      <td>2.000000</td>\n",
       "      <td>0.000000</td>\n",
       "      <td>2.000000</td>\n",
       "      <td>7.500000e+02</td>\n",
       "    </tr>\n",
       "    <tr>\n",
       "      <th>50%</th>\n",
       "      <td>2017.000000</td>\n",
       "      <td>1.400000e+03</td>\n",
       "      <td>3.000000</td>\n",
       "      <td>1.000000</td>\n",
       "      <td>2.000000</td>\n",
       "      <td>8.850000e+02</td>\n",
       "    </tr>\n",
       "    <tr>\n",
       "      <th>75%</th>\n",
       "      <td>2017.000000</td>\n",
       "      <td>1.800000e+03</td>\n",
       "      <td>3.000000</td>\n",
       "      <td>2.000000</td>\n",
       "      <td>2.000000</td>\n",
       "      <td>1.044000e+03</td>\n",
       "    </tr>\n",
       "    <tr>\n",
       "      <th>max</th>\n",
       "      <td>2024.000000</td>\n",
       "      <td>2.400000e+06</td>\n",
       "      <td>11.000000</td>\n",
       "      <td>10.000000</td>\n",
       "      <td>8.000000</td>\n",
       "      <td>1.000000e+08</td>\n",
       "    </tr>\n",
       "  </tbody>\n",
       "</table>\n",
       "</div>"
      ]
     },
     "execution_count": 112,
     "metadata": {},
     "output_type": "execute_result"
    }
   ],
   "execution_count": 112
  },
  {
   "cell_type": "markdown",
   "source": [
    "Using the statistics, we can remove the outliers for `monthly_rent`, `rooms`, `parking`, `bathroom` and `size`"
   ],
   "metadata": {
    "id": "s7XfrLnvQ5jm"
   }
  },
  {
   "cell_type": "code",
   "source": [
    "col_to_rm_outliers = ['monthly_rent', 'rooms', 'parking', 'bathroom', 'size']\n",
    "\n",
    "def remove_outliers(df, col):\n",
    "\n",
    "    q1 = df[col].quantile(0.25)\n",
    "    q3 = df[col].quantile(0.75)\n",
    "    iqr = q3 - q1\n",
    "    lower_bound = q1 - 1.5 * iqr\n",
    "    upper_bound = q3 + 1.5 * iqr\n",
    "    return df[(df[col] >= lower_bound) & (df[col] <= upper_bound)]\n",
    "\n",
    "for col in col_to_rm_outliers:\n",
    "    df = remove_outliers(df, col)\n",
    "\n",
    "df"
   ],
   "metadata": {
    "colab": {
     "base_uri": "https://localhost:8080/",
     "height": 424
    },
    "id": "qkd6_QbGQ3UR",
    "outputId": "08a733f4-b151-47e5-e5fb-b12008467bc5",
    "ExecuteTime": {
     "end_time": "2024-10-14T18:34:26.711335Z",
     "start_time": "2024-10-14T18:34:26.686786Z"
    }
   },
   "outputs": [
    {
     "data": {
      "text/plain": [
       "       completion_year  monthly_rent                      location  \\\n",
       "1                 2017          2300         Kuala Lumpur - Cheras   \n",
       "2                 2017          1000     Kuala Lumpur - Taman Desa   \n",
       "3                 2020          1700         Kuala Lumpur - Sentul   \n",
       "5                 2017          1500        Kuala Lumpur - Setapak   \n",
       "9                 2017          1350  Kuala Lumpur - Desa ParkCity   \n",
       "...                ...           ...                           ...   \n",
       "19982             2017          1100            Selangor - Puchong   \n",
       "19983             2021           885          Selangor - Cyberjaya   \n",
       "19986             2017          1200             Selangor - Kajang   \n",
       "19988             2017          1350             Selangor - Kajang   \n",
       "19989             2017          1200          Selangor - Cyberjaya   \n",
       "\n",
       "           property_type  rooms  parking  bathroom  size            furnished  \\\n",
       "1            Condominium      3        1         2  1170  Partially Furnished   \n",
       "2              Apartment      3        0         2   650      Fully Furnished   \n",
       "3              Apartment      2        1         2   743  Partially Furnished   \n",
       "5              Apartment      3        1         2   884  Partially Furnished   \n",
       "9            Condominium      3        1         2   862  Partially Furnished   \n",
       "...                  ...    ...      ...       ...   ...                  ...   \n",
       "19982          Apartment      3        1         2   941  Partially Furnished   \n",
       "19983        Condominium      3        2         2  1015  Partially Furnished   \n",
       "19986          Apartment      3        0         2  1000  Partially Furnished   \n",
       "19988        Condominium      3        2         2  1270  Partially Furnished   \n",
       "19989  Service Residence      3        1         2  1100      Fully Furnished   \n",
       "\n",
       "             region  \n",
       "1      Kuala Lumpur  \n",
       "2      Kuala Lumpur  \n",
       "3      Kuala Lumpur  \n",
       "5      Kuala Lumpur  \n",
       "9      Kuala Lumpur  \n",
       "...             ...  \n",
       "19982      Selangor  \n",
       "19983      Selangor  \n",
       "19986      Selangor  \n",
       "19988      Selangor  \n",
       "19989      Selangor  \n",
       "\n",
       "[13586 rows x 10 columns]"
      ],
      "text/html": [
       "<div>\n",
       "<style scoped>\n",
       "    .dataframe tbody tr th:only-of-type {\n",
       "        vertical-align: middle;\n",
       "    }\n",
       "\n",
       "    .dataframe tbody tr th {\n",
       "        vertical-align: top;\n",
       "    }\n",
       "\n",
       "    .dataframe thead th {\n",
       "        text-align: right;\n",
       "    }\n",
       "</style>\n",
       "<table border=\"1\" class=\"dataframe\">\n",
       "  <thead>\n",
       "    <tr style=\"text-align: right;\">\n",
       "      <th></th>\n",
       "      <th>completion_year</th>\n",
       "      <th>monthly_rent</th>\n",
       "      <th>location</th>\n",
       "      <th>property_type</th>\n",
       "      <th>rooms</th>\n",
       "      <th>parking</th>\n",
       "      <th>bathroom</th>\n",
       "      <th>size</th>\n",
       "      <th>furnished</th>\n",
       "      <th>region</th>\n",
       "    </tr>\n",
       "  </thead>\n",
       "  <tbody>\n",
       "    <tr>\n",
       "      <th>1</th>\n",
       "      <td>2017</td>\n",
       "      <td>2300</td>\n",
       "      <td>Kuala Lumpur - Cheras</td>\n",
       "      <td>Condominium</td>\n",
       "      <td>3</td>\n",
       "      <td>1</td>\n",
       "      <td>2</td>\n",
       "      <td>1170</td>\n",
       "      <td>Partially Furnished</td>\n",
       "      <td>Kuala Lumpur</td>\n",
       "    </tr>\n",
       "    <tr>\n",
       "      <th>2</th>\n",
       "      <td>2017</td>\n",
       "      <td>1000</td>\n",
       "      <td>Kuala Lumpur - Taman Desa</td>\n",
       "      <td>Apartment</td>\n",
       "      <td>3</td>\n",
       "      <td>0</td>\n",
       "      <td>2</td>\n",
       "      <td>650</td>\n",
       "      <td>Fully Furnished</td>\n",
       "      <td>Kuala Lumpur</td>\n",
       "    </tr>\n",
       "    <tr>\n",
       "      <th>3</th>\n",
       "      <td>2020</td>\n",
       "      <td>1700</td>\n",
       "      <td>Kuala Lumpur - Sentul</td>\n",
       "      <td>Apartment</td>\n",
       "      <td>2</td>\n",
       "      <td>1</td>\n",
       "      <td>2</td>\n",
       "      <td>743</td>\n",
       "      <td>Partially Furnished</td>\n",
       "      <td>Kuala Lumpur</td>\n",
       "    </tr>\n",
       "    <tr>\n",
       "      <th>5</th>\n",
       "      <td>2017</td>\n",
       "      <td>1500</td>\n",
       "      <td>Kuala Lumpur - Setapak</td>\n",
       "      <td>Apartment</td>\n",
       "      <td>3</td>\n",
       "      <td>1</td>\n",
       "      <td>2</td>\n",
       "      <td>884</td>\n",
       "      <td>Partially Furnished</td>\n",
       "      <td>Kuala Lumpur</td>\n",
       "    </tr>\n",
       "    <tr>\n",
       "      <th>9</th>\n",
       "      <td>2017</td>\n",
       "      <td>1350</td>\n",
       "      <td>Kuala Lumpur - Desa ParkCity</td>\n",
       "      <td>Condominium</td>\n",
       "      <td>3</td>\n",
       "      <td>1</td>\n",
       "      <td>2</td>\n",
       "      <td>862</td>\n",
       "      <td>Partially Furnished</td>\n",
       "      <td>Kuala Lumpur</td>\n",
       "    </tr>\n",
       "    <tr>\n",
       "      <th>...</th>\n",
       "      <td>...</td>\n",
       "      <td>...</td>\n",
       "      <td>...</td>\n",
       "      <td>...</td>\n",
       "      <td>...</td>\n",
       "      <td>...</td>\n",
       "      <td>...</td>\n",
       "      <td>...</td>\n",
       "      <td>...</td>\n",
       "      <td>...</td>\n",
       "    </tr>\n",
       "    <tr>\n",
       "      <th>19982</th>\n",
       "      <td>2017</td>\n",
       "      <td>1100</td>\n",
       "      <td>Selangor - Puchong</td>\n",
       "      <td>Apartment</td>\n",
       "      <td>3</td>\n",
       "      <td>1</td>\n",
       "      <td>2</td>\n",
       "      <td>941</td>\n",
       "      <td>Partially Furnished</td>\n",
       "      <td>Selangor</td>\n",
       "    </tr>\n",
       "    <tr>\n",
       "      <th>19983</th>\n",
       "      <td>2021</td>\n",
       "      <td>885</td>\n",
       "      <td>Selangor - Cyberjaya</td>\n",
       "      <td>Condominium</td>\n",
       "      <td>3</td>\n",
       "      <td>2</td>\n",
       "      <td>2</td>\n",
       "      <td>1015</td>\n",
       "      <td>Partially Furnished</td>\n",
       "      <td>Selangor</td>\n",
       "    </tr>\n",
       "    <tr>\n",
       "      <th>19986</th>\n",
       "      <td>2017</td>\n",
       "      <td>1200</td>\n",
       "      <td>Selangor - Kajang</td>\n",
       "      <td>Apartment</td>\n",
       "      <td>3</td>\n",
       "      <td>0</td>\n",
       "      <td>2</td>\n",
       "      <td>1000</td>\n",
       "      <td>Partially Furnished</td>\n",
       "      <td>Selangor</td>\n",
       "    </tr>\n",
       "    <tr>\n",
       "      <th>19988</th>\n",
       "      <td>2017</td>\n",
       "      <td>1350</td>\n",
       "      <td>Selangor - Kajang</td>\n",
       "      <td>Condominium</td>\n",
       "      <td>3</td>\n",
       "      <td>2</td>\n",
       "      <td>2</td>\n",
       "      <td>1270</td>\n",
       "      <td>Partially Furnished</td>\n",
       "      <td>Selangor</td>\n",
       "    </tr>\n",
       "    <tr>\n",
       "      <th>19989</th>\n",
       "      <td>2017</td>\n",
       "      <td>1200</td>\n",
       "      <td>Selangor - Cyberjaya</td>\n",
       "      <td>Service Residence</td>\n",
       "      <td>3</td>\n",
       "      <td>1</td>\n",
       "      <td>2</td>\n",
       "      <td>1100</td>\n",
       "      <td>Fully Furnished</td>\n",
       "      <td>Selangor</td>\n",
       "    </tr>\n",
       "  </tbody>\n",
       "</table>\n",
       "<p>13586 rows × 10 columns</p>\n",
       "</div>"
      ]
     },
     "execution_count": 113,
     "metadata": {},
     "output_type": "execute_result"
    }
   ],
   "execution_count": 113
  },
  {
   "cell_type": "markdown",
   "source": [
    "Check the statistics again"
   ],
   "metadata": {
    "id": "OQxXOlmWRrLb"
   }
  },
  {
   "cell_type": "code",
   "source": [
    "df.describe()"
   ],
   "metadata": {
    "colab": {
     "base_uri": "https://localhost:8080/",
     "height": 300
    },
    "id": "IyOlwHL4RsUr",
    "outputId": "93c23c56-9cf0-473a-d0fb-f63b67cd0c51",
    "ExecuteTime": {
     "end_time": "2024-10-14T18:34:26.843617Z",
     "start_time": "2024-10-14T18:34:26.826097Z"
    }
   },
   "outputs": [
    {
     "data": {
      "text/plain": [
       "       completion_year  monthly_rent         rooms       parking  bathroom  \\\n",
       "count     13586.000000  13586.000000  13586.000000  13586.000000   13586.0   \n",
       "mean       2015.785441   1452.860445      2.892536      1.046887       2.0   \n",
       "std           5.256957    488.279097      0.457474      0.762632       0.0   \n",
       "min        1980.000000    120.000000      1.000000      0.000000       2.0   \n",
       "25%        2017.000000   1100.000000      3.000000      0.000000       2.0   \n",
       "50%        2017.000000   1400.000000      3.000000      1.000000       2.0   \n",
       "75%        2017.000000   1700.000000      3.000000      2.000000       2.0   \n",
       "max        2024.000000   2850.000000      4.000000      5.000000       2.0   \n",
       "\n",
       "               size  \n",
       "count  13586.000000  \n",
       "mean     925.408803  \n",
       "std      155.512837  \n",
       "min      508.000000  \n",
       "25%      820.000000  \n",
       "50%      900.000000  \n",
       "75%     1015.000000  \n",
       "max     1341.000000  "
      ],
      "text/html": [
       "<div>\n",
       "<style scoped>\n",
       "    .dataframe tbody tr th:only-of-type {\n",
       "        vertical-align: middle;\n",
       "    }\n",
       "\n",
       "    .dataframe tbody tr th {\n",
       "        vertical-align: top;\n",
       "    }\n",
       "\n",
       "    .dataframe thead th {\n",
       "        text-align: right;\n",
       "    }\n",
       "</style>\n",
       "<table border=\"1\" class=\"dataframe\">\n",
       "  <thead>\n",
       "    <tr style=\"text-align: right;\">\n",
       "      <th></th>\n",
       "      <th>completion_year</th>\n",
       "      <th>monthly_rent</th>\n",
       "      <th>rooms</th>\n",
       "      <th>parking</th>\n",
       "      <th>bathroom</th>\n",
       "      <th>size</th>\n",
       "    </tr>\n",
       "  </thead>\n",
       "  <tbody>\n",
       "    <tr>\n",
       "      <th>count</th>\n",
       "      <td>13586.000000</td>\n",
       "      <td>13586.000000</td>\n",
       "      <td>13586.000000</td>\n",
       "      <td>13586.000000</td>\n",
       "      <td>13586.0</td>\n",
       "      <td>13586.000000</td>\n",
       "    </tr>\n",
       "    <tr>\n",
       "      <th>mean</th>\n",
       "      <td>2015.785441</td>\n",
       "      <td>1452.860445</td>\n",
       "      <td>2.892536</td>\n",
       "      <td>1.046887</td>\n",
       "      <td>2.0</td>\n",
       "      <td>925.408803</td>\n",
       "    </tr>\n",
       "    <tr>\n",
       "      <th>std</th>\n",
       "      <td>5.256957</td>\n",
       "      <td>488.279097</td>\n",
       "      <td>0.457474</td>\n",
       "      <td>0.762632</td>\n",
       "      <td>0.0</td>\n",
       "      <td>155.512837</td>\n",
       "    </tr>\n",
       "    <tr>\n",
       "      <th>min</th>\n",
       "      <td>1980.000000</td>\n",
       "      <td>120.000000</td>\n",
       "      <td>1.000000</td>\n",
       "      <td>0.000000</td>\n",
       "      <td>2.0</td>\n",
       "      <td>508.000000</td>\n",
       "    </tr>\n",
       "    <tr>\n",
       "      <th>25%</th>\n",
       "      <td>2017.000000</td>\n",
       "      <td>1100.000000</td>\n",
       "      <td>3.000000</td>\n",
       "      <td>0.000000</td>\n",
       "      <td>2.0</td>\n",
       "      <td>820.000000</td>\n",
       "    </tr>\n",
       "    <tr>\n",
       "      <th>50%</th>\n",
       "      <td>2017.000000</td>\n",
       "      <td>1400.000000</td>\n",
       "      <td>3.000000</td>\n",
       "      <td>1.000000</td>\n",
       "      <td>2.0</td>\n",
       "      <td>900.000000</td>\n",
       "    </tr>\n",
       "    <tr>\n",
       "      <th>75%</th>\n",
       "      <td>2017.000000</td>\n",
       "      <td>1700.000000</td>\n",
       "      <td>3.000000</td>\n",
       "      <td>2.000000</td>\n",
       "      <td>2.0</td>\n",
       "      <td>1015.000000</td>\n",
       "    </tr>\n",
       "    <tr>\n",
       "      <th>max</th>\n",
       "      <td>2024.000000</td>\n",
       "      <td>2850.000000</td>\n",
       "      <td>4.000000</td>\n",
       "      <td>5.000000</td>\n",
       "      <td>2.0</td>\n",
       "      <td>1341.000000</td>\n",
       "    </tr>\n",
       "  </tbody>\n",
       "</table>\n",
       "</div>"
      ]
     },
     "execution_count": 114,
     "metadata": {},
     "output_type": "execute_result"
    }
   ],
   "execution_count": 114
  },
  {
   "cell_type": "markdown",
   "source": [
    "Looks more normal now"
   ],
   "metadata": {
    "id": "nCGSHKKuRvAg"
   }
  },
  {
   "cell_type": "markdown",
   "source": [
    "## EDA\n",
    "\n"
   ],
   "metadata": {
    "id": "ONQ482337Zxa"
   }
  },
  {
   "cell_type": "markdown",
   "source": [
    "Let's explore the `location` column"
   ],
   "metadata": {
    "id": "1sdFJzhv6W5N"
   }
  },
  {
   "cell_type": "code",
   "source": [
    "df['location'].value_counts()"
   ],
   "metadata": {
    "colab": {
     "base_uri": "https://localhost:8080/",
     "height": 490
    },
    "id": "OpjFQFbn6Qh2",
    "outputId": "850bf1cf-00fd-42aa-d405-b51ad2fe175b",
    "ExecuteTime": {
     "end_time": "2024-10-14T18:34:27.081118Z",
     "start_time": "2024-10-14T18:34:27.073772Z"
    }
   },
   "outputs": [
    {
     "data": {
      "text/plain": [
       "location\n",
       "Kuala Lumpur - Cheras               1253\n",
       "Kuala Lumpur - Setapak               783\n",
       "Selangor - Kajang                    706\n",
       "Kuala Lumpur - Sentul                639\n",
       "Selangor - Puchong                   630\n",
       "                                    ... \n",
       "Selangor - Bandar Botanic              1\n",
       "Selangor - 369                         1\n",
       "Selangor - Mutiara Damansara           1\n",
       "Selangor - Telok Panglima Garang       1\n",
       "Selangor - Bandar Bukit Tinggi         1\n",
       "Name: count, Length: 121, dtype: int64"
      ]
     },
     "execution_count": 115,
     "metadata": {},
     "output_type": "execute_result"
    }
   ],
   "execution_count": 115
  },
  {
   "cell_type": "markdown",
   "source": [
    "See how many states we have"
   ],
   "metadata": {
    "id": "T-ccwjaz8DMe"
   }
  },
  {
   "cell_type": "code",
   "source": [
    "df['location'].str.split(' - ').str[0].value_counts()"
   ],
   "metadata": {
    "colab": {
     "base_uri": "https://localhost:8080/",
     "height": 178
    },
    "id": "cm2DWu7N8Au6",
    "outputId": "7d8095e0-73a7-44c5-a9d6-d0c160c33867",
    "ExecuteTime": {
     "end_time": "2024-10-14T18:34:27.199691Z",
     "start_time": "2024-10-14T18:34:27.175034Z"
    }
   },
   "outputs": [
    {
     "data": {
      "text/plain": [
       "location\n",
       "Selangor        6827\n",
       "Kuala Lumpur    6759\n",
       "Name: count, dtype: int64"
      ]
     },
     "execution_count": 116,
     "metadata": {},
     "output_type": "execute_result"
    }
   ],
   "execution_count": 116
  },
  {
   "cell_type": "markdown",
   "source": [
    "Looks like we only have Selangor and Kuala Lumpur, which is the `region`, how about the cities"
   ],
   "metadata": {
    "id": "h5tNtYlu8GXm"
   }
  },
  {
   "cell_type": "code",
   "source": [
    "df['location'].str.split(' - ').str[1].value_counts()"
   ],
   "metadata": {
    "colab": {
     "base_uri": "https://localhost:8080/",
     "height": 490
    },
    "id": "S14EyiMb7Fwf",
    "outputId": "ce6d63bb-346a-45cd-cb2c-c0102563383a",
    "ExecuteTime": {
     "end_time": "2024-10-14T18:34:27.403509Z",
     "start_time": "2024-10-14T18:34:27.384982Z"
    }
   },
   "outputs": [
    {
     "data": {
      "text/plain": [
       "location\n",
       "Cheras                   1633\n",
       "Setapak                   783\n",
       "Kajang                    706\n",
       "Puchong                   659\n",
       "Sentul                    639\n",
       "                         ... \n",
       "369                         1\n",
       "Serendah                    1\n",
       "Mutiara Damansara           1\n",
       "Bandar Bukit Tinggi         1\n",
       "Telok Panglima Garang       1\n",
       "Name: count, Length: 116, dtype: int64"
      ]
     },
     "execution_count": 117,
     "metadata": {},
     "output_type": "execute_result"
    }
   ],
   "execution_count": 117
  },
  {
   "cell_type": "markdown",
   "source": [
    "Since we have 116 cities here, let's look at the top 15 cities with most number of rental units"
   ],
   "metadata": {
    "id": "sMgEx_cS8LQ4"
   }
  },
  {
   "cell_type": "code",
   "source": [
    "df['location'] = df['location'].str.split(' - ').str[1]\n",
    "top_cities = df['location'].value_counts().reset_index()[:15]\n",
    "\n",
    "# Plot bar chart\n",
    "plt.title('Top 15 Cities with Most Rental Units')\n",
    "sns.barplot(data=top_cities, x='count', y='location')"
   ],
   "metadata": {
    "colab": {
     "base_uri": "https://localhost:8080/",
     "height": 489
    },
    "id": "x4iWHF2x9SdX",
    "outputId": "144051e1-4c83-4829-de5b-4f19a65aec77",
    "ExecuteTime": {
     "end_time": "2024-10-14T18:34:27.807202Z",
     "start_time": "2024-10-14T18:34:27.622291Z"
    }
   },
   "outputs": [
    {
     "data": {
      "text/plain": [
       "<Axes: title={'center': 'Top 15 Cities with Most Rental Units'}, xlabel='region', ylabel='Count'>"
      ]
     },
     "execution_count": 118,
     "metadata": {},
     "output_type": "execute_result"
    }
   ],
   "execution_count": 118
  },
  {
   "cell_type": "markdown",
   "source": [
    "Let's see how property types affect the rental price"
   ],
   "metadata": {
    "id": "7aMEeEFXJbwh"
   }
  },
  {
   "cell_type": "code",
   "source": [
    "type_price = df.groupby(['property_type'])['monthly_rent'].mean().sort_values(ascending=False).reset_index()\n",
    "\n",
    "# Plot bar chart\n",
    "plt.title('Average Monthly Rent for each Property Type')\n",
    "sns.barplot(data=type_price, x='monthly_rent', y='property_type')"
   ],
   "metadata": {
    "colab": {
     "base_uri": "https://localhost:8080/",
     "height": 489
    },
    "id": "Hawaa0BEJeut",
    "outputId": "07706214-bdb9-49cf-a98c-6f46db1169cc",
    "ExecuteTime": {
     "end_time": "2024-10-14T18:34:28.029427Z",
     "start_time": "2024-10-14T18:34:27.863410Z"
    }
   },
   "outputs": [
    {
     "data": {
      "text/plain": [
       "<Axes: title={'center': 'Average Monthly Rent for each Property Type'}, xlabel='region', ylabel='Count'>"
      ]
     },
     "execution_count": 119,
     "metadata": {},
     "output_type": "execute_result"
    }
   ],
   "execution_count": 119
  },
  {
   "cell_type": "markdown",
   "source": [
    "As expected, high rise buildings' units are more expensive.\n",
    "\n",
    "Let's look at the room per price for each city"
   ],
   "metadata": {
    "id": "ImRx11zP_zvh"
   }
  },
  {
   "cell_type": "code",
   "source": [
    "df2 = df.copy()\n",
    "df2['price_per_room'] = df2['monthly_rent'] / df2['rooms']\n",
    "\n",
    "# Look at only the top 15 most expensive ones\n",
    "expensive_cities = df2.groupby(['location', 'region'])[['price_per_room']].median().sort_values(by='price_per_room', ascending=False)[:15]\n",
    "\n",
    "# Plot bar chart\n",
    "plt.title('Top 15 Cities with Most Expensive Price per Room')\n",
    "sns.barplot(data=expensive_cities, x='price_per_room', y='location', hue='region')"
   ],
   "metadata": {
    "colab": {
     "base_uri": "https://localhost:8080/",
     "height": 489
    },
    "id": "OhOQB8yU-YEs",
    "outputId": "8b34c76d-08db-478f-c999-d155fbaa10ae",
    "ExecuteTime": {
     "end_time": "2024-10-14T18:34:28.615400Z",
     "start_time": "2024-10-14T18:34:28.088309Z"
    }
   },
   "outputs": [
    {
     "data": {
      "text/plain": [
       "<Axes: title={'center': 'Top 15 Cities with Most Expensive Price per Room'}, xlabel='region', ylabel='Count'>"
      ]
     },
     "execution_count": 120,
     "metadata": {},
     "output_type": "execute_result"
    }
   ],
   "execution_count": 120
  },
  {
   "cell_type": "markdown",
   "source": [
    "We can see that these cities consists of quite balance amount of representatives from KL and Selangor, but KL still has a slightly higher pricing than Selangor\n",
    "\n",
    "Let's see if the completion date of the unit affects the current rental pricing"
   ],
   "metadata": {
    "id": "v2lBmPTAA3Te"
   }
  },
  {
   "cell_type": "code",
   "source": [
    "pricing_trend = df2.groupby(['completion_year', 'region'])[['price_per_room']].median()\n",
    "\n",
    "# Plot line graph\n",
    "plt.title('Price per Room against Completion Year')\n",
    "sns.lineplot(data=pricing_trend, x='completion_year', y='price_per_room', hue='region')"
   ],
   "metadata": {
    "colab": {
     "base_uri": "https://localhost:8080/",
     "height": 489
    },
    "id": "U0cwXUBtCfFU",
    "outputId": "1e319280-1031-4321-f0b9-982c0f1a0f63",
    "ExecuteTime": {
     "end_time": "2024-10-14T18:34:28.940996Z",
     "start_time": "2024-10-14T18:34:28.696057Z"
    }
   },
   "outputs": [
    {
     "data": {
      "text/plain": [
       "<Axes: title={'center': 'Price per Room against Completion Year'}, xlabel='region', ylabel='Count'>"
      ]
     },
     "execution_count": 121,
     "metadata": {},
     "output_type": "execute_result"
    }
   ],
   "execution_count": 121
  },
  {
   "cell_type": "markdown",
   "source": [
    "The completion date slightly affects the rental pricing, with Selangor's being more stable and KL's showing a visible increase in pricing, indicating newer properties in KL can be rented at higher price\n",
    "\n",
    "Let's explore about the size of rental units"
   ],
   "metadata": {
    "id": "tiz8t56xEEfQ"
   }
  },
  {
   "cell_type": "code",
   "source": [
    "# Look at only the top 15 most expensive ones\n",
    "expensive_cities = df2.groupby(['location', 'region'])[['size']].median().sort_values(by='size', ascending=False)[:15]\n",
    "\n",
    "# Plot bar chart\n",
    "plt.title('Top 15 Cities with Biggest Rental Units')\n",
    "sns.barplot(data=expensive_cities, x='size', y='location', hue='region')"
   ],
   "metadata": {
    "id": "Ky0EHHRLEWjd",
    "colab": {
     "base_uri": "https://localhost:8080/",
     "height": 489
    },
    "outputId": "202914ea-9d12-406f-df7c-d305cfa2bf36",
    "ExecuteTime": {
     "end_time": "2024-10-14T18:34:29.401887Z",
     "start_time": "2024-10-14T18:34:29.043631Z"
    }
   },
   "outputs": [
    {
     "data": {
      "text/plain": [
       "<Axes: title={'center': 'Top 15 Cities with Biggest Rental Units'}, xlabel='region', ylabel='Count'>"
      ]
     },
     "execution_count": 122,
     "metadata": {},
     "output_type": "execute_result"
    }
   ],
   "execution_count": 122
  },
  {
   "cell_type": "markdown",
   "source": [
    "It is quite average from the bar chart above, that neither of KL rental units nor Selangor rental units are bigger generally.\n",
    "\n",
    "Let's also look at the furnished status for KL and Selangor"
   ],
   "metadata": {
    "id": "pTa1Z6k2Cen4"
   }
  },
  {
   "cell_type": "code",
   "source": [
    "df.groupby(['region', 'furnished']).size().unstack(fill_value=0).plot(kind='bar')"
   ],
   "metadata": {
    "id": "d1b3lcp4BiC2",
    "colab": {
     "base_uri": "https://localhost:8080/",
     "height": 548
    },
    "outputId": "c6a73f84-d1ff-4757-c9fe-3c23386b0a95",
    "ExecuteTime": {
     "end_time": "2024-10-14T18:34:29.472697Z",
     "start_time": "2024-10-14T18:34:29.406420Z"
    }
   },
   "outputs": [
    {
     "data": {
      "text/plain": [
       "<Axes: xlabel='region'>"
      ]
     },
     "execution_count": 123,
     "metadata": {},
     "output_type": "execute_result"
    }
   ],
   "execution_count": 123
  },
  {
   "cell_type": "markdown",
   "source": [
    "From the chart, there are usually less unfurnished rental units listed and more of the partially or fully furnished rental ones.\n",
    "\n",
    "KL has more furnished rooms than Selangor, whereas Selangor has more unfurnished ones than KL\n",
    "\n",
    "How about number of rooms?"
   ],
   "metadata": {
    "id": "YpLeIHGsBxZ_"
   }
  },
  {
   "cell_type": "code",
   "source": [
    "df.groupby(['region', 'rooms']).size().unstack(fill_value=0).plot(kind='bar')"
   ],
   "metadata": {
    "id": "VxbQH5zDCImv",
    "colab": {
     "base_uri": "https://localhost:8080/",
     "height": 552
    },
    "outputId": "d41d73ec-8c3b-4bb6-e377-b788b3380030",
    "ExecuteTime": {
     "end_time": "2024-10-14T18:34:29.580248Z",
     "start_time": "2024-10-14T18:34:29.505042Z"
    }
   },
   "outputs": [
    {
     "data": {
      "text/plain": [
       "<Axes: xlabel='region'>"
      ]
     },
     "execution_count": 124,
     "metadata": {},
     "output_type": "execute_result"
    }
   ],
   "execution_count": 124
  },
  {
   "cell_type": "markdown",
   "source": [
    "Looks like most Malaysian rental units are of type 3 bedrooms\n",
    "\n",
    "Lastly, let's explore about the property type"
   ],
   "metadata": {
    "id": "_JIAHaVFCNsq"
   }
  },
  {
   "cell_type": "code",
   "source": [
    "df.groupby(['region', 'property_type']).size().unstack(fill_value=0).plot(kind='bar')"
   ],
   "metadata": {
    "id": "hP-mDELbFEJ1",
    "colab": {
     "base_uri": "https://localhost:8080/",
     "height": 548
    },
    "outputId": "6f281d20-09e5-4e96-99b4-8f0a3872a240",
    "ExecuteTime": {
     "end_time": "2024-10-14T18:34:29.699836Z",
     "start_time": "2024-10-14T18:34:29.614340Z"
    }
   },
   "outputs": [
    {
     "data": {
      "text/plain": [
       "<Axes: xlabel='region'>"
      ]
     },
     "execution_count": 125,
     "metadata": {},
     "output_type": "execute_result"
    }
   ],
   "execution_count": 125
  },
  {
   "cell_type": "markdown",
   "source": [
    "Seems like rental units are mostly consisted of condominium, service residence and apartments, with KL having the most number of condominium units to be rented."
   ],
   "metadata": {
    "id": "CYtAeuZyFaOW"
   }
  },
  {
   "cell_type": "markdown",
   "source": [
    "# Regression\n",
    "\n",
    "Start off by importing relevant libraries"
   ],
   "metadata": {
    "id": "M3llu8_1XLzh"
   }
  },
  {
   "cell_type": "code",
   "source": [
    "from sklearn.model_selection import train_test_split, GridSearchCV\n",
    "from sklearn.metrics import mean_squared_error, mean_absolute_error\n",
    "from sklearn.preprocessing import StandardScaler\n",
    "\n",
    "# Model libraries\n",
    "from sklearn.linear_model import Ridge\n",
    "from xgboost import XGBRegressor"
   ],
   "metadata": {
    "id": "_yl_noC7UIh_",
    "ExecuteTime": {
     "end_time": "2024-10-14T18:34:29.735120Z",
     "start_time": "2024-10-14T18:34:29.732006Z"
    }
   },
   "outputs": [],
   "execution_count": 126
  },
  {
   "cell_type": "markdown",
   "source": [
    "## Data Preparation\n",
    "\n",
    "Since we have numerical and categorical columns in our dataset, we will need to perform encoding on the categorical ones"
   ],
   "metadata": {
    "id": "saXrlSYOUMr-"
   }
  },
  {
   "cell_type": "code",
   "source": [
    "# Create mapping from property type to average price sorted\n",
    "type_price_map = type_price.drop('monthly_rent', axis=1).reset_index().set_index('property_type')['index']\n",
    "\n",
    "# Use label encoding on property type column\n",
    "df['property_type'] = df['property_type'].map(type_price_map)\n",
    "\n",
    "# Use label encoding on furnished column\n",
    "df.loc[df['furnished'] == 'Not Furnished','furnished'] = 0\n",
    "df.loc[df['furnished'] == 'Partially Furnished','furnished'] = 1\n",
    "df.loc[df['furnished'] == 'Fully Furnished','furnished'] = 2\n",
    "\n",
    "# Use label encoding on region column\n",
    "df.loc[df['region'] == 'Selangor', 'region'] = 0\n",
    "df.loc[df['region'] == 'Kuala Lumpur', 'region'] = 1\n",
    "\n",
    "df"
   ],
   "metadata": {
    "id": "iSNaxlGhizfo",
    "colab": {
     "base_uri": "https://localhost:8080/",
     "height": 424
    },
    "outputId": "a6c58380-badc-4116-a260-282ee4ddfa14",
    "ExecuteTime": {
     "end_time": "2024-10-14T18:34:29.788665Z",
     "start_time": "2024-10-14T18:34:29.769356Z"
    }
   },
   "outputs": [
    {
     "data": {
      "text/plain": [
       "       completion_year  monthly_rent       location  property_type  rooms  \\\n",
       "1                 2017          2300         Cheras              2      3   \n",
       "2                 2017          1000     Taman Desa              6      3   \n",
       "3                 2020          1700         Sentul              6      2   \n",
       "5                 2017          1500        Setapak              6      3   \n",
       "9                 2017          1350  Desa ParkCity              2      3   \n",
       "...                ...           ...            ...            ...    ...   \n",
       "19982             2017          1100        Puchong              6      3   \n",
       "19983             2021           885      Cyberjaya              2      3   \n",
       "19986             2017          1200         Kajang              6      3   \n",
       "19988             2017          1350         Kajang              2      3   \n",
       "19989             2017          1200      Cyberjaya              1      3   \n",
       "\n",
       "       parking  bathroom  size furnished region  \n",
       "1            1         2  1170         1      1  \n",
       "2            0         2   650         2      1  \n",
       "3            1         2   743         1      1  \n",
       "5            1         2   884         1      1  \n",
       "9            1         2   862         1      1  \n",
       "...        ...       ...   ...       ...    ...  \n",
       "19982        1         2   941         1      0  \n",
       "19983        2         2  1015         1      0  \n",
       "19986        0         2  1000         1      0  \n",
       "19988        2         2  1270         1      0  \n",
       "19989        1         2  1100         2      0  \n",
       "\n",
       "[13586 rows x 10 columns]"
      ],
      "text/html": [
       "<div>\n",
       "<style scoped>\n",
       "    .dataframe tbody tr th:only-of-type {\n",
       "        vertical-align: middle;\n",
       "    }\n",
       "\n",
       "    .dataframe tbody tr th {\n",
       "        vertical-align: top;\n",
       "    }\n",
       "\n",
       "    .dataframe thead th {\n",
       "        text-align: right;\n",
       "    }\n",
       "</style>\n",
       "<table border=\"1\" class=\"dataframe\">\n",
       "  <thead>\n",
       "    <tr style=\"text-align: right;\">\n",
       "      <th></th>\n",
       "      <th>completion_year</th>\n",
       "      <th>monthly_rent</th>\n",
       "      <th>location</th>\n",
       "      <th>property_type</th>\n",
       "      <th>rooms</th>\n",
       "      <th>parking</th>\n",
       "      <th>bathroom</th>\n",
       "      <th>size</th>\n",
       "      <th>furnished</th>\n",
       "      <th>region</th>\n",
       "    </tr>\n",
       "  </thead>\n",
       "  <tbody>\n",
       "    <tr>\n",
       "      <th>1</th>\n",
       "      <td>2017</td>\n",
       "      <td>2300</td>\n",
       "      <td>Cheras</td>\n",
       "      <td>2</td>\n",
       "      <td>3</td>\n",
       "      <td>1</td>\n",
       "      <td>2</td>\n",
       "      <td>1170</td>\n",
       "      <td>1</td>\n",
       "      <td>1</td>\n",
       "    </tr>\n",
       "    <tr>\n",
       "      <th>2</th>\n",
       "      <td>2017</td>\n",
       "      <td>1000</td>\n",
       "      <td>Taman Desa</td>\n",
       "      <td>6</td>\n",
       "      <td>3</td>\n",
       "      <td>0</td>\n",
       "      <td>2</td>\n",
       "      <td>650</td>\n",
       "      <td>2</td>\n",
       "      <td>1</td>\n",
       "    </tr>\n",
       "    <tr>\n",
       "      <th>3</th>\n",
       "      <td>2020</td>\n",
       "      <td>1700</td>\n",
       "      <td>Sentul</td>\n",
       "      <td>6</td>\n",
       "      <td>2</td>\n",
       "      <td>1</td>\n",
       "      <td>2</td>\n",
       "      <td>743</td>\n",
       "      <td>1</td>\n",
       "      <td>1</td>\n",
       "    </tr>\n",
       "    <tr>\n",
       "      <th>5</th>\n",
       "      <td>2017</td>\n",
       "      <td>1500</td>\n",
       "      <td>Setapak</td>\n",
       "      <td>6</td>\n",
       "      <td>3</td>\n",
       "      <td>1</td>\n",
       "      <td>2</td>\n",
       "      <td>884</td>\n",
       "      <td>1</td>\n",
       "      <td>1</td>\n",
       "    </tr>\n",
       "    <tr>\n",
       "      <th>9</th>\n",
       "      <td>2017</td>\n",
       "      <td>1350</td>\n",
       "      <td>Desa ParkCity</td>\n",
       "      <td>2</td>\n",
       "      <td>3</td>\n",
       "      <td>1</td>\n",
       "      <td>2</td>\n",
       "      <td>862</td>\n",
       "      <td>1</td>\n",
       "      <td>1</td>\n",
       "    </tr>\n",
       "    <tr>\n",
       "      <th>...</th>\n",
       "      <td>...</td>\n",
       "      <td>...</td>\n",
       "      <td>...</td>\n",
       "      <td>...</td>\n",
       "      <td>...</td>\n",
       "      <td>...</td>\n",
       "      <td>...</td>\n",
       "      <td>...</td>\n",
       "      <td>...</td>\n",
       "      <td>...</td>\n",
       "    </tr>\n",
       "    <tr>\n",
       "      <th>19982</th>\n",
       "      <td>2017</td>\n",
       "      <td>1100</td>\n",
       "      <td>Puchong</td>\n",
       "      <td>6</td>\n",
       "      <td>3</td>\n",
       "      <td>1</td>\n",
       "      <td>2</td>\n",
       "      <td>941</td>\n",
       "      <td>1</td>\n",
       "      <td>0</td>\n",
       "    </tr>\n",
       "    <tr>\n",
       "      <th>19983</th>\n",
       "      <td>2021</td>\n",
       "      <td>885</td>\n",
       "      <td>Cyberjaya</td>\n",
       "      <td>2</td>\n",
       "      <td>3</td>\n",
       "      <td>2</td>\n",
       "      <td>2</td>\n",
       "      <td>1015</td>\n",
       "      <td>1</td>\n",
       "      <td>0</td>\n",
       "    </tr>\n",
       "    <tr>\n",
       "      <th>19986</th>\n",
       "      <td>2017</td>\n",
       "      <td>1200</td>\n",
       "      <td>Kajang</td>\n",
       "      <td>6</td>\n",
       "      <td>3</td>\n",
       "      <td>0</td>\n",
       "      <td>2</td>\n",
       "      <td>1000</td>\n",
       "      <td>1</td>\n",
       "      <td>0</td>\n",
       "    </tr>\n",
       "    <tr>\n",
       "      <th>19988</th>\n",
       "      <td>2017</td>\n",
       "      <td>1350</td>\n",
       "      <td>Kajang</td>\n",
       "      <td>2</td>\n",
       "      <td>3</td>\n",
       "      <td>2</td>\n",
       "      <td>2</td>\n",
       "      <td>1270</td>\n",
       "      <td>1</td>\n",
       "      <td>0</td>\n",
       "    </tr>\n",
       "    <tr>\n",
       "      <th>19989</th>\n",
       "      <td>2017</td>\n",
       "      <td>1200</td>\n",
       "      <td>Cyberjaya</td>\n",
       "      <td>1</td>\n",
       "      <td>3</td>\n",
       "      <td>1</td>\n",
       "      <td>2</td>\n",
       "      <td>1100</td>\n",
       "      <td>2</td>\n",
       "      <td>0</td>\n",
       "    </tr>\n",
       "  </tbody>\n",
       "</table>\n",
       "<p>13586 rows × 10 columns</p>\n",
       "</div>"
      ]
     },
     "execution_count": 127,
     "metadata": {},
     "output_type": "execute_result"
    }
   ],
   "execution_count": 127
  },
  {
   "cell_type": "markdown",
   "source": [
    "Now, we are left with `location`, since there are 116 unique cities and it will be unwise to use one-hot encoding, and location is semi related to region so we will not use it forward in the model training later on."
   ],
   "metadata": {
    "id": "Se1wdpQLKhoA"
   }
  },
  {
   "cell_type": "code",
   "source": [
    "df = df.drop('location', axis=1)\n",
    "df"
   ],
   "metadata": {
    "id": "2GBRSOk1Lv1k",
    "colab": {
     "base_uri": "https://localhost:8080/",
     "height": 424
    },
    "outputId": "6affe9be-e404-4645-a6f2-153d8358c8d4",
    "ExecuteTime": {
     "end_time": "2024-10-14T18:34:29.861383Z",
     "start_time": "2024-10-14T18:34:29.850657Z"
    }
   },
   "outputs": [
    {
     "data": {
      "text/plain": [
       "       completion_year  monthly_rent  property_type  rooms  parking  bathroom  \\\n",
       "1                 2017          2300              2      3        1         2   \n",
       "2                 2017          1000              6      3        0         2   \n",
       "3                 2020          1700              6      2        1         2   \n",
       "5                 2017          1500              6      3        1         2   \n",
       "9                 2017          1350              2      3        1         2   \n",
       "...                ...           ...            ...    ...      ...       ...   \n",
       "19982             2017          1100              6      3        1         2   \n",
       "19983             2021           885              2      3        2         2   \n",
       "19986             2017          1200              6      3        0         2   \n",
       "19988             2017          1350              2      3        2         2   \n",
       "19989             2017          1200              1      3        1         2   \n",
       "\n",
       "       size furnished region  \n",
       "1      1170         1      1  \n",
       "2       650         2      1  \n",
       "3       743         1      1  \n",
       "5       884         1      1  \n",
       "9       862         1      1  \n",
       "...     ...       ...    ...  \n",
       "19982   941         1      0  \n",
       "19983  1015         1      0  \n",
       "19986  1000         1      0  \n",
       "19988  1270         1      0  \n",
       "19989  1100         2      0  \n",
       "\n",
       "[13586 rows x 9 columns]"
      ],
      "text/html": [
       "<div>\n",
       "<style scoped>\n",
       "    .dataframe tbody tr th:only-of-type {\n",
       "        vertical-align: middle;\n",
       "    }\n",
       "\n",
       "    .dataframe tbody tr th {\n",
       "        vertical-align: top;\n",
       "    }\n",
       "\n",
       "    .dataframe thead th {\n",
       "        text-align: right;\n",
       "    }\n",
       "</style>\n",
       "<table border=\"1\" class=\"dataframe\">\n",
       "  <thead>\n",
       "    <tr style=\"text-align: right;\">\n",
       "      <th></th>\n",
       "      <th>completion_year</th>\n",
       "      <th>monthly_rent</th>\n",
       "      <th>property_type</th>\n",
       "      <th>rooms</th>\n",
       "      <th>parking</th>\n",
       "      <th>bathroom</th>\n",
       "      <th>size</th>\n",
       "      <th>furnished</th>\n",
       "      <th>region</th>\n",
       "    </tr>\n",
       "  </thead>\n",
       "  <tbody>\n",
       "    <tr>\n",
       "      <th>1</th>\n",
       "      <td>2017</td>\n",
       "      <td>2300</td>\n",
       "      <td>2</td>\n",
       "      <td>3</td>\n",
       "      <td>1</td>\n",
       "      <td>2</td>\n",
       "      <td>1170</td>\n",
       "      <td>1</td>\n",
       "      <td>1</td>\n",
       "    </tr>\n",
       "    <tr>\n",
       "      <th>2</th>\n",
       "      <td>2017</td>\n",
       "      <td>1000</td>\n",
       "      <td>6</td>\n",
       "      <td>3</td>\n",
       "      <td>0</td>\n",
       "      <td>2</td>\n",
       "      <td>650</td>\n",
       "      <td>2</td>\n",
       "      <td>1</td>\n",
       "    </tr>\n",
       "    <tr>\n",
       "      <th>3</th>\n",
       "      <td>2020</td>\n",
       "      <td>1700</td>\n",
       "      <td>6</td>\n",
       "      <td>2</td>\n",
       "      <td>1</td>\n",
       "      <td>2</td>\n",
       "      <td>743</td>\n",
       "      <td>1</td>\n",
       "      <td>1</td>\n",
       "    </tr>\n",
       "    <tr>\n",
       "      <th>5</th>\n",
       "      <td>2017</td>\n",
       "      <td>1500</td>\n",
       "      <td>6</td>\n",
       "      <td>3</td>\n",
       "      <td>1</td>\n",
       "      <td>2</td>\n",
       "      <td>884</td>\n",
       "      <td>1</td>\n",
       "      <td>1</td>\n",
       "    </tr>\n",
       "    <tr>\n",
       "      <th>9</th>\n",
       "      <td>2017</td>\n",
       "      <td>1350</td>\n",
       "      <td>2</td>\n",
       "      <td>3</td>\n",
       "      <td>1</td>\n",
       "      <td>2</td>\n",
       "      <td>862</td>\n",
       "      <td>1</td>\n",
       "      <td>1</td>\n",
       "    </tr>\n",
       "    <tr>\n",
       "      <th>...</th>\n",
       "      <td>...</td>\n",
       "      <td>...</td>\n",
       "      <td>...</td>\n",
       "      <td>...</td>\n",
       "      <td>...</td>\n",
       "      <td>...</td>\n",
       "      <td>...</td>\n",
       "      <td>...</td>\n",
       "      <td>...</td>\n",
       "    </tr>\n",
       "    <tr>\n",
       "      <th>19982</th>\n",
       "      <td>2017</td>\n",
       "      <td>1100</td>\n",
       "      <td>6</td>\n",
       "      <td>3</td>\n",
       "      <td>1</td>\n",
       "      <td>2</td>\n",
       "      <td>941</td>\n",
       "      <td>1</td>\n",
       "      <td>0</td>\n",
       "    </tr>\n",
       "    <tr>\n",
       "      <th>19983</th>\n",
       "      <td>2021</td>\n",
       "      <td>885</td>\n",
       "      <td>2</td>\n",
       "      <td>3</td>\n",
       "      <td>2</td>\n",
       "      <td>2</td>\n",
       "      <td>1015</td>\n",
       "      <td>1</td>\n",
       "      <td>0</td>\n",
       "    </tr>\n",
       "    <tr>\n",
       "      <th>19986</th>\n",
       "      <td>2017</td>\n",
       "      <td>1200</td>\n",
       "      <td>6</td>\n",
       "      <td>3</td>\n",
       "      <td>0</td>\n",
       "      <td>2</td>\n",
       "      <td>1000</td>\n",
       "      <td>1</td>\n",
       "      <td>0</td>\n",
       "    </tr>\n",
       "    <tr>\n",
       "      <th>19988</th>\n",
       "      <td>2017</td>\n",
       "      <td>1350</td>\n",
       "      <td>2</td>\n",
       "      <td>3</td>\n",
       "      <td>2</td>\n",
       "      <td>2</td>\n",
       "      <td>1270</td>\n",
       "      <td>1</td>\n",
       "      <td>0</td>\n",
       "    </tr>\n",
       "    <tr>\n",
       "      <th>19989</th>\n",
       "      <td>2017</td>\n",
       "      <td>1200</td>\n",
       "      <td>1</td>\n",
       "      <td>3</td>\n",
       "      <td>1</td>\n",
       "      <td>2</td>\n",
       "      <td>1100</td>\n",
       "      <td>2</td>\n",
       "      <td>0</td>\n",
       "    </tr>\n",
       "  </tbody>\n",
       "</table>\n",
       "<p>13586 rows × 9 columns</p>\n",
       "</div>"
      ]
     },
     "execution_count": 128,
     "metadata": {},
     "output_type": "execute_result"
    }
   ],
   "execution_count": 128
  },
  {
   "cell_type": "markdown",
   "source": [
    "Now that we are done with the categorical ones into numerical, we have to perform scaling on the numerical columns.\n",
    "\n",
    "Since `completion_year` are between 1977 to 2024, we can create a new feature called `year_since_completion` which stores the number of years since the completion year to 2024, effectively making an impact for the column towards the pricing difference"
   ],
   "metadata": {
    "id": "AkJM-uTwTRUu"
   }
  },
  {
   "cell_type": "code",
   "source": [
    "# \"Scaling\" completion_year\n",
    "df['year_since_completion'] = 2024 - df['completion_year']\n",
    "df = df.drop('completion_year', axis=1)\n",
    "df"
   ],
   "metadata": {
    "id": "672lgOLsTNoN",
    "colab": {
     "base_uri": "https://localhost:8080/",
     "height": 424
    },
    "outputId": "82f4f737-8342-4660-fa00-4697e2cb55c5",
    "ExecuteTime": {
     "end_time": "2024-10-14T18:34:29.940830Z",
     "start_time": "2024-10-14T18:34:29.928007Z"
    }
   },
   "outputs": [
    {
     "data": {
      "text/plain": [
       "       monthly_rent  property_type  rooms  parking  bathroom  size furnished  \\\n",
       "1              2300              2      3        1         2  1170         1   \n",
       "2              1000              6      3        0         2   650         2   \n",
       "3              1700              6      2        1         2   743         1   \n",
       "5              1500              6      3        1         2   884         1   \n",
       "9              1350              2      3        1         2   862         1   \n",
       "...             ...            ...    ...      ...       ...   ...       ...   \n",
       "19982          1100              6      3        1         2   941         1   \n",
       "19983           885              2      3        2         2  1015         1   \n",
       "19986          1200              6      3        0         2  1000         1   \n",
       "19988          1350              2      3        2         2  1270         1   \n",
       "19989          1200              1      3        1         2  1100         2   \n",
       "\n",
       "      region  year_since_completion  \n",
       "1          1                      7  \n",
       "2          1                      7  \n",
       "3          1                      4  \n",
       "5          1                      7  \n",
       "9          1                      7  \n",
       "...      ...                    ...  \n",
       "19982      0                      7  \n",
       "19983      0                      3  \n",
       "19986      0                      7  \n",
       "19988      0                      7  \n",
       "19989      0                      7  \n",
       "\n",
       "[13586 rows x 9 columns]"
      ],
      "text/html": [
       "<div>\n",
       "<style scoped>\n",
       "    .dataframe tbody tr th:only-of-type {\n",
       "        vertical-align: middle;\n",
       "    }\n",
       "\n",
       "    .dataframe tbody tr th {\n",
       "        vertical-align: top;\n",
       "    }\n",
       "\n",
       "    .dataframe thead th {\n",
       "        text-align: right;\n",
       "    }\n",
       "</style>\n",
       "<table border=\"1\" class=\"dataframe\">\n",
       "  <thead>\n",
       "    <tr style=\"text-align: right;\">\n",
       "      <th></th>\n",
       "      <th>monthly_rent</th>\n",
       "      <th>property_type</th>\n",
       "      <th>rooms</th>\n",
       "      <th>parking</th>\n",
       "      <th>bathroom</th>\n",
       "      <th>size</th>\n",
       "      <th>furnished</th>\n",
       "      <th>region</th>\n",
       "      <th>year_since_completion</th>\n",
       "    </tr>\n",
       "  </thead>\n",
       "  <tbody>\n",
       "    <tr>\n",
       "      <th>1</th>\n",
       "      <td>2300</td>\n",
       "      <td>2</td>\n",
       "      <td>3</td>\n",
       "      <td>1</td>\n",
       "      <td>2</td>\n",
       "      <td>1170</td>\n",
       "      <td>1</td>\n",
       "      <td>1</td>\n",
       "      <td>7</td>\n",
       "    </tr>\n",
       "    <tr>\n",
       "      <th>2</th>\n",
       "      <td>1000</td>\n",
       "      <td>6</td>\n",
       "      <td>3</td>\n",
       "      <td>0</td>\n",
       "      <td>2</td>\n",
       "      <td>650</td>\n",
       "      <td>2</td>\n",
       "      <td>1</td>\n",
       "      <td>7</td>\n",
       "    </tr>\n",
       "    <tr>\n",
       "      <th>3</th>\n",
       "      <td>1700</td>\n",
       "      <td>6</td>\n",
       "      <td>2</td>\n",
       "      <td>1</td>\n",
       "      <td>2</td>\n",
       "      <td>743</td>\n",
       "      <td>1</td>\n",
       "      <td>1</td>\n",
       "      <td>4</td>\n",
       "    </tr>\n",
       "    <tr>\n",
       "      <th>5</th>\n",
       "      <td>1500</td>\n",
       "      <td>6</td>\n",
       "      <td>3</td>\n",
       "      <td>1</td>\n",
       "      <td>2</td>\n",
       "      <td>884</td>\n",
       "      <td>1</td>\n",
       "      <td>1</td>\n",
       "      <td>7</td>\n",
       "    </tr>\n",
       "    <tr>\n",
       "      <th>9</th>\n",
       "      <td>1350</td>\n",
       "      <td>2</td>\n",
       "      <td>3</td>\n",
       "      <td>1</td>\n",
       "      <td>2</td>\n",
       "      <td>862</td>\n",
       "      <td>1</td>\n",
       "      <td>1</td>\n",
       "      <td>7</td>\n",
       "    </tr>\n",
       "    <tr>\n",
       "      <th>...</th>\n",
       "      <td>...</td>\n",
       "      <td>...</td>\n",
       "      <td>...</td>\n",
       "      <td>...</td>\n",
       "      <td>...</td>\n",
       "      <td>...</td>\n",
       "      <td>...</td>\n",
       "      <td>...</td>\n",
       "      <td>...</td>\n",
       "    </tr>\n",
       "    <tr>\n",
       "      <th>19982</th>\n",
       "      <td>1100</td>\n",
       "      <td>6</td>\n",
       "      <td>3</td>\n",
       "      <td>1</td>\n",
       "      <td>2</td>\n",
       "      <td>941</td>\n",
       "      <td>1</td>\n",
       "      <td>0</td>\n",
       "      <td>7</td>\n",
       "    </tr>\n",
       "    <tr>\n",
       "      <th>19983</th>\n",
       "      <td>885</td>\n",
       "      <td>2</td>\n",
       "      <td>3</td>\n",
       "      <td>2</td>\n",
       "      <td>2</td>\n",
       "      <td>1015</td>\n",
       "      <td>1</td>\n",
       "      <td>0</td>\n",
       "      <td>3</td>\n",
       "    </tr>\n",
       "    <tr>\n",
       "      <th>19986</th>\n",
       "      <td>1200</td>\n",
       "      <td>6</td>\n",
       "      <td>3</td>\n",
       "      <td>0</td>\n",
       "      <td>2</td>\n",
       "      <td>1000</td>\n",
       "      <td>1</td>\n",
       "      <td>0</td>\n",
       "      <td>7</td>\n",
       "    </tr>\n",
       "    <tr>\n",
       "      <th>19988</th>\n",
       "      <td>1350</td>\n",
       "      <td>2</td>\n",
       "      <td>3</td>\n",
       "      <td>2</td>\n",
       "      <td>2</td>\n",
       "      <td>1270</td>\n",
       "      <td>1</td>\n",
       "      <td>0</td>\n",
       "      <td>7</td>\n",
       "    </tr>\n",
       "    <tr>\n",
       "      <th>19989</th>\n",
       "      <td>1200</td>\n",
       "      <td>1</td>\n",
       "      <td>3</td>\n",
       "      <td>1</td>\n",
       "      <td>2</td>\n",
       "      <td>1100</td>\n",
       "      <td>2</td>\n",
       "      <td>0</td>\n",
       "      <td>7</td>\n",
       "    </tr>\n",
       "  </tbody>\n",
       "</table>\n",
       "<p>13586 rows × 9 columns</p>\n",
       "</div>"
      ]
     },
     "execution_count": 129,
     "metadata": {},
     "output_type": "execute_result"
    }
   ],
   "execution_count": 129
  },
  {
   "cell_type": "markdown",
   "source": [
    "For the `size` column, we need to see the distribution to see if it can be scaled using standard scaler."
   ],
   "metadata": {
    "id": "efxTFyT-VuGT"
   }
  },
  {
   "cell_type": "code",
   "source": [
    "# Check if size data are normally distributed to use standard scaler\n",
    "sns.histplot(df['size'], kde=True)"
   ],
   "metadata": {
    "id": "Ar7NbwWvVYQb",
    "colab": {
     "base_uri": "https://localhost:8080/",
     "height": 466
    },
    "outputId": "8ee9db23-ed43-4db1-fc15-a92dcc1c5844",
    "ExecuteTime": {
     "end_time": "2024-10-14T18:34:30.312371Z",
     "start_time": "2024-10-14T18:34:30.061343Z"
    }
   },
   "outputs": [
    {
     "data": {
      "text/plain": [
       "<Axes: xlabel='region', ylabel='Count'>"
      ]
     },
     "execution_count": 130,
     "metadata": {},
     "output_type": "execute_result"
    }
   ],
   "execution_count": 130
  },
  {
   "cell_type": "markdown",
   "source": [
    "Since it is normally distributed, we can use standard scaler to scale the feature values"
   ],
   "metadata": {
    "id": "Tm7yY6SHVzpf"
   }
  },
  {
   "cell_type": "code",
   "source": [
    "# Standard scaler\n",
    "sscaler = StandardScaler()\n",
    "df['size'] = sscaler.fit_transform(df[['size']])\n",
    "df"
   ],
   "metadata": {
    "id": "DxgPm0xlV5gz",
    "colab": {
     "base_uri": "https://localhost:8080/",
     "height": 424
    },
    "outputId": "1b25205f-a50f-4b5c-beb8-f8cb3cdb4db0",
    "ExecuteTime": {
     "end_time": "2024-10-14T18:34:30.429762Z",
     "start_time": "2024-10-14T18:34:30.409628Z"
    }
   },
   "outputs": [
    {
     "data": {
      "text/plain": [
       "       monthly_rent  property_type  rooms  parking  bathroom      size  \\\n",
       "1              2300              2      3        1         2  1.572862   \n",
       "2              1000              6      3        0         2 -1.771037   \n",
       "3              1700              6      2        1         2 -1.172993   \n",
       "5              1500              6      3        1         2 -0.266282   \n",
       "9              1350              2      3        1         2 -0.407755   \n",
       "...             ...            ...    ...      ...       ...       ...   \n",
       "19982          1100              6      3        1         2  0.100260   \n",
       "19983           885              2      3        2         2  0.576123   \n",
       "19986          1200              6      3        0         2  0.479664   \n",
       "19988          1350              2      3        2         2  2.215919   \n",
       "19989          1200              1      3        1         2  1.122722   \n",
       "\n",
       "      furnished region  year_since_completion  \n",
       "1             1      1                      7  \n",
       "2             2      1                      7  \n",
       "3             1      1                      4  \n",
       "5             1      1                      7  \n",
       "9             1      1                      7  \n",
       "...         ...    ...                    ...  \n",
       "19982         1      0                      7  \n",
       "19983         1      0                      3  \n",
       "19986         1      0                      7  \n",
       "19988         1      0                      7  \n",
       "19989         2      0                      7  \n",
       "\n",
       "[13586 rows x 9 columns]"
      ],
      "text/html": [
       "<div>\n",
       "<style scoped>\n",
       "    .dataframe tbody tr th:only-of-type {\n",
       "        vertical-align: middle;\n",
       "    }\n",
       "\n",
       "    .dataframe tbody tr th {\n",
       "        vertical-align: top;\n",
       "    }\n",
       "\n",
       "    .dataframe thead th {\n",
       "        text-align: right;\n",
       "    }\n",
       "</style>\n",
       "<table border=\"1\" class=\"dataframe\">\n",
       "  <thead>\n",
       "    <tr style=\"text-align: right;\">\n",
       "      <th></th>\n",
       "      <th>monthly_rent</th>\n",
       "      <th>property_type</th>\n",
       "      <th>rooms</th>\n",
       "      <th>parking</th>\n",
       "      <th>bathroom</th>\n",
       "      <th>size</th>\n",
       "      <th>furnished</th>\n",
       "      <th>region</th>\n",
       "      <th>year_since_completion</th>\n",
       "    </tr>\n",
       "  </thead>\n",
       "  <tbody>\n",
       "    <tr>\n",
       "      <th>1</th>\n",
       "      <td>2300</td>\n",
       "      <td>2</td>\n",
       "      <td>3</td>\n",
       "      <td>1</td>\n",
       "      <td>2</td>\n",
       "      <td>1.572862</td>\n",
       "      <td>1</td>\n",
       "      <td>1</td>\n",
       "      <td>7</td>\n",
       "    </tr>\n",
       "    <tr>\n",
       "      <th>2</th>\n",
       "      <td>1000</td>\n",
       "      <td>6</td>\n",
       "      <td>3</td>\n",
       "      <td>0</td>\n",
       "      <td>2</td>\n",
       "      <td>-1.771037</td>\n",
       "      <td>2</td>\n",
       "      <td>1</td>\n",
       "      <td>7</td>\n",
       "    </tr>\n",
       "    <tr>\n",
       "      <th>3</th>\n",
       "      <td>1700</td>\n",
       "      <td>6</td>\n",
       "      <td>2</td>\n",
       "      <td>1</td>\n",
       "      <td>2</td>\n",
       "      <td>-1.172993</td>\n",
       "      <td>1</td>\n",
       "      <td>1</td>\n",
       "      <td>4</td>\n",
       "    </tr>\n",
       "    <tr>\n",
       "      <th>5</th>\n",
       "      <td>1500</td>\n",
       "      <td>6</td>\n",
       "      <td>3</td>\n",
       "      <td>1</td>\n",
       "      <td>2</td>\n",
       "      <td>-0.266282</td>\n",
       "      <td>1</td>\n",
       "      <td>1</td>\n",
       "      <td>7</td>\n",
       "    </tr>\n",
       "    <tr>\n",
       "      <th>9</th>\n",
       "      <td>1350</td>\n",
       "      <td>2</td>\n",
       "      <td>3</td>\n",
       "      <td>1</td>\n",
       "      <td>2</td>\n",
       "      <td>-0.407755</td>\n",
       "      <td>1</td>\n",
       "      <td>1</td>\n",
       "      <td>7</td>\n",
       "    </tr>\n",
       "    <tr>\n",
       "      <th>...</th>\n",
       "      <td>...</td>\n",
       "      <td>...</td>\n",
       "      <td>...</td>\n",
       "      <td>...</td>\n",
       "      <td>...</td>\n",
       "      <td>...</td>\n",
       "      <td>...</td>\n",
       "      <td>...</td>\n",
       "      <td>...</td>\n",
       "    </tr>\n",
       "    <tr>\n",
       "      <th>19982</th>\n",
       "      <td>1100</td>\n",
       "      <td>6</td>\n",
       "      <td>3</td>\n",
       "      <td>1</td>\n",
       "      <td>2</td>\n",
       "      <td>0.100260</td>\n",
       "      <td>1</td>\n",
       "      <td>0</td>\n",
       "      <td>7</td>\n",
       "    </tr>\n",
       "    <tr>\n",
       "      <th>19983</th>\n",
       "      <td>885</td>\n",
       "      <td>2</td>\n",
       "      <td>3</td>\n",
       "      <td>2</td>\n",
       "      <td>2</td>\n",
       "      <td>0.576123</td>\n",
       "      <td>1</td>\n",
       "      <td>0</td>\n",
       "      <td>3</td>\n",
       "    </tr>\n",
       "    <tr>\n",
       "      <th>19986</th>\n",
       "      <td>1200</td>\n",
       "      <td>6</td>\n",
       "      <td>3</td>\n",
       "      <td>0</td>\n",
       "      <td>2</td>\n",
       "      <td>0.479664</td>\n",
       "      <td>1</td>\n",
       "      <td>0</td>\n",
       "      <td>7</td>\n",
       "    </tr>\n",
       "    <tr>\n",
       "      <th>19988</th>\n",
       "      <td>1350</td>\n",
       "      <td>2</td>\n",
       "      <td>3</td>\n",
       "      <td>2</td>\n",
       "      <td>2</td>\n",
       "      <td>2.215919</td>\n",
       "      <td>1</td>\n",
       "      <td>0</td>\n",
       "      <td>7</td>\n",
       "    </tr>\n",
       "    <tr>\n",
       "      <th>19989</th>\n",
       "      <td>1200</td>\n",
       "      <td>1</td>\n",
       "      <td>3</td>\n",
       "      <td>1</td>\n",
       "      <td>2</td>\n",
       "      <td>1.122722</td>\n",
       "      <td>2</td>\n",
       "      <td>0</td>\n",
       "      <td>7</td>\n",
       "    </tr>\n",
       "  </tbody>\n",
       "</table>\n",
       "<p>13586 rows × 9 columns</p>\n",
       "</div>"
      ]
     },
     "execution_count": 131,
     "metadata": {},
     "output_type": "execute_result"
    }
   ],
   "execution_count": 131
  },
  {
   "cell_type": "markdown",
   "source": [
    "Check if all columns are numerical types"
   ],
   "metadata": {
    "id": "eO37UzrFXzFX"
   }
  },
  {
   "cell_type": "code",
   "source": [
    "df.info()"
   ],
   "metadata": {
    "id": "SCLWKPw9X1iJ",
    "colab": {
     "base_uri": "https://localhost:8080/"
    },
    "outputId": "8a1e2cd0-1642-4e79-fcd1-89ffd150f7ff",
    "ExecuteTime": {
     "end_time": "2024-10-14T18:34:30.542537Z",
     "start_time": "2024-10-14T18:34:30.533034Z"
    }
   },
   "outputs": [
    {
     "name": "stdout",
     "output_type": "stream",
     "text": [
      "<class 'pandas.core.frame.DataFrame'>\n",
      "Index: 13586 entries, 1 to 19989\n",
      "Data columns (total 9 columns):\n",
      " #   Column                 Non-Null Count  Dtype  \n",
      "---  ------                 --------------  -----  \n",
      " 0   monthly_rent           13586 non-null  int32  \n",
      " 1   property_type          13586 non-null  int64  \n",
      " 2   rooms                  13586 non-null  int32  \n",
      " 3   parking                13586 non-null  int32  \n",
      " 4   bathroom               13586 non-null  int32  \n",
      " 5   size                   13586 non-null  float64\n",
      " 6   furnished              13586 non-null  object \n",
      " 7   region                 13586 non-null  object \n",
      " 8   year_since_completion  13586 non-null  int32  \n",
      "dtypes: float64(1), int32(5), int64(1), object(2)\n",
      "memory usage: 796.1+ KB\n"
     ]
    }
   ],
   "execution_count": 132
  },
  {
   "cell_type": "code",
   "source": [
    "df['furnished'] = df['furnished'].astype(int)\n",
    "df['region'] = df['region'].astype(int)\n",
    "\n",
    "df.info()"
   ],
   "metadata": {
    "id": "105hiYDrX3DE",
    "colab": {
     "base_uri": "https://localhost:8080/"
    },
    "outputId": "2d03b1ec-ee48-4663-c4e8-e12f254c1200",
    "ExecuteTime": {
     "end_time": "2024-10-14T18:34:30.654600Z",
     "start_time": "2024-10-14T18:34:30.643593Z"
    }
   },
   "outputs": [
    {
     "name": "stdout",
     "output_type": "stream",
     "text": [
      "<class 'pandas.core.frame.DataFrame'>\n",
      "Index: 13586 entries, 1 to 19989\n",
      "Data columns (total 9 columns):\n",
      " #   Column                 Non-Null Count  Dtype  \n",
      "---  ------                 --------------  -----  \n",
      " 0   monthly_rent           13586 non-null  int32  \n",
      " 1   property_type          13586 non-null  int64  \n",
      " 2   rooms                  13586 non-null  int32  \n",
      " 3   parking                13586 non-null  int32  \n",
      " 4   bathroom               13586 non-null  int32  \n",
      " 5   size                   13586 non-null  float64\n",
      " 6   furnished              13586 non-null  int32  \n",
      " 7   region                 13586 non-null  int32  \n",
      " 8   year_since_completion  13586 non-null  int32  \n",
      "dtypes: float64(1), int32(7), int64(1)\n",
      "memory usage: 689.9 KB\n"
     ]
    }
   ],
   "execution_count": 133
  },
  {
   "cell_type": "markdown",
   "source": [
    "## Create feature and target"
   ],
   "metadata": {
    "id": "yPC_VcxpV93l"
   }
  },
  {
   "cell_type": "code",
   "source": [
    "X = df.drop('monthly_rent', axis=1)\n",
    "y = df['monthly_rent']\n",
    "\n",
    "# Split data to 70% training, 30% testing\n",
    "X_train, X_test, y_train, y_test = train_test_split(X, y, test_size=0.3, random_state=RANDOM_STATE_SEED)\n",
    "\n",
    "print(f'X_train shape: {X_train.shape}')\n",
    "print(f'X_test shape: {X_test.shape}')\n",
    "print(f'y_train shape: {y_train.shape}')\n",
    "print(f'y_test shape: {y_test.shape}')"
   ],
   "metadata": {
    "id": "lGJ9rtOUVbqt",
    "colab": {
     "base_uri": "https://localhost:8080/"
    },
    "outputId": "d773f52f-4a20-4871-c33e-e1f4618986e4",
    "ExecuteTime": {
     "end_time": "2024-10-14T18:34:30.830054Z",
     "start_time": "2024-10-14T18:34:30.821458Z"
    }
   },
   "outputs": [
    {
     "name": "stdout",
     "output_type": "stream",
     "text": [
      "X_train shape: (9510, 8)\n",
      "X_test shape: (4076, 8)\n",
      "y_train shape: (9510,)\n",
      "y_test shape: (4076,)\n"
     ]
    }
   ],
   "execution_count": 134
  },
  {
   "cell_type": "markdown",
   "source": [
    "## Model 1: Linear Model\n",
    "\n",
    "Here we use Ridge Model instead of Linear Regression Model as there are tunable parameters for Ridge model."
   ],
   "metadata": {
    "id": "Tue5FgTUXLwS"
   }
  },
  {
   "cell_type": "code",
   "source": [
    "linear_model = Ridge()\n",
    "linear_model.fit(X_train, y_train)\n",
    "\n",
    "y_pred_lm = linear_model.predict(X_test)\n",
    "\n",
    "print('RMSE:', lm_rmse := np.sqrt(mean_squared_error(y_test, y_pred_lm)))\n",
    "print('MAE:', lm_mae := mean_absolute_error(y_test, y_pred_lm))"
   ],
   "metadata": {
    "id": "0a_DvLeFW7cR",
    "colab": {
     "base_uri": "https://localhost:8080/"
    },
    "outputId": "14046ddd-0b16-4849-aa99-e9f953ab3826",
    "ExecuteTime": {
     "end_time": "2024-10-14T18:34:30.917338Z",
     "start_time": "2024-10-14T18:34:30.907177Z"
    }
   },
   "outputs": [
    {
     "name": "stdout",
     "output_type": "stream",
     "text": [
      "RMSE: 331.73108636791756\n",
      "MAE: 252.43712608523472\n"
     ]
    }
   ],
   "execution_count": 135
  },
  {
   "cell_type": "markdown",
   "source": [
    "### Tuning Ridge Model"
   ],
   "metadata": {
    "id": "XP_sW9JebPnT"
   }
  },
  {
   "cell_type": "code",
   "source": [
    "param_grid = {\n",
    "    'alpha': [0.0, 0.0001, 0.001, 0.01, 0.1, 1, 10, 100, 1000]\n",
    "}\n",
    "\n",
    "grid_search = GridSearchCV(Ridge(), param_grid, cv=5, scoring='neg_mean_squared_error')\n",
    "grid_search.fit(X_train, y_train)\n",
    "\n",
    "tuned_linear_model = grid_search.best_estimator_\n",
    "tuned_linear_model.fit(X_train, y_train)\n",
    "\n",
    "y_pred_tuned_lm = tuned_linear_model.predict(X_test)\n",
    "\n",
    "print(f'Best parameters: {grid_search.best_params_}')\n",
    "print('RMSE:', tuned_lm_rmse := np.sqrt(mean_squared_error(y_test, y_pred_tuned_lm)))\n",
    "print('MAE:', tuned_lm_mae := mean_absolute_error(y_test, y_pred_tuned_lm))"
   ],
   "metadata": {
    "id": "X_SkLJbibSId",
    "colab": {
     "base_uri": "https://localhost:8080/"
    },
    "outputId": "481800b7-7eac-4eb3-f38e-69efd87123eb",
    "ExecuteTime": {
     "end_time": "2024-10-14T18:34:31.797494Z",
     "start_time": "2024-10-14T18:34:30.985511Z"
    }
   },
   "outputs": [
    {
     "name": "stdout",
     "output_type": "stream",
     "text": [
      "Best parameters: {'alpha': 10}\n",
      "RMSE: 331.72640863634035\n",
      "MAE: 252.42244511873622\n"
     ]
    }
   ],
   "execution_count": 136
  },
  {
   "cell_type": "markdown",
   "source": [
    "## Model 2: Ensemble Model\n",
    "\n",
    "Here we are using XGBoost Regressor model as our ensemble model to compare the prediction accuracy with the basic linear model"
   ],
   "metadata": {
    "id": "2l41yVM9XSDC"
   }
  },
  {
   "cell_type": "code",
   "source": [
    "xgb_model = XGBRegressor()\n",
    "xgb_model.fit(X_train, y_train)\n",
    "\n",
    "y_pred_xgb = xgb_model.predict(X_test)\n",
    "\n",
    "print('RMSE:', xgb_rmse := np.sqrt(mean_squared_error(y_test, y_pred_xgb)))\n",
    "print('MAE:', xgb_mae := mean_absolute_error(y_test, y_pred_xgb))"
   ],
   "metadata": {
    "id": "I1fo_VP0XNVO",
    "colab": {
     "base_uri": "https://localhost:8080/"
    },
    "outputId": "712c3f54-b386-4eee-8c7d-b8eb2e3167b0",
    "ExecuteTime": {
     "end_time": "2024-10-14T18:34:32.012500Z",
     "start_time": "2024-10-14T18:34:31.844094Z"
    }
   },
   "outputs": [
    {
     "name": "stdout",
     "output_type": "stream",
     "text": [
      "RMSE: 264.15701210684244\n",
      "MAE: 190.3484818418314\n"
     ]
    }
   ],
   "execution_count": 137
  },
  {
   "cell_type": "markdown",
   "source": [
    "### Tuning XGBoost Regressor"
   ],
   "metadata": {
    "id": "vLd09KeDcZrn"
   }
  },
  {
   "cell_type": "code",
   "source": [
    "param_grid = {\n",
    "    'n_estimators': [100, 200, 300],\n",
    "    'max_depth': [3, 5, 7],\n",
    "    'learning_rate': [0.01, 0.1, 0.2],\n",
    "    'subsample': [0.8, 1.0],\n",
    "    'colsample_bytree': [0.8, 1.0]\n",
    "}\n",
    "\n",
    "grid_search = GridSearchCV(XGBRegressor(), param_grid, cv=5, scoring='neg_mean_squared_error')\n",
    "grid_search.fit(X_train, y_train)\n",
    "\n",
    "tuned_xgb_model = grid_search.best_estimator_\n",
    "tuned_xgb_model.fit(X_train, y_train)\n",
    "\n",
    "y_pred_tuned_xgb = tuned_xgb_model.predict(X_test)\n",
    "\n",
    "print(f'Best parameters: {grid_search.best_params_}')\n",
    "print('RMSE:', tuned_xgb_rmse := np.sqrt(mean_squared_error(y_test, y_pred_tuned_xgb)))\n",
    "print('MAE:', tuned_xgb_mae := mean_absolute_error(y_test, y_pred_tuned_xgb))"
   ],
   "metadata": {
    "colab": {
     "base_uri": "https://localhost:8080/"
    },
    "id": "lhsWRUXkcbOJ",
    "outputId": "bc7dd1d7-0c89-4545-8522-7b166cff2ea0",
    "ExecuteTime": {
     "end_time": "2024-10-14T18:36:06.078023Z",
     "start_time": "2024-10-14T18:34:32.048499Z"
    }
   },
   "outputs": [
    {
     "name": "stdout",
     "output_type": "stream",
     "text": [
      "Best parameters: {'colsample_bytree': 0.8, 'learning_rate': 0.1, 'max_depth': 7, 'n_estimators': 300, 'subsample': 0.8}\n",
      "RMSE: 261.77783641732555\n",
      "MAE: 186.48932519675003\n"
     ]
    }
   ],
   "execution_count": 138
  },
  {
   "cell_type": "markdown",
   "source": [
    "# Model Results\n",
    "\n",
    "Finally, we look at the model results"
   ],
   "metadata": {
    "id": "LvcBiklKepq1"
   }
  },
  {
   "cell_type": "code",
   "source": [
    "pd.DataFrame({\n",
    "    'Model': ['Ridge Model', 'Tuned Ridge Model', 'XGBoost Regressor', 'Tuned XGBoost Regressor'],\n",
    "    'RMSE': [lm_rmse, tuned_lm_rmse, xgb_rmse, tuned_xgb_rmse],\n",
    "    'MAE': [lm_mae, tuned_lm_mae, xgb_mae, tuned_xgb_mae]\n",
    "})"
   ],
   "metadata": {
    "colab": {
     "base_uri": "https://localhost:8080/",
     "height": 175
    },
    "id": "2NpgEEpKeo-D",
    "outputId": "8df435c0-d8a2-4692-f5b9-9f9dd14b2df4",
    "ExecuteTime": {
     "end_time": "2024-10-14T18:36:06.212917Z",
     "start_time": "2024-10-14T18:36:06.206412Z"
    }
   },
   "outputs": [
    {
     "data": {
      "text/plain": [
       "                     Model        RMSE         MAE\n",
       "0              Ridge Model  331.731086  252.437126\n",
       "1        Tuned Ridge Model  331.726409  252.422445\n",
       "2        XGBoost Regressor  264.157012  190.348482\n",
       "3  Tuned XGBoost Regressor  261.777836  186.489325"
      ],
      "text/html": [
       "<div>\n",
       "<style scoped>\n",
       "    .dataframe tbody tr th:only-of-type {\n",
       "        vertical-align: middle;\n",
       "    }\n",
       "\n",
       "    .dataframe tbody tr th {\n",
       "        vertical-align: top;\n",
       "    }\n",
       "\n",
       "    .dataframe thead th {\n",
       "        text-align: right;\n",
       "    }\n",
       "</style>\n",
       "<table border=\"1\" class=\"dataframe\">\n",
       "  <thead>\n",
       "    <tr style=\"text-align: right;\">\n",
       "      <th></th>\n",
       "      <th>Model</th>\n",
       "      <th>RMSE</th>\n",
       "      <th>MAE</th>\n",
       "    </tr>\n",
       "  </thead>\n",
       "  <tbody>\n",
       "    <tr>\n",
       "      <th>0</th>\n",
       "      <td>Ridge Model</td>\n",
       "      <td>331.731086</td>\n",
       "      <td>252.437126</td>\n",
       "    </tr>\n",
       "    <tr>\n",
       "      <th>1</th>\n",
       "      <td>Tuned Ridge Model</td>\n",
       "      <td>331.726409</td>\n",
       "      <td>252.422445</td>\n",
       "    </tr>\n",
       "    <tr>\n",
       "      <th>2</th>\n",
       "      <td>XGBoost Regressor</td>\n",
       "      <td>264.157012</td>\n",
       "      <td>190.348482</td>\n",
       "    </tr>\n",
       "    <tr>\n",
       "      <th>3</th>\n",
       "      <td>Tuned XGBoost Regressor</td>\n",
       "      <td>261.777836</td>\n",
       "      <td>186.489325</td>\n",
       "    </tr>\n",
       "  </tbody>\n",
       "</table>\n",
       "</div>"
      ]
     },
     "execution_count": 139,
     "metadata": {},
     "output_type": "execute_result"
    }
   ],
   "execution_count": 139
  },
  {
   "cell_type": "markdown",
   "source": [
    "In general, ensemble learning model performs better than basic linear model, and it is no difference in this dataset.\n",
    "\n",
    "Tuning does improve the model's performance, but the difference is not very significant in both models.\n",
    "\n",
    "As conclusion. the **tuned XGBoost Regressor Model** gives the lowest RMSE and MAE, thus this is the best model."
   ],
   "metadata": {
    "id": "6F8kIoxYfJZu"
   }
  }
 ]
}
