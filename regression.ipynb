{
 "nbformat": 4,
 "nbformat_minor": 0,
 "metadata": {
  "colab": {
   "provenance": []
  },
  "kernelspec": {
   "name": "python3",
   "display_name": "Python 3 (ipykernel)",
   "language": "python"
  },
  "language_info": {
   "name": "python"
  }
 },
 "cells": [
  {
   "cell_type": "markdown",
   "source": [
    "# Problem Statement\n",
    "\n",
    "Despite the availability of Malaysia House Rental listings on platforms like iBilik, propertyguru or mudah.my, prospective tenants often struggle to determine whether **rental prices are justified** based on various property attributes.\n",
    "\n",
    "This project aims to **analyze factors influencing rental prices** to provide potential renters and/or investors with a clearer understanding of the housing market dynamics in this area, and to **predict the expected rental pricing** for the property with given set of attributes."
   ],
   "metadata": {
    "id": "QE_f41K68EL5"
   }
  },
  {
   "cell_type": "markdown",
   "source": [
    "# Data Collection\n",
    "\n",
    "The data source for Regression Task is obtained from [Kaggle](https://www.kaggle.com/datasets/ariewijaya/rent-pricing-kuala-lumpur-malaysi/data), where the dataset itself is sourced from web scraping on the mudah.my website."
   ],
   "metadata": {
    "id": "58t6CB0ZXUS9"
   }
  },
  {
   "metadata": {
    "colab": {
     "base_uri": "https://localhost:8080/"
    },
    "id": "6c-V37o5385h",
    "outputId": "d02c0553-e170-4f4d-e52d-b230798da79f"
   },
   "cell_type": "code",
   "source": [
    "# import os\n",
    "# \n",
    "# repo_path = 'MalaysiaRentalPrediction'\n",
    "# repo_url = 'https://github.com/Xytrix1103/MalaysiaRentalPrediction.git'\n",
    "# \n",
    "# if not os.path.exists(repo_path):\n",
    "# \t!git clone {repo_url}\n",
    "# else:\n",
    "# \tos.chdir(repo_path)\n",
    "# \t!git pull\n",
    "# \tos.chdir('..')"
   ],
   "outputs": [],
   "execution_count": null
  },
  {
   "cell_type": "markdown",
   "source": [
    "# Data Cleaning"
   ],
   "metadata": {
    "id": "IFUqienBxmBJ"
   }
  },
  {
   "cell_type": "code",
   "source": [
    "import numpy as np\n",
    "import pandas as pd\n",
    "import matplotlib.pyplot as plt\n",
    "import seaborn as sns\n",
    "import warnings\n",
    "warnings.filterwarnings('ignore')\n",
    "\n",
    "# Constant for random state seed\n",
    "RANDOM_STATE_SEED = 1\n",
    "\n",
    "%matplotlib inline\n",
    "\n",
    "df = pd.read_csv('./MalaysiaRentalPrediction/mudah-apartment-kl-selangor.csv')\n",
    "df"
   ],
   "metadata": {
    "colab": {
     "base_uri": "https://localhost:8080/",
     "height": 597
    },
    "id": "u-57P0qYxW6k",
    "outputId": "94727af7-c24f-4a3c-cf74-3887d130a104"
   },
   "outputs": [],
   "execution_count": null
  },
  {
   "cell_type": "markdown",
   "source": [
    "We will start by looking at the datatypes of each column"
   ],
   "metadata": {
    "id": "MhQAL-WznXa1"
   }
  },
  {
   "cell_type": "code",
   "source": [
    "df.info()"
   ],
   "metadata": {
    "colab": {
     "base_uri": "https://localhost:8080/"
    },
    "id": "pMT2QhdynW8_",
    "outputId": "7c937ff0-1c5f-45d0-de99-bd50ac2ef465"
   },
   "outputs": [],
   "execution_count": null
  },
  {
   "cell_type": "markdown",
   "source": [
    "There are some columns that are supposed to be float instead of string. How about the possibility of outliers"
   ],
   "metadata": {
    "id": "tzvjy78WncO9"
   }
  },
  {
   "cell_type": "code",
   "source": [
    "df.describe()"
   ],
   "metadata": {
    "colab": {
     "base_uri": "https://localhost:8080/",
     "height": 300
    },
    "id": "n865oLF6PIK8",
    "outputId": "8fc74861-e0ec-4b32-bdb9-c53acf781c49"
   },
   "outputs": [],
   "execution_count": null
  },
  {
   "cell_type": "markdown",
   "source": [
    " It's interesting to have rental unit not completed but listed on the website, i.e. the one with `completion_year` after 2024. Next, let's look at the null values"
   ],
   "metadata": {
    "id": "NBYFDeRpPzmH"
   }
  },
  {
   "cell_type": "code",
   "source": [
    "df.isnull().sum()"
   ],
   "metadata": {
    "colab": {
     "base_uri": "https://localhost:8080/",
     "height": 523
    },
    "id": "jTohl3pgnll0",
    "outputId": "b3455d4d-7c80-4087-98e1-08f92624c4fc"
   },
   "outputs": [],
   "execution_count": null
  },
  {
   "cell_type": "markdown",
   "source": [
    "From the above info, we can list out the task we need to do:\n",
    "\n",
    "1. Columns `monthly_rent`, `size` to be converted to type `int`\n",
    "2. Drop `ads_id` and `prop_name` since they don't help in price prediction\n",
    "3. Dealing with null values:\n",
    "    * `completion_year` to use median / mean imputation\n",
    "    * drop rows where `monthly_rent` is null\n",
    "    * `rooms` to explore, minimum 1 else it shouldn't be listed\n",
    "    * `parking` to fill null with 0\n",
    "    * `bathroom` and `furnished` to be explored\n",
    "    * `facilities` and `additional_facilities` both be dropped since there are too many null values\n",
    "4. Dealing with outliers\n",
    "    * Remove rows where `completion_year` is 2025\n",
    "    * Remove further outliers\n"
   ],
   "metadata": {
    "id": "p4ryx51wocDK"
   }
  },
  {
   "cell_type": "markdown",
   "source": [
    "## Drop columns and rows"
   ],
   "metadata": {
    "id": "k9_5QBS6qxxi"
   }
  },
  {
   "cell_type": "code",
   "source": [
    "df = df.drop(['ads_id', 'prop_name', 'facilities', 'additional_facilities'], axis=1)\n",
    "df = df.dropna(subset=['monthly_rent'], axis=0)\n",
    "df"
   ],
   "metadata": {
    "colab": {
     "base_uri": "https://localhost:8080/",
     "height": 424
    },
    "id": "JDlAzNyJqxLC",
    "outputId": "e1e43d58-7fa8-4fe7-ba02-3a0898fb3c55"
   },
   "outputs": [],
   "execution_count": null
  },
  {
   "cell_type": "markdown",
   "source": [
    "## Datatype Conversion"
   ],
   "metadata": {
    "id": "bx2FvAv6rY_A"
   }
  },
  {
   "cell_type": "code",
   "source": [
    "df['monthly_rent'] = df['monthly_rent'].str.replace(' ', '').str.extract(r'(\\d+\\s*\\d*)').astype(int)\n",
    "df['size'] = df['size'].str.replace(' ', '').str.extract(r'(\\d+\\s*\\d*)').astype(int)\n",
    "df"
   ],
   "metadata": {
    "colab": {
     "base_uri": "https://localhost:8080/",
     "height": 424
    },
    "id": "oOhmhu5Jrf-F",
    "outputId": "7d1cd4ee-2a80-475d-d562-80ad2c292a79"
   },
   "outputs": [],
   "execution_count": null
  },
  {
   "cell_type": "markdown",
   "source": [
    "## Null Imputation"
   ],
   "metadata": {
    "id": "8lbPTBJ2sOw8"
   }
  },
  {
   "cell_type": "markdown",
   "source": [
    "### `completion_year` to use median / mean imputation\n",
    "\n",
    "We will decide based on the distribution of the values in the column"
   ],
   "metadata": {
    "id": "kKVYcgCDsq14"
   }
  },
  {
   "cell_type": "code",
   "source": [
    "sns.histplot(df['completion_year'], kde=True)"
   ],
   "metadata": {
    "colab": {
     "base_uri": "https://localhost:8080/",
     "height": 469
    },
    "id": "upEDiZkrsS2c",
    "outputId": "23476d27-68f0-4ebb-f879-dd29fe58c858"
   },
   "outputs": [],
   "execution_count": null
  },
  {
   "cell_type": "markdown",
   "source": [
    "Since the graph is skewed, we will use median imputation"
   ],
   "metadata": {
    "id": "cUE3ssAXs07_"
   }
  },
  {
   "cell_type": "code",
   "source": [
    "df['completion_year'] = df['completion_year'].fillna(df['completion_year'].median()).astype(int)\n",
    "df"
   ],
   "metadata": {
    "colab": {
     "base_uri": "https://localhost:8080/",
     "height": 424
    },
    "id": "T3a8k-LDs3XV",
    "outputId": "f561cc01-9a97-4bc1-f4f1-54b531794bc6"
   },
   "outputs": [],
   "execution_count": null
  },
  {
   "cell_type": "markdown",
   "source": [
    "### `rooms` to explore, minimum 1 else it shouldn't be listed\n",
    "\n",
    "We look at the rows where `rooms` is null first"
   ],
   "metadata": {
    "id": "eq8Z5WeBs-o9"
   }
  },
  {
   "cell_type": "code",
   "source": [
    "df[df['rooms'].isnull()]"
   ],
   "metadata": {
    "colab": {
     "base_uri": "https://localhost:8080/",
     "height": 238
    },
    "id": "lCY15nG5tb_I",
    "outputId": "55b35b10-ed4a-4026-8e10-e3c6e8765dbf"
   },
   "outputs": [],
   "execution_count": null
  },
  {
   "cell_type": "markdown",
   "source": [
    "As a Malaysian, since the rental is quite low thus we can assume that `rooms` is 1.\n",
    "\n",
    "Also, since these rows are the ones where `bathroom` is also null, thus we assume that this 1 room will have 0 bathroom."
   ],
   "metadata": {
    "id": "6VMJ9_LJtiFR"
   }
  },
  {
   "cell_type": "code",
   "source": [
    "df.loc[df['rooms'].isnull(), ['rooms', 'bathroom']] = [1, 0]\n",
    "df"
   ],
   "metadata": {
    "colab": {
     "base_uri": "https://localhost:8080/",
     "height": 424
    },
    "id": "hZhoTrAwtnoM",
    "outputId": "e133c76e-1c70-4acc-d113-8c94aaf08787"
   },
   "outputs": [],
   "execution_count": null
  },
  {
   "cell_type": "markdown",
   "source": [
    "### `parking` to fill null with 0"
   ],
   "metadata": {
    "id": "6PZ70tS3urOy"
   }
  },
  {
   "cell_type": "code",
   "source": [
    "df.loc[df['parking'].isnull(), 'parking'] = 0\n",
    "df"
   ],
   "metadata": {
    "colab": {
     "base_uri": "https://localhost:8080/",
     "height": 424
    },
    "id": "vuacoWFtuwl2",
    "outputId": "efbddd9f-03a1-4ff0-bfa5-d020e09c1d8d"
   },
   "outputs": [],
   "execution_count": null
  },
  {
   "cell_type": "markdown",
   "source": [
    "Let's check if we can safely convert the above null-imputed columns to integer"
   ],
   "metadata": {
    "id": "vGI9F6J_vTwp"
   }
  },
  {
   "cell_type": "code",
   "source": [
    "for col in ['rooms', 'parking', 'bathroom']:\n",
    "    print(df[col].value_counts())"
   ],
   "metadata": {
    "colab": {
     "base_uri": "https://localhost:8080/"
    },
    "id": "VnsBxEiMvErl",
    "outputId": "0ee5d1eb-27c6-4b7c-880e-ff180f88f7c9"
   },
   "outputs": [],
   "execution_count": null
  },
  {
   "cell_type": "markdown",
   "source": [
    "Only the `rooms` column has non-numeric values `'More than 10'` and only 2 occurrences, so we will just set them as 11"
   ],
   "metadata": {
    "id": "QEq1EGEjvhti"
   }
  },
  {
   "cell_type": "code",
   "source": [
    "df.loc[df['rooms'] == 'More than 10', 'rooms'] = 11\n",
    "df"
   ],
   "metadata": {
    "colab": {
     "base_uri": "https://localhost:8080/",
     "height": 424
    },
    "id": "OuBLeQRmvsV0",
    "outputId": "3b8853da-93d0-4899-f2c8-7c2554e8ceb5"
   },
   "outputs": [],
   "execution_count": null
  },
  {
   "cell_type": "markdown",
   "source": [
    "Now we convert them into `int` type"
   ],
   "metadata": {
    "id": "l7nhyoBTwWyK"
   }
  },
  {
   "cell_type": "code",
   "source": [
    "df['rooms'] = df['rooms'].astype(float).astype(int)\n",
    "df['parking'] = df['parking'].astype(float).astype(int)\n",
    "df['bathroom'] = df['bathroom'].astype(float).astype(int)\n",
    "df"
   ],
   "metadata": {
    "colab": {
     "base_uri": "https://localhost:8080/",
     "height": 424
    },
    "id": "pY2yZN8Avv_z",
    "outputId": "56ae9e59-7762-45df-a5d1-6de2f922a451"
   },
   "outputs": [],
   "execution_count": null
  },
  {
   "cell_type": "markdown",
   "source": [
    "### `furnished` to be explored\n",
    "\n",
    "We will look at what our `furnished` column look like"
   ],
   "metadata": {
    "id": "iRn9MGjKwhV7"
   }
  },
  {
   "cell_type": "code",
   "source": [
    "df['furnished'].value_counts()"
   ],
   "metadata": {
    "colab": {
     "base_uri": "https://localhost:8080/",
     "height": 210
    },
    "id": "60dlUmjCwgOI",
    "outputId": "03a7cfb8-c371-4fe6-a819-a07e821bca91"
   },
   "outputs": [],
   "execution_count": null
  },
  {
   "cell_type": "markdown",
   "source": [
    "Let's look at the rows where `furnished` is null"
   ],
   "metadata": {
    "id": "0AQobFoIwzeM"
   }
  },
  {
   "cell_type": "code",
   "source": [
    "df[df['furnished'].isnull()]"
   ],
   "metadata": {
    "colab": {
     "base_uri": "https://localhost:8080/",
     "height": 143
    },
    "id": "D0A92f3ow6z0",
    "outputId": "07d508f0-878c-4428-9319-64cbc8cb2be8"
   },
   "outputs": [],
   "execution_count": null
  },
  {
   "cell_type": "markdown",
   "source": [
    "We explore the typical `monthly_rent` for 1 room for each `furnished` type"
   ],
   "metadata": {
    "id": "qMZ4XfeDxVCZ"
   }
  },
  {
   "cell_type": "code",
   "source": [
    "df[df['rooms'] == 1]['monthly_rent'].groupby(df['furnished']).mean()"
   ],
   "metadata": {
    "colab": {
     "base_uri": "https://localhost:8080/",
     "height": 210
    },
    "id": "tg2AcrLuxYlG",
    "outputId": "43d16362-d781-496b-878a-564b839ce093"
   },
   "outputs": [],
   "execution_count": null
  },
  {
   "cell_type": "markdown",
   "source": [
    "Okay this looks illogical for partial furnished to be significantly higher than fully furnished, outliers exist so let's use median"
   ],
   "metadata": {
    "id": "QmXwcMn5x_O3"
   }
  },
  {
   "cell_type": "code",
   "source": [
    "df[df['rooms'] == 1]['monthly_rent'].groupby(df['furnished']).median()"
   ],
   "metadata": {
    "colab": {
     "base_uri": "https://localhost:8080/",
     "height": 210
    },
    "id": "rKr8KPOWyEnj",
    "outputId": "738b97a6-cca2-4dfc-ca2a-09940644fb2f"
   },
   "outputs": [],
   "execution_count": null
  },
  {
   "cell_type": "markdown",
   "source": [
    "Since all the rooms with `furnished` as null have rental below 800, we just set them to unfurnished"
   ],
   "metadata": {
    "id": "YNQQInjryGjN"
   }
  },
  {
   "cell_type": "code",
   "source": [
    "df.loc[df['furnished'].isnull(), 'furnished'] = 'Not Furnished'\n",
    "df"
   ],
   "metadata": {
    "colab": {
     "base_uri": "https://localhost:8080/",
     "height": 424
    },
    "id": "T-bwQ-I5yGU0",
    "outputId": "4bf482e4-472d-4d6d-b34e-8b70cb0392fb"
   },
   "outputs": [],
   "execution_count": null
  },
  {
   "cell_type": "markdown",
   "source": [
    "### Recheck Null Imputation\n",
    "\n",
    "We check if all null values are handled"
   ],
   "metadata": {
    "id": "C6ZcBD0JyWxe"
   }
  },
  {
   "cell_type": "code",
   "source": [
    "df.isnull().sum()"
   ],
   "metadata": {
    "colab": {
     "base_uri": "https://localhost:8080/",
     "height": 398
    },
    "id": "2DcIA92syanV",
    "outputId": "7fde8436-fccf-4c14-b67c-2acb6d6b27bf"
   },
   "outputs": [],
   "execution_count": null
  },
  {
   "cell_type": "markdown",
   "source": [
    "### Dealing with Outliers\n",
    "\n",
    "We first remove the rows where the `completion_year` is after 2024."
   ],
   "metadata": {
    "id": "H9LTompMQXYg"
   }
  },
  {
   "cell_type": "code",
   "source": [
    "df = df[df['completion_year'] <= 2024]\n",
    "df"
   ],
   "metadata": {
    "colab": {
     "base_uri": "https://localhost:8080/",
     "height": 424
    },
    "id": "5SW9um1jQeds",
    "outputId": "505459d4-0f20-46ec-a519-3f89316813b7"
   },
   "outputs": [],
   "execution_count": null
  },
  {
   "cell_type": "markdown",
   "source": [
    "Look at the statistics of the data again"
   ],
   "metadata": {
    "id": "v4TZOZpwQhrd"
   }
  },
  {
   "cell_type": "code",
   "source": [
    "df.describe()"
   ],
   "metadata": {
    "colab": {
     "base_uri": "https://localhost:8080/",
     "height": 300
    },
    "id": "D330dPiaQqP5",
    "outputId": "e2969a1f-30ce-4302-ab13-7299bdabc00a"
   },
   "outputs": [],
   "execution_count": null
  },
  {
   "cell_type": "markdown",
   "source": [
    "Using the statistics, we can remove the outliers for `monthly_rent`, `rooms`, `parking`, `bathroom` and `size`"
   ],
   "metadata": {
    "id": "s7XfrLnvQ5jm"
   }
  },
  {
   "cell_type": "code",
   "source": [
    "col_to_rm_outliers = ['monthly_rent', 'rooms', 'parking', 'bathroom', 'size']\n",
    "\n",
    "def remove_outliers(df, col):\n",
    "\n",
    "    q1 = df[col].quantile(0.25)\n",
    "    q3 = df[col].quantile(0.75)\n",
    "    iqr = q3 - q1\n",
    "    lower_bound = q1 - 1.5 * iqr\n",
    "    upper_bound = q3 + 1.5 * iqr\n",
    "    return df[(df[col] >= lower_bound) & (df[col] <= upper_bound)]\n",
    "\n",
    "for col in col_to_rm_outliers:\n",
    "    df = remove_outliers(df, col)\n",
    "\n",
    "df"
   ],
   "metadata": {
    "colab": {
     "base_uri": "https://localhost:8080/",
     "height": 424
    },
    "id": "qkd6_QbGQ3UR",
    "outputId": "08a733f4-b151-47e5-e5fb-b12008467bc5"
   },
   "outputs": [],
   "execution_count": null
  },
  {
   "cell_type": "markdown",
   "source": [
    "Check the statistics again"
   ],
   "metadata": {
    "id": "OQxXOlmWRrLb"
   }
  },
  {
   "cell_type": "code",
   "source": [
    "df.describe()"
   ],
   "metadata": {
    "colab": {
     "base_uri": "https://localhost:8080/",
     "height": 300
    },
    "id": "IyOlwHL4RsUr",
    "outputId": "93c23c56-9cf0-473a-d0fb-f63b67cd0c51"
   },
   "outputs": [],
   "execution_count": null
  },
  {
   "cell_type": "markdown",
   "source": [
    "Looks more normal now"
   ],
   "metadata": {
    "id": "nCGSHKKuRvAg"
   }
  },
  {
   "cell_type": "markdown",
   "source": [
    "## EDA\n",
    "\n"
   ],
   "metadata": {
    "id": "ONQ482337Zxa"
   }
  },
  {
   "cell_type": "markdown",
   "source": [
    "Let's explore the `location` column"
   ],
   "metadata": {
    "id": "1sdFJzhv6W5N"
   }
  },
  {
   "cell_type": "code",
   "source": [
    "df['location'].value_counts()"
   ],
   "metadata": {
    "colab": {
     "base_uri": "https://localhost:8080/",
     "height": 490
    },
    "id": "OpjFQFbn6Qh2",
    "outputId": "850bf1cf-00fd-42aa-d405-b51ad2fe175b"
   },
   "outputs": [],
   "execution_count": null
  },
  {
   "cell_type": "markdown",
   "source": [
    "See how many states we have"
   ],
   "metadata": {
    "id": "T-ccwjaz8DMe"
   }
  },
  {
   "cell_type": "code",
   "source": [
    "df['location'].str.split(' - ').str[0].value_counts()"
   ],
   "metadata": {
    "colab": {
     "base_uri": "https://localhost:8080/",
     "height": 178
    },
    "id": "cm2DWu7N8Au6",
    "outputId": "7d8095e0-73a7-44c5-a9d6-d0c160c33867"
   },
   "outputs": [],
   "execution_count": null
  },
  {
   "cell_type": "markdown",
   "source": [
    "Looks like we only have Selangor and Kuala Lumpur, which is the `region`, how about the cities"
   ],
   "metadata": {
    "id": "h5tNtYlu8GXm"
   }
  },
  {
   "cell_type": "code",
   "source": [
    "df['location'].str.split(' - ').str[1].value_counts()"
   ],
   "metadata": {
    "colab": {
     "base_uri": "https://localhost:8080/",
     "height": 490
    },
    "id": "S14EyiMb7Fwf",
    "outputId": "ce6d63bb-346a-45cd-cb2c-c0102563383a"
   },
   "outputs": [],
   "execution_count": null
  },
  {
   "cell_type": "markdown",
   "source": [
    "Since we have 116 cities here, let's look at the top 15 cities with most number of rental units"
   ],
   "metadata": {
    "id": "sMgEx_cS8LQ4"
   }
  },
  {
   "cell_type": "code",
   "source": [
    "df['location'] = df['location'].str.split(' - ').str[1]\n",
    "top_cities = df['location'].value_counts().reset_index()[:15]\n",
    "\n",
    "# Plot bar chart\n",
    "plt.title('Top 15 Cities with Most Rental Units')\n",
    "sns.barplot(data=top_cities, x='count', y='location')"
   ],
   "metadata": {
    "colab": {
     "base_uri": "https://localhost:8080/",
     "height": 489
    },
    "id": "x4iWHF2x9SdX",
    "outputId": "144051e1-4c83-4829-de5b-4f19a65aec77"
   },
   "outputs": [],
   "execution_count": null
  },
  {
   "cell_type": "markdown",
   "source": [
    "Let's see how property types affect the rental price"
   ],
   "metadata": {
    "id": "7aMEeEFXJbwh"
   }
  },
  {
   "cell_type": "code",
   "source": [
    "type_price = df.groupby(['property_type'])['monthly_rent'].mean().sort_values(ascending=False).reset_index()\n",
    "\n",
    "# Plot bar chart\n",
    "plt.title('Average Monthly Rent for each Property Type')\n",
    "sns.barplot(data=type_price, x='monthly_rent', y='property_type')"
   ],
   "metadata": {
    "colab": {
     "base_uri": "https://localhost:8080/",
     "height": 489
    },
    "id": "Hawaa0BEJeut",
    "outputId": "07706214-bdb9-49cf-a98c-6f46db1169cc"
   },
   "outputs": [],
   "execution_count": null
  },
  {
   "cell_type": "markdown",
   "source": [
    "As expected, high rise buildings' units are more expensive.\n",
    "\n",
    "Let's look at the room per price for each city"
   ],
   "metadata": {
    "id": "ImRx11zP_zvh"
   }
  },
  {
   "cell_type": "code",
   "source": [
    "df2 = df.copy()\n",
    "df2['price_per_room'] = df2['monthly_rent'] / df2['rooms']\n",
    "\n",
    "# Look at only the top 15 most expensive ones\n",
    "expensive_cities = df2.groupby(['location', 'region'])[['price_per_room']].median().sort_values(by='price_per_room', ascending=False)[:15]\n",
    "\n",
    "# Plot bar chart\n",
    "plt.title('Top 15 Cities with Most Expensive Price per Room')\n",
    "sns.barplot(data=expensive_cities, x='price_per_room', y='location', hue='region')"
   ],
   "metadata": {
    "colab": {
     "base_uri": "https://localhost:8080/",
     "height": 489
    },
    "id": "OhOQB8yU-YEs",
    "outputId": "8b34c76d-08db-478f-c999-d155fbaa10ae"
   },
   "outputs": [],
   "execution_count": null
  },
  {
   "cell_type": "markdown",
   "source": [
    "We can see that these cities consists of quite balance amount of representatives from KL and Selangor, but KL still has a slightly higher pricing than Selangor\n",
    "\n",
    "Let's see if the completion date of the unit affects the current rental pricing"
   ],
   "metadata": {
    "id": "v2lBmPTAA3Te"
   }
  },
  {
   "cell_type": "code",
   "source": [
    "pricing_trend = df2.groupby(['completion_year', 'region'])[['price_per_room']].median()\n",
    "\n",
    "# Plot line graph\n",
    "plt.title('Price per Room against Completion Year')\n",
    "sns.lineplot(data=pricing_trend, x='completion_year', y='price_per_room', hue='region')"
   ],
   "metadata": {
    "colab": {
     "base_uri": "https://localhost:8080/",
     "height": 489
    },
    "id": "U0cwXUBtCfFU",
    "outputId": "1e319280-1031-4321-f0b9-982c0f1a0f63"
   },
   "outputs": [],
   "execution_count": null
  },
  {
   "cell_type": "markdown",
   "source": [
    "The completion date slightly affects the rental pricing, with Selangor's being more stable and KL's showing a visible increase in pricing, indicating newer properties in KL can be rented at higher price\n",
    "\n",
    "Let's explore about the size of rental units"
   ],
   "metadata": {
    "id": "tiz8t56xEEfQ"
   }
  },
  {
   "cell_type": "code",
   "source": [
    "# Look at only the top 15 most expensive ones\n",
    "expensive_cities = df2.groupby(['location', 'region'])[['size']].median().sort_values(by='size', ascending=False)[:15]\n",
    "\n",
    "# Plot bar chart\n",
    "plt.title('Top 15 Cities with Biggest Rental Units')\n",
    "sns.barplot(data=expensive_cities, x='size', y='location', hue='region')"
   ],
   "metadata": {
    "id": "Ky0EHHRLEWjd",
    "colab": {
     "base_uri": "https://localhost:8080/",
     "height": 489
    },
    "outputId": "202914ea-9d12-406f-df7c-d305cfa2bf36"
   },
   "outputs": [],
   "execution_count": null
  },
  {
   "cell_type": "markdown",
   "source": [
    "It is quite average from the bar chart above, that neither of KL rental units nor Selangor rental units are bigger generally.\n",
    "\n",
    "Let's also look at the furnished status for KL and Selangor"
   ],
   "metadata": {
    "id": "pTa1Z6k2Cen4"
   }
  },
  {
   "cell_type": "code",
   "source": [
    "df.groupby(['region', 'furnished']).size().unstack(fill_value=0).plot(kind='bar')"
   ],
   "metadata": {
    "id": "d1b3lcp4BiC2",
    "colab": {
     "base_uri": "https://localhost:8080/",
     "height": 548
    },
    "outputId": "c6a73f84-d1ff-4757-c9fe-3c23386b0a95"
   },
   "outputs": [],
   "execution_count": null
  },
  {
   "cell_type": "markdown",
   "source": [
    "From the chart, there are usually less unfurnished rental units listed and more of the partially or fully furnished rental ones.\n",
    "\n",
    "KL has more furnished rooms than Selangor, whereas Selangor has more unfurnished ones than KL\n",
    "\n",
    "How about number of rooms?"
   ],
   "metadata": {
    "id": "YpLeIHGsBxZ_"
   }
  },
  {
   "cell_type": "code",
   "source": [
    "df.groupby(['region', 'rooms']).size().unstack(fill_value=0).plot(kind='bar')"
   ],
   "metadata": {
    "id": "VxbQH5zDCImv",
    "colab": {
     "base_uri": "https://localhost:8080/",
     "height": 552
    },
    "outputId": "d41d73ec-8c3b-4bb6-e377-b788b3380030"
   },
   "outputs": [],
   "execution_count": null
  },
  {
   "cell_type": "markdown",
   "source": [
    "Looks like most Malaysian rental units are of type 3 bedrooms\n",
    "\n",
    "Lastly, let's explore about the property type"
   ],
   "metadata": {
    "id": "_JIAHaVFCNsq"
   }
  },
  {
   "cell_type": "code",
   "source": [
    "df.groupby(['region', 'property_type']).size().unstack(fill_value=0).plot(kind='bar')"
   ],
   "metadata": {
    "id": "hP-mDELbFEJ1",
    "colab": {
     "base_uri": "https://localhost:8080/",
     "height": 548
    },
    "outputId": "6f281d20-09e5-4e96-99b4-8f0a3872a240"
   },
   "outputs": [],
   "execution_count": null
  },
  {
   "cell_type": "markdown",
   "source": [
    "Seems like rental units are mostly consisted of condominium, service residence and apartments, with KL having the most number of condominium units to be rented."
   ],
   "metadata": {
    "id": "CYtAeuZyFaOW"
   }
  },
  {
   "cell_type": "markdown",
   "source": [
    "# Regression\n",
    "\n",
    "Start off by importing relevant libraries"
   ],
   "metadata": {
    "id": "M3llu8_1XLzh"
   }
  },
  {
   "cell_type": "code",
   "source": [
    "from sklearn.model_selection import train_test_split, GridSearchCV\n",
    "from sklearn.metrics import mean_squared_error, mean_absolute_error\n",
    "from sklearn.preprocessing import StandardScaler\n",
    "\n",
    "# Model libraries\n",
    "from sklearn.linear_model import Ridge\n",
    "from xgboost import XGBRegressor"
   ],
   "metadata": {
    "id": "_yl_noC7UIh_"
   },
   "outputs": [],
   "execution_count": null
  },
  {
   "cell_type": "markdown",
   "source": [
    "## Data Preparation\n",
    "\n",
    "Since we have numerical and categorical columns in our dataset, we will need to perform encoding on the categorical ones"
   ],
   "metadata": {
    "id": "saXrlSYOUMr-"
   }
  },
  {
   "cell_type": "code",
   "source": [
    "# Create mapping from property type to average price sorted\n",
    "type_price_map = type_price.drop('monthly_rent', axis=1).reset_index().set_index('property_type')['index']\n",
    "\n",
    "# Use label encoding on property type column\n",
    "df['property_type'] = df['property_type'].map(type_price_map)\n",
    "\n",
    "# Use label encoding on furnished column\n",
    "df.loc[df['furnished'] == 'Not Furnished','furnished'] = 0\n",
    "df.loc[df['furnished'] == 'Partially Furnished','furnished'] = 1\n",
    "df.loc[df['furnished'] == 'Fully Furnished','furnished'] = 2\n",
    "\n",
    "# Use label encoding on region column\n",
    "df.loc[df['region'] == 'Selangor', 'region'] = 0\n",
    "df.loc[df['region'] == 'Kuala Lumpur', 'region'] = 1\n",
    "\n",
    "df"
   ],
   "metadata": {
    "id": "iSNaxlGhizfo",
    "colab": {
     "base_uri": "https://localhost:8080/",
     "height": 424
    },
    "outputId": "a6c58380-badc-4116-a260-282ee4ddfa14"
   },
   "outputs": [],
   "execution_count": null
  },
  {
   "cell_type": "markdown",
   "source": [
    "Now, we are left with `location`, since there are 116 unique cities and it will be unwise to use one-hot encoding, and location is semi related to region so we will not use it forward in the model training later on."
   ],
   "metadata": {
    "id": "Se1wdpQLKhoA"
   }
  },
  {
   "cell_type": "code",
   "source": [
    "df = df.drop('location', axis=1)\n",
    "df"
   ],
   "metadata": {
    "id": "2GBRSOk1Lv1k",
    "colab": {
     "base_uri": "https://localhost:8080/",
     "height": 424
    },
    "outputId": "6affe9be-e404-4645-a6f2-153d8358c8d4"
   },
   "outputs": [],
   "execution_count": null
  },
  {
   "cell_type": "markdown",
   "source": [
    "Now that we are done with the categorical ones into numerical, we have to perform scaling on the numerical columns.\n",
    "\n",
    "Since `completion_year` are between 1977 to 2024, we can create a new feature called `year_since_completion` which stores the number of years since the completion year to 2024, effectively making an impact for the column towards the pricing difference"
   ],
   "metadata": {
    "id": "AkJM-uTwTRUu"
   }
  },
  {
   "cell_type": "code",
   "source": [
    "# \"Scaling\" completion_year\n",
    "df['year_since_completion'] = 2024 - df['completion_year']\n",
    "df = df.drop('completion_year', axis=1)\n",
    "df"
   ],
   "metadata": {
    "id": "672lgOLsTNoN",
    "colab": {
     "base_uri": "https://localhost:8080/",
     "height": 424
    },
    "outputId": "82f4f737-8342-4660-fa00-4697e2cb55c5"
   },
   "outputs": [],
   "execution_count": null
  },
  {
   "cell_type": "markdown",
   "source": [
    "For the `size` column, we need to see the distribution to see if it can be scaled using standard scaler."
   ],
   "metadata": {
    "id": "efxTFyT-VuGT"
   }
  },
  {
   "cell_type": "code",
   "source": [
    "# Check if size data are normally distributed to use standard scaler\n",
    "sns.histplot(df['size'], kde=True)"
   ],
   "metadata": {
    "id": "Ar7NbwWvVYQb",
    "colab": {
     "base_uri": "https://localhost:8080/",
     "height": 466
    },
    "outputId": "8ee9db23-ed43-4db1-fc15-a92dcc1c5844"
   },
   "outputs": [],
   "execution_count": null
  },
  {
   "cell_type": "markdown",
   "source": [
    "Since it is normally distributed, we can use standard scaler to scale the feature values"
   ],
   "metadata": {
    "id": "Tm7yY6SHVzpf"
   }
  },
  {
   "cell_type": "code",
   "source": [
    "# Standard scaler\n",
    "sscaler = StandardScaler()\n",
    "df['size'] = sscaler.fit_transform(df[['size']])\n",
    "df"
   ],
   "metadata": {
    "id": "DxgPm0xlV5gz",
    "colab": {
     "base_uri": "https://localhost:8080/",
     "height": 424
    },
    "outputId": "1b25205f-a50f-4b5c-beb8-f8cb3cdb4db0"
   },
   "outputs": [],
   "execution_count": null
  },
  {
   "cell_type": "markdown",
   "source": [
    "Check if all columns are numerical types"
   ],
   "metadata": {
    "id": "eO37UzrFXzFX"
   }
  },
  {
   "cell_type": "code",
   "source": [
    "df.info()"
   ],
   "metadata": {
    "id": "SCLWKPw9X1iJ",
    "colab": {
     "base_uri": "https://localhost:8080/"
    },
    "outputId": "8a1e2cd0-1642-4e79-fcd1-89ffd150f7ff"
   },
   "outputs": [],
   "execution_count": null
  },
  {
   "cell_type": "code",
   "source": [
    "df['furnished'] = df['furnished'].astype(int)\n",
    "df['region'] = df['region'].astype(int)\n",
    "\n",
    "df.info()"
   ],
   "metadata": {
    "id": "105hiYDrX3DE",
    "colab": {
     "base_uri": "https://localhost:8080/"
    },
    "outputId": "2d03b1ec-ee48-4663-c4e8-e12f254c1200"
   },
   "outputs": [],
   "execution_count": null
  },
  {
   "cell_type": "markdown",
   "source": [
    "## Create feature and target"
   ],
   "metadata": {
    "id": "yPC_VcxpV93l"
   }
  },
  {
   "cell_type": "code",
   "source": [
    "X = df.drop('monthly_rent', axis=1)\n",
    "y = df['monthly_rent']\n",
    "\n",
    "# Split data to 70% training, 30% testing\n",
    "X_train, X_test, y_train, y_test = train_test_split(X, y, test_size=0.3, random_state=RANDOM_STATE_SEED)\n",
    "\n",
    "print(f'X_train shape: {X_train.shape}')\n",
    "print(f'X_test shape: {X_test.shape}')\n",
    "print(f'y_train shape: {y_train.shape}')\n",
    "print(f'y_test shape: {y_test.shape}')"
   ],
   "metadata": {
    "id": "lGJ9rtOUVbqt",
    "colab": {
     "base_uri": "https://localhost:8080/"
    },
    "outputId": "d773f52f-4a20-4871-c33e-e1f4618986e4"
   },
   "outputs": [],
   "execution_count": null
  },
  {
   "cell_type": "markdown",
   "source": [
    "## Model 1: Linear Model\n",
    "\n",
    "Here we use Ridge Model instead of Linear Regression Model as there are tunable parameters for Ridge model."
   ],
   "metadata": {
    "id": "Tue5FgTUXLwS"
   }
  },
  {
   "cell_type": "code",
   "source": [
    "linear_model = Ridge()\n",
    "linear_model.fit(X_train, y_train)\n",
    "\n",
    "y_pred_lm = linear_model.predict(X_test)\n",
    "\n",
    "print('RMSE:', lm_rmse := np.sqrt(mean_squared_error(y_test, y_pred_lm)))\n",
    "print('MAE:', lm_mae := mean_absolute_error(y_test, y_pred_lm))"
   ],
   "metadata": {
    "id": "0a_DvLeFW7cR",
    "colab": {
     "base_uri": "https://localhost:8080/"
    },
    "outputId": "14046ddd-0b16-4849-aa99-e9f953ab3826"
   },
   "outputs": [],
   "execution_count": null
  },
  {
   "cell_type": "markdown",
   "source": [
    "### Tuning Ridge Model"
   ],
   "metadata": {
    "id": "XP_sW9JebPnT"
   }
  },
  {
   "cell_type": "code",
   "source": [
    "param_grid = {\n",
    "    'alpha': [0.0, 0.0001, 0.001, 0.01, 0.1, 1, 10, 100, 1000]\n",
    "}\n",
    "\n",
    "grid_search = GridSearchCV(Ridge(), param_grid, cv=5, scoring='neg_mean_squared_error')\n",
    "grid_search.fit(X_train, y_train)\n",
    "\n",
    "tuned_linear_model = grid_search.best_estimator_\n",
    "tuned_linear_model.fit(X_train, y_train)\n",
    "\n",
    "y_pred_tuned_lm = tuned_linear_model.predict(X_test)\n",
    "\n",
    "print(f'Best parameters: {grid_search.best_params_}')\n",
    "print('RMSE:', tuned_lm_rmse := np.sqrt(mean_squared_error(y_test, y_pred_tuned_lm)))\n",
    "print('MAE:', tuned_lm_mae := mean_absolute_error(y_test, y_pred_tuned_lm))"
   ],
   "metadata": {
    "id": "X_SkLJbibSId",
    "colab": {
     "base_uri": "https://localhost:8080/"
    },
    "outputId": "481800b7-7eac-4eb3-f38e-69efd87123eb"
   },
   "outputs": [],
   "execution_count": null
  },
  {
   "cell_type": "markdown",
   "source": [
    "## Model 2: Ensemble Model\n",
    "\n",
    "Here we are using XGBoost Regressor model as our ensemble model to compare the prediction accuracy with the basic linear model"
   ],
   "metadata": {
    "id": "2l41yVM9XSDC"
   }
  },
  {
   "cell_type": "code",
   "source": [
    "xgb_model = XGBRegressor()\n",
    "xgb_model.fit(X_train, y_train)\n",
    "\n",
    "y_pred_xgb = xgb_model.predict(X_test)\n",
    "\n",
    "print('RMSE:', xgb_rmse := np.sqrt(mean_squared_error(y_test, y_pred_xgb)))\n",
    "print('MAE:', xgb_mae := mean_absolute_error(y_test, y_pred_xgb))"
   ],
   "metadata": {
    "id": "I1fo_VP0XNVO",
    "colab": {
     "base_uri": "https://localhost:8080/"
    },
    "outputId": "712c3f54-b386-4eee-8c7d-b8eb2e3167b0"
   },
   "outputs": [],
   "execution_count": null
  },
  {
   "cell_type": "markdown",
   "source": [
    "### Tuning XGBoost Regressor"
   ],
   "metadata": {
    "id": "vLd09KeDcZrn"
   }
  },
  {
   "cell_type": "code",
   "source": [
    "param_grid = {\n",
    "    'n_estimators': [100, 200, 300],\n",
    "    'max_depth': [3, 5, 7],\n",
    "    'learning_rate': [0.01, 0.1, 0.2],\n",
    "    'subsample': [0.8, 1.0],\n",
    "    'colsample_bytree': [0.8, 1.0]\n",
    "}\n",
    "\n",
    "grid_search = GridSearchCV(XGBRegressor(), param_grid, cv=5, scoring='neg_mean_squared_error')\n",
    "grid_search.fit(X_train, y_train)\n",
    "\n",
    "tuned_xgb_model = grid_search.best_estimator_\n",
    "tuned_xgb_model.fit(X_train, y_train)\n",
    "\n",
    "y_pred_tuned_xgb = tuned_xgb_model.predict(X_test)\n",
    "\n",
    "print(f'Best parameters: {grid_search.best_params_}')\n",
    "print('RMSE:', tuned_xgb_rmse := np.sqrt(mean_squared_error(y_test, y_pred_tuned_xgb)))\n",
    "print('MAE:', tuned_xgb_mae := mean_absolute_error(y_test, y_pred_tuned_xgb))"
   ],
   "metadata": {
    "colab": {
     "base_uri": "https://localhost:8080/"
    },
    "id": "lhsWRUXkcbOJ",
    "outputId": "bc7dd1d7-0c89-4545-8522-7b166cff2ea0"
   },
   "outputs": [],
   "execution_count": null
  },
  {
   "cell_type": "markdown",
   "source": [
    "# Model Results\n",
    "\n",
    "Finally, we look at the model results"
   ],
   "metadata": {
    "id": "LvcBiklKepq1"
   }
  },
  {
   "cell_type": "code",
   "source": [
    "pd.DataFrame({\n",
    "    'Model': ['Ridge Model', 'Tuned Ridge Model', 'XGBoost Regressor', 'Tuned XGBoost Regressor'],\n",
    "    'RMSE': [lm_rmse, tuned_lm_rmse, xgb_rmse, tuned_xgb_rmse],\n",
    "    'MAE': [lm_mae, tuned_lm_mae, xgb_mae, tuned_xgb_mae]\n",
    "})"
   ],
   "metadata": {
    "colab": {
     "base_uri": "https://localhost:8080/",
     "height": 175
    },
    "id": "2NpgEEpKeo-D",
    "outputId": "8df435c0-d8a2-4692-f5b9-9f9dd14b2df4"
   },
   "outputs": [],
   "execution_count": null
  },
  {
   "cell_type": "markdown",
   "source": [
    "In general, ensemble learning model performs better than basic linear model, and it is no difference in this dataset.\n",
    "\n",
    "Tuning does improve the model's performance, but the difference is not very significant in both models.\n",
    "\n",
    "As conclusion. the **tuned XGBoost Regressor Model** gives the lowest RMSE and MAE, thus this is the best model."
   ],
   "metadata": {
    "id": "6F8kIoxYfJZu"
   }
  }
 ]
}
