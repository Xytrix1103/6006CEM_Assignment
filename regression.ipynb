{
 "nbformat": 4,
 "nbformat_minor": 0,
 "metadata": {
  "colab": {
   "provenance": []
  },
  "kernelspec": {
   "name": "python3",
   "display_name": "Python 3 (ipykernel)",
   "language": "python"
  },
  "language_info": {
   "name": "python"
  }
 },
 "cells": [
  {
   "cell_type": "markdown",
   "source": [
    "# Malaysian Rental Pricing Prediction"
   ],
   "metadata": {
    "id": "QE_f41K68EL5"
   }
  },
  {
   "cell_type": "code",
   "source": [
    "import pandas as pd\n",
    "import numpy as np\n",
    "import matplotlib.pyplot as plt\n",
    "import seaborn as sns\n",
    "from sklearn.model_selection import train_test_split, GridSearchCV\n",
    "from sklearn.preprocessing import StandardScaler\n",
    "from sklearn.linear_model import Ridge\n",
    "from sklearn.metrics import mean_squared_error, mean_absolute_error\n",
    "from xgboost import XGBRegressor"
   ],
   "metadata": {
    "id": "lZrgy-XsXw2i",
    "ExecuteTime": {
     "end_time": "2024-11-24T01:28:30.984243Z",
     "start_time": "2024-11-24T01:28:30.979143Z"
    }
   },
   "outputs": [],
   "execution_count": 3
  },
  {
   "cell_type": "markdown",
   "source": [
    "# Data Preprocessing\n",
    "\n",
    "## Loading the dataset\n",
    "\n",
    "Now, let's load the dataset and display the first few rows of the dataset."
   ],
   "metadata": {
    "id": "IFUqienBxmBJ"
   }
  },
  {
   "cell_type": "code",
   "source": [
    "# Constant for random state seed\n",
    "RANDOM_STATE_SEED = 1\n",
    "\n",
    "# Load the dataset\n",
    "data_path = './data/mudah-apartment-kl-selangor.csv'\n",
    "df = pd.read_csv(data_path)\n",
    "\n",
    "# Display the first few rows of the dataset\n",
    "df.head()"
   ],
   "metadata": {
    "colab": {
     "base_uri": "https://localhost:8080/",
     "height": 293
    },
    "id": "u-57P0qYxW6k",
    "outputId": "c77826fc-68e1-47a1-d207-93ce7fe74e6c",
    "ExecuteTime": {
     "end_time": "2024-11-24T01:28:31.064076Z",
     "start_time": "2024-11-24T01:28:30.995250Z"
    }
   },
   "outputs": [
    {
     "data": {
      "text/plain": [
       "      ads_id                      prop_name  completion_year  \\\n",
       "0  100323185       The Hipster @ Taman Desa           2022.0   \n",
       "1  100203973                   Segar Courts              NaN   \n",
       "2  100323128  Pangsapuri Teratak Muhibbah 2              NaN   \n",
       "3  100191767   Sentul Point Suite Apartment           2020.0   \n",
       "4   97022692                Arte Mont Kiara              NaN   \n",
       "\n",
       "         monthly_rent                   location      property_type rooms  \\\n",
       "0  RM 4 200 per month  Kuala Lumpur - Taman Desa        Condominium     5   \n",
       "1  RM 2 300 per month      Kuala Lumpur - Cheras        Condominium     3   \n",
       "2  RM 1 000 per month  Kuala Lumpur - Taman Desa          Apartment     3   \n",
       "3  RM 1 700 per month      Kuala Lumpur - Sentul          Apartment     2   \n",
       "4  RM 1 299 per month  Kuala Lumpur - Mont Kiara  Service Residence     1   \n",
       "\n",
       "   parking  bathroom         size            furnished  \\\n",
       "0      2.0       6.0  1842 sq.ft.      Fully Furnished   \n",
       "1      1.0       2.0  1170 sq.ft.  Partially Furnished   \n",
       "2      NaN       2.0   650 sq.ft.      Fully Furnished   \n",
       "3      1.0       2.0   743 sq.ft.  Partially Furnished   \n",
       "4      1.0       1.0   494 sq.ft.        Not Furnished   \n",
       "\n",
       "                                          facilities  \\\n",
       "0  Minimart, Gymnasium, Security, Playground, Swi...   \n",
       "1  Playground, Parking, Barbeque area, Security, ...   \n",
       "2       Minimart, Jogging Track, Lift, Swimming Pool   \n",
       "3  Parking, Playground, Swimming Pool, Squash Cou...   \n",
       "4  Parking, Security, Lift, Swimming Pool, Playgr...   \n",
       "\n",
       "                            additional_facilities        region  \n",
       "0      Air-Cond, Cooking Allowed, Washing Machine  Kuala Lumpur  \n",
       "1         Air-Cond, Cooking Allowed, Near KTM/LRT  Kuala Lumpur  \n",
       "2                                             NaN  Kuala Lumpur  \n",
       "3  Cooking Allowed, Near KTM/LRT, Washing Machine  Kuala Lumpur  \n",
       "4                                        Air-Cond  Kuala Lumpur  "
      ],
      "text/html": [
       "<div>\n",
       "<style scoped>\n",
       "    .dataframe tbody tr th:only-of-type {\n",
       "        vertical-align: middle;\n",
       "    }\n",
       "\n",
       "    .dataframe tbody tr th {\n",
       "        vertical-align: top;\n",
       "    }\n",
       "\n",
       "    .dataframe thead th {\n",
       "        text-align: right;\n",
       "    }\n",
       "</style>\n",
       "<table border=\"1\" class=\"dataframe\">\n",
       "  <thead>\n",
       "    <tr style=\"text-align: right;\">\n",
       "      <th></th>\n",
       "      <th>ads_id</th>\n",
       "      <th>prop_name</th>\n",
       "      <th>completion_year</th>\n",
       "      <th>monthly_rent</th>\n",
       "      <th>location</th>\n",
       "      <th>property_type</th>\n",
       "      <th>rooms</th>\n",
       "      <th>parking</th>\n",
       "      <th>bathroom</th>\n",
       "      <th>size</th>\n",
       "      <th>furnished</th>\n",
       "      <th>facilities</th>\n",
       "      <th>additional_facilities</th>\n",
       "      <th>region</th>\n",
       "    </tr>\n",
       "  </thead>\n",
       "  <tbody>\n",
       "    <tr>\n",
       "      <th>0</th>\n",
       "      <td>100323185</td>\n",
       "      <td>The Hipster @ Taman Desa</td>\n",
       "      <td>2022.0</td>\n",
       "      <td>RM 4 200 per month</td>\n",
       "      <td>Kuala Lumpur - Taman Desa</td>\n",
       "      <td>Condominium</td>\n",
       "      <td>5</td>\n",
       "      <td>2.0</td>\n",
       "      <td>6.0</td>\n",
       "      <td>1842 sq.ft.</td>\n",
       "      <td>Fully Furnished</td>\n",
       "      <td>Minimart, Gymnasium, Security, Playground, Swi...</td>\n",
       "      <td>Air-Cond, Cooking Allowed, Washing Machine</td>\n",
       "      <td>Kuala Lumpur</td>\n",
       "    </tr>\n",
       "    <tr>\n",
       "      <th>1</th>\n",
       "      <td>100203973</td>\n",
       "      <td>Segar Courts</td>\n",
       "      <td>NaN</td>\n",
       "      <td>RM 2 300 per month</td>\n",
       "      <td>Kuala Lumpur - Cheras</td>\n",
       "      <td>Condominium</td>\n",
       "      <td>3</td>\n",
       "      <td>1.0</td>\n",
       "      <td>2.0</td>\n",
       "      <td>1170 sq.ft.</td>\n",
       "      <td>Partially Furnished</td>\n",
       "      <td>Playground, Parking, Barbeque area, Security, ...</td>\n",
       "      <td>Air-Cond, Cooking Allowed, Near KTM/LRT</td>\n",
       "      <td>Kuala Lumpur</td>\n",
       "    </tr>\n",
       "    <tr>\n",
       "      <th>2</th>\n",
       "      <td>100323128</td>\n",
       "      <td>Pangsapuri Teratak Muhibbah 2</td>\n",
       "      <td>NaN</td>\n",
       "      <td>RM 1 000 per month</td>\n",
       "      <td>Kuala Lumpur - Taman Desa</td>\n",
       "      <td>Apartment</td>\n",
       "      <td>3</td>\n",
       "      <td>NaN</td>\n",
       "      <td>2.0</td>\n",
       "      <td>650 sq.ft.</td>\n",
       "      <td>Fully Furnished</td>\n",
       "      <td>Minimart, Jogging Track, Lift, Swimming Pool</td>\n",
       "      <td>NaN</td>\n",
       "      <td>Kuala Lumpur</td>\n",
       "    </tr>\n",
       "    <tr>\n",
       "      <th>3</th>\n",
       "      <td>100191767</td>\n",
       "      <td>Sentul Point Suite Apartment</td>\n",
       "      <td>2020.0</td>\n",
       "      <td>RM 1 700 per month</td>\n",
       "      <td>Kuala Lumpur - Sentul</td>\n",
       "      <td>Apartment</td>\n",
       "      <td>2</td>\n",
       "      <td>1.0</td>\n",
       "      <td>2.0</td>\n",
       "      <td>743 sq.ft.</td>\n",
       "      <td>Partially Furnished</td>\n",
       "      <td>Parking, Playground, Swimming Pool, Squash Cou...</td>\n",
       "      <td>Cooking Allowed, Near KTM/LRT, Washing Machine</td>\n",
       "      <td>Kuala Lumpur</td>\n",
       "    </tr>\n",
       "    <tr>\n",
       "      <th>4</th>\n",
       "      <td>97022692</td>\n",
       "      <td>Arte Mont Kiara</td>\n",
       "      <td>NaN</td>\n",
       "      <td>RM 1 299 per month</td>\n",
       "      <td>Kuala Lumpur - Mont Kiara</td>\n",
       "      <td>Service Residence</td>\n",
       "      <td>1</td>\n",
       "      <td>1.0</td>\n",
       "      <td>1.0</td>\n",
       "      <td>494 sq.ft.</td>\n",
       "      <td>Not Furnished</td>\n",
       "      <td>Parking, Security, Lift, Swimming Pool, Playgr...</td>\n",
       "      <td>Air-Cond</td>\n",
       "      <td>Kuala Lumpur</td>\n",
       "    </tr>\n",
       "  </tbody>\n",
       "</table>\n",
       "</div>"
      ]
     },
     "execution_count": 4,
     "metadata": {},
     "output_type": "execute_result"
    }
   ],
   "execution_count": 4
  },
  {
   "cell_type": "code",
   "source": [
    "# Check the datatypes\n",
    "df.info()"
   ],
   "metadata": {
    "colab": {
     "base_uri": "https://localhost:8080/"
    },
    "id": "pMT2QhdynW8_",
    "outputId": "57ab85e4-87a2-49e1-e111-a3f3de8216af",
    "ExecuteTime": {
     "end_time": "2024-11-24T01:28:31.268313Z",
     "start_time": "2024-11-24T01:28:31.256096Z"
    }
   },
   "outputs": [
    {
     "name": "stdout",
     "output_type": "stream",
     "text": [
      "<class 'pandas.core.frame.DataFrame'>\n",
      "RangeIndex: 19991 entries, 0 to 19990\n",
      "Data columns (total 14 columns):\n",
      " #   Column                 Non-Null Count  Dtype  \n",
      "---  ------                 --------------  -----  \n",
      " 0   ads_id                 19991 non-null  int64  \n",
      " 1   prop_name              19043 non-null  object \n",
      " 2   completion_year        10806 non-null  float64\n",
      " 3   monthly_rent           19989 non-null  object \n",
      " 4   location               19991 non-null  object \n",
      " 5   property_type          19991 non-null  object \n",
      " 6   rooms                  19985 non-null  object \n",
      " 7   parking                14289 non-null  float64\n",
      " 8   bathroom               19985 non-null  float64\n",
      " 9   size                   19991 non-null  object \n",
      " 10  furnished              19986 non-null  object \n",
      " 11  facilities             17782 non-null  object \n",
      " 12  additional_facilities  14043 non-null  object \n",
      " 13  region                 19991 non-null  object \n",
      "dtypes: float64(3), int64(1), object(10)\n",
      "memory usage: 2.1+ MB\n"
     ]
    }
   ],
   "execution_count": 5
  },
  {
   "cell_type": "code",
   "source": [
    "# Check for outliers\n",
    "df.describe()"
   ],
   "metadata": {
    "colab": {
     "base_uri": "https://localhost:8080/",
     "height": 300
    },
    "id": "n865oLF6PIK8",
    "outputId": "345804a9-443d-4301-dc24-f9b77e44123a",
    "ExecuteTime": {
     "end_time": "2024-11-24T01:28:31.327344Z",
     "start_time": "2024-11-24T01:28:31.315341Z"
    }
   },
   "outputs": [
    {
     "data": {
      "text/plain": [
       "             ads_id  completion_year       parking      bathroom\n",
       "count  1.999100e+04     10806.000000  14289.000000  19985.000000\n",
       "mean   9.970671e+07      2014.822321      1.416824      1.891719\n",
       "std    3.482575e+06         6.735355      0.567368      0.556266\n",
       "min    1.652551e+07      1977.000000      1.000000      1.000000\n",
       "25%    9.984012e+07      2012.000000      1.000000      2.000000\n",
       "50%    1.002127e+08      2017.000000      1.000000      2.000000\n",
       "75%    1.006179e+08      2020.000000      2.000000      2.000000\n",
       "max    1.008546e+08      2025.000000     10.000000      8.000000"
      ],
      "text/html": [
       "<div>\n",
       "<style scoped>\n",
       "    .dataframe tbody tr th:only-of-type {\n",
       "        vertical-align: middle;\n",
       "    }\n",
       "\n",
       "    .dataframe tbody tr th {\n",
       "        vertical-align: top;\n",
       "    }\n",
       "\n",
       "    .dataframe thead th {\n",
       "        text-align: right;\n",
       "    }\n",
       "</style>\n",
       "<table border=\"1\" class=\"dataframe\">\n",
       "  <thead>\n",
       "    <tr style=\"text-align: right;\">\n",
       "      <th></th>\n",
       "      <th>ads_id</th>\n",
       "      <th>completion_year</th>\n",
       "      <th>parking</th>\n",
       "      <th>bathroom</th>\n",
       "    </tr>\n",
       "  </thead>\n",
       "  <tbody>\n",
       "    <tr>\n",
       "      <th>count</th>\n",
       "      <td>1.999100e+04</td>\n",
       "      <td>10806.000000</td>\n",
       "      <td>14289.000000</td>\n",
       "      <td>19985.000000</td>\n",
       "    </tr>\n",
       "    <tr>\n",
       "      <th>mean</th>\n",
       "      <td>9.970671e+07</td>\n",
       "      <td>2014.822321</td>\n",
       "      <td>1.416824</td>\n",
       "      <td>1.891719</td>\n",
       "    </tr>\n",
       "    <tr>\n",
       "      <th>std</th>\n",
       "      <td>3.482575e+06</td>\n",
       "      <td>6.735355</td>\n",
       "      <td>0.567368</td>\n",
       "      <td>0.556266</td>\n",
       "    </tr>\n",
       "    <tr>\n",
       "      <th>min</th>\n",
       "      <td>1.652551e+07</td>\n",
       "      <td>1977.000000</td>\n",
       "      <td>1.000000</td>\n",
       "      <td>1.000000</td>\n",
       "    </tr>\n",
       "    <tr>\n",
       "      <th>25%</th>\n",
       "      <td>9.984012e+07</td>\n",
       "      <td>2012.000000</td>\n",
       "      <td>1.000000</td>\n",
       "      <td>2.000000</td>\n",
       "    </tr>\n",
       "    <tr>\n",
       "      <th>50%</th>\n",
       "      <td>1.002127e+08</td>\n",
       "      <td>2017.000000</td>\n",
       "      <td>1.000000</td>\n",
       "      <td>2.000000</td>\n",
       "    </tr>\n",
       "    <tr>\n",
       "      <th>75%</th>\n",
       "      <td>1.006179e+08</td>\n",
       "      <td>2020.000000</td>\n",
       "      <td>2.000000</td>\n",
       "      <td>2.000000</td>\n",
       "    </tr>\n",
       "    <tr>\n",
       "      <th>max</th>\n",
       "      <td>1.008546e+08</td>\n",
       "      <td>2025.000000</td>\n",
       "      <td>10.000000</td>\n",
       "      <td>8.000000</td>\n",
       "    </tr>\n",
       "  </tbody>\n",
       "</table>\n",
       "</div>"
      ]
     },
     "execution_count": 6,
     "metadata": {},
     "output_type": "execute_result"
    }
   ],
   "execution_count": 6
  },
  {
   "cell_type": "code",
   "source": [
    "# Check column null data\n",
    "df.isnull().sum()"
   ],
   "metadata": {
    "colab": {
     "base_uri": "https://localhost:8080/",
     "height": 523
    },
    "id": "jTohl3pgnll0",
    "outputId": "78a0d529-1a37-43d5-a6a7-e814657ec96e",
    "ExecuteTime": {
     "end_time": "2024-11-24T01:28:31.453547Z",
     "start_time": "2024-11-24T01:28:31.445550Z"
    }
   },
   "outputs": [
    {
     "data": {
      "text/plain": [
       "ads_id                      0\n",
       "prop_name                 948\n",
       "completion_year          9185\n",
       "monthly_rent                2\n",
       "location                    0\n",
       "property_type               0\n",
       "rooms                       6\n",
       "parking                  5702\n",
       "bathroom                    6\n",
       "size                        0\n",
       "furnished                   5\n",
       "facilities               2209\n",
       "additional_facilities    5948\n",
       "region                      0\n",
       "dtype: int64"
      ]
     },
     "execution_count": 7,
     "metadata": {},
     "output_type": "execute_result"
    }
   ],
   "execution_count": 7
  },
  {
   "cell_type": "markdown",
   "source": [
    "From the above info, we can list out the task we need to do:\n",
    "\n",
    "1. Columns `monthly_rent`, `size` to be converted to type `int`\n",
    "2. Drop `ads_id` and `prop_name` since they don't help in price prediction\n",
    "3. Dealing with null values:\n",
    "    * `completion_year` to use median / mean imputation\n",
    "    * drop rows where `monthly_rent` is null\n",
    "    * `rooms` to explore, minimum 1 else it shouldn't be listed\n",
    "    * `parking` to fill null with 0\n",
    "    * `bathroom` and `furnished` to be explored\n",
    "    * `facilities` and `additional_facilities` both be dropped since there are too many null values\n",
    "4. Dealing with outliers\n",
    "    * Remove rows where `completion_year` is 2025\n",
    "    * Remove further outliers\n"
   ],
   "metadata": {
    "id": "p4ryx51wocDK"
   }
  },
  {
   "cell_type": "markdown",
   "source": [
    "## Drop columns and rows"
   ],
   "metadata": {
    "id": "k9_5QBS6qxxi"
   }
  },
  {
   "cell_type": "code",
   "source": [
    "# Drop unused columns\n",
    "df = df.drop(['ads_id', 'prop_name', 'facilities', 'additional_facilities'], axis=1)\n",
    "df = df.dropna(subset=['monthly_rent'], axis=0)\n",
    "df.head(10)"
   ],
   "metadata": {
    "colab": {
     "base_uri": "https://localhost:8080/",
     "height": 363
    },
    "id": "JDlAzNyJqxLC",
    "outputId": "dfa34adc-99c5-461c-c3fd-cfdf77bebf8b",
    "ExecuteTime": {
     "end_time": "2024-11-24T01:28:31.575259Z",
     "start_time": "2024-11-24T01:28:31.559999Z"
    }
   },
   "outputs": [
    {
     "data": {
      "text/plain": [
       "   completion_year        monthly_rent                      location  \\\n",
       "0           2022.0  RM 4 200 per month     Kuala Lumpur - Taman Desa   \n",
       "1              NaN  RM 2 300 per month         Kuala Lumpur - Cheras   \n",
       "2              NaN  RM 1 000 per month     Kuala Lumpur - Taman Desa   \n",
       "3           2020.0  RM 1 700 per month         Kuala Lumpur - Sentul   \n",
       "4              NaN  RM 1 299 per month     Kuala Lumpur - Mont Kiara   \n",
       "5              NaN  RM 1 500 per month        Kuala Lumpur - Setapak   \n",
       "6              NaN  RM 2 900 per month         Kuala Lumpur - Sentul   \n",
       "7           2018.0  RM 1 550 per month         Kuala Lumpur - Ampang   \n",
       "8           2014.0  RM 1 400 per month       Kuala Lumpur - Segambut   \n",
       "9              NaN  RM 1 350 per month  Kuala Lumpur - Desa ParkCity   \n",
       "\n",
       "       property_type rooms  parking  bathroom         size  \\\n",
       "0        Condominium     5      2.0       6.0  1842 sq.ft.   \n",
       "1        Condominium     3      1.0       2.0  1170 sq.ft.   \n",
       "2          Apartment     3      NaN       2.0   650 sq.ft.   \n",
       "3          Apartment     2      1.0       2.0   743 sq.ft.   \n",
       "4  Service Residence     1      1.0       1.0   494 sq.ft.   \n",
       "5          Apartment     3      1.0       2.0   884 sq.ft.   \n",
       "6  Service Residence     3      2.0       2.0   982 sq.ft.   \n",
       "7  Service Residence     1      1.0       1.0   700 sq.ft.   \n",
       "8          Apartment     2      1.0       1.0   750 sq.ft.   \n",
       "9        Condominium     3      1.0       2.0   862 sq.ft.   \n",
       "\n",
       "             furnished        region  \n",
       "0      Fully Furnished  Kuala Lumpur  \n",
       "1  Partially Furnished  Kuala Lumpur  \n",
       "2      Fully Furnished  Kuala Lumpur  \n",
       "3  Partially Furnished  Kuala Lumpur  \n",
       "4        Not Furnished  Kuala Lumpur  \n",
       "5  Partially Furnished  Kuala Lumpur  \n",
       "6      Fully Furnished  Kuala Lumpur  \n",
       "7      Fully Furnished  Kuala Lumpur  \n",
       "8      Fully Furnished  Kuala Lumpur  \n",
       "9  Partially Furnished  Kuala Lumpur  "
      ],
      "text/html": [
       "<div>\n",
       "<style scoped>\n",
       "    .dataframe tbody tr th:only-of-type {\n",
       "        vertical-align: middle;\n",
       "    }\n",
       "\n",
       "    .dataframe tbody tr th {\n",
       "        vertical-align: top;\n",
       "    }\n",
       "\n",
       "    .dataframe thead th {\n",
       "        text-align: right;\n",
       "    }\n",
       "</style>\n",
       "<table border=\"1\" class=\"dataframe\">\n",
       "  <thead>\n",
       "    <tr style=\"text-align: right;\">\n",
       "      <th></th>\n",
       "      <th>completion_year</th>\n",
       "      <th>monthly_rent</th>\n",
       "      <th>location</th>\n",
       "      <th>property_type</th>\n",
       "      <th>rooms</th>\n",
       "      <th>parking</th>\n",
       "      <th>bathroom</th>\n",
       "      <th>size</th>\n",
       "      <th>furnished</th>\n",
       "      <th>region</th>\n",
       "    </tr>\n",
       "  </thead>\n",
       "  <tbody>\n",
       "    <tr>\n",
       "      <th>0</th>\n",
       "      <td>2022.0</td>\n",
       "      <td>RM 4 200 per month</td>\n",
       "      <td>Kuala Lumpur - Taman Desa</td>\n",
       "      <td>Condominium</td>\n",
       "      <td>5</td>\n",
       "      <td>2.0</td>\n",
       "      <td>6.0</td>\n",
       "      <td>1842 sq.ft.</td>\n",
       "      <td>Fully Furnished</td>\n",
       "      <td>Kuala Lumpur</td>\n",
       "    </tr>\n",
       "    <tr>\n",
       "      <th>1</th>\n",
       "      <td>NaN</td>\n",
       "      <td>RM 2 300 per month</td>\n",
       "      <td>Kuala Lumpur - Cheras</td>\n",
       "      <td>Condominium</td>\n",
       "      <td>3</td>\n",
       "      <td>1.0</td>\n",
       "      <td>2.0</td>\n",
       "      <td>1170 sq.ft.</td>\n",
       "      <td>Partially Furnished</td>\n",
       "      <td>Kuala Lumpur</td>\n",
       "    </tr>\n",
       "    <tr>\n",
       "      <th>2</th>\n",
       "      <td>NaN</td>\n",
       "      <td>RM 1 000 per month</td>\n",
       "      <td>Kuala Lumpur - Taman Desa</td>\n",
       "      <td>Apartment</td>\n",
       "      <td>3</td>\n",
       "      <td>NaN</td>\n",
       "      <td>2.0</td>\n",
       "      <td>650 sq.ft.</td>\n",
       "      <td>Fully Furnished</td>\n",
       "      <td>Kuala Lumpur</td>\n",
       "    </tr>\n",
       "    <tr>\n",
       "      <th>3</th>\n",
       "      <td>2020.0</td>\n",
       "      <td>RM 1 700 per month</td>\n",
       "      <td>Kuala Lumpur - Sentul</td>\n",
       "      <td>Apartment</td>\n",
       "      <td>2</td>\n",
       "      <td>1.0</td>\n",
       "      <td>2.0</td>\n",
       "      <td>743 sq.ft.</td>\n",
       "      <td>Partially Furnished</td>\n",
       "      <td>Kuala Lumpur</td>\n",
       "    </tr>\n",
       "    <tr>\n",
       "      <th>4</th>\n",
       "      <td>NaN</td>\n",
       "      <td>RM 1 299 per month</td>\n",
       "      <td>Kuala Lumpur - Mont Kiara</td>\n",
       "      <td>Service Residence</td>\n",
       "      <td>1</td>\n",
       "      <td>1.0</td>\n",
       "      <td>1.0</td>\n",
       "      <td>494 sq.ft.</td>\n",
       "      <td>Not Furnished</td>\n",
       "      <td>Kuala Lumpur</td>\n",
       "    </tr>\n",
       "    <tr>\n",
       "      <th>5</th>\n",
       "      <td>NaN</td>\n",
       "      <td>RM 1 500 per month</td>\n",
       "      <td>Kuala Lumpur - Setapak</td>\n",
       "      <td>Apartment</td>\n",
       "      <td>3</td>\n",
       "      <td>1.0</td>\n",
       "      <td>2.0</td>\n",
       "      <td>884 sq.ft.</td>\n",
       "      <td>Partially Furnished</td>\n",
       "      <td>Kuala Lumpur</td>\n",
       "    </tr>\n",
       "    <tr>\n",
       "      <th>6</th>\n",
       "      <td>NaN</td>\n",
       "      <td>RM 2 900 per month</td>\n",
       "      <td>Kuala Lumpur - Sentul</td>\n",
       "      <td>Service Residence</td>\n",
       "      <td>3</td>\n",
       "      <td>2.0</td>\n",
       "      <td>2.0</td>\n",
       "      <td>982 sq.ft.</td>\n",
       "      <td>Fully Furnished</td>\n",
       "      <td>Kuala Lumpur</td>\n",
       "    </tr>\n",
       "    <tr>\n",
       "      <th>7</th>\n",
       "      <td>2018.0</td>\n",
       "      <td>RM 1 550 per month</td>\n",
       "      <td>Kuala Lumpur - Ampang</td>\n",
       "      <td>Service Residence</td>\n",
       "      <td>1</td>\n",
       "      <td>1.0</td>\n",
       "      <td>1.0</td>\n",
       "      <td>700 sq.ft.</td>\n",
       "      <td>Fully Furnished</td>\n",
       "      <td>Kuala Lumpur</td>\n",
       "    </tr>\n",
       "    <tr>\n",
       "      <th>8</th>\n",
       "      <td>2014.0</td>\n",
       "      <td>RM 1 400 per month</td>\n",
       "      <td>Kuala Lumpur - Segambut</td>\n",
       "      <td>Apartment</td>\n",
       "      <td>2</td>\n",
       "      <td>1.0</td>\n",
       "      <td>1.0</td>\n",
       "      <td>750 sq.ft.</td>\n",
       "      <td>Fully Furnished</td>\n",
       "      <td>Kuala Lumpur</td>\n",
       "    </tr>\n",
       "    <tr>\n",
       "      <th>9</th>\n",
       "      <td>NaN</td>\n",
       "      <td>RM 1 350 per month</td>\n",
       "      <td>Kuala Lumpur - Desa ParkCity</td>\n",
       "      <td>Condominium</td>\n",
       "      <td>3</td>\n",
       "      <td>1.0</td>\n",
       "      <td>2.0</td>\n",
       "      <td>862 sq.ft.</td>\n",
       "      <td>Partially Furnished</td>\n",
       "      <td>Kuala Lumpur</td>\n",
       "    </tr>\n",
       "  </tbody>\n",
       "</table>\n",
       "</div>"
      ]
     },
     "execution_count": 8,
     "metadata": {},
     "output_type": "execute_result"
    }
   ],
   "execution_count": 8
  },
  {
   "cell_type": "markdown",
   "source": [
    "## Datatype Conversion"
   ],
   "metadata": {
    "id": "bx2FvAv6rY_A"
   }
  },
  {
   "cell_type": "code",
   "source": [
    "# Columns monthly_rent, size to be converted to type int\n",
    "df['monthly_rent'] = df['monthly_rent'].str.replace(' ', '').str.extract(r'(\\d+\\s*\\d*)').astype(int)\n",
    "df['size'] = df['size'].str.replace(' ', '').str.extract(r'(\\d+\\s*\\d*)').astype(int)\n",
    "df.head()"
   ],
   "metadata": {
    "colab": {
     "base_uri": "https://localhost:8080/",
     "height": 206
    },
    "id": "oOhmhu5Jrf-F",
    "outputId": "3f2adb0a-e272-473e-afde-a5204fe77eb3",
    "ExecuteTime": {
     "end_time": "2024-11-24T01:28:31.766774Z",
     "start_time": "2024-11-24T01:28:31.727614Z"
    }
   },
   "outputs": [
    {
     "data": {
      "text/plain": [
       "   completion_year  monthly_rent                   location  \\\n",
       "0           2022.0          4200  Kuala Lumpur - Taman Desa   \n",
       "1              NaN          2300      Kuala Lumpur - Cheras   \n",
       "2              NaN          1000  Kuala Lumpur - Taman Desa   \n",
       "3           2020.0          1700      Kuala Lumpur - Sentul   \n",
       "4              NaN          1299  Kuala Lumpur - Mont Kiara   \n",
       "\n",
       "       property_type rooms  parking  bathroom  size            furnished  \\\n",
       "0        Condominium     5      2.0       6.0  1842      Fully Furnished   \n",
       "1        Condominium     3      1.0       2.0  1170  Partially Furnished   \n",
       "2          Apartment     3      NaN       2.0   650      Fully Furnished   \n",
       "3          Apartment     2      1.0       2.0   743  Partially Furnished   \n",
       "4  Service Residence     1      1.0       1.0   494        Not Furnished   \n",
       "\n",
       "         region  \n",
       "0  Kuala Lumpur  \n",
       "1  Kuala Lumpur  \n",
       "2  Kuala Lumpur  \n",
       "3  Kuala Lumpur  \n",
       "4  Kuala Lumpur  "
      ],
      "text/html": [
       "<div>\n",
       "<style scoped>\n",
       "    .dataframe tbody tr th:only-of-type {\n",
       "        vertical-align: middle;\n",
       "    }\n",
       "\n",
       "    .dataframe tbody tr th {\n",
       "        vertical-align: top;\n",
       "    }\n",
       "\n",
       "    .dataframe thead th {\n",
       "        text-align: right;\n",
       "    }\n",
       "</style>\n",
       "<table border=\"1\" class=\"dataframe\">\n",
       "  <thead>\n",
       "    <tr style=\"text-align: right;\">\n",
       "      <th></th>\n",
       "      <th>completion_year</th>\n",
       "      <th>monthly_rent</th>\n",
       "      <th>location</th>\n",
       "      <th>property_type</th>\n",
       "      <th>rooms</th>\n",
       "      <th>parking</th>\n",
       "      <th>bathroom</th>\n",
       "      <th>size</th>\n",
       "      <th>furnished</th>\n",
       "      <th>region</th>\n",
       "    </tr>\n",
       "  </thead>\n",
       "  <tbody>\n",
       "    <tr>\n",
       "      <th>0</th>\n",
       "      <td>2022.0</td>\n",
       "      <td>4200</td>\n",
       "      <td>Kuala Lumpur - Taman Desa</td>\n",
       "      <td>Condominium</td>\n",
       "      <td>5</td>\n",
       "      <td>2.0</td>\n",
       "      <td>6.0</td>\n",
       "      <td>1842</td>\n",
       "      <td>Fully Furnished</td>\n",
       "      <td>Kuala Lumpur</td>\n",
       "    </tr>\n",
       "    <tr>\n",
       "      <th>1</th>\n",
       "      <td>NaN</td>\n",
       "      <td>2300</td>\n",
       "      <td>Kuala Lumpur - Cheras</td>\n",
       "      <td>Condominium</td>\n",
       "      <td>3</td>\n",
       "      <td>1.0</td>\n",
       "      <td>2.0</td>\n",
       "      <td>1170</td>\n",
       "      <td>Partially Furnished</td>\n",
       "      <td>Kuala Lumpur</td>\n",
       "    </tr>\n",
       "    <tr>\n",
       "      <th>2</th>\n",
       "      <td>NaN</td>\n",
       "      <td>1000</td>\n",
       "      <td>Kuala Lumpur - Taman Desa</td>\n",
       "      <td>Apartment</td>\n",
       "      <td>3</td>\n",
       "      <td>NaN</td>\n",
       "      <td>2.0</td>\n",
       "      <td>650</td>\n",
       "      <td>Fully Furnished</td>\n",
       "      <td>Kuala Lumpur</td>\n",
       "    </tr>\n",
       "    <tr>\n",
       "      <th>3</th>\n",
       "      <td>2020.0</td>\n",
       "      <td>1700</td>\n",
       "      <td>Kuala Lumpur - Sentul</td>\n",
       "      <td>Apartment</td>\n",
       "      <td>2</td>\n",
       "      <td>1.0</td>\n",
       "      <td>2.0</td>\n",
       "      <td>743</td>\n",
       "      <td>Partially Furnished</td>\n",
       "      <td>Kuala Lumpur</td>\n",
       "    </tr>\n",
       "    <tr>\n",
       "      <th>4</th>\n",
       "      <td>NaN</td>\n",
       "      <td>1299</td>\n",
       "      <td>Kuala Lumpur - Mont Kiara</td>\n",
       "      <td>Service Residence</td>\n",
       "      <td>1</td>\n",
       "      <td>1.0</td>\n",
       "      <td>1.0</td>\n",
       "      <td>494</td>\n",
       "      <td>Not Furnished</td>\n",
       "      <td>Kuala Lumpur</td>\n",
       "    </tr>\n",
       "  </tbody>\n",
       "</table>\n",
       "</div>"
      ]
     },
     "execution_count": 9,
     "metadata": {},
     "output_type": "execute_result"
    }
   ],
   "execution_count": 9
  },
  {
   "cell_type": "markdown",
   "source": [
    "## Null Imputation"
   ],
   "metadata": {
    "id": "8lbPTBJ2sOw8"
   }
  },
  {
   "cell_type": "markdown",
   "source": [
    "### `completion_year` to use median / mean imputation"
   ],
   "metadata": {
    "id": "kKVYcgCDsq14"
   }
  },
  {
   "cell_type": "code",
   "source": [
    "# Check distributions in the column\n",
    "sns.histplot(df['completion_year'], kde=True)"
   ],
   "metadata": {
    "colab": {
     "base_uri": "https://localhost:8080/",
     "height": 469
    },
    "id": "upEDiZkrsS2c",
    "outputId": "535f63c9-30bf-4c2d-b4b4-8c7c6560d15f",
    "ExecuteTime": {
     "end_time": "2024-11-24T01:28:32.065730Z",
     "start_time": "2024-11-24T01:28:31.852555Z"
    }
   },
   "outputs": [
    {
     "data": {
      "text/plain": [
       "<Axes: xlabel='completion_year', ylabel='Count'>"
      ]
     },
     "execution_count": 10,
     "metadata": {},
     "output_type": "execute_result"
    },
    {
     "data": {
      "text/plain": [
       "<Figure size 640x480 with 1 Axes>"
      ],
      "image/png": "[encoded data removed]"
     },
     "metadata": {},
     "output_type": "display_data"
    }
   ],
   "execution_count": 10
  },
  {
   "cell_type": "code",
   "source": [
    "# The graph is skewed, use median imputation\n",
    "df['completion_year'] = df['completion_year'].fillna(df['completion_year'].median()).astype(int)\n",
    "df.head()"
   ],
   "metadata": {
    "colab": {
     "base_uri": "https://localhost:8080/",
     "height": 206
    },
    "id": "T3a8k-LDs3XV",
    "outputId": "a55b1a86-af38-4c71-9934-72019526cfd1",
    "ExecuteTime": {
     "end_time": "2024-11-24T01:28:32.097854Z",
     "start_time": "2024-11-24T01:28:32.089638Z"
    }
   },
   "outputs": [
    {
     "data": {
      "text/plain": [
       "   completion_year  monthly_rent                   location  \\\n",
       "0             2022          4200  Kuala Lumpur - Taman Desa   \n",
       "1             2017          2300      Kuala Lumpur - Cheras   \n",
       "2             2017          1000  Kuala Lumpur - Taman Desa   \n",
       "3             2020          1700      Kuala Lumpur - Sentul   \n",
       "4             2017          1299  Kuala Lumpur - Mont Kiara   \n",
       "\n",
       "       property_type rooms  parking  bathroom  size            furnished  \\\n",
       "0        Condominium     5      2.0       6.0  1842      Fully Furnished   \n",
       "1        Condominium     3      1.0       2.0  1170  Partially Furnished   \n",
       "2          Apartment     3      NaN       2.0   650      Fully Furnished   \n",
       "3          Apartment     2      1.0       2.0   743  Partially Furnished   \n",
       "4  Service Residence     1      1.0       1.0   494        Not Furnished   \n",
       "\n",
       "         region  \n",
       "0  Kuala Lumpur  \n",
       "1  Kuala Lumpur  \n",
       "2  Kuala Lumpur  \n",
       "3  Kuala Lumpur  \n",
       "4  Kuala Lumpur  "
      ],
      "text/html": [
       "<div>\n",
       "<style scoped>\n",
       "    .dataframe tbody tr th:only-of-type {\n",
       "        vertical-align: middle;\n",
       "    }\n",
       "\n",
       "    .dataframe tbody tr th {\n",
       "        vertical-align: top;\n",
       "    }\n",
       "\n",
       "    .dataframe thead th {\n",
       "        text-align: right;\n",
       "    }\n",
       "</style>\n",
       "<table border=\"1\" class=\"dataframe\">\n",
       "  <thead>\n",
       "    <tr style=\"text-align: right;\">\n",
       "      <th></th>\n",
       "      <th>completion_year</th>\n",
       "      <th>monthly_rent</th>\n",
       "      <th>location</th>\n",
       "      <th>property_type</th>\n",
       "      <th>rooms</th>\n",
       "      <th>parking</th>\n",
       "      <th>bathroom</th>\n",
       "      <th>size</th>\n",
       "      <th>furnished</th>\n",
       "      <th>region</th>\n",
       "    </tr>\n",
       "  </thead>\n",
       "  <tbody>\n",
       "    <tr>\n",
       "      <th>0</th>\n",
       "      <td>2022</td>\n",
       "      <td>4200</td>\n",
       "      <td>Kuala Lumpur - Taman Desa</td>\n",
       "      <td>Condominium</td>\n",
       "      <td>5</td>\n",
       "      <td>2.0</td>\n",
       "      <td>6.0</td>\n",
       "      <td>1842</td>\n",
       "      <td>Fully Furnished</td>\n",
       "      <td>Kuala Lumpur</td>\n",
       "    </tr>\n",
       "    <tr>\n",
       "      <th>1</th>\n",
       "      <td>2017</td>\n",
       "      <td>2300</td>\n",
       "      <td>Kuala Lumpur - Cheras</td>\n",
       "      <td>Condominium</td>\n",
       "      <td>3</td>\n",
       "      <td>1.0</td>\n",
       "      <td>2.0</td>\n",
       "      <td>1170</td>\n",
       "      <td>Partially Furnished</td>\n",
       "      <td>Kuala Lumpur</td>\n",
       "    </tr>\n",
       "    <tr>\n",
       "      <th>2</th>\n",
       "      <td>2017</td>\n",
       "      <td>1000</td>\n",
       "      <td>Kuala Lumpur - Taman Desa</td>\n",
       "      <td>Apartment</td>\n",
       "      <td>3</td>\n",
       "      <td>NaN</td>\n",
       "      <td>2.0</td>\n",
       "      <td>650</td>\n",
       "      <td>Fully Furnished</td>\n",
       "      <td>Kuala Lumpur</td>\n",
       "    </tr>\n",
       "    <tr>\n",
       "      <th>3</th>\n",
       "      <td>2020</td>\n",
       "      <td>1700</td>\n",
       "      <td>Kuala Lumpur - Sentul</td>\n",
       "      <td>Apartment</td>\n",
       "      <td>2</td>\n",
       "      <td>1.0</td>\n",
       "      <td>2.0</td>\n",
       "      <td>743</td>\n",
       "      <td>Partially Furnished</td>\n",
       "      <td>Kuala Lumpur</td>\n",
       "    </tr>\n",
       "    <tr>\n",
       "      <th>4</th>\n",
       "      <td>2017</td>\n",
       "      <td>1299</td>\n",
       "      <td>Kuala Lumpur - Mont Kiara</td>\n",
       "      <td>Service Residence</td>\n",
       "      <td>1</td>\n",
       "      <td>1.0</td>\n",
       "      <td>1.0</td>\n",
       "      <td>494</td>\n",
       "      <td>Not Furnished</td>\n",
       "      <td>Kuala Lumpur</td>\n",
       "    </tr>\n",
       "  </tbody>\n",
       "</table>\n",
       "</div>"
      ]
     },
     "execution_count": 11,
     "metadata": {},
     "output_type": "execute_result"
    }
   ],
   "execution_count": 11
  },
  {
   "cell_type": "markdown",
   "source": [
    "### `rooms` to explore, minimum 1 else it shouldn't be listed"
   ],
   "metadata": {
    "id": "eq8Z5WeBs-o9"
   }
  },
  {
   "cell_type": "code",
   "source": [
    "# View rowswhere 'rooms' is null\n",
    "df[df['rooms'].isnull()]"
   ],
   "metadata": {
    "colab": {
     "base_uri": "https://localhost:8080/",
     "height": 238
    },
    "id": "lCY15nG5tb_I",
    "outputId": "f2d98d73-3e86-4b75-a02a-224e4712c2ef",
    "ExecuteTime": {
     "end_time": "2024-11-24T01:28:32.161758Z",
     "start_time": "2024-11-24T01:28:32.153367Z"
    }
   },
   "outputs": [
    {
     "data": {
      "text/plain": [
       "       completion_year  monthly_rent                        location  \\\n",
       "3668              2017           150           Kuala Lumpur - Sentul   \n",
       "8112              2017           100  Kuala Lumpur - Mid Valley City   \n",
       "12875             2017           650                   Selangor - 43   \n",
       "15765             2017            85       Selangor - Seri Kembangan   \n",
       "16812             2017           600               Selangor - Kajang   \n",
       "16991             2017           150         Selangor - Sungai Buloh   \n",
       "\n",
       "                                           property_type rooms  parking  \\\n",
       "3668   Condo / Services residence / Penthouse / Townh...   NaN      NaN   \n",
       "8112                                         Residential   NaN      NaN   \n",
       "12875                                             Houses   NaN      1.0   \n",
       "15765                                               Soho   NaN      1.0   \n",
       "16812                                             Others   NaN      NaN   \n",
       "16991                                             Others   NaN      NaN   \n",
       "\n",
       "       bathroom  size        furnished        region  \n",
       "3668        NaN   100    Not Furnished  Kuala Lumpur  \n",
       "8112        NaN   100              NaN  Kuala Lumpur  \n",
       "12875       NaN   300  Fully Furnished      Selangor  \n",
       "15765       NaN   761              NaN      Selangor  \n",
       "16812       NaN   750              NaN      Selangor  \n",
       "16991       NaN    25    Not Furnished      Selangor  "
      ],
      "text/html": [
       "<div>\n",
       "<style scoped>\n",
       "    .dataframe tbody tr th:only-of-type {\n",
       "        vertical-align: middle;\n",
       "    }\n",
       "\n",
       "    .dataframe tbody tr th {\n",
       "        vertical-align: top;\n",
       "    }\n",
       "\n",
       "    .dataframe thead th {\n",
       "        text-align: right;\n",
       "    }\n",
       "</style>\n",
       "<table border=\"1\" class=\"dataframe\">\n",
       "  <thead>\n",
       "    <tr style=\"text-align: right;\">\n",
       "      <th></th>\n",
       "      <th>completion_year</th>\n",
       "      <th>monthly_rent</th>\n",
       "      <th>location</th>\n",
       "      <th>property_type</th>\n",
       "      <th>rooms</th>\n",
       "      <th>parking</th>\n",
       "      <th>bathroom</th>\n",
       "      <th>size</th>\n",
       "      <th>furnished</th>\n",
       "      <th>region</th>\n",
       "    </tr>\n",
       "  </thead>\n",
       "  <tbody>\n",
       "    <tr>\n",
       "      <th>3668</th>\n",
       "      <td>2017</td>\n",
       "      <td>150</td>\n",
       "      <td>Kuala Lumpur - Sentul</td>\n",
       "      <td>Condo / Services residence / Penthouse / Townh...</td>\n",
       "      <td>NaN</td>\n",
       "      <td>NaN</td>\n",
       "      <td>NaN</td>\n",
       "      <td>100</td>\n",
       "      <td>Not Furnished</td>\n",
       "      <td>Kuala Lumpur</td>\n",
       "    </tr>\n",
       "    <tr>\n",
       "      <th>8112</th>\n",
       "      <td>2017</td>\n",
       "      <td>100</td>\n",
       "      <td>Kuala Lumpur - Mid Valley City</td>\n",
       "      <td>Residential</td>\n",
       "      <td>NaN</td>\n",
       "      <td>NaN</td>\n",
       "      <td>NaN</td>\n",
       "      <td>100</td>\n",
       "      <td>NaN</td>\n",
       "      <td>Kuala Lumpur</td>\n",
       "    </tr>\n",
       "    <tr>\n",
       "      <th>12875</th>\n",
       "      <td>2017</td>\n",
       "      <td>650</td>\n",
       "      <td>Selangor - 43</td>\n",
       "      <td>Houses</td>\n",
       "      <td>NaN</td>\n",
       "      <td>1.0</td>\n",
       "      <td>NaN</td>\n",
       "      <td>300</td>\n",
       "      <td>Fully Furnished</td>\n",
       "      <td>Selangor</td>\n",
       "    </tr>\n",
       "    <tr>\n",
       "      <th>15765</th>\n",
       "      <td>2017</td>\n",
       "      <td>85</td>\n",
       "      <td>Selangor - Seri Kembangan</td>\n",
       "      <td>Soho</td>\n",
       "      <td>NaN</td>\n",
       "      <td>1.0</td>\n",
       "      <td>NaN</td>\n",
       "      <td>761</td>\n",
       "      <td>NaN</td>\n",
       "      <td>Selangor</td>\n",
       "    </tr>\n",
       "    <tr>\n",
       "      <th>16812</th>\n",
       "      <td>2017</td>\n",
       "      <td>600</td>\n",
       "      <td>Selangor - Kajang</td>\n",
       "      <td>Others</td>\n",
       "      <td>NaN</td>\n",
       "      <td>NaN</td>\n",
       "      <td>NaN</td>\n",
       "      <td>750</td>\n",
       "      <td>NaN</td>\n",
       "      <td>Selangor</td>\n",
       "    </tr>\n",
       "    <tr>\n",
       "      <th>16991</th>\n",
       "      <td>2017</td>\n",
       "      <td>150</td>\n",
       "      <td>Selangor - Sungai Buloh</td>\n",
       "      <td>Others</td>\n",
       "      <td>NaN</td>\n",
       "      <td>NaN</td>\n",
       "      <td>NaN</td>\n",
       "      <td>25</td>\n",
       "      <td>Not Furnished</td>\n",
       "      <td>Selangor</td>\n",
       "    </tr>\n",
       "  </tbody>\n",
       "</table>\n",
       "</div>"
      ]
     },
     "execution_count": 12,
     "metadata": {},
     "output_type": "execute_result"
    }
   ],
   "execution_count": 12
  },
  {
   "cell_type": "markdown",
   "source": [
    "As a Malaysian, since the rental is quite low thus we can assume that `rooms` is 1.\n",
    "\n",
    "Also, since these rows are the ones where `bathroom` is also null, thus we assume that this 1 room will have 0 bathroom."
   ],
   "metadata": {
    "id": "6VMJ9_LJtiFR"
   }
  },
  {
   "cell_type": "code",
   "source": [
    "df.loc[df['rooms'].isnull(), ['rooms', 'bathroom']] = [1, 0]\n",
    "df.head()"
   ],
   "metadata": {
    "colab": {
     "base_uri": "https://localhost:8080/",
     "height": 206
    },
    "id": "hZhoTrAwtnoM",
    "outputId": "c7f383a4-9b00-4c08-f6f5-b9be03be7fb6",
    "ExecuteTime": {
     "end_time": "2024-11-24T01:28:32.364763Z",
     "start_time": "2024-11-24T01:28:32.357468Z"
    }
   },
   "outputs": [
    {
     "data": {
      "text/plain": [
       "   completion_year  monthly_rent                   location  \\\n",
       "0             2022          4200  Kuala Lumpur - Taman Desa   \n",
       "1             2017          2300      Kuala Lumpur - Cheras   \n",
       "2             2017          1000  Kuala Lumpur - Taman Desa   \n",
       "3             2020          1700      Kuala Lumpur - Sentul   \n",
       "4             2017          1299  Kuala Lumpur - Mont Kiara   \n",
       "\n",
       "       property_type rooms  parking  bathroom  size            furnished  \\\n",
       "0        Condominium     5      2.0       6.0  1842      Fully Furnished   \n",
       "1        Condominium     3      1.0       2.0  1170  Partially Furnished   \n",
       "2          Apartment     3      NaN       2.0   650      Fully Furnished   \n",
       "3          Apartment     2      1.0       2.0   743  Partially Furnished   \n",
       "4  Service Residence     1      1.0       1.0   494        Not Furnished   \n",
       "\n",
       "         region  \n",
       "0  Kuala Lumpur  \n",
       "1  Kuala Lumpur  \n",
       "2  Kuala Lumpur  \n",
       "3  Kuala Lumpur  \n",
       "4  Kuala Lumpur  "
      ],
      "text/html": [
       "<div>\n",
       "<style scoped>\n",
       "    .dataframe tbody tr th:only-of-type {\n",
       "        vertical-align: middle;\n",
       "    }\n",
       "\n",
       "    .dataframe tbody tr th {\n",
       "        vertical-align: top;\n",
       "    }\n",
       "\n",
       "    .dataframe thead th {\n",
       "        text-align: right;\n",
       "    }\n",
       "</style>\n",
       "<table border=\"1\" class=\"dataframe\">\n",
       "  <thead>\n",
       "    <tr style=\"text-align: right;\">\n",
       "      <th></th>\n",
       "      <th>completion_year</th>\n",
       "      <th>monthly_rent</th>\n",
       "      <th>location</th>\n",
       "      <th>property_type</th>\n",
       "      <th>rooms</th>\n",
       "      <th>parking</th>\n",
       "      <th>bathroom</th>\n",
       "      <th>size</th>\n",
       "      <th>furnished</th>\n",
       "      <th>region</th>\n",
       "    </tr>\n",
       "  </thead>\n",
       "  <tbody>\n",
       "    <tr>\n",
       "      <th>0</th>\n",
       "      <td>2022</td>\n",
       "      <td>4200</td>\n",
       "      <td>Kuala Lumpur - Taman Desa</td>\n",
       "      <td>Condominium</td>\n",
       "      <td>5</td>\n",
       "      <td>2.0</td>\n",
       "      <td>6.0</td>\n",
       "      <td>1842</td>\n",
       "      <td>Fully Furnished</td>\n",
       "      <td>Kuala Lumpur</td>\n",
       "    </tr>\n",
       "    <tr>\n",
       "      <th>1</th>\n",
       "      <td>2017</td>\n",
       "      <td>2300</td>\n",
       "      <td>Kuala Lumpur - Cheras</td>\n",
       "      <td>Condominium</td>\n",
       "      <td>3</td>\n",
       "      <td>1.0</td>\n",
       "      <td>2.0</td>\n",
       "      <td>1170</td>\n",
       "      <td>Partially Furnished</td>\n",
       "      <td>Kuala Lumpur</td>\n",
       "    </tr>\n",
       "    <tr>\n",
       "      <th>2</th>\n",
       "      <td>2017</td>\n",
       "      <td>1000</td>\n",
       "      <td>Kuala Lumpur - Taman Desa</td>\n",
       "      <td>Apartment</td>\n",
       "      <td>3</td>\n",
       "      <td>NaN</td>\n",
       "      <td>2.0</td>\n",
       "      <td>650</td>\n",
       "      <td>Fully Furnished</td>\n",
       "      <td>Kuala Lumpur</td>\n",
       "    </tr>\n",
       "    <tr>\n",
       "      <th>3</th>\n",
       "      <td>2020</td>\n",
       "      <td>1700</td>\n",
       "      <td>Kuala Lumpur - Sentul</td>\n",
       "      <td>Apartment</td>\n",
       "      <td>2</td>\n",
       "      <td>1.0</td>\n",
       "      <td>2.0</td>\n",
       "      <td>743</td>\n",
       "      <td>Partially Furnished</td>\n",
       "      <td>Kuala Lumpur</td>\n",
       "    </tr>\n",
       "    <tr>\n",
       "      <th>4</th>\n",
       "      <td>2017</td>\n",
       "      <td>1299</td>\n",
       "      <td>Kuala Lumpur - Mont Kiara</td>\n",
       "      <td>Service Residence</td>\n",
       "      <td>1</td>\n",
       "      <td>1.0</td>\n",
       "      <td>1.0</td>\n",
       "      <td>494</td>\n",
       "      <td>Not Furnished</td>\n",
       "      <td>Kuala Lumpur</td>\n",
       "    </tr>\n",
       "  </tbody>\n",
       "</table>\n",
       "</div>"
      ]
     },
     "execution_count": 13,
     "metadata": {},
     "output_type": "execute_result"
    }
   ],
   "execution_count": 13
  },
  {
   "cell_type": "markdown",
   "source": [
    "### `parking` to fill null with 0"
   ],
   "metadata": {
    "id": "6PZ70tS3urOy"
   }
  },
  {
   "cell_type": "code",
   "source": [
    "df.loc[df['parking'].isnull(), 'parking'] = 0\n",
    "df.head()"
   ],
   "metadata": {
    "colab": {
     "base_uri": "https://localhost:8080/",
     "height": 206
    },
    "id": "vuacoWFtuwl2",
    "outputId": "18ec87f2-5643-42c0-9327-b0c7b33897a5",
    "ExecuteTime": {
     "end_time": "2024-11-24T01:28:32.443931Z",
     "start_time": "2024-11-24T01:28:32.436906Z"
    }
   },
   "outputs": [
    {
     "data": {
      "text/plain": [
       "   completion_year  monthly_rent                   location  \\\n",
       "0             2022          4200  Kuala Lumpur - Taman Desa   \n",
       "1             2017          2300      Kuala Lumpur - Cheras   \n",
       "2             2017          1000  Kuala Lumpur - Taman Desa   \n",
       "3             2020          1700      Kuala Lumpur - Sentul   \n",
       "4             2017          1299  Kuala Lumpur - Mont Kiara   \n",
       "\n",
       "       property_type rooms  parking  bathroom  size            furnished  \\\n",
       "0        Condominium     5      2.0       6.0  1842      Fully Furnished   \n",
       "1        Condominium     3      1.0       2.0  1170  Partially Furnished   \n",
       "2          Apartment     3      0.0       2.0   650      Fully Furnished   \n",
       "3          Apartment     2      1.0       2.0   743  Partially Furnished   \n",
       "4  Service Residence     1      1.0       1.0   494        Not Furnished   \n",
       "\n",
       "         region  \n",
       "0  Kuala Lumpur  \n",
       "1  Kuala Lumpur  \n",
       "2  Kuala Lumpur  \n",
       "3  Kuala Lumpur  \n",
       "4  Kuala Lumpur  "
      ],
      "text/html": [
       "<div>\n",
       "<style scoped>\n",
       "    .dataframe tbody tr th:only-of-type {\n",
       "        vertical-align: middle;\n",
       "    }\n",
       "\n",
       "    .dataframe tbody tr th {\n",
       "        vertical-align: top;\n",
       "    }\n",
       "\n",
       "    .dataframe thead th {\n",
       "        text-align: right;\n",
       "    }\n",
       "</style>\n",
       "<table border=\"1\" class=\"dataframe\">\n",
       "  <thead>\n",
       "    <tr style=\"text-align: right;\">\n",
       "      <th></th>\n",
       "      <th>completion_year</th>\n",
       "      <th>monthly_rent</th>\n",
       "      <th>location</th>\n",
       "      <th>property_type</th>\n",
       "      <th>rooms</th>\n",
       "      <th>parking</th>\n",
       "      <th>bathroom</th>\n",
       "      <th>size</th>\n",
       "      <th>furnished</th>\n",
       "      <th>region</th>\n",
       "    </tr>\n",
       "  </thead>\n",
       "  <tbody>\n",
       "    <tr>\n",
       "      <th>0</th>\n",
       "      <td>2022</td>\n",
       "      <td>4200</td>\n",
       "      <td>Kuala Lumpur - Taman Desa</td>\n",
       "      <td>Condominium</td>\n",
       "      <td>5</td>\n",
       "      <td>2.0</td>\n",
       "      <td>6.0</td>\n",
       "      <td>1842</td>\n",
       "      <td>Fully Furnished</td>\n",
       "      <td>Kuala Lumpur</td>\n",
       "    </tr>\n",
       "    <tr>\n",
       "      <th>1</th>\n",
       "      <td>2017</td>\n",
       "      <td>2300</td>\n",
       "      <td>Kuala Lumpur - Cheras</td>\n",
       "      <td>Condominium</td>\n",
       "      <td>3</td>\n",
       "      <td>1.0</td>\n",
       "      <td>2.0</td>\n",
       "      <td>1170</td>\n",
       "      <td>Partially Furnished</td>\n",
       "      <td>Kuala Lumpur</td>\n",
       "    </tr>\n",
       "    <tr>\n",
       "      <th>2</th>\n",
       "      <td>2017</td>\n",
       "      <td>1000</td>\n",
       "      <td>Kuala Lumpur - Taman Desa</td>\n",
       "      <td>Apartment</td>\n",
       "      <td>3</td>\n",
       "      <td>0.0</td>\n",
       "      <td>2.0</td>\n",
       "      <td>650</td>\n",
       "      <td>Fully Furnished</td>\n",
       "      <td>Kuala Lumpur</td>\n",
       "    </tr>\n",
       "    <tr>\n",
       "      <th>3</th>\n",
       "      <td>2020</td>\n",
       "      <td>1700</td>\n",
       "      <td>Kuala Lumpur - Sentul</td>\n",
       "      <td>Apartment</td>\n",
       "      <td>2</td>\n",
       "      <td>1.0</td>\n",
       "      <td>2.0</td>\n",
       "      <td>743</td>\n",
       "      <td>Partially Furnished</td>\n",
       "      <td>Kuala Lumpur</td>\n",
       "    </tr>\n",
       "    <tr>\n",
       "      <th>4</th>\n",
       "      <td>2017</td>\n",
       "      <td>1299</td>\n",
       "      <td>Kuala Lumpur - Mont Kiara</td>\n",
       "      <td>Service Residence</td>\n",
       "      <td>1</td>\n",
       "      <td>1.0</td>\n",
       "      <td>1.0</td>\n",
       "      <td>494</td>\n",
       "      <td>Not Furnished</td>\n",
       "      <td>Kuala Lumpur</td>\n",
       "    </tr>\n",
       "  </tbody>\n",
       "</table>\n",
       "</div>"
      ]
     },
     "execution_count": 14,
     "metadata": {},
     "output_type": "execute_result"
    }
   ],
   "execution_count": 14
  },
  {
   "cell_type": "code",
   "source": [
    "# Check if can safely convert to integer type\n",
    "\n",
    "for col in ['rooms', 'parking', 'bathroom']:\n",
    "    print(df[col].value_counts())"
   ],
   "metadata": {
    "colab": {
     "base_uri": "https://localhost:8080/"
    },
    "id": "VnsBxEiMvErl",
    "outputId": "0d4d7394-371f-4127-b9fa-9b2870a09660",
    "ExecuteTime": {
     "end_time": "2024-11-24T01:28:32.589734Z",
     "start_time": "2024-11-24T01:28:32.584467Z"
    }
   },
   "outputs": [
    {
     "name": "stdout",
     "output_type": "stream",
     "text": [
      "rooms\n",
      "3.0             6459\n",
      "3               6320\n",
      "2               1805\n",
      "1.0             1527\n",
      "2.0             1489\n",
      "4                915\n",
      "1                867\n",
      "4.0              473\n",
      "5                 54\n",
      "5.0               38\n",
      "6                 19\n",
      "1                  6\n",
      "7                  6\n",
      "6.0                4\n",
      "More than 10       2\n",
      "7.0                2\n",
      "9                  1\n",
      "9.0                1\n",
      "10.0               1\n",
      "Name: count, dtype: int64\n",
      "parking\n",
      "1.0     8644\n",
      "0.0     5701\n",
      "2.0     5426\n",
      "3.0      179\n",
      "4.0       23\n",
      "10.0       6\n",
      "5.0        6\n",
      "6.0        2\n",
      "9.0        1\n",
      "7.0        1\n",
      "Name: count, dtype: int64\n",
      "bathroom\n",
      "2.0    14885\n",
      "1.0     3800\n",
      "3.0     1065\n",
      "4.0      160\n",
      "5.0       54\n",
      "6.0        9\n",
      "7.0        7\n",
      "0.0        6\n",
      "8.0        3\n",
      "Name: count, dtype: int64\n"
     ]
    }
   ],
   "execution_count": 15
  },
  {
   "cell_type": "code",
   "source": [
    "# Use 11 to represent 'More than 10'\n",
    "df.loc[df['rooms'] == 'More than 10', 'rooms'] = 11\n",
    "df"
   ],
   "metadata": {
    "colab": {
     "base_uri": "https://localhost:8080/",
     "height": 424
    },
    "id": "OuBLeQRmvsV0",
    "outputId": "9eaa7c2e-7825-437c-dd0d-e487ccab16f5",
    "ExecuteTime": {
     "end_time": "2024-11-24T01:28:32.714542Z",
     "start_time": "2024-11-24T01:28:32.705840Z"
    }
   },
   "outputs": [
    {
     "data": {
      "text/plain": [
       "       completion_year  monthly_rent                         location  \\\n",
       "0                 2022          4200        Kuala Lumpur - Taman Desa   \n",
       "1                 2017          2300            Kuala Lumpur - Cheras   \n",
       "2                 2017          1000        Kuala Lumpur - Taman Desa   \n",
       "3                 2020          1700            Kuala Lumpur - Sentul   \n",
       "4                 2017          1299        Kuala Lumpur - Mont Kiara   \n",
       "...                ...           ...                              ...   \n",
       "19986             2017          1200                Selangor - Kajang   \n",
       "19987             2018          1300  Selangor - Bandar Saujana Putra   \n",
       "19988             2017          1350                Selangor - Kajang   \n",
       "19989             2017          1200             Selangor - Cyberjaya   \n",
       "19990             2016          1000             Selangor - Cyberjaya   \n",
       "\n",
       "           property_type rooms  parking  bathroom  size            furnished  \\\n",
       "0            Condominium     5      2.0       6.0  1842      Fully Furnished   \n",
       "1            Condominium     3      1.0       2.0  1170  Partially Furnished   \n",
       "2              Apartment     3      0.0       2.0   650      Fully Furnished   \n",
       "3              Apartment     2      1.0       2.0   743  Partially Furnished   \n",
       "4      Service Residence     1      1.0       1.0   494        Not Furnished   \n",
       "...                  ...   ...      ...       ...   ...                  ...   \n",
       "19986          Apartment   3.0      0.0       2.0  1000  Partially Furnished   \n",
       "19987  Service Residence   4.0      2.0       3.0  1427  Partially Furnished   \n",
       "19988        Condominium   3.0      2.0       2.0  1270  Partially Furnished   \n",
       "19989  Service Residence   3.0      1.0       2.0  1100      Fully Furnished   \n",
       "19990             Studio   1.0      1.0       1.0   580  Partially Furnished   \n",
       "\n",
       "             region  \n",
       "0      Kuala Lumpur  \n",
       "1      Kuala Lumpur  \n",
       "2      Kuala Lumpur  \n",
       "3      Kuala Lumpur  \n",
       "4      Kuala Lumpur  \n",
       "...             ...  \n",
       "19986      Selangor  \n",
       "19987      Selangor  \n",
       "19988      Selangor  \n",
       "19989      Selangor  \n",
       "19990      Selangor  \n",
       "\n",
       "[19989 rows x 10 columns]"
      ],
      "text/html": [
       "<div>\n",
       "<style scoped>\n",
       "    .dataframe tbody tr th:only-of-type {\n",
       "        vertical-align: middle;\n",
       "    }\n",
       "\n",
       "    .dataframe tbody tr th {\n",
       "        vertical-align: top;\n",
       "    }\n",
       "\n",
       "    .dataframe thead th {\n",
       "        text-align: right;\n",
       "    }\n",
       "</style>\n",
       "<table border=\"1\" class=\"dataframe\">\n",
       "  <thead>\n",
       "    <tr style=\"text-align: right;\">\n",
       "      <th></th>\n",
       "      <th>completion_year</th>\n",
       "      <th>monthly_rent</th>\n",
       "      <th>location</th>\n",
       "      <th>property_type</th>\n",
       "      <th>rooms</th>\n",
       "      <th>parking</th>\n",
       "      <th>bathroom</th>\n",
       "      <th>size</th>\n",
       "      <th>furnished</th>\n",
       "      <th>region</th>\n",
       "    </tr>\n",
       "  </thead>\n",
       "  <tbody>\n",
       "    <tr>\n",
       "      <th>0</th>\n",
       "      <td>2022</td>\n",
       "      <td>4200</td>\n",
       "      <td>Kuala Lumpur - Taman Desa</td>\n",
       "      <td>Condominium</td>\n",
       "      <td>5</td>\n",
       "      <td>2.0</td>\n",
       "      <td>6.0</td>\n",
       "      <td>1842</td>\n",
       "      <td>Fully Furnished</td>\n",
       "      <td>Kuala Lumpur</td>\n",
       "    </tr>\n",
       "    <tr>\n",
       "      <th>1</th>\n",
       "      <td>2017</td>\n",
       "      <td>2300</td>\n",
       "      <td>Kuala Lumpur - Cheras</td>\n",
       "      <td>Condominium</td>\n",
       "      <td>3</td>\n",
       "      <td>1.0</td>\n",
       "      <td>2.0</td>\n",
       "      <td>1170</td>\n",
       "      <td>Partially Furnished</td>\n",
       "      <td>Kuala Lumpur</td>\n",
       "    </tr>\n",
       "    <tr>\n",
       "      <th>2</th>\n",
       "      <td>2017</td>\n",
       "      <td>1000</td>\n",
       "      <td>Kuala Lumpur - Taman Desa</td>\n",
       "      <td>Apartment</td>\n",
       "      <td>3</td>\n",
       "      <td>0.0</td>\n",
       "      <td>2.0</td>\n",
       "      <td>650</td>\n",
       "      <td>Fully Furnished</td>\n",
       "      <td>Kuala Lumpur</td>\n",
       "    </tr>\n",
       "    <tr>\n",
       "      <th>3</th>\n",
       "      <td>2020</td>\n",
       "      <td>1700</td>\n",
       "      <td>Kuala Lumpur - Sentul</td>\n",
       "      <td>Apartment</td>\n",
       "      <td>2</td>\n",
       "      <td>1.0</td>\n",
       "      <td>2.0</td>\n",
       "      <td>743</td>\n",
       "      <td>Partially Furnished</td>\n",
       "      <td>Kuala Lumpur</td>\n",
       "    </tr>\n",
       "    <tr>\n",
       "      <th>4</th>\n",
       "      <td>2017</td>\n",
       "      <td>1299</td>\n",
       "      <td>Kuala Lumpur - Mont Kiara</td>\n",
       "      <td>Service Residence</td>\n",
       "      <td>1</td>\n",
       "      <td>1.0</td>\n",
       "      <td>1.0</td>\n",
       "      <td>494</td>\n",
       "      <td>Not Furnished</td>\n",
       "      <td>Kuala Lumpur</td>\n",
       "    </tr>\n",
       "    <tr>\n",
       "      <th>...</th>\n",
       "      <td>...</td>\n",
       "      <td>...</td>\n",
       "      <td>...</td>\n",
       "      <td>...</td>\n",
       "      <td>...</td>\n",
       "      <td>...</td>\n",
       "      <td>...</td>\n",
       "      <td>...</td>\n",
       "      <td>...</td>\n",
       "      <td>...</td>\n",
       "    </tr>\n",
       "    <tr>\n",
       "      <th>19986</th>\n",
       "      <td>2017</td>\n",
       "      <td>1200</td>\n",
       "      <td>Selangor - Kajang</td>\n",
       "      <td>Apartment</td>\n",
       "      <td>3.0</td>\n",
       "      <td>0.0</td>\n",
       "      <td>2.0</td>\n",
       "      <td>1000</td>\n",
       "      <td>Partially Furnished</td>\n",
       "      <td>Selangor</td>\n",
       "    </tr>\n",
       "    <tr>\n",
       "      <th>19987</th>\n",
       "      <td>2018</td>\n",
       "      <td>1300</td>\n",
       "      <td>Selangor - Bandar Saujana Putra</td>\n",
       "      <td>Service Residence</td>\n",
       "      <td>4.0</td>\n",
       "      <td>2.0</td>\n",
       "      <td>3.0</td>\n",
       "      <td>1427</td>\n",
       "      <td>Partially Furnished</td>\n",
       "      <td>Selangor</td>\n",
       "    </tr>\n",
       "    <tr>\n",
       "      <th>19988</th>\n",
       "      <td>2017</td>\n",
       "      <td>1350</td>\n",
       "      <td>Selangor - Kajang</td>\n",
       "      <td>Condominium</td>\n",
       "      <td>3.0</td>\n",
       "      <td>2.0</td>\n",
       "      <td>2.0</td>\n",
       "      <td>1270</td>\n",
       "      <td>Partially Furnished</td>\n",
       "      <td>Selangor</td>\n",
       "    </tr>\n",
       "    <tr>\n",
       "      <th>19989</th>\n",
       "      <td>2017</td>\n",
       "      <td>1200</td>\n",
       "      <td>Selangor - Cyberjaya</td>\n",
       "      <td>Service Residence</td>\n",
       "      <td>3.0</td>\n",
       "      <td>1.0</td>\n",
       "      <td>2.0</td>\n",
       "      <td>1100</td>\n",
       "      <td>Fully Furnished</td>\n",
       "      <td>Selangor</td>\n",
       "    </tr>\n",
       "    <tr>\n",
       "      <th>19990</th>\n",
       "      <td>2016</td>\n",
       "      <td>1000</td>\n",
       "      <td>Selangor - Cyberjaya</td>\n",
       "      <td>Studio</td>\n",
       "      <td>1.0</td>\n",
       "      <td>1.0</td>\n",
       "      <td>1.0</td>\n",
       "      <td>580</td>\n",
       "      <td>Partially Furnished</td>\n",
       "      <td>Selangor</td>\n",
       "    </tr>\n",
       "  </tbody>\n",
       "</table>\n",
       "<p>19989 rows × 10 columns</p>\n",
       "</div>"
      ]
     },
     "execution_count": 16,
     "metadata": {},
     "output_type": "execute_result"
    }
   ],
   "execution_count": 16
  },
  {
   "cell_type": "code",
   "source": [
    "# Convert to int\n",
    "df['rooms'] = df['rooms'].astype(float).astype(int)\n",
    "df['parking'] = df['parking'].astype(float).astype(int)\n",
    "df['bathroom'] = df['bathroom'].astype(float).astype(int)\n",
    "df.head()"
   ],
   "metadata": {
    "colab": {
     "base_uri": "https://localhost:8080/",
     "height": 206
    },
    "id": "pY2yZN8Avv_z",
    "outputId": "382f4ab4-d283-4ed4-e164-4485c2a5d7fc",
    "ExecuteTime": {
     "end_time": "2024-11-24T01:28:32.838129Z",
     "start_time": "2024-11-24T01:28:32.830139Z"
    }
   },
   "outputs": [
    {
     "data": {
      "text/plain": [
       "   completion_year  monthly_rent                   location  \\\n",
       "0             2022          4200  Kuala Lumpur - Taman Desa   \n",
       "1             2017          2300      Kuala Lumpur - Cheras   \n",
       "2             2017          1000  Kuala Lumpur - Taman Desa   \n",
       "3             2020          1700      Kuala Lumpur - Sentul   \n",
       "4             2017          1299  Kuala Lumpur - Mont Kiara   \n",
       "\n",
       "       property_type  rooms  parking  bathroom  size            furnished  \\\n",
       "0        Condominium      5        2         6  1842      Fully Furnished   \n",
       "1        Condominium      3        1         2  1170  Partially Furnished   \n",
       "2          Apartment      3        0         2   650      Fully Furnished   \n",
       "3          Apartment      2        1         2   743  Partially Furnished   \n",
       "4  Service Residence      1        1         1   494        Not Furnished   \n",
       "\n",
       "         region  \n",
       "0  Kuala Lumpur  \n",
       "1  Kuala Lumpur  \n",
       "2  Kuala Lumpur  \n",
       "3  Kuala Lumpur  \n",
       "4  Kuala Lumpur  "
      ],
      "text/html": [
       "<div>\n",
       "<style scoped>\n",
       "    .dataframe tbody tr th:only-of-type {\n",
       "        vertical-align: middle;\n",
       "    }\n",
       "\n",
       "    .dataframe tbody tr th {\n",
       "        vertical-align: top;\n",
       "    }\n",
       "\n",
       "    .dataframe thead th {\n",
       "        text-align: right;\n",
       "    }\n",
       "</style>\n",
       "<table border=\"1\" class=\"dataframe\">\n",
       "  <thead>\n",
       "    <tr style=\"text-align: right;\">\n",
       "      <th></th>\n",
       "      <th>completion_year</th>\n",
       "      <th>monthly_rent</th>\n",
       "      <th>location</th>\n",
       "      <th>property_type</th>\n",
       "      <th>rooms</th>\n",
       "      <th>parking</th>\n",
       "      <th>bathroom</th>\n",
       "      <th>size</th>\n",
       "      <th>furnished</th>\n",
       "      <th>region</th>\n",
       "    </tr>\n",
       "  </thead>\n",
       "  <tbody>\n",
       "    <tr>\n",
       "      <th>0</th>\n",
       "      <td>2022</td>\n",
       "      <td>4200</td>\n",
       "      <td>Kuala Lumpur - Taman Desa</td>\n",
       "      <td>Condominium</td>\n",
       "      <td>5</td>\n",
       "      <td>2</td>\n",
       "      <td>6</td>\n",
       "      <td>1842</td>\n",
       "      <td>Fully Furnished</td>\n",
       "      <td>Kuala Lumpur</td>\n",
       "    </tr>\n",
       "    <tr>\n",
       "      <th>1</th>\n",
       "      <td>2017</td>\n",
       "      <td>2300</td>\n",
       "      <td>Kuala Lumpur - Cheras</td>\n",
       "      <td>Condominium</td>\n",
       "      <td>3</td>\n",
       "      <td>1</td>\n",
       "      <td>2</td>\n",
       "      <td>1170</td>\n",
       "      <td>Partially Furnished</td>\n",
       "      <td>Kuala Lumpur</td>\n",
       "    </tr>\n",
       "    <tr>\n",
       "      <th>2</th>\n",
       "      <td>2017</td>\n",
       "      <td>1000</td>\n",
       "      <td>Kuala Lumpur - Taman Desa</td>\n",
       "      <td>Apartment</td>\n",
       "      <td>3</td>\n",
       "      <td>0</td>\n",
       "      <td>2</td>\n",
       "      <td>650</td>\n",
       "      <td>Fully Furnished</td>\n",
       "      <td>Kuala Lumpur</td>\n",
       "    </tr>\n",
       "    <tr>\n",
       "      <th>3</th>\n",
       "      <td>2020</td>\n",
       "      <td>1700</td>\n",
       "      <td>Kuala Lumpur - Sentul</td>\n",
       "      <td>Apartment</td>\n",
       "      <td>2</td>\n",
       "      <td>1</td>\n",
       "      <td>2</td>\n",
       "      <td>743</td>\n",
       "      <td>Partially Furnished</td>\n",
       "      <td>Kuala Lumpur</td>\n",
       "    </tr>\n",
       "    <tr>\n",
       "      <th>4</th>\n",
       "      <td>2017</td>\n",
       "      <td>1299</td>\n",
       "      <td>Kuala Lumpur - Mont Kiara</td>\n",
       "      <td>Service Residence</td>\n",
       "      <td>1</td>\n",
       "      <td>1</td>\n",
       "      <td>1</td>\n",
       "      <td>494</td>\n",
       "      <td>Not Furnished</td>\n",
       "      <td>Kuala Lumpur</td>\n",
       "    </tr>\n",
       "  </tbody>\n",
       "</table>\n",
       "</div>"
      ]
     },
     "execution_count": 17,
     "metadata": {},
     "output_type": "execute_result"
    }
   ],
   "execution_count": 17
  },
  {
   "cell_type": "markdown",
   "source": [
    "### `furnished` to be explored"
   ],
   "metadata": {
    "id": "iRn9MGjKwhV7"
   }
  },
  {
   "cell_type": "code",
   "source": [
    "# Explore 'furnished' column\n",
    "df['furnished'].value_counts()"
   ],
   "metadata": {
    "colab": {
     "base_uri": "https://localhost:8080/",
     "height": 210
    },
    "id": "60dlUmjCwgOI",
    "outputId": "58aa2897-3b64-4cf5-999a-3322311340bb",
    "ExecuteTime": {
     "end_time": "2024-11-24T01:28:32.905870Z",
     "start_time": "2024-11-24T01:28:32.901564Z"
    }
   },
   "outputs": [
    {
     "data": {
      "text/plain": [
       "furnished\n",
       "Fully Furnished        8462\n",
       "Partially Furnished    8004\n",
       "Not Furnished          3520\n",
       "Name: count, dtype: int64"
      ]
     },
     "execution_count": 18,
     "metadata": {},
     "output_type": "execute_result"
    }
   ],
   "execution_count": 18
  },
  {
   "cell_type": "code",
   "source": [
    "# Rows where 'furnished' is null\n",
    "df[df['furnished'].isnull()]"
   ],
   "metadata": {
    "colab": {
     "base_uri": "https://localhost:8080/",
     "height": 143
    },
    "id": "D0A92f3ow6z0",
    "outputId": "3233239d-97a0-444a-9646-2503b19872d1",
    "ExecuteTime": {
     "end_time": "2024-11-24T01:28:33.054441Z",
     "start_time": "2024-11-24T01:28:33.047003Z"
    }
   },
   "outputs": [
    {
     "data": {
      "text/plain": [
       "       completion_year  monthly_rent                        location  \\\n",
       "8112              2017           100  Kuala Lumpur - Mid Valley City   \n",
       "15765             2017            85       Selangor - Seri Kembangan   \n",
       "16812             2017           600               Selangor - Kajang   \n",
       "\n",
       "      property_type  rooms  parking  bathroom  size furnished        region  \n",
       "8112    Residential      1        0         0   100       NaN  Kuala Lumpur  \n",
       "15765          Soho      1        1         0   761       NaN      Selangor  \n",
       "16812        Others      1        0         0   750       NaN      Selangor  "
      ],
      "text/html": [
       "<div>\n",
       "<style scoped>\n",
       "    .dataframe tbody tr th:only-of-type {\n",
       "        vertical-align: middle;\n",
       "    }\n",
       "\n",
       "    .dataframe tbody tr th {\n",
       "        vertical-align: top;\n",
       "    }\n",
       "\n",
       "    .dataframe thead th {\n",
       "        text-align: right;\n",
       "    }\n",
       "</style>\n",
       "<table border=\"1\" class=\"dataframe\">\n",
       "  <thead>\n",
       "    <tr style=\"text-align: right;\">\n",
       "      <th></th>\n",
       "      <th>completion_year</th>\n",
       "      <th>monthly_rent</th>\n",
       "      <th>location</th>\n",
       "      <th>property_type</th>\n",
       "      <th>rooms</th>\n",
       "      <th>parking</th>\n",
       "      <th>bathroom</th>\n",
       "      <th>size</th>\n",
       "      <th>furnished</th>\n",
       "      <th>region</th>\n",
       "    </tr>\n",
       "  </thead>\n",
       "  <tbody>\n",
       "    <tr>\n",
       "      <th>8112</th>\n",
       "      <td>2017</td>\n",
       "      <td>100</td>\n",
       "      <td>Kuala Lumpur - Mid Valley City</td>\n",
       "      <td>Residential</td>\n",
       "      <td>1</td>\n",
       "      <td>0</td>\n",
       "      <td>0</td>\n",
       "      <td>100</td>\n",
       "      <td>NaN</td>\n",
       "      <td>Kuala Lumpur</td>\n",
       "    </tr>\n",
       "    <tr>\n",
       "      <th>15765</th>\n",
       "      <td>2017</td>\n",
       "      <td>85</td>\n",
       "      <td>Selangor - Seri Kembangan</td>\n",
       "      <td>Soho</td>\n",
       "      <td>1</td>\n",
       "      <td>1</td>\n",
       "      <td>0</td>\n",
       "      <td>761</td>\n",
       "      <td>NaN</td>\n",
       "      <td>Selangor</td>\n",
       "    </tr>\n",
       "    <tr>\n",
       "      <th>16812</th>\n",
       "      <td>2017</td>\n",
       "      <td>600</td>\n",
       "      <td>Selangor - Kajang</td>\n",
       "      <td>Others</td>\n",
       "      <td>1</td>\n",
       "      <td>0</td>\n",
       "      <td>0</td>\n",
       "      <td>750</td>\n",
       "      <td>NaN</td>\n",
       "      <td>Selangor</td>\n",
       "    </tr>\n",
       "  </tbody>\n",
       "</table>\n",
       "</div>"
      ]
     },
     "execution_count": 19,
     "metadata": {},
     "output_type": "execute_result"
    }
   ],
   "execution_count": 19
  },
  {
   "cell_type": "markdown",
   "source": [
    "We explore the typical `monthly_rent` for 1 room for each `furnished` type"
   ],
   "metadata": {
    "id": "qMZ4XfeDxVCZ"
   }
  },
  {
   "cell_type": "code",
   "source": [
    "df[df['rooms'] == 1]['monthly_rent'].groupby(df['furnished']).mean()"
   ],
   "metadata": {
    "colab": {
     "base_uri": "https://localhost:8080/",
     "height": 210
    },
    "id": "tg2AcrLuxYlG",
    "outputId": "5ad1e60f-e722-4c84-a4c6-9200b0118a0d",
    "ExecuteTime": {
     "end_time": "2024-11-24T01:28:33.186999Z",
     "start_time": "2024-11-24T01:28:33.180774Z"
    }
   },
   "outputs": [
    {
     "data": {
      "text/plain": [
       "furnished\n",
       "Fully Furnished        1628.430286\n",
       "Not Furnished           868.050000\n",
       "Partially Furnished    3423.601713\n",
       "Name: monthly_rent, dtype: float64"
      ]
     },
     "execution_count": 20,
     "metadata": {},
     "output_type": "execute_result"
    }
   ],
   "execution_count": 20
  },
  {
   "cell_type": "markdown",
   "source": [
    "Okay this looks illogical for partial furnished to be significantly higher than fully furnished, outliers exist so let's use median"
   ],
   "metadata": {
    "id": "QmXwcMn5x_O3"
   }
  },
  {
   "cell_type": "code",
   "source": [
    "df[df['rooms'] == 1]['monthly_rent'].groupby(df['furnished']).median()"
   ],
   "metadata": {
    "colab": {
     "base_uri": "https://localhost:8080/",
     "height": 210
    },
    "id": "rKr8KPOWyEnj",
    "outputId": "1101dba9-3793-4068-f31d-916682c59b4b",
    "ExecuteTime": {
     "end_time": "2024-11-24T01:28:33.348469Z",
     "start_time": "2024-11-24T01:28:33.343215Z"
    }
   },
   "outputs": [
    {
     "data": {
      "text/plain": [
       "furnished\n",
       "Fully Furnished        1400.0\n",
       "Not Furnished           800.0\n",
       "Partially Furnished    1200.0\n",
       "Name: monthly_rent, dtype: float64"
      ]
     },
     "execution_count": 21,
     "metadata": {},
     "output_type": "execute_result"
    }
   ],
   "execution_count": 21
  },
  {
   "cell_type": "markdown",
   "source": [
    "Since all the rooms with `furnished` as null have rental below 800, we just set them to unfurnished"
   ],
   "metadata": {
    "id": "YNQQInjryGjN"
   }
  },
  {
   "cell_type": "code",
   "source": [
    "df.loc[df['furnished'].isnull(), 'furnished'] = 'Not Furnished'\n",
    "df"
   ],
   "metadata": {
    "colab": {
     "base_uri": "https://localhost:8080/",
     "height": 424
    },
    "id": "T-bwQ-I5yGU0",
    "outputId": "80e15f5c-7895-47c7-83db-e4d0aae10eba",
    "ExecuteTime": {
     "end_time": "2024-11-24T01:28:33.480977Z",
     "start_time": "2024-11-24T01:28:33.472977Z"
    }
   },
   "outputs": [
    {
     "data": {
      "text/plain": [
       "       completion_year  monthly_rent                         location  \\\n",
       "0                 2022          4200        Kuala Lumpur - Taman Desa   \n",
       "1                 2017          2300            Kuala Lumpur - Cheras   \n",
       "2                 2017          1000        Kuala Lumpur - Taman Desa   \n",
       "3                 2020          1700            Kuala Lumpur - Sentul   \n",
       "4                 2017          1299        Kuala Lumpur - Mont Kiara   \n",
       "...                ...           ...                              ...   \n",
       "19986             2017          1200                Selangor - Kajang   \n",
       "19987             2018          1300  Selangor - Bandar Saujana Putra   \n",
       "19988             2017          1350                Selangor - Kajang   \n",
       "19989             2017          1200             Selangor - Cyberjaya   \n",
       "19990             2016          1000             Selangor - Cyberjaya   \n",
       "\n",
       "           property_type  rooms  parking  bathroom  size            furnished  \\\n",
       "0            Condominium      5        2         6  1842      Fully Furnished   \n",
       "1            Condominium      3        1         2  1170  Partially Furnished   \n",
       "2              Apartment      3        0         2   650      Fully Furnished   \n",
       "3              Apartment      2        1         2   743  Partially Furnished   \n",
       "4      Service Residence      1        1         1   494        Not Furnished   \n",
       "...                  ...    ...      ...       ...   ...                  ...   \n",
       "19986          Apartment      3        0         2  1000  Partially Furnished   \n",
       "19987  Service Residence      4        2         3  1427  Partially Furnished   \n",
       "19988        Condominium      3        2         2  1270  Partially Furnished   \n",
       "19989  Service Residence      3        1         2  1100      Fully Furnished   \n",
       "19990             Studio      1        1         1   580  Partially Furnished   \n",
       "\n",
       "             region  \n",
       "0      Kuala Lumpur  \n",
       "1      Kuala Lumpur  \n",
       "2      Kuala Lumpur  \n",
       "3      Kuala Lumpur  \n",
       "4      Kuala Lumpur  \n",
       "...             ...  \n",
       "19986      Selangor  \n",
       "19987      Selangor  \n",
       "19988      Selangor  \n",
       "19989      Selangor  \n",
       "19990      Selangor  \n",
       "\n",
       "[19989 rows x 10 columns]"
      ],
      "text/html": [
       "<div>\n",
       "<style scoped>\n",
       "    .dataframe tbody tr th:only-of-type {\n",
       "        vertical-align: middle;\n",
       "    }\n",
       "\n",
       "    .dataframe tbody tr th {\n",
       "        vertical-align: top;\n",
       "    }\n",
       "\n",
       "    .dataframe thead th {\n",
       "        text-align: right;\n",
       "    }\n",
       "</style>\n",
       "<table border=\"1\" class=\"dataframe\">\n",
       "  <thead>\n",
       "    <tr style=\"text-align: right;\">\n",
       "      <th></th>\n",
       "      <th>completion_year</th>\n",
       "      <th>monthly_rent</th>\n",
       "      <th>location</th>\n",
       "      <th>property_type</th>\n",
       "      <th>rooms</th>\n",
       "      <th>parking</th>\n",
       "      <th>bathroom</th>\n",
       "      <th>size</th>\n",
       "      <th>furnished</th>\n",
       "      <th>region</th>\n",
       "    </tr>\n",
       "  </thead>\n",
       "  <tbody>\n",
       "    <tr>\n",
       "      <th>0</th>\n",
       "      <td>2022</td>\n",
       "      <td>4200</td>\n",
       "      <td>Kuala Lumpur - Taman Desa</td>\n",
       "      <td>Condominium</td>\n",
       "      <td>5</td>\n",
       "      <td>2</td>\n",
       "      <td>6</td>\n",
       "      <td>1842</td>\n",
       "      <td>Fully Furnished</td>\n",
       "      <td>Kuala Lumpur</td>\n",
       "    </tr>\n",
       "    <tr>\n",
       "      <th>1</th>\n",
       "      <td>2017</td>\n",
       "      <td>2300</td>\n",
       "      <td>Kuala Lumpur - Cheras</td>\n",
       "      <td>Condominium</td>\n",
       "      <td>3</td>\n",
       "      <td>1</td>\n",
       "      <td>2</td>\n",
       "      <td>1170</td>\n",
       "      <td>Partially Furnished</td>\n",
       "      <td>Kuala Lumpur</td>\n",
       "    </tr>\n",
       "    <tr>\n",
       "      <th>2</th>\n",
       "      <td>2017</td>\n",
       "      <td>1000</td>\n",
       "      <td>Kuala Lumpur - Taman Desa</td>\n",
       "      <td>Apartment</td>\n",
       "      <td>3</td>\n",
       "      <td>0</td>\n",
       "      <td>2</td>\n",
       "      <td>650</td>\n",
       "      <td>Fully Furnished</td>\n",
       "      <td>Kuala Lumpur</td>\n",
       "    </tr>\n",
       "    <tr>\n",
       "      <th>3</th>\n",
       "      <td>2020</td>\n",
       "      <td>1700</td>\n",
       "      <td>Kuala Lumpur - Sentul</td>\n",
       "      <td>Apartment</td>\n",
       "      <td>2</td>\n",
       "      <td>1</td>\n",
       "      <td>2</td>\n",
       "      <td>743</td>\n",
       "      <td>Partially Furnished</td>\n",
       "      <td>Kuala Lumpur</td>\n",
       "    </tr>\n",
       "    <tr>\n",
       "      <th>4</th>\n",
       "      <td>2017</td>\n",
       "      <td>1299</td>\n",
       "      <td>Kuala Lumpur - Mont Kiara</td>\n",
       "      <td>Service Residence</td>\n",
       "      <td>1</td>\n",
       "      <td>1</td>\n",
       "      <td>1</td>\n",
       "      <td>494</td>\n",
       "      <td>Not Furnished</td>\n",
       "      <td>Kuala Lumpur</td>\n",
       "    </tr>\n",
       "    <tr>\n",
       "      <th>...</th>\n",
       "      <td>...</td>\n",
       "      <td>...</td>\n",
       "      <td>...</td>\n",
       "      <td>...</td>\n",
       "      <td>...</td>\n",
       "      <td>...</td>\n",
       "      <td>...</td>\n",
       "      <td>...</td>\n",
       "      <td>...</td>\n",
       "      <td>...</td>\n",
       "    </tr>\n",
       "    <tr>\n",
       "      <th>19986</th>\n",
       "      <td>2017</td>\n",
       "      <td>1200</td>\n",
       "      <td>Selangor - Kajang</td>\n",
       "      <td>Apartment</td>\n",
       "      <td>3</td>\n",
       "      <td>0</td>\n",
       "      <td>2</td>\n",
       "      <td>1000</td>\n",
       "      <td>Partially Furnished</td>\n",
       "      <td>Selangor</td>\n",
       "    </tr>\n",
       "    <tr>\n",
       "      <th>19987</th>\n",
       "      <td>2018</td>\n",
       "      <td>1300</td>\n",
       "      <td>Selangor - Bandar Saujana Putra</td>\n",
       "      <td>Service Residence</td>\n",
       "      <td>4</td>\n",
       "      <td>2</td>\n",
       "      <td>3</td>\n",
       "      <td>1427</td>\n",
       "      <td>Partially Furnished</td>\n",
       "      <td>Selangor</td>\n",
       "    </tr>\n",
       "    <tr>\n",
       "      <th>19988</th>\n",
       "      <td>2017</td>\n",
       "      <td>1350</td>\n",
       "      <td>Selangor - Kajang</td>\n",
       "      <td>Condominium</td>\n",
       "      <td>3</td>\n",
       "      <td>2</td>\n",
       "      <td>2</td>\n",
       "      <td>1270</td>\n",
       "      <td>Partially Furnished</td>\n",
       "      <td>Selangor</td>\n",
       "    </tr>\n",
       "    <tr>\n",
       "      <th>19989</th>\n",
       "      <td>2017</td>\n",
       "      <td>1200</td>\n",
       "      <td>Selangor - Cyberjaya</td>\n",
       "      <td>Service Residence</td>\n",
       "      <td>3</td>\n",
       "      <td>1</td>\n",
       "      <td>2</td>\n",
       "      <td>1100</td>\n",
       "      <td>Fully Furnished</td>\n",
       "      <td>Selangor</td>\n",
       "    </tr>\n",
       "    <tr>\n",
       "      <th>19990</th>\n",
       "      <td>2016</td>\n",
       "      <td>1000</td>\n",
       "      <td>Selangor - Cyberjaya</td>\n",
       "      <td>Studio</td>\n",
       "      <td>1</td>\n",
       "      <td>1</td>\n",
       "      <td>1</td>\n",
       "      <td>580</td>\n",
       "      <td>Partially Furnished</td>\n",
       "      <td>Selangor</td>\n",
       "    </tr>\n",
       "  </tbody>\n",
       "</table>\n",
       "<p>19989 rows × 10 columns</p>\n",
       "</div>"
      ]
     },
     "execution_count": 22,
     "metadata": {},
     "output_type": "execute_result"
    }
   ],
   "execution_count": 22
  },
  {
   "cell_type": "code",
   "source": [
    "# Check if all null is handled\n",
    "df.isnull().sum()"
   ],
   "metadata": {
    "colab": {
     "base_uri": "https://localhost:8080/",
     "height": 398
    },
    "id": "2DcIA92syanV",
    "outputId": "3a376050-65a9-4a65-a045-ec6c500e62a4",
    "ExecuteTime": {
     "end_time": "2024-11-24T01:28:33.683429Z",
     "start_time": "2024-11-24T01:28:33.677430Z"
    }
   },
   "outputs": [
    {
     "data": {
      "text/plain": [
       "completion_year    0\n",
       "monthly_rent       0\n",
       "location           0\n",
       "property_type      0\n",
       "rooms              0\n",
       "parking            0\n",
       "bathroom           0\n",
       "size               0\n",
       "furnished          0\n",
       "region             0\n",
       "dtype: int64"
      ]
     },
     "execution_count": 23,
     "metadata": {},
     "output_type": "execute_result"
    }
   ],
   "execution_count": 23
  },
  {
   "cell_type": "code",
   "source": [
    "# Remove rows where 'completion_year' is after 2024\n",
    "df = df[df['completion_year'] <= 2024]\n",
    "df"
   ],
   "metadata": {
    "colab": {
     "base_uri": "https://localhost:8080/",
     "height": 424
    },
    "id": "5SW9um1jQeds",
    "outputId": "dd3d3029-c52e-4cbc-9b23-7ffd6b050417",
    "ExecuteTime": {
     "end_time": "2024-11-24T01:28:33.826505Z",
     "start_time": "2024-11-24T01:28:33.817679Z"
    }
   },
   "outputs": [
    {
     "data": {
      "text/plain": [
       "       completion_year  monthly_rent                         location  \\\n",
       "0                 2022          4200        Kuala Lumpur - Taman Desa   \n",
       "1                 2017          2300            Kuala Lumpur - Cheras   \n",
       "2                 2017          1000        Kuala Lumpur - Taman Desa   \n",
       "3                 2020          1700            Kuala Lumpur - Sentul   \n",
       "4                 2017          1299        Kuala Lumpur - Mont Kiara   \n",
       "...                ...           ...                              ...   \n",
       "19986             2017          1200                Selangor - Kajang   \n",
       "19987             2018          1300  Selangor - Bandar Saujana Putra   \n",
       "19988             2017          1350                Selangor - Kajang   \n",
       "19989             2017          1200             Selangor - Cyberjaya   \n",
       "19990             2016          1000             Selangor - Cyberjaya   \n",
       "\n",
       "           property_type  rooms  parking  bathroom  size            furnished  \\\n",
       "0            Condominium      5        2         6  1842      Fully Furnished   \n",
       "1            Condominium      3        1         2  1170  Partially Furnished   \n",
       "2              Apartment      3        0         2   650      Fully Furnished   \n",
       "3              Apartment      2        1         2   743  Partially Furnished   \n",
       "4      Service Residence      1        1         1   494        Not Furnished   \n",
       "...                  ...    ...      ...       ...   ...                  ...   \n",
       "19986          Apartment      3        0         2  1000  Partially Furnished   \n",
       "19987  Service Residence      4        2         3  1427  Partially Furnished   \n",
       "19988        Condominium      3        2         2  1270  Partially Furnished   \n",
       "19989  Service Residence      3        1         2  1100      Fully Furnished   \n",
       "19990             Studio      1        1         1   580  Partially Furnished   \n",
       "\n",
       "             region  \n",
       "0      Kuala Lumpur  \n",
       "1      Kuala Lumpur  \n",
       "2      Kuala Lumpur  \n",
       "3      Kuala Lumpur  \n",
       "4      Kuala Lumpur  \n",
       "...             ...  \n",
       "19986      Selangor  \n",
       "19987      Selangor  \n",
       "19988      Selangor  \n",
       "19989      Selangor  \n",
       "19990      Selangor  \n",
       "\n",
       "[19960 rows x 10 columns]"
      ],
      "text/html": [
       "<div>\n",
       "<style scoped>\n",
       "    .dataframe tbody tr th:only-of-type {\n",
       "        vertical-align: middle;\n",
       "    }\n",
       "\n",
       "    .dataframe tbody tr th {\n",
       "        vertical-align: top;\n",
       "    }\n",
       "\n",
       "    .dataframe thead th {\n",
       "        text-align: right;\n",
       "    }\n",
       "</style>\n",
       "<table border=\"1\" class=\"dataframe\">\n",
       "  <thead>\n",
       "    <tr style=\"text-align: right;\">\n",
       "      <th></th>\n",
       "      <th>completion_year</th>\n",
       "      <th>monthly_rent</th>\n",
       "      <th>location</th>\n",
       "      <th>property_type</th>\n",
       "      <th>rooms</th>\n",
       "      <th>parking</th>\n",
       "      <th>bathroom</th>\n",
       "      <th>size</th>\n",
       "      <th>furnished</th>\n",
       "      <th>region</th>\n",
       "    </tr>\n",
       "  </thead>\n",
       "  <tbody>\n",
       "    <tr>\n",
       "      <th>0</th>\n",
       "      <td>2022</td>\n",
       "      <td>4200</td>\n",
       "      <td>Kuala Lumpur - Taman Desa</td>\n",
       "      <td>Condominium</td>\n",
       "      <td>5</td>\n",
       "      <td>2</td>\n",
       "      <td>6</td>\n",
       "      <td>1842</td>\n",
       "      <td>Fully Furnished</td>\n",
       "      <td>Kuala Lumpur</td>\n",
       "    </tr>\n",
       "    <tr>\n",
       "      <th>1</th>\n",
       "      <td>2017</td>\n",
       "      <td>2300</td>\n",
       "      <td>Kuala Lumpur - Cheras</td>\n",
       "      <td>Condominium</td>\n",
       "      <td>3</td>\n",
       "      <td>1</td>\n",
       "      <td>2</td>\n",
       "      <td>1170</td>\n",
       "      <td>Partially Furnished</td>\n",
       "      <td>Kuala Lumpur</td>\n",
       "    </tr>\n",
       "    <tr>\n",
       "      <th>2</th>\n",
       "      <td>2017</td>\n",
       "      <td>1000</td>\n",
       "      <td>Kuala Lumpur - Taman Desa</td>\n",
       "      <td>Apartment</td>\n",
       "      <td>3</td>\n",
       "      <td>0</td>\n",
       "      <td>2</td>\n",
       "      <td>650</td>\n",
       "      <td>Fully Furnished</td>\n",
       "      <td>Kuala Lumpur</td>\n",
       "    </tr>\n",
       "    <tr>\n",
       "      <th>3</th>\n",
       "      <td>2020</td>\n",
       "      <td>1700</td>\n",
       "      <td>Kuala Lumpur - Sentul</td>\n",
       "      <td>Apartment</td>\n",
       "      <td>2</td>\n",
       "      <td>1</td>\n",
       "      <td>2</td>\n",
       "      <td>743</td>\n",
       "      <td>Partially Furnished</td>\n",
       "      <td>Kuala Lumpur</td>\n",
       "    </tr>\n",
       "    <tr>\n",
       "      <th>4</th>\n",
       "      <td>2017</td>\n",
       "      <td>1299</td>\n",
       "      <td>Kuala Lumpur - Mont Kiara</td>\n",
       "      <td>Service Residence</td>\n",
       "      <td>1</td>\n",
       "      <td>1</td>\n",
       "      <td>1</td>\n",
       "      <td>494</td>\n",
       "      <td>Not Furnished</td>\n",
       "      <td>Kuala Lumpur</td>\n",
       "    </tr>\n",
       "    <tr>\n",
       "      <th>...</th>\n",
       "      <td>...</td>\n",
       "      <td>...</td>\n",
       "      <td>...</td>\n",
       "      <td>...</td>\n",
       "      <td>...</td>\n",
       "      <td>...</td>\n",
       "      <td>...</td>\n",
       "      <td>...</td>\n",
       "      <td>...</td>\n",
       "      <td>...</td>\n",
       "    </tr>\n",
       "    <tr>\n",
       "      <th>19986</th>\n",
       "      <td>2017</td>\n",
       "      <td>1200</td>\n",
       "      <td>Selangor - Kajang</td>\n",
       "      <td>Apartment</td>\n",
       "      <td>3</td>\n",
       "      <td>0</td>\n",
       "      <td>2</td>\n",
       "      <td>1000</td>\n",
       "      <td>Partially Furnished</td>\n",
       "      <td>Selangor</td>\n",
       "    </tr>\n",
       "    <tr>\n",
       "      <th>19987</th>\n",
       "      <td>2018</td>\n",
       "      <td>1300</td>\n",
       "      <td>Selangor - Bandar Saujana Putra</td>\n",
       "      <td>Service Residence</td>\n",
       "      <td>4</td>\n",
       "      <td>2</td>\n",
       "      <td>3</td>\n",
       "      <td>1427</td>\n",
       "      <td>Partially Furnished</td>\n",
       "      <td>Selangor</td>\n",
       "    </tr>\n",
       "    <tr>\n",
       "      <th>19988</th>\n",
       "      <td>2017</td>\n",
       "      <td>1350</td>\n",
       "      <td>Selangor - Kajang</td>\n",
       "      <td>Condominium</td>\n",
       "      <td>3</td>\n",
       "      <td>2</td>\n",
       "      <td>2</td>\n",
       "      <td>1270</td>\n",
       "      <td>Partially Furnished</td>\n",
       "      <td>Selangor</td>\n",
       "    </tr>\n",
       "    <tr>\n",
       "      <th>19989</th>\n",
       "      <td>2017</td>\n",
       "      <td>1200</td>\n",
       "      <td>Selangor - Cyberjaya</td>\n",
       "      <td>Service Residence</td>\n",
       "      <td>3</td>\n",
       "      <td>1</td>\n",
       "      <td>2</td>\n",
       "      <td>1100</td>\n",
       "      <td>Fully Furnished</td>\n",
       "      <td>Selangor</td>\n",
       "    </tr>\n",
       "    <tr>\n",
       "      <th>19990</th>\n",
       "      <td>2016</td>\n",
       "      <td>1000</td>\n",
       "      <td>Selangor - Cyberjaya</td>\n",
       "      <td>Studio</td>\n",
       "      <td>1</td>\n",
       "      <td>1</td>\n",
       "      <td>1</td>\n",
       "      <td>580</td>\n",
       "      <td>Partially Furnished</td>\n",
       "      <td>Selangor</td>\n",
       "    </tr>\n",
       "  </tbody>\n",
       "</table>\n",
       "<p>19960 rows × 10 columns</p>\n",
       "</div>"
      ]
     },
     "execution_count": 24,
     "metadata": {},
     "output_type": "execute_result"
    }
   ],
   "execution_count": 24
  },
  {
   "cell_type": "code",
   "source": [
    "# Check statistics\n",
    "df.describe()"
   ],
   "metadata": {
    "colab": {
     "base_uri": "https://localhost:8080/",
     "height": 300
    },
    "id": "D330dPiaQqP5",
    "outputId": "a7b529ad-fdad-48f8-8f89-60d8b2937a39",
    "ExecuteTime": {
     "end_time": "2024-11-24T01:28:34.002152Z",
     "start_time": "2024-11-24T01:28:33.989611Z"
    }
   },
   "outputs": [
    {
     "data": {
      "text/plain": [
       "       completion_year  monthly_rent         rooms       parking  \\\n",
       "count     19960.000000  1.996000e+04  19960.000000  19960.000000   \n",
       "mean       2015.809419  2.269346e+03      2.680912      1.011874   \n",
       "std           5.061202  2.242913e+04      0.812706      0.799324   \n",
       "min        1977.000000  7.000000e+01      1.000000      0.000000   \n",
       "25%        2016.000000  1.100000e+03      2.000000      0.000000   \n",
       "50%        2017.000000  1.400000e+03      3.000000      1.000000   \n",
       "75%        2017.000000  1.800000e+03      3.000000      2.000000   \n",
       "max        2024.000000  2.400000e+06     11.000000     10.000000   \n",
       "\n",
       "           bathroom          size  \n",
       "count  19960.000000  1.996000e+04  \n",
       "mean       1.890982  5.929957e+03  \n",
       "std        0.557563  7.078086e+05  \n",
       "min        0.000000  1.000000e+00  \n",
       "25%        2.000000  7.500000e+02  \n",
       "50%        2.000000  8.850000e+02  \n",
       "75%        2.000000  1.044000e+03  \n",
       "max        8.000000  1.000000e+08  "
      ],
      "text/html": [
       "<div>\n",
       "<style scoped>\n",
       "    .dataframe tbody tr th:only-of-type {\n",
       "        vertical-align: middle;\n",
       "    }\n",
       "\n",
       "    .dataframe tbody tr th {\n",
       "        vertical-align: top;\n",
       "    }\n",
       "\n",
       "    .dataframe thead th {\n",
       "        text-align: right;\n",
       "    }\n",
       "</style>\n",
       "<table border=\"1\" class=\"dataframe\">\n",
       "  <thead>\n",
       "    <tr style=\"text-align: right;\">\n",
       "      <th></th>\n",
       "      <th>completion_year</th>\n",
       "      <th>monthly_rent</th>\n",
       "      <th>rooms</th>\n",
       "      <th>parking</th>\n",
       "      <th>bathroom</th>\n",
       "      <th>size</th>\n",
       "    </tr>\n",
       "  </thead>\n",
       "  <tbody>\n",
       "    <tr>\n",
       "      <th>count</th>\n",
       "      <td>19960.000000</td>\n",
       "      <td>1.996000e+04</td>\n",
       "      <td>19960.000000</td>\n",
       "      <td>19960.000000</td>\n",
       "      <td>19960.000000</td>\n",
       "      <td>1.996000e+04</td>\n",
       "    </tr>\n",
       "    <tr>\n",
       "      <th>mean</th>\n",
       "      <td>2015.809419</td>\n",
       "      <td>2.269346e+03</td>\n",
       "      <td>2.680912</td>\n",
       "      <td>1.011874</td>\n",
       "      <td>1.890982</td>\n",
       "      <td>5.929957e+03</td>\n",
       "    </tr>\n",
       "    <tr>\n",
       "      <th>std</th>\n",
       "      <td>5.061202</td>\n",
       "      <td>2.242913e+04</td>\n",
       "      <td>0.812706</td>\n",
       "      <td>0.799324</td>\n",
       "      <td>0.557563</td>\n",
       "      <td>7.078086e+05</td>\n",
       "    </tr>\n",
       "    <tr>\n",
       "      <th>min</th>\n",
       "      <td>1977.000000</td>\n",
       "      <td>7.000000e+01</td>\n",
       "      <td>1.000000</td>\n",
       "      <td>0.000000</td>\n",
       "      <td>0.000000</td>\n",
       "      <td>1.000000e+00</td>\n",
       "    </tr>\n",
       "    <tr>\n",
       "      <th>25%</th>\n",
       "      <td>2016.000000</td>\n",
       "      <td>1.100000e+03</td>\n",
       "      <td>2.000000</td>\n",
       "      <td>0.000000</td>\n",
       "      <td>2.000000</td>\n",
       "      <td>7.500000e+02</td>\n",
       "    </tr>\n",
       "    <tr>\n",
       "      <th>50%</th>\n",
       "      <td>2017.000000</td>\n",
       "      <td>1.400000e+03</td>\n",
       "      <td>3.000000</td>\n",
       "      <td>1.000000</td>\n",
       "      <td>2.000000</td>\n",
       "      <td>8.850000e+02</td>\n",
       "    </tr>\n",
       "    <tr>\n",
       "      <th>75%</th>\n",
       "      <td>2017.000000</td>\n",
       "      <td>1.800000e+03</td>\n",
       "      <td>3.000000</td>\n",
       "      <td>2.000000</td>\n",
       "      <td>2.000000</td>\n",
       "      <td>1.044000e+03</td>\n",
       "    </tr>\n",
       "    <tr>\n",
       "      <th>max</th>\n",
       "      <td>2024.000000</td>\n",
       "      <td>2.400000e+06</td>\n",
       "      <td>11.000000</td>\n",
       "      <td>10.000000</td>\n",
       "      <td>8.000000</td>\n",
       "      <td>1.000000e+08</td>\n",
       "    </tr>\n",
       "  </tbody>\n",
       "</table>\n",
       "</div>"
      ]
     },
     "execution_count": 25,
     "metadata": {},
     "output_type": "execute_result"
    }
   ],
   "execution_count": 25
  },
  {
   "cell_type": "code",
   "source": [
    "# Remove outliers for 'monthly_rent', 'rooms', 'parking', 'bathroom' and 'size'\n",
    "col_to_rm_outliers = ['monthly_rent', 'rooms', 'parking', 'bathroom', 'size']\n",
    "\n",
    "def remove_outliers(df, col):\n",
    "\n",
    "    q1 = df[col].quantile(0.25)\n",
    "    q3 = df[col].quantile(0.75)\n",
    "    iqr = q3 - q1\n",
    "    lower_bound = q1 - 1.5 * iqr\n",
    "    upper_bound = q3 + 1.5 * iqr\n",
    "    return df[(df[col] >= lower_bound) & (df[col] <= upper_bound)]\n",
    "\n",
    "for col in col_to_rm_outliers:\n",
    "    df = remove_outliers(df, col)\n",
    "\n",
    "df"
   ],
   "metadata": {
    "colab": {
     "base_uri": "https://localhost:8080/",
     "height": 424
    },
    "id": "qkd6_QbGQ3UR",
    "outputId": "eb967d01-c4ed-4e5c-f187-7bea819b0b27",
    "ExecuteTime": {
     "end_time": "2024-11-24T01:28:34.136927Z",
     "start_time": "2024-11-24T01:28:34.121813Z"
    }
   },
   "outputs": [
    {
     "data": {
      "text/plain": [
       "       completion_year  monthly_rent                      location  \\\n",
       "1                 2017          2300         Kuala Lumpur - Cheras   \n",
       "2                 2017          1000     Kuala Lumpur - Taman Desa   \n",
       "3                 2020          1700         Kuala Lumpur - Sentul   \n",
       "5                 2017          1500        Kuala Lumpur - Setapak   \n",
       "9                 2017          1350  Kuala Lumpur - Desa ParkCity   \n",
       "...                ...           ...                           ...   \n",
       "19982             2017          1100            Selangor - Puchong   \n",
       "19983             2021           885          Selangor - Cyberjaya   \n",
       "19986             2017          1200             Selangor - Kajang   \n",
       "19988             2017          1350             Selangor - Kajang   \n",
       "19989             2017          1200          Selangor - Cyberjaya   \n",
       "\n",
       "           property_type  rooms  parking  bathroom  size            furnished  \\\n",
       "1            Condominium      3        1         2  1170  Partially Furnished   \n",
       "2              Apartment      3        0         2   650      Fully Furnished   \n",
       "3              Apartment      2        1         2   743  Partially Furnished   \n",
       "5              Apartment      3        1         2   884  Partially Furnished   \n",
       "9            Condominium      3        1         2   862  Partially Furnished   \n",
       "...                  ...    ...      ...       ...   ...                  ...   \n",
       "19982          Apartment      3        1         2   941  Partially Furnished   \n",
       "19983        Condominium      3        2         2  1015  Partially Furnished   \n",
       "19986          Apartment      3        0         2  1000  Partially Furnished   \n",
       "19988        Condominium      3        2         2  1270  Partially Furnished   \n",
       "19989  Service Residence      3        1         2  1100      Fully Furnished   \n",
       "\n",
       "             region  \n",
       "1      Kuala Lumpur  \n",
       "2      Kuala Lumpur  \n",
       "3      Kuala Lumpur  \n",
       "5      Kuala Lumpur  \n",
       "9      Kuala Lumpur  \n",
       "...             ...  \n",
       "19982      Selangor  \n",
       "19983      Selangor  \n",
       "19986      Selangor  \n",
       "19988      Selangor  \n",
       "19989      Selangor  \n",
       "\n",
       "[13586 rows x 10 columns]"
      ],
      "text/html": [
       "<div>\n",
       "<style scoped>\n",
       "    .dataframe tbody tr th:only-of-type {\n",
       "        vertical-align: middle;\n",
       "    }\n",
       "\n",
       "    .dataframe tbody tr th {\n",
       "        vertical-align: top;\n",
       "    }\n",
       "\n",
       "    .dataframe thead th {\n",
       "        text-align: right;\n",
       "    }\n",
       "</style>\n",
       "<table border=\"1\" class=\"dataframe\">\n",
       "  <thead>\n",
       "    <tr style=\"text-align: right;\">\n",
       "      <th></th>\n",
       "      <th>completion_year</th>\n",
       "      <th>monthly_rent</th>\n",
       "      <th>location</th>\n",
       "      <th>property_type</th>\n",
       "      <th>rooms</th>\n",
       "      <th>parking</th>\n",
       "      <th>bathroom</th>\n",
       "      <th>size</th>\n",
       "      <th>furnished</th>\n",
       "      <th>region</th>\n",
       "    </tr>\n",
       "  </thead>\n",
       "  <tbody>\n",
       "    <tr>\n",
       "      <th>1</th>\n",
       "      <td>2017</td>\n",
       "      <td>2300</td>\n",
       "      <td>Kuala Lumpur - Cheras</td>\n",
       "      <td>Condominium</td>\n",
       "      <td>3</td>\n",
       "      <td>1</td>\n",
       "      <td>2</td>\n",
       "      <td>1170</td>\n",
       "      <td>Partially Furnished</td>\n",
       "      <td>Kuala Lumpur</td>\n",
       "    </tr>\n",
       "    <tr>\n",
       "      <th>2</th>\n",
       "      <td>2017</td>\n",
       "      <td>1000</td>\n",
       "      <td>Kuala Lumpur - Taman Desa</td>\n",
       "      <td>Apartment</td>\n",
       "      <td>3</td>\n",
       "      <td>0</td>\n",
       "      <td>2</td>\n",
       "      <td>650</td>\n",
       "      <td>Fully Furnished</td>\n",
       "      <td>Kuala Lumpur</td>\n",
       "    </tr>\n",
       "    <tr>\n",
       "      <th>3</th>\n",
       "      <td>2020</td>\n",
       "      <td>1700</td>\n",
       "      <td>Kuala Lumpur - Sentul</td>\n",
       "      <td>Apartment</td>\n",
       "      <td>2</td>\n",
       "      <td>1</td>\n",
       "      <td>2</td>\n",
       "      <td>743</td>\n",
       "      <td>Partially Furnished</td>\n",
       "      <td>Kuala Lumpur</td>\n",
       "    </tr>\n",
       "    <tr>\n",
       "      <th>5</th>\n",
       "      <td>2017</td>\n",
       "      <td>1500</td>\n",
       "      <td>Kuala Lumpur - Setapak</td>\n",
       "      <td>Apartment</td>\n",
       "      <td>3</td>\n",
       "      <td>1</td>\n",
       "      <td>2</td>\n",
       "      <td>884</td>\n",
       "      <td>Partially Furnished</td>\n",
       "      <td>Kuala Lumpur</td>\n",
       "    </tr>\n",
       "    <tr>\n",
       "      <th>9</th>\n",
       "      <td>2017</td>\n",
       "      <td>1350</td>\n",
       "      <td>Kuala Lumpur - Desa ParkCity</td>\n",
       "      <td>Condominium</td>\n",
       "      <td>3</td>\n",
       "      <td>1</td>\n",
       "      <td>2</td>\n",
       "      <td>862</td>\n",
       "      <td>Partially Furnished</td>\n",
       "      <td>Kuala Lumpur</td>\n",
       "    </tr>\n",
       "    <tr>\n",
       "      <th>...</th>\n",
       "      <td>...</td>\n",
       "      <td>...</td>\n",
       "      <td>...</td>\n",
       "      <td>...</td>\n",
       "      <td>...</td>\n",
       "      <td>...</td>\n",
       "      <td>...</td>\n",
       "      <td>...</td>\n",
       "      <td>...</td>\n",
       "      <td>...</td>\n",
       "    </tr>\n",
       "    <tr>\n",
       "      <th>19982</th>\n",
       "      <td>2017</td>\n",
       "      <td>1100</td>\n",
       "      <td>Selangor - Puchong</td>\n",
       "      <td>Apartment</td>\n",
       "      <td>3</td>\n",
       "      <td>1</td>\n",
       "      <td>2</td>\n",
       "      <td>941</td>\n",
       "      <td>Partially Furnished</td>\n",
       "      <td>Selangor</td>\n",
       "    </tr>\n",
       "    <tr>\n",
       "      <th>19983</th>\n",
       "      <td>2021</td>\n",
       "      <td>885</td>\n",
       "      <td>Selangor - Cyberjaya</td>\n",
       "      <td>Condominium</td>\n",
       "      <td>3</td>\n",
       "      <td>2</td>\n",
       "      <td>2</td>\n",
       "      <td>1015</td>\n",
       "      <td>Partially Furnished</td>\n",
       "      <td>Selangor</td>\n",
       "    </tr>\n",
       "    <tr>\n",
       "      <th>19986</th>\n",
       "      <td>2017</td>\n",
       "      <td>1200</td>\n",
       "      <td>Selangor - Kajang</td>\n",
       "      <td>Apartment</td>\n",
       "      <td>3</td>\n",
       "      <td>0</td>\n",
       "      <td>2</td>\n",
       "      <td>1000</td>\n",
       "      <td>Partially Furnished</td>\n",
       "      <td>Selangor</td>\n",
       "    </tr>\n",
       "    <tr>\n",
       "      <th>19988</th>\n",
       "      <td>2017</td>\n",
       "      <td>1350</td>\n",
       "      <td>Selangor - Kajang</td>\n",
       "      <td>Condominium</td>\n",
       "      <td>3</td>\n",
       "      <td>2</td>\n",
       "      <td>2</td>\n",
       "      <td>1270</td>\n",
       "      <td>Partially Furnished</td>\n",
       "      <td>Selangor</td>\n",
       "    </tr>\n",
       "    <tr>\n",
       "      <th>19989</th>\n",
       "      <td>2017</td>\n",
       "      <td>1200</td>\n",
       "      <td>Selangor - Cyberjaya</td>\n",
       "      <td>Service Residence</td>\n",
       "      <td>3</td>\n",
       "      <td>1</td>\n",
       "      <td>2</td>\n",
       "      <td>1100</td>\n",
       "      <td>Fully Furnished</td>\n",
       "      <td>Selangor</td>\n",
       "    </tr>\n",
       "  </tbody>\n",
       "</table>\n",
       "<p>13586 rows × 10 columns</p>\n",
       "</div>"
      ]
     },
     "execution_count": 26,
     "metadata": {},
     "output_type": "execute_result"
    }
   ],
   "execution_count": 26
  },
  {
   "cell_type": "code",
   "source": [
    "# After remove outlier\n",
    "df.describe()"
   ],
   "metadata": {
    "colab": {
     "base_uri": "https://localhost:8080/",
     "height": 300
    },
    "id": "IyOlwHL4RsUr",
    "outputId": "b2e93538-a5f3-44f9-ec1e-d6b68ad2ecf5",
    "ExecuteTime": {
     "end_time": "2024-11-24T01:28:34.343525Z",
     "start_time": "2024-11-24T01:28:34.332355Z"
    }
   },
   "outputs": [
    {
     "data": {
      "text/plain": [
       "       completion_year  monthly_rent         rooms       parking  bathroom  \\\n",
       "count     13586.000000  13586.000000  13586.000000  13586.000000   13586.0   \n",
       "mean       2015.785441   1452.860445      2.892536      1.046887       2.0   \n",
       "std           5.256957    488.279097      0.457474      0.762632       0.0   \n",
       "min        1980.000000    120.000000      1.000000      0.000000       2.0   \n",
       "25%        2017.000000   1100.000000      3.000000      0.000000       2.0   \n",
       "50%        2017.000000   1400.000000      3.000000      1.000000       2.0   \n",
       "75%        2017.000000   1700.000000      3.000000      2.000000       2.0   \n",
       "max        2024.000000   2850.000000      4.000000      5.000000       2.0   \n",
       "\n",
       "               size  \n",
       "count  13586.000000  \n",
       "mean     925.408803  \n",
       "std      155.512837  \n",
       "min      508.000000  \n",
       "25%      820.000000  \n",
       "50%      900.000000  \n",
       "75%     1015.000000  \n",
       "max     1341.000000  "
      ],
      "text/html": [
       "<div>\n",
       "<style scoped>\n",
       "    .dataframe tbody tr th:only-of-type {\n",
       "        vertical-align: middle;\n",
       "    }\n",
       "\n",
       "    .dataframe tbody tr th {\n",
       "        vertical-align: top;\n",
       "    }\n",
       "\n",
       "    .dataframe thead th {\n",
       "        text-align: right;\n",
       "    }\n",
       "</style>\n",
       "<table border=\"1\" class=\"dataframe\">\n",
       "  <thead>\n",
       "    <tr style=\"text-align: right;\">\n",
       "      <th></th>\n",
       "      <th>completion_year</th>\n",
       "      <th>monthly_rent</th>\n",
       "      <th>rooms</th>\n",
       "      <th>parking</th>\n",
       "      <th>bathroom</th>\n",
       "      <th>size</th>\n",
       "    </tr>\n",
       "  </thead>\n",
       "  <tbody>\n",
       "    <tr>\n",
       "      <th>count</th>\n",
       "      <td>13586.000000</td>\n",
       "      <td>13586.000000</td>\n",
       "      <td>13586.000000</td>\n",
       "      <td>13586.000000</td>\n",
       "      <td>13586.0</td>\n",
       "      <td>13586.000000</td>\n",
       "    </tr>\n",
       "    <tr>\n",
       "      <th>mean</th>\n",
       "      <td>2015.785441</td>\n",
       "      <td>1452.860445</td>\n",
       "      <td>2.892536</td>\n",
       "      <td>1.046887</td>\n",
       "      <td>2.0</td>\n",
       "      <td>925.408803</td>\n",
       "    </tr>\n",
       "    <tr>\n",
       "      <th>std</th>\n",
       "      <td>5.256957</td>\n",
       "      <td>488.279097</td>\n",
       "      <td>0.457474</td>\n",
       "      <td>0.762632</td>\n",
       "      <td>0.0</td>\n",
       "      <td>155.512837</td>\n",
       "    </tr>\n",
       "    <tr>\n",
       "      <th>min</th>\n",
       "      <td>1980.000000</td>\n",
       "      <td>120.000000</td>\n",
       "      <td>1.000000</td>\n",
       "      <td>0.000000</td>\n",
       "      <td>2.0</td>\n",
       "      <td>508.000000</td>\n",
       "    </tr>\n",
       "    <tr>\n",
       "      <th>25%</th>\n",
       "      <td>2017.000000</td>\n",
       "      <td>1100.000000</td>\n",
       "      <td>3.000000</td>\n",
       "      <td>0.000000</td>\n",
       "      <td>2.0</td>\n",
       "      <td>820.000000</td>\n",
       "    </tr>\n",
       "    <tr>\n",
       "      <th>50%</th>\n",
       "      <td>2017.000000</td>\n",
       "      <td>1400.000000</td>\n",
       "      <td>3.000000</td>\n",
       "      <td>1.000000</td>\n",
       "      <td>2.0</td>\n",
       "      <td>900.000000</td>\n",
       "    </tr>\n",
       "    <tr>\n",
       "      <th>75%</th>\n",
       "      <td>2017.000000</td>\n",
       "      <td>1700.000000</td>\n",
       "      <td>3.000000</td>\n",
       "      <td>2.000000</td>\n",
       "      <td>2.0</td>\n",
       "      <td>1015.000000</td>\n",
       "    </tr>\n",
       "    <tr>\n",
       "      <th>max</th>\n",
       "      <td>2024.000000</td>\n",
       "      <td>2850.000000</td>\n",
       "      <td>4.000000</td>\n",
       "      <td>5.000000</td>\n",
       "      <td>2.0</td>\n",
       "      <td>1341.000000</td>\n",
       "    </tr>\n",
       "  </tbody>\n",
       "</table>\n",
       "</div>"
      ]
     },
     "execution_count": 27,
     "metadata": {},
     "output_type": "execute_result"
    }
   ],
   "execution_count": 27
  },
  {
   "cell_type": "markdown",
   "source": [
    "## Data Visualization\n",
    "\n"
   ],
   "metadata": {
    "id": "ONQ482337Zxa"
   }
  },
  {
   "cell_type": "code",
   "source": [
    "# Explore the `location` column\n",
    "df['location'].value_counts()"
   ],
   "metadata": {
    "colab": {
     "base_uri": "https://localhost:8080/",
     "height": 490
    },
    "id": "OpjFQFbn6Qh2",
    "outputId": "0490c061-2090-412e-be64-f3184aebbf48",
    "ExecuteTime": {
     "end_time": "2024-11-24T01:28:34.440911Z",
     "start_time": "2024-11-24T01:28:34.435912Z"
    }
   },
   "outputs": [
    {
     "data": {
      "text/plain": [
       "location\n",
       "Kuala Lumpur - Cheras               1253\n",
       "Kuala Lumpur - Setapak               783\n",
       "Selangor - Kajang                    706\n",
       "Kuala Lumpur - Sentul                639\n",
       "Selangor - Puchong                   630\n",
       "                                    ... \n",
       "Selangor - 369                         1\n",
       "Selangor - Bandar Botanic              1\n",
       "Selangor - Serendah                    1\n",
       "Selangor - Mutiara Damansara           1\n",
       "Selangor - Telok Panglima Garang       1\n",
       "Name: count, Length: 121, dtype: int64"
      ]
     },
     "execution_count": 28,
     "metadata": {},
     "output_type": "execute_result"
    }
   ],
   "execution_count": 28
  },
  {
   "cell_type": "code",
   "source": [
    "# See how many states we have\n",
    "df['location'].str.split(' - ').str[0].value_counts()"
   ],
   "metadata": {
    "colab": {
     "base_uri": "https://localhost:8080/",
     "height": 178
    },
    "id": "cm2DWu7N8Au6",
    "outputId": "f328e5b4-a3ec-4fe1-afc5-e70e00de59b1",
    "ExecuteTime": {
     "end_time": "2024-11-24T01:28:34.676155Z",
     "start_time": "2024-11-24T01:28:34.583849Z"
    }
   },
   "outputs": [
    {
     "data": {
      "text/plain": [
       "location\n",
       "Selangor        6827\n",
       "Kuala Lumpur    6759\n",
       "Name: count, dtype: int64"
      ]
     },
     "execution_count": 29,
     "metadata": {},
     "output_type": "execute_result"
    }
   ],
   "execution_count": 29
  },
  {
   "cell_type": "code",
   "source": [
    "# Looks like we only have Selangor and Kuala Lumpur, which is the `region`\n",
    "\n",
    "#how about the cities\n",
    "df['location'].str.split(' - ').str[1].value_counts()"
   ],
   "metadata": {
    "colab": {
     "base_uri": "https://localhost:8080/",
     "height": 490
    },
    "id": "S14EyiMb7Fwf",
    "outputId": "40bbc5a7-8360-412e-bcfe-4a9b8ba97e08",
    "ExecuteTime": {
     "end_time": "2024-11-24T01:28:34.771172Z",
     "start_time": "2024-11-24T01:28:34.760172Z"
    }
   },
   "outputs": [
    {
     "data": {
      "text/plain": [
       "location\n",
       "Cheras                   1633\n",
       "Setapak                   783\n",
       "Kajang                    706\n",
       "Puchong                   659\n",
       "Sentul                    639\n",
       "                         ... \n",
       "369                         1\n",
       "Bandar Botanic              1\n",
       "Serendah                    1\n",
       "Mutiara Damansara           1\n",
       "Telok Panglima Garang       1\n",
       "Name: count, Length: 116, dtype: int64"
      ]
     },
     "execution_count": 30,
     "metadata": {},
     "output_type": "execute_result"
    }
   ],
   "execution_count": 30
  },
  {
   "cell_type": "markdown",
   "source": [
    "Since we have 116 cities here, let's look at the top 15 cities with most number of rental units"
   ],
   "metadata": {
    "id": "sMgEx_cS8LQ4"
   }
  },
  {
   "cell_type": "code",
   "source": [
    "df['location'] = df['location'].str.split(' - ').str[1]\n",
    "top_cities = df['location'].value_counts().reset_index()[:15]\n",
    "\n",
    "# Plot bar chart\n",
    "plt.title('Top 15 Cities with Most Rental Units')\n",
    "sns.barplot(data=top_cities, x='count', y='location')"
   ],
   "metadata": {
    "colab": {
     "base_uri": "https://localhost:8080/",
     "height": 489
    },
    "id": "x4iWHF2x9SdX",
    "outputId": "7674079d-dbbf-41bc-f2ca-caf09eba6b9e",
    "ExecuteTime": {
     "end_time": "2024-11-24T01:28:35.015561Z",
     "start_time": "2024-11-24T01:28:34.876899Z"
    }
   },
   "outputs": [
    {
     "data": {
      "text/plain": [
       "<Axes: title={'center': 'Top 15 Cities with Most Rental Units'}, xlabel='count', ylabel='location'>"
      ]
     },
     "execution_count": 31,
     "metadata": {},
     "output_type": "execute_result"
    },
    {
     "data": {
      "text/plain": [
       "<Figure size 640x480 with 1 Axes>"
      ],
      "image/png": "[encoded data removed]"
     },
     "metadata": {},
     "output_type": "display_data"
    }
   ],
   "execution_count": 31
  },
  {
   "cell_type": "markdown",
   "source": [
    "Let's see how property types affect the rental price"
   ],
   "metadata": {
    "id": "7aMEeEFXJbwh"
   }
  },
  {
   "cell_type": "code",
   "source": [
    "type_price = df.groupby(['property_type'])['monthly_rent'].mean().sort_values(ascending=False).reset_index()\n",
    "\n",
    "# Plot bar chart\n",
    "plt.title('Average Monthly Rent for each Property Type')\n",
    "sns.barplot(data=type_price, x='monthly_rent', y='property_type')"
   ],
   "metadata": {
    "colab": {
     "base_uri": "https://localhost:8080/",
     "height": 489
    },
    "id": "Hawaa0BEJeut",
    "outputId": "a81232ba-b714-4a5c-9a8d-a4de92e4bb96",
    "ExecuteTime": {
     "end_time": "2024-11-24T01:28:35.169439Z",
     "start_time": "2024-11-24T01:28:35.048953Z"
    }
   },
   "outputs": [
    {
     "data": {
      "text/plain": [
       "<Axes: title={'center': 'Average Monthly Rent for each Property Type'}, xlabel='monthly_rent', ylabel='property_type'>"
      ]
     },
     "execution_count": 32,
     "metadata": {},
     "output_type": "execute_result"
    },
    {
     "data": {
      "text/plain": [
       "<Figure size 640x480 with 1 Axes>"
      ],
      "image/png": "[encoded data removed]"
     },
     "metadata": {},
     "output_type": "display_data"
    }
   ],
   "execution_count": 32
  },
  {
   "cell_type": "code",
   "source": [
    "df2 = df.copy()\n",
    "df2['price_per_room'] = df2['monthly_rent'] / df2['rooms']\n",
    "\n",
    "# Look at only the top 15 most expensive ones\n",
    "expensive_cities = df2.groupby(['location', 'region'])[['price_per_room']].median().sort_values(by='price_per_room', ascending=False)[:15]\n",
    "\n",
    "# Plot bar chart\n",
    "plt.title('Top 15 Cities with Most Expensive Price per Room')\n",
    "sns.barplot(data=expensive_cities, x='price_per_room', y='location', hue='region')"
   ],
   "metadata": {
    "colab": {
     "base_uri": "https://localhost:8080/",
     "height": 489
    },
    "id": "OhOQB8yU-YEs",
    "outputId": "c714bed2-a7c8-4578-bed9-4f82334c895c",
    "ExecuteTime": {
     "end_time": "2024-11-24T01:28:35.326444Z",
     "start_time": "2024-11-24T01:28:35.172443Z"
    }
   },
   "outputs": [
    {
     "data": {
      "text/plain": [
       "<Axes: title={'center': 'Top 15 Cities with Most Expensive Price per Room'}, xlabel='price_per_room', ylabel='location'>"
      ]
     },
     "execution_count": 33,
     "metadata": {},
     "output_type": "execute_result"
    },
    {
     "data": {
      "text/plain": [
       "<Figure size 640x480 with 1 Axes>"
      ],
      "image/png": "[encoded data removed]"
     },
     "metadata": {},
     "output_type": "display_data"
    }
   ],
   "execution_count": 33
  },
  {
   "cell_type": "code",
   "source": [
    "pricing_trend = df2.groupby(['completion_year', 'region'])[['price_per_room']].median()\n",
    "\n",
    "# Plot line graph\n",
    "plt.title('Price per Room against Completion Year')\n",
    "sns.lineplot(data=pricing_trend, x='completion_year', y='price_per_room', hue='region')"
   ],
   "metadata": {
    "colab": {
     "base_uri": "https://localhost:8080/",
     "height": 489
    },
    "id": "U0cwXUBtCfFU",
    "outputId": "5ae2c143-08f4-4742-fa9c-5de975d1bbf3",
    "ExecuteTime": {
     "end_time": "2024-11-24T01:28:35.451668Z",
     "start_time": "2024-11-24T01:28:35.334592Z"
    }
   },
   "outputs": [
    {
     "data": {
      "text/plain": [
       "<Axes: title={'center': 'Price per Room against Completion Year'}, xlabel='completion_year', ylabel='price_per_room'>"
      ]
     },
     "execution_count": 34,
     "metadata": {},
     "output_type": "execute_result"
    },
    {
     "data": {
      "text/plain": [
       "<Figure size 640x480 with 1 Axes>"
      ],
      "image/png": "[encoded data removed]"
     },
     "metadata": {},
     "output_type": "display_data"
    }
   ],
   "execution_count": 34
  },
  {
   "cell_type": "code",
   "source": [
    "# Look at only the top 15 most expensive ones\n",
    "expensive_cities = df2.groupby(['location', 'region'])[['size']].median().sort_values(by='size', ascending=False)[:15]\n",
    "\n",
    "# Plot bar chart\n",
    "plt.title('Top 15 Cities with Biggest Rental Units')\n",
    "sns.barplot(data=expensive_cities, x='size', y='location', hue='region')"
   ],
   "metadata": {
    "id": "Ky0EHHRLEWjd",
    "colab": {
     "base_uri": "https://localhost:8080/",
     "height": 489
    },
    "outputId": "93adb4db-1025-42ee-abdf-82bdcefa162b",
    "ExecuteTime": {
     "end_time": "2024-11-24T01:28:35.622072Z",
     "start_time": "2024-11-24T01:28:35.461074Z"
    }
   },
   "outputs": [
    {
     "data": {
      "text/plain": [
       "<Axes: title={'center': 'Top 15 Cities with Biggest Rental Units'}, xlabel='size', ylabel='location'>"
      ]
     },
     "execution_count": 35,
     "metadata": {},
     "output_type": "execute_result"
    },
    {
     "data": {
      "text/plain": [
       "<Figure size 640x480 with 1 Axes>"
      ],
      "image/png": "[encoded data removed]"
     },
     "metadata": {},
     "output_type": "display_data"
    }
   ],
   "execution_count": 35
  },
  {
   "cell_type": "code",
   "source": [
    "df.groupby(['region', 'furnished']).size().unstack(fill_value=0).plot(kind='bar')"
   ],
   "metadata": {
    "id": "d1b3lcp4BiC2",
    "colab": {
     "base_uri": "https://localhost:8080/",
     "height": 548
    },
    "outputId": "727e7ba1-9a03-4e17-def4-c71b46566d44",
    "ExecuteTime": {
     "end_time": "2024-11-24T01:28:35.718363Z",
     "start_time": "2024-11-24T01:28:35.632365Z"
    }
   },
   "outputs": [
    {
     "data": {
      "text/plain": [
       "<Axes: xlabel='region'>"
      ]
     },
     "execution_count": 36,
     "metadata": {},
     "output_type": "execute_result"
    },
    {
     "data": {
      "text/plain": [
       "<Figure size 640x480 with 1 Axes>"
      ],
      "image/png": "[encoded data removed]"
     },
     "metadata": {},
     "output_type": "display_data"
    }
   ],
   "execution_count": 36
  },
  {
   "cell_type": "code",
   "source": [
    "df.groupby(['region', 'rooms']).size().unstack(fill_value=0).plot(kind='bar')"
   ],
   "metadata": {
    "id": "VxbQH5zDCImv",
    "colab": {
     "base_uri": "https://localhost:8080/",
     "height": 552
    },
    "outputId": "18a161bf-af41-4191-cbbd-278c4b8b2afb",
    "ExecuteTime": {
     "end_time": "2024-11-24T01:28:35.897253Z",
     "start_time": "2024-11-24T01:28:35.726954Z"
    }
   },
   "outputs": [
    {
     "data": {
      "text/plain": [
       "<Axes: xlabel='region'>"
      ]
     },
     "execution_count": 37,
     "metadata": {},
     "output_type": "execute_result"
    },
    {
     "data": {
      "text/plain": [
       "<Figure size 640x480 with 1 Axes>"
      ],
      "image/png": "[encoded data removed]"
     },
     "metadata": {},
     "output_type": "display_data"
    }
   ],
   "execution_count": 37
  },
  {
   "cell_type": "code",
   "source": [
    "df.groupby(['region', 'property_type']).size().unstack(fill_value=0).plot(kind='bar')"
   ],
   "metadata": {
    "id": "hP-mDELbFEJ1",
    "colab": {
     "base_uri": "https://localhost:8080/",
     "height": 548
    },
    "outputId": "a12ee788-83c2-4683-e533-ad5c5eb4988f",
    "ExecuteTime": {
     "end_time": "2024-11-24T01:28:36.006576Z",
     "start_time": "2024-11-24T01:28:35.905281Z"
    }
   },
   "outputs": [
    {
     "data": {
      "text/plain": [
       "<Axes: xlabel='region'>"
      ]
     },
     "execution_count": 38,
     "metadata": {},
     "output_type": "execute_result"
    },
    {
     "data": {
      "text/plain": [
       "<Figure size 640x480 with 1 Axes>"
      ],
      "image/png": "[encoded data removed]"
     },
     "metadata": {},
     "output_type": "display_data"
    }
   ],
   "execution_count": 38
  },
  {
   "cell_type": "markdown",
   "source": [
    "## Feature Engineering\n",
    "\n",
    "Since we have numerical and categorical columns in our dataset, we will need to perform encoding on the categorical ones"
   ],
   "metadata": {
    "id": "saXrlSYOUMr-"
   }
  },
  {
   "cell_type": "code",
   "source": [
    "# Create mapping from property type to average price sorted\n",
    "type_price_map = type_price.drop('monthly_rent', axis=1).reset_index().set_index('property_type')['index']\n",
    "\n",
    "# Use label encoding on property type column\n",
    "df['property_type'] = df['property_type'].map(type_price_map)\n",
    "\n",
    "# Use label encoding on furnished column\n",
    "df.loc[df['furnished'] == 'Not Furnished','furnished'] = 0\n",
    "df.loc[df['furnished'] == 'Partially Furnished','furnished'] = 1\n",
    "df.loc[df['furnished'] == 'Fully Furnished','furnished'] = 2\n",
    "\n",
    "# Use label encoding on region column\n",
    "df.loc[df['region'] == 'Selangor', 'region'] = 0\n",
    "df.loc[df['region'] == 'Kuala Lumpur', 'region'] = 1\n",
    "\n",
    "df"
   ],
   "metadata": {
    "id": "iSNaxlGhizfo",
    "colab": {
     "base_uri": "https://localhost:8080/",
     "height": 424
    },
    "outputId": "de2b29e2-8f3b-40c1-9c0e-5f396d2616bb",
    "ExecuteTime": {
     "end_time": "2024-11-24T01:28:36.027673Z",
     "start_time": "2024-11-24T01:28:36.015597Z"
    }
   },
   "outputs": [
    {
     "data": {
      "text/plain": [
       "       completion_year  monthly_rent       location  property_type  rooms  \\\n",
       "1                 2017          2300         Cheras              2      3   \n",
       "2                 2017          1000     Taman Desa              6      3   \n",
       "3                 2020          1700         Sentul              6      2   \n",
       "5                 2017          1500        Setapak              6      3   \n",
       "9                 2017          1350  Desa ParkCity              2      3   \n",
       "...                ...           ...            ...            ...    ...   \n",
       "19982             2017          1100        Puchong              6      3   \n",
       "19983             2021           885      Cyberjaya              2      3   \n",
       "19986             2017          1200         Kajang              6      3   \n",
       "19988             2017          1350         Kajang              2      3   \n",
       "19989             2017          1200      Cyberjaya              1      3   \n",
       "\n",
       "       parking  bathroom  size furnished region  \n",
       "1            1         2  1170         1      1  \n",
       "2            0         2   650         2      1  \n",
       "3            1         2   743         1      1  \n",
       "5            1         2   884         1      1  \n",
       "9            1         2   862         1      1  \n",
       "...        ...       ...   ...       ...    ...  \n",
       "19982        1         2   941         1      0  \n",
       "19983        2         2  1015         1      0  \n",
       "19986        0         2  1000         1      0  \n",
       "19988        2         2  1270         1      0  \n",
       "19989        1         2  1100         2      0  \n",
       "\n",
       "[13586 rows x 10 columns]"
      ],
      "text/html": [
       "<div>\n",
       "<style scoped>\n",
       "    .dataframe tbody tr th:only-of-type {\n",
       "        vertical-align: middle;\n",
       "    }\n",
       "\n",
       "    .dataframe tbody tr th {\n",
       "        vertical-align: top;\n",
       "    }\n",
       "\n",
       "    .dataframe thead th {\n",
       "        text-align: right;\n",
       "    }\n",
       "</style>\n",
       "<table border=\"1\" class=\"dataframe\">\n",
       "  <thead>\n",
       "    <tr style=\"text-align: right;\">\n",
       "      <th></th>\n",
       "      <th>completion_year</th>\n",
       "      <th>monthly_rent</th>\n",
       "      <th>location</th>\n",
       "      <th>property_type</th>\n",
       "      <th>rooms</th>\n",
       "      <th>parking</th>\n",
       "      <th>bathroom</th>\n",
       "      <th>size</th>\n",
       "      <th>furnished</th>\n",
       "      <th>region</th>\n",
       "    </tr>\n",
       "  </thead>\n",
       "  <tbody>\n",
       "    <tr>\n",
       "      <th>1</th>\n",
       "      <td>2017</td>\n",
       "      <td>2300</td>\n",
       "      <td>Cheras</td>\n",
       "      <td>2</td>\n",
       "      <td>3</td>\n",
       "      <td>1</td>\n",
       "      <td>2</td>\n",
       "      <td>1170</td>\n",
       "      <td>1</td>\n",
       "      <td>1</td>\n",
       "    </tr>\n",
       "    <tr>\n",
       "      <th>2</th>\n",
       "      <td>2017</td>\n",
       "      <td>1000</td>\n",
       "      <td>Taman Desa</td>\n",
       "      <td>6</td>\n",
       "      <td>3</td>\n",
       "      <td>0</td>\n",
       "      <td>2</td>\n",
       "      <td>650</td>\n",
       "      <td>2</td>\n",
       "      <td>1</td>\n",
       "    </tr>\n",
       "    <tr>\n",
       "      <th>3</th>\n",
       "      <td>2020</td>\n",
       "      <td>1700</td>\n",
       "      <td>Sentul</td>\n",
       "      <td>6</td>\n",
       "      <td>2</td>\n",
       "      <td>1</td>\n",
       "      <td>2</td>\n",
       "      <td>743</td>\n",
       "      <td>1</td>\n",
       "      <td>1</td>\n",
       "    </tr>\n",
       "    <tr>\n",
       "      <th>5</th>\n",
       "      <td>2017</td>\n",
       "      <td>1500</td>\n",
       "      <td>Setapak</td>\n",
       "      <td>6</td>\n",
       "      <td>3</td>\n",
       "      <td>1</td>\n",
       "      <td>2</td>\n",
       "      <td>884</td>\n",
       "      <td>1</td>\n",
       "      <td>1</td>\n",
       "    </tr>\n",
       "    <tr>\n",
       "      <th>9</th>\n",
       "      <td>2017</td>\n",
       "      <td>1350</td>\n",
       "      <td>Desa ParkCity</td>\n",
       "      <td>2</td>\n",
       "      <td>3</td>\n",
       "      <td>1</td>\n",
       "      <td>2</td>\n",
       "      <td>862</td>\n",
       "      <td>1</td>\n",
       "      <td>1</td>\n",
       "    </tr>\n",
       "    <tr>\n",
       "      <th>...</th>\n",
       "      <td>...</td>\n",
       "      <td>...</td>\n",
       "      <td>...</td>\n",
       "      <td>...</td>\n",
       "      <td>...</td>\n",
       "      <td>...</td>\n",
       "      <td>...</td>\n",
       "      <td>...</td>\n",
       "      <td>...</td>\n",
       "      <td>...</td>\n",
       "    </tr>\n",
       "    <tr>\n",
       "      <th>19982</th>\n",
       "      <td>2017</td>\n",
       "      <td>1100</td>\n",
       "      <td>Puchong</td>\n",
       "      <td>6</td>\n",
       "      <td>3</td>\n",
       "      <td>1</td>\n",
       "      <td>2</td>\n",
       "      <td>941</td>\n",
       "      <td>1</td>\n",
       "      <td>0</td>\n",
       "    </tr>\n",
       "    <tr>\n",
       "      <th>19983</th>\n",
       "      <td>2021</td>\n",
       "      <td>885</td>\n",
       "      <td>Cyberjaya</td>\n",
       "      <td>2</td>\n",
       "      <td>3</td>\n",
       "      <td>2</td>\n",
       "      <td>2</td>\n",
       "      <td>1015</td>\n",
       "      <td>1</td>\n",
       "      <td>0</td>\n",
       "    </tr>\n",
       "    <tr>\n",
       "      <th>19986</th>\n",
       "      <td>2017</td>\n",
       "      <td>1200</td>\n",
       "      <td>Kajang</td>\n",
       "      <td>6</td>\n",
       "      <td>3</td>\n",
       "      <td>0</td>\n",
       "      <td>2</td>\n",
       "      <td>1000</td>\n",
       "      <td>1</td>\n",
       "      <td>0</td>\n",
       "    </tr>\n",
       "    <tr>\n",
       "      <th>19988</th>\n",
       "      <td>2017</td>\n",
       "      <td>1350</td>\n",
       "      <td>Kajang</td>\n",
       "      <td>2</td>\n",
       "      <td>3</td>\n",
       "      <td>2</td>\n",
       "      <td>2</td>\n",
       "      <td>1270</td>\n",
       "      <td>1</td>\n",
       "      <td>0</td>\n",
       "    </tr>\n",
       "    <tr>\n",
       "      <th>19989</th>\n",
       "      <td>2017</td>\n",
       "      <td>1200</td>\n",
       "      <td>Cyberjaya</td>\n",
       "      <td>1</td>\n",
       "      <td>3</td>\n",
       "      <td>1</td>\n",
       "      <td>2</td>\n",
       "      <td>1100</td>\n",
       "      <td>2</td>\n",
       "      <td>0</td>\n",
       "    </tr>\n",
       "  </tbody>\n",
       "</table>\n",
       "<p>13586 rows × 10 columns</p>\n",
       "</div>"
      ]
     },
     "execution_count": 39,
     "metadata": {},
     "output_type": "execute_result"
    }
   ],
   "execution_count": 39
  },
  {
   "cell_type": "code",
   "source": [
    "# Drop location since encoding is unwise, use region instead\n",
    "df = df.drop('location', axis=1)\n",
    "df"
   ],
   "metadata": {
    "id": "2GBRSOk1Lv1k",
    "colab": {
     "base_uri": "https://localhost:8080/",
     "height": 424
    },
    "outputId": "87069c1a-e779-4626-f179-3b08653d2104",
    "ExecuteTime": {
     "end_time": "2024-11-24T01:28:36.057288Z",
     "start_time": "2024-11-24T01:28:36.050419Z"
    }
   },
   "outputs": [
    {
     "data": {
      "text/plain": [
       "       completion_year  monthly_rent  property_type  rooms  parking  bathroom  \\\n",
       "1                 2017          2300              2      3        1         2   \n",
       "2                 2017          1000              6      3        0         2   \n",
       "3                 2020          1700              6      2        1         2   \n",
       "5                 2017          1500              6      3        1         2   \n",
       "9                 2017          1350              2      3        1         2   \n",
       "...                ...           ...            ...    ...      ...       ...   \n",
       "19982             2017          1100              6      3        1         2   \n",
       "19983             2021           885              2      3        2         2   \n",
       "19986             2017          1200              6      3        0         2   \n",
       "19988             2017          1350              2      3        2         2   \n",
       "19989             2017          1200              1      3        1         2   \n",
       "\n",
       "       size furnished region  \n",
       "1      1170         1      1  \n",
       "2       650         2      1  \n",
       "3       743         1      1  \n",
       "5       884         1      1  \n",
       "9       862         1      1  \n",
       "...     ...       ...    ...  \n",
       "19982   941         1      0  \n",
       "19983  1015         1      0  \n",
       "19986  1000         1      0  \n",
       "19988  1270         1      0  \n",
       "19989  1100         2      0  \n",
       "\n",
       "[13586 rows x 9 columns]"
      ],
      "text/html": [
       "<div>\n",
       "<style scoped>\n",
       "    .dataframe tbody tr th:only-of-type {\n",
       "        vertical-align: middle;\n",
       "    }\n",
       "\n",
       "    .dataframe tbody tr th {\n",
       "        vertical-align: top;\n",
       "    }\n",
       "\n",
       "    .dataframe thead th {\n",
       "        text-align: right;\n",
       "    }\n",
       "</style>\n",
       "<table border=\"1\" class=\"dataframe\">\n",
       "  <thead>\n",
       "    <tr style=\"text-align: right;\">\n",
       "      <th></th>\n",
       "      <th>completion_year</th>\n",
       "      <th>monthly_rent</th>\n",
       "      <th>property_type</th>\n",
       "      <th>rooms</th>\n",
       "      <th>parking</th>\n",
       "      <th>bathroom</th>\n",
       "      <th>size</th>\n",
       "      <th>furnished</th>\n",
       "      <th>region</th>\n",
       "    </tr>\n",
       "  </thead>\n",
       "  <tbody>\n",
       "    <tr>\n",
       "      <th>1</th>\n",
       "      <td>2017</td>\n",
       "      <td>2300</td>\n",
       "      <td>2</td>\n",
       "      <td>3</td>\n",
       "      <td>1</td>\n",
       "      <td>2</td>\n",
       "      <td>1170</td>\n",
       "      <td>1</td>\n",
       "      <td>1</td>\n",
       "    </tr>\n",
       "    <tr>\n",
       "      <th>2</th>\n",
       "      <td>2017</td>\n",
       "      <td>1000</td>\n",
       "      <td>6</td>\n",
       "      <td>3</td>\n",
       "      <td>0</td>\n",
       "      <td>2</td>\n",
       "      <td>650</td>\n",
       "      <td>2</td>\n",
       "      <td>1</td>\n",
       "    </tr>\n",
       "    <tr>\n",
       "      <th>3</th>\n",
       "      <td>2020</td>\n",
       "      <td>1700</td>\n",
       "      <td>6</td>\n",
       "      <td>2</td>\n",
       "      <td>1</td>\n",
       "      <td>2</td>\n",
       "      <td>743</td>\n",
       "      <td>1</td>\n",
       "      <td>1</td>\n",
       "    </tr>\n",
       "    <tr>\n",
       "      <th>5</th>\n",
       "      <td>2017</td>\n",
       "      <td>1500</td>\n",
       "      <td>6</td>\n",
       "      <td>3</td>\n",
       "      <td>1</td>\n",
       "      <td>2</td>\n",
       "      <td>884</td>\n",
       "      <td>1</td>\n",
       "      <td>1</td>\n",
       "    </tr>\n",
       "    <tr>\n",
       "      <th>9</th>\n",
       "      <td>2017</td>\n",
       "      <td>1350</td>\n",
       "      <td>2</td>\n",
       "      <td>3</td>\n",
       "      <td>1</td>\n",
       "      <td>2</td>\n",
       "      <td>862</td>\n",
       "      <td>1</td>\n",
       "      <td>1</td>\n",
       "    </tr>\n",
       "    <tr>\n",
       "      <th>...</th>\n",
       "      <td>...</td>\n",
       "      <td>...</td>\n",
       "      <td>...</td>\n",
       "      <td>...</td>\n",
       "      <td>...</td>\n",
       "      <td>...</td>\n",
       "      <td>...</td>\n",
       "      <td>...</td>\n",
       "      <td>...</td>\n",
       "    </tr>\n",
       "    <tr>\n",
       "      <th>19982</th>\n",
       "      <td>2017</td>\n",
       "      <td>1100</td>\n",
       "      <td>6</td>\n",
       "      <td>3</td>\n",
       "      <td>1</td>\n",
       "      <td>2</td>\n",
       "      <td>941</td>\n",
       "      <td>1</td>\n",
       "      <td>0</td>\n",
       "    </tr>\n",
       "    <tr>\n",
       "      <th>19983</th>\n",
       "      <td>2021</td>\n",
       "      <td>885</td>\n",
       "      <td>2</td>\n",
       "      <td>3</td>\n",
       "      <td>2</td>\n",
       "      <td>2</td>\n",
       "      <td>1015</td>\n",
       "      <td>1</td>\n",
       "      <td>0</td>\n",
       "    </tr>\n",
       "    <tr>\n",
       "      <th>19986</th>\n",
       "      <td>2017</td>\n",
       "      <td>1200</td>\n",
       "      <td>6</td>\n",
       "      <td>3</td>\n",
       "      <td>0</td>\n",
       "      <td>2</td>\n",
       "      <td>1000</td>\n",
       "      <td>1</td>\n",
       "      <td>0</td>\n",
       "    </tr>\n",
       "    <tr>\n",
       "      <th>19988</th>\n",
       "      <td>2017</td>\n",
       "      <td>1350</td>\n",
       "      <td>2</td>\n",
       "      <td>3</td>\n",
       "      <td>2</td>\n",
       "      <td>2</td>\n",
       "      <td>1270</td>\n",
       "      <td>1</td>\n",
       "      <td>0</td>\n",
       "    </tr>\n",
       "    <tr>\n",
       "      <th>19989</th>\n",
       "      <td>2017</td>\n",
       "      <td>1200</td>\n",
       "      <td>1</td>\n",
       "      <td>3</td>\n",
       "      <td>1</td>\n",
       "      <td>2</td>\n",
       "      <td>1100</td>\n",
       "      <td>2</td>\n",
       "      <td>0</td>\n",
       "    </tr>\n",
       "  </tbody>\n",
       "</table>\n",
       "<p>13586 rows × 9 columns</p>\n",
       "</div>"
      ]
     },
     "execution_count": 40,
     "metadata": {},
     "output_type": "execute_result"
    }
   ],
   "execution_count": 40
  },
  {
   "cell_type": "code",
   "source": [
    "# \"Scaling\" completion_year\n",
    "df['year_since_completion'] = 2024 - df['completion_year']\n",
    "df = df.drop('completion_year', axis=1)\n",
    "df"
   ],
   "metadata": {
    "id": "672lgOLsTNoN",
    "colab": {
     "base_uri": "https://localhost:8080/",
     "height": 424
    },
    "outputId": "9f31c197-d56f-4db4-9fd1-ad909fcd91d5",
    "ExecuteTime": {
     "end_time": "2024-11-24T01:28:36.092276Z",
     "start_time": "2024-11-24T01:28:36.085798Z"
    }
   },
   "outputs": [
    {
     "data": {
      "text/plain": [
       "       monthly_rent  property_type  rooms  parking  bathroom  size furnished  \\\n",
       "1              2300              2      3        1         2  1170         1   \n",
       "2              1000              6      3        0         2   650         2   \n",
       "3              1700              6      2        1         2   743         1   \n",
       "5              1500              6      3        1         2   884         1   \n",
       "9              1350              2      3        1         2   862         1   \n",
       "...             ...            ...    ...      ...       ...   ...       ...   \n",
       "19982          1100              6      3        1         2   941         1   \n",
       "19983           885              2      3        2         2  1015         1   \n",
       "19986          1200              6      3        0         2  1000         1   \n",
       "19988          1350              2      3        2         2  1270         1   \n",
       "19989          1200              1      3        1         2  1100         2   \n",
       "\n",
       "      region  year_since_completion  \n",
       "1          1                      7  \n",
       "2          1                      7  \n",
       "3          1                      4  \n",
       "5          1                      7  \n",
       "9          1                      7  \n",
       "...      ...                    ...  \n",
       "19982      0                      7  \n",
       "19983      0                      3  \n",
       "19986      0                      7  \n",
       "19988      0                      7  \n",
       "19989      0                      7  \n",
       "\n",
       "[13586 rows x 9 columns]"
      ],
      "text/html": [
       "<div>\n",
       "<style scoped>\n",
       "    .dataframe tbody tr th:only-of-type {\n",
       "        vertical-align: middle;\n",
       "    }\n",
       "\n",
       "    .dataframe tbody tr th {\n",
       "        vertical-align: top;\n",
       "    }\n",
       "\n",
       "    .dataframe thead th {\n",
       "        text-align: right;\n",
       "    }\n",
       "</style>\n",
       "<table border=\"1\" class=\"dataframe\">\n",
       "  <thead>\n",
       "    <tr style=\"text-align: right;\">\n",
       "      <th></th>\n",
       "      <th>monthly_rent</th>\n",
       "      <th>property_type</th>\n",
       "      <th>rooms</th>\n",
       "      <th>parking</th>\n",
       "      <th>bathroom</th>\n",
       "      <th>size</th>\n",
       "      <th>furnished</th>\n",
       "      <th>region</th>\n",
       "      <th>year_since_completion</th>\n",
       "    </tr>\n",
       "  </thead>\n",
       "  <tbody>\n",
       "    <tr>\n",
       "      <th>1</th>\n",
       "      <td>2300</td>\n",
       "      <td>2</td>\n",
       "      <td>3</td>\n",
       "      <td>1</td>\n",
       "      <td>2</td>\n",
       "      <td>1170</td>\n",
       "      <td>1</td>\n",
       "      <td>1</td>\n",
       "      <td>7</td>\n",
       "    </tr>\n",
       "    <tr>\n",
       "      <th>2</th>\n",
       "      <td>1000</td>\n",
       "      <td>6</td>\n",
       "      <td>3</td>\n",
       "      <td>0</td>\n",
       "      <td>2</td>\n",
       "      <td>650</td>\n",
       "      <td>2</td>\n",
       "      <td>1</td>\n",
       "      <td>7</td>\n",
       "    </tr>\n",
       "    <tr>\n",
       "      <th>3</th>\n",
       "      <td>1700</td>\n",
       "      <td>6</td>\n",
       "      <td>2</td>\n",
       "      <td>1</td>\n",
       "      <td>2</td>\n",
       "      <td>743</td>\n",
       "      <td>1</td>\n",
       "      <td>1</td>\n",
       "      <td>4</td>\n",
       "    </tr>\n",
       "    <tr>\n",
       "      <th>5</th>\n",
       "      <td>1500</td>\n",
       "      <td>6</td>\n",
       "      <td>3</td>\n",
       "      <td>1</td>\n",
       "      <td>2</td>\n",
       "      <td>884</td>\n",
       "      <td>1</td>\n",
       "      <td>1</td>\n",
       "      <td>7</td>\n",
       "    </tr>\n",
       "    <tr>\n",
       "      <th>9</th>\n",
       "      <td>1350</td>\n",
       "      <td>2</td>\n",
       "      <td>3</td>\n",
       "      <td>1</td>\n",
       "      <td>2</td>\n",
       "      <td>862</td>\n",
       "      <td>1</td>\n",
       "      <td>1</td>\n",
       "      <td>7</td>\n",
       "    </tr>\n",
       "    <tr>\n",
       "      <th>...</th>\n",
       "      <td>...</td>\n",
       "      <td>...</td>\n",
       "      <td>...</td>\n",
       "      <td>...</td>\n",
       "      <td>...</td>\n",
       "      <td>...</td>\n",
       "      <td>...</td>\n",
       "      <td>...</td>\n",
       "      <td>...</td>\n",
       "    </tr>\n",
       "    <tr>\n",
       "      <th>19982</th>\n",
       "      <td>1100</td>\n",
       "      <td>6</td>\n",
       "      <td>3</td>\n",
       "      <td>1</td>\n",
       "      <td>2</td>\n",
       "      <td>941</td>\n",
       "      <td>1</td>\n",
       "      <td>0</td>\n",
       "      <td>7</td>\n",
       "    </tr>\n",
       "    <tr>\n",
       "      <th>19983</th>\n",
       "      <td>885</td>\n",
       "      <td>2</td>\n",
       "      <td>3</td>\n",
       "      <td>2</td>\n",
       "      <td>2</td>\n",
       "      <td>1015</td>\n",
       "      <td>1</td>\n",
       "      <td>0</td>\n",
       "      <td>3</td>\n",
       "    </tr>\n",
       "    <tr>\n",
       "      <th>19986</th>\n",
       "      <td>1200</td>\n",
       "      <td>6</td>\n",
       "      <td>3</td>\n",
       "      <td>0</td>\n",
       "      <td>2</td>\n",
       "      <td>1000</td>\n",
       "      <td>1</td>\n",
       "      <td>0</td>\n",
       "      <td>7</td>\n",
       "    </tr>\n",
       "    <tr>\n",
       "      <th>19988</th>\n",
       "      <td>1350</td>\n",
       "      <td>2</td>\n",
       "      <td>3</td>\n",
       "      <td>2</td>\n",
       "      <td>2</td>\n",
       "      <td>1270</td>\n",
       "      <td>1</td>\n",
       "      <td>0</td>\n",
       "      <td>7</td>\n",
       "    </tr>\n",
       "    <tr>\n",
       "      <th>19989</th>\n",
       "      <td>1200</td>\n",
       "      <td>1</td>\n",
       "      <td>3</td>\n",
       "      <td>1</td>\n",
       "      <td>2</td>\n",
       "      <td>1100</td>\n",
       "      <td>2</td>\n",
       "      <td>0</td>\n",
       "      <td>7</td>\n",
       "    </tr>\n",
       "  </tbody>\n",
       "</table>\n",
       "<p>13586 rows × 9 columns</p>\n",
       "</div>"
      ]
     },
     "execution_count": 41,
     "metadata": {},
     "output_type": "execute_result"
    }
   ],
   "execution_count": 41
  },
  {
   "cell_type": "markdown",
   "source": [
    "## Model Building\n",
    "\n",
    "### Linear Regression"
   ],
   "metadata": {
    "id": "yPC_VcxpV93l"
   }
  },
  {
   "cell_type": "code",
   "source": [
    "# Prepare the data for training\n",
    "standard_scaler = StandardScaler()\n",
    "df['size'] = standard_scaler.fit_transform(df.loc[:, ['size']])\n",
    "df['furnished'] = df['furnished'].astype(int)\n",
    "df['region'] = df['region'].astype(int)\n",
    "y = df['monthly_rent']\n",
    "X = df.drop('monthly_rent', axis=1)\n",
    "\n",
    "# Split data into training and testing sets\n",
    "X_train, X_test, y_train, y_test = train_test_split(X, y, test_size=0.3, random_state=RANDOM_STATE_SEED)\n",
    "\n",
    "print(f'X_train shape: {X_train.shape}')\n",
    "print(f'X_test shape: {X_test.shape}')\n",
    "print(f'y_train shape: {y_train.shape}')\n",
    "print(f'y_test shape: {y_test.shape}')"
   ],
   "metadata": {
    "id": "lGJ9rtOUVbqt",
    "colab": {
     "base_uri": "https://localhost:8080/"
    },
    "outputId": "cdc37285-f198-4a89-9fd8-624098a371f7",
    "ExecuteTime": {
     "end_time": "2024-11-24T01:28:36.211978Z",
     "start_time": "2024-11-24T01:28:36.203028Z"
    }
   },
   "outputs": [
    {
     "name": "stdout",
     "output_type": "stream",
     "text": [
      "X_train shape: (9510, 8)\n",
      "X_test shape: (4076, 8)\n",
      "y_train shape: (9510,)\n",
      "y_test shape: (4076,)\n"
     ]
    }
   ],
   "execution_count": 42
  },
  {
   "cell_type": "code",
   "source": [
    "# Create and train the model\n",
    "linear_model = Ridge()\n",
    "linear_model.fit(X_train, y_train)\n",
    "\n",
    "y_pred_lm = linear_model.predict(X_test)\n",
    "\n",
    "print('RMSE:', lm_rmse := np.sqrt(mean_squared_error(y_test, y_pred_lm)))\n",
    "print('MAE:', lm_mae := mean_absolute_error(y_test, y_pred_lm))"
   ],
   "metadata": {
    "id": "0a_DvLeFW7cR",
    "colab": {
     "base_uri": "https://localhost:8080/"
    },
    "outputId": "f5f1820c-28b2-4ab5-da06-090ba84c4071",
    "ExecuteTime": {
     "end_time": "2024-11-24T01:28:36.286644Z",
     "start_time": "2024-11-24T01:28:36.280182Z"
    }
   },
   "outputs": [
    {
     "name": "stdout",
     "output_type": "stream",
     "text": [
      "RMSE: 331.73108636791756\n",
      "MAE: 252.43712608523472\n"
     ]
    }
   ],
   "execution_count": 43
  },
  {
   "cell_type": "markdown",
   "source": [
    "### Tuning Ridge Model"
   ],
   "metadata": {
    "id": "XP_sW9JebPnT"
   }
  },
  {
   "cell_type": "code",
   "source": [
    "param_grid = {\n",
    "    'alpha': [0.0, 0.0001, 0.001, 0.01, 0.1, 1, 10, 100, 1000]\n",
    "}\n",
    "\n",
    "grid_search = GridSearchCV(Ridge(), param_grid, cv=5, scoring='neg_mean_squared_error')\n",
    "grid_search.fit(X_train, y_train)\n",
    "\n",
    "tuned_linear_model = grid_search.best_estimator_\n",
    "tuned_linear_model.fit(X_train, y_train)\n",
    "\n",
    "y_pred_tuned_lm = tuned_linear_model.predict(X_test)\n",
    "\n",
    "print(f'Best parameters: {grid_search.best_params_}')\n",
    "print('RMSE:', tuned_lm_rmse := np.sqrt(mean_squared_error(y_test, y_pred_tuned_lm)))\n",
    "print('MAE:', tuned_lm_mae := mean_absolute_error(y_test, y_pred_tuned_lm))"
   ],
   "metadata": {
    "id": "X_SkLJbibSId",
    "colab": {
     "base_uri": "https://localhost:8080/"
    },
    "outputId": "2983bdc7-4b31-464b-e9c5-71bfff59ebe3",
    "ExecuteTime": {
     "end_time": "2024-11-24T01:28:36.492649Z",
     "start_time": "2024-11-24T01:28:36.373649Z"
    }
   },
   "outputs": [
    {
     "name": "stdout",
     "output_type": "stream",
     "text": [
      "Best parameters: {'alpha': 10}\n",
      "RMSE: 331.72640863634035\n",
      "MAE: 252.4224451187362\n"
     ]
    }
   ],
   "execution_count": 44
  },
  {
   "cell_type": "markdown",
   "source": [
    "## Model 2: Ensemble Model\n",
    "\n",
    "Here we are using XGBoost Regressor model as our ensemble model to compare the prediction accuracy with the basic linear model"
   ],
   "metadata": {
    "id": "2l41yVM9XSDC"
   }
  },
  {
   "cell_type": "code",
   "source": [
    "xgb_model = XGBRegressor()\n",
    "xgb_model.fit(X_train, y_train)\n",
    "\n",
    "y_pred_xgb = xgb_model.predict(X_test)\n",
    "\n",
    "print('RMSE:', xgb_rmse := np.sqrt(mean_squared_error(y_test, y_pred_xgb)))\n",
    "print('MAE:', xgb_mae := mean_absolute_error(y_test, y_pred_xgb))"
   ],
   "metadata": {
    "id": "I1fo_VP0XNVO",
    "colab": {
     "base_uri": "https://localhost:8080/"
    },
    "outputId": "cd2910c4-1abd-4da5-8252-6a75202e41bc",
    "ExecuteTime": {
     "end_time": "2024-11-24T01:28:36.675883Z",
     "start_time": "2024-11-24T01:28:36.507837Z"
    }
   },
   "outputs": [
    {
     "name": "stdout",
     "output_type": "stream",
     "text": [
      "RMSE: 264.15701210684244\n",
      "MAE: 190.3484818418314\n"
     ]
    }
   ],
   "execution_count": 45
  },
  {
   "cell_type": "markdown",
   "source": [
    "### Tuning XGBoost Regressor"
   ],
   "metadata": {
    "id": "vLd09KeDcZrn"
   }
  },
  {
   "cell_type": "code",
   "source": [
    "param_grid = {\n",
    "    'n_estimators': [100, 200, 300],\n",
    "    'max_depth': [3, 5, 7],\n",
    "    'learning_rate': [0.01, 0.1, 0.2],\n",
    "    'subsample': [0.8, 1.0],\n",
    "    'colsample_bytree': [0.8, 1.0]\n",
    "}\n",
    "\n",
    "grid_search = GridSearchCV(XGBRegressor(), param_grid, cv=5, scoring='neg_mean_squared_error')\n",
    "grid_search.fit(X_train, y_train)\n",
    "\n",
    "tuned_xgb_model = grid_search.best_estimator_\n",
    "tuned_xgb_model.fit(X_train, y_train)\n",
    "\n",
    "y_pred_tuned_xgb = tuned_xgb_model.predict(X_test)\n",
    "\n",
    "print(f'Best parameters: {grid_search.best_params_}')\n",
    "print('RMSE:', tuned_xgb_rmse := np.sqrt(mean_squared_error(y_test, y_pred_tuned_xgb)))\n",
    "print('MAE:', tuned_xgb_mae := mean_absolute_error(y_test, y_pred_tuned_xgb))"
   ],
   "metadata": {
    "colab": {
     "base_uri": "https://localhost:8080/"
    },
    "id": "lhsWRUXkcbOJ",
    "outputId": "3f6e274e-3569-4661-8bb1-780a8702f6e2",
    "ExecuteTime": {
     "end_time": "2024-11-24T01:29:25.535629Z",
     "start_time": "2024-11-24T01:28:36.696191Z"
    }
   },
   "outputs": [
    {
     "name": "stdout",
     "output_type": "stream",
     "text": [
      "Best parameters: {'colsample_bytree': 0.8, 'learning_rate': 0.1, 'max_depth': 7, 'n_estimators': 300, 'subsample': 0.8}\n",
      "RMSE: 261.77783641732555\n",
      "MAE: 186.48932519675003\n"
     ]
    }
   ],
   "execution_count": 46
  },
  {
   "cell_type": "markdown",
   "source": [
    "# Model Results"
   ],
   "metadata": {
    "id": "LvcBiklKepq1"
   }
  },
  {
   "cell_type": "code",
   "source": [
    "# Look at the model results\n",
    "pd.DataFrame({\n",
    "    'Model': ['Ridge Model', 'Tuned Ridge Model', 'XGBoost Regressor', 'Tuned XGBoost Regressor'],\n",
    "    'RMSE': [lm_rmse, tuned_lm_rmse, xgb_rmse, tuned_xgb_rmse],\n",
    "    'MAE': [lm_mae, tuned_lm_mae, xgb_mae, tuned_xgb_mae]\n",
    "})"
   ],
   "metadata": {
    "colab": {
     "base_uri": "https://localhost:8080/",
     "height": 175
    },
    "id": "2NpgEEpKeo-D",
    "outputId": "20696010-95aa-4646-f2c6-265108150ea9",
    "ExecuteTime": {
     "end_time": "2024-11-24T01:29:25.569355Z",
     "start_time": "2024-11-24T01:29:25.561841Z"
    }
   },
   "outputs": [
    {
     "data": {
      "text/plain": [
       "                     Model        RMSE         MAE\n",
       "0              Ridge Model  331.731086  252.437126\n",
       "1        Tuned Ridge Model  331.726409  252.422445\n",
       "2        XGBoost Regressor  264.157012  190.348482\n",
       "3  Tuned XGBoost Regressor  261.777836  186.489325"
      ],
      "text/html": [
       "<div>\n",
       "<style scoped>\n",
       "    .dataframe tbody tr th:only-of-type {\n",
       "        vertical-align: middle;\n",
       "    }\n",
       "\n",
       "    .dataframe tbody tr th {\n",
       "        vertical-align: top;\n",
       "    }\n",
       "\n",
       "    .dataframe thead th {\n",
       "        text-align: right;\n",
       "    }\n",
       "</style>\n",
       "<table border=\"1\" class=\"dataframe\">\n",
       "  <thead>\n",
       "    <tr style=\"text-align: right;\">\n",
       "      <th></th>\n",
       "      <th>Model</th>\n",
       "      <th>RMSE</th>\n",
       "      <th>MAE</th>\n",
       "    </tr>\n",
       "  </thead>\n",
       "  <tbody>\n",
       "    <tr>\n",
       "      <th>0</th>\n",
       "      <td>Ridge Model</td>\n",
       "      <td>331.731086</td>\n",
       "      <td>252.437126</td>\n",
       "    </tr>\n",
       "    <tr>\n",
       "      <th>1</th>\n",
       "      <td>Tuned Ridge Model</td>\n",
       "      <td>331.726409</td>\n",
       "      <td>252.422445</td>\n",
       "    </tr>\n",
       "    <tr>\n",
       "      <th>2</th>\n",
       "      <td>XGBoost Regressor</td>\n",
       "      <td>264.157012</td>\n",
       "      <td>190.348482</td>\n",
       "    </tr>\n",
       "    <tr>\n",
       "      <th>3</th>\n",
       "      <td>Tuned XGBoost Regressor</td>\n",
       "      <td>261.777836</td>\n",
       "      <td>186.489325</td>\n",
       "    </tr>\n",
       "  </tbody>\n",
       "</table>\n",
       "</div>"
      ]
     },
     "execution_count": 47,
     "metadata": {},
     "output_type": "execute_result"
    }
   ],
   "execution_count": 47
  }
 ]
}
